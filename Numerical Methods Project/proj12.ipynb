{
 "cells": [
  {
   "cell_type": "markdown",
   "metadata": {},
   "source": [
    "# Numerical Methods Project <a id='intro'></a>"
   ]
  },
  {
   "cell_type": "markdown",
   "metadata": {},
   "source": [
    "## Project Description\n",
    "\n",
    "Rusty Bargain used car sales service is developing an app to attract new customers. In that app, you can quickly find out the market value of your car. You have access to historical data: technical specifications, trim versions, and prices. You need to build the model to determine the value. \n",
    "\n",
    "Rusty Bargain is interested in:\n",
    "\n",
    "- the quality of the prediction;\n",
    "- the speed of the prediction;\n",
    "- the time required for training\n",
    "\n",
    "## Project instructions\n",
    "1) Download and look at the data.\n",
    "2) Train different models with various hyperparameters. Compare gradient boosting methods with random forest, decision tree, and linear regression.\n",
    "3) Analyze the speed and quality of the models.\n",
    "\n",
    "## Data description\n",
    "The dataset is stored in file `/datasets/car_data.csv`. download dataset.\n",
    "\n",
    "### Features\n",
    "- **DateCrawled** — date profile was downloaded from the database\n",
    "- **VehicleType** — vehicle body type\n",
    "- **RegistrationYear** — vehicle registration year\n",
    "- **Gearbox** — gearbox type\n",
    "- **Power** — power (hp)\n",
    "- **Model** — vehicle model\n",
    "- **Mileage** — mileage (measured in km due to dataset's regional specifics)\n",
    "- **RegistrationMonth** — vehicle registration month\n",
    "- **FuelType** — fuel type\n",
    "- **Brand** — vehicle brand\n",
    "- **NotRepaired** — vehicle repaired or not\n",
    "- **DateCreated** — date of profile creation\n",
    "- **NumberOfPictures** — number of vehicle pictures\n",
    "- **PostalCode** — postal code of profile owner (user)\n",
    "- **LastSeen** — date of the last activity of the user\n",
    "\n",
    "###  Target\n",
    "- **Price** — price (Euro)"
   ]
  },
  {
   "cell_type": "markdown",
   "metadata": {},
   "source": [
    "## Initialization"
   ]
  },
  {
   "cell_type": "code",
   "execution_count": 1,
   "metadata": {},
   "outputs": [],
   "source": [
    "import pandas as pd\n",
    "import numpy as np\n",
    "\n",
    "import time\n",
    "\n",
    "import matplotlib.pyplot as plt\n",
    "import seaborn as sns\n",
    "\n",
    "from sklearn.model_selection import train_test_split, RandomizedSearchCV\n",
    "from sklearn.preprocessing import OrdinalEncoder\n",
    "from sklearn.metrics import mean_squared_error\n",
    "\n",
    "from sklearn.linear_model import LinearRegression\n",
    "from sklearn.ensemble import RandomForestRegressor\n",
    "from lightgbm import LGBMRegressor\n",
    "from catboost import CatBoostRegressor\n",
    "from xgboost import XGBRegressor\n"
   ]
  },
  {
   "cell_type": "markdown",
   "metadata": {},
   "source": [
    "## Load Data"
   ]
  },
  {
   "cell_type": "code",
   "execution_count": 2,
   "metadata": {},
   "outputs": [
    {
     "name": "stdout",
     "output_type": "stream",
     "text": [
      "'car_data.csv' file successfully read from the local path.\n"
     ]
    }
   ],
   "source": [
    "def load_data(file_name, local_path, server_path):\n",
    "    try:\n",
    "        data = pd.read_csv(local_path + file_name)\n",
    "        print(f\"'{file_name}' file successfully read from the local path.\")\n",
    "\n",
    "    except FileNotFoundError:\n",
    "        try:\n",
    "            data = pd.read_csv(server_path + file_name)\n",
    "            print(f\"'{file_name}' file successfully read from the server path.\")\n",
    "\n",
    "        except FileNotFoundError:\n",
    "            print(f\"'{file_name}' file not found. Please check the file paths.\")\n",
    "            data = None\n",
    "            \n",
    "    return data\n",
    "\n",
    "file_name = 'car_data.csv'\n",
    "local_path = '/Users/benjaminstephen/Documents/TripleTen/Sprint_12/Numerical_Methods_Project/datasets/'\n",
    "server_path = '/datasets/'\n",
    "\n",
    "df = load_data(file_name, local_path, server_path)"
   ]
  },
  {
   "cell_type": "markdown",
   "metadata": {},
   "source": [
    "## Data Preparation"
   ]
  },
  {
   "cell_type": "markdown",
   "metadata": {},
   "source": [
    "### Basic EDA"
   ]
  },
  {
   "cell_type": "markdown",
   "metadata": {},
   "source": [
    "To start, we will conduct basic exploratory data analysis and clean the data to ensure it is optimally prepared for model training."
   ]
  },
  {
   "cell_type": "code",
   "execution_count": 3,
   "metadata": {},
   "outputs": [
    {
     "data": {
      "text/html": [
       "<div>\n",
       "<style scoped>\n",
       "    .dataframe tbody tr th:only-of-type {\n",
       "        vertical-align: middle;\n",
       "    }\n",
       "\n",
       "    .dataframe tbody tr th {\n",
       "        vertical-align: top;\n",
       "    }\n",
       "\n",
       "    .dataframe thead th {\n",
       "        text-align: right;\n",
       "    }\n",
       "</style>\n",
       "<table border=\"1\" class=\"dataframe\">\n",
       "  <thead>\n",
       "    <tr style=\"text-align: right;\">\n",
       "      <th></th>\n",
       "      <th>DateCrawled</th>\n",
       "      <th>Price</th>\n",
       "      <th>VehicleType</th>\n",
       "      <th>RegistrationYear</th>\n",
       "      <th>Gearbox</th>\n",
       "      <th>Power</th>\n",
       "      <th>Model</th>\n",
       "      <th>Mileage</th>\n",
       "      <th>RegistrationMonth</th>\n",
       "      <th>FuelType</th>\n",
       "      <th>Brand</th>\n",
       "      <th>NotRepaired</th>\n",
       "      <th>DateCreated</th>\n",
       "      <th>NumberOfPictures</th>\n",
       "      <th>PostalCode</th>\n",
       "      <th>LastSeen</th>\n",
       "    </tr>\n",
       "  </thead>\n",
       "  <tbody>\n",
       "    <tr>\n",
       "      <th>0</th>\n",
       "      <td>24/03/2016 11:52</td>\n",
       "      <td>480</td>\n",
       "      <td>NaN</td>\n",
       "      <td>1993</td>\n",
       "      <td>manual</td>\n",
       "      <td>0</td>\n",
       "      <td>golf</td>\n",
       "      <td>150000</td>\n",
       "      <td>0</td>\n",
       "      <td>petrol</td>\n",
       "      <td>volkswagen</td>\n",
       "      <td>NaN</td>\n",
       "      <td>24/03/2016 00:00</td>\n",
       "      <td>0</td>\n",
       "      <td>70435</td>\n",
       "      <td>07/04/2016 03:16</td>\n",
       "    </tr>\n",
       "    <tr>\n",
       "      <th>1</th>\n",
       "      <td>24/03/2016 10:58</td>\n",
       "      <td>18300</td>\n",
       "      <td>coupe</td>\n",
       "      <td>2011</td>\n",
       "      <td>manual</td>\n",
       "      <td>190</td>\n",
       "      <td>NaN</td>\n",
       "      <td>125000</td>\n",
       "      <td>5</td>\n",
       "      <td>gasoline</td>\n",
       "      <td>audi</td>\n",
       "      <td>yes</td>\n",
       "      <td>24/03/2016 00:00</td>\n",
       "      <td>0</td>\n",
       "      <td>66954</td>\n",
       "      <td>07/04/2016 01:46</td>\n",
       "    </tr>\n",
       "    <tr>\n",
       "      <th>2</th>\n",
       "      <td>14/03/2016 12:52</td>\n",
       "      <td>9800</td>\n",
       "      <td>suv</td>\n",
       "      <td>2004</td>\n",
       "      <td>auto</td>\n",
       "      <td>163</td>\n",
       "      <td>grand</td>\n",
       "      <td>125000</td>\n",
       "      <td>8</td>\n",
       "      <td>gasoline</td>\n",
       "      <td>jeep</td>\n",
       "      <td>NaN</td>\n",
       "      <td>14/03/2016 00:00</td>\n",
       "      <td>0</td>\n",
       "      <td>90480</td>\n",
       "      <td>05/04/2016 12:47</td>\n",
       "    </tr>\n",
       "    <tr>\n",
       "      <th>3</th>\n",
       "      <td>17/03/2016 16:54</td>\n",
       "      <td>1500</td>\n",
       "      <td>small</td>\n",
       "      <td>2001</td>\n",
       "      <td>manual</td>\n",
       "      <td>75</td>\n",
       "      <td>golf</td>\n",
       "      <td>150000</td>\n",
       "      <td>6</td>\n",
       "      <td>petrol</td>\n",
       "      <td>volkswagen</td>\n",
       "      <td>no</td>\n",
       "      <td>17/03/2016 00:00</td>\n",
       "      <td>0</td>\n",
       "      <td>91074</td>\n",
       "      <td>17/03/2016 17:40</td>\n",
       "    </tr>\n",
       "    <tr>\n",
       "      <th>4</th>\n",
       "      <td>31/03/2016 17:25</td>\n",
       "      <td>3600</td>\n",
       "      <td>small</td>\n",
       "      <td>2008</td>\n",
       "      <td>manual</td>\n",
       "      <td>69</td>\n",
       "      <td>fabia</td>\n",
       "      <td>90000</td>\n",
       "      <td>7</td>\n",
       "      <td>gasoline</td>\n",
       "      <td>skoda</td>\n",
       "      <td>no</td>\n",
       "      <td>31/03/2016 00:00</td>\n",
       "      <td>0</td>\n",
       "      <td>60437</td>\n",
       "      <td>06/04/2016 10:17</td>\n",
       "    </tr>\n",
       "    <tr>\n",
       "      <th>...</th>\n",
       "      <td>...</td>\n",
       "      <td>...</td>\n",
       "      <td>...</td>\n",
       "      <td>...</td>\n",
       "      <td>...</td>\n",
       "      <td>...</td>\n",
       "      <td>...</td>\n",
       "      <td>...</td>\n",
       "      <td>...</td>\n",
       "      <td>...</td>\n",
       "      <td>...</td>\n",
       "      <td>...</td>\n",
       "      <td>...</td>\n",
       "      <td>...</td>\n",
       "      <td>...</td>\n",
       "      <td>...</td>\n",
       "    </tr>\n",
       "    <tr>\n",
       "      <th>354364</th>\n",
       "      <td>21/03/2016 09:50</td>\n",
       "      <td>0</td>\n",
       "      <td>NaN</td>\n",
       "      <td>2005</td>\n",
       "      <td>manual</td>\n",
       "      <td>0</td>\n",
       "      <td>colt</td>\n",
       "      <td>150000</td>\n",
       "      <td>7</td>\n",
       "      <td>petrol</td>\n",
       "      <td>mitsubishi</td>\n",
       "      <td>yes</td>\n",
       "      <td>21/03/2016 00:00</td>\n",
       "      <td>0</td>\n",
       "      <td>2694</td>\n",
       "      <td>21/03/2016 10:42</td>\n",
       "    </tr>\n",
       "    <tr>\n",
       "      <th>354365</th>\n",
       "      <td>14/03/2016 17:48</td>\n",
       "      <td>2200</td>\n",
       "      <td>NaN</td>\n",
       "      <td>2005</td>\n",
       "      <td>NaN</td>\n",
       "      <td>0</td>\n",
       "      <td>NaN</td>\n",
       "      <td>20000</td>\n",
       "      <td>1</td>\n",
       "      <td>NaN</td>\n",
       "      <td>sonstige_autos</td>\n",
       "      <td>NaN</td>\n",
       "      <td>14/03/2016 00:00</td>\n",
       "      <td>0</td>\n",
       "      <td>39576</td>\n",
       "      <td>06/04/2016 00:46</td>\n",
       "    </tr>\n",
       "    <tr>\n",
       "      <th>354366</th>\n",
       "      <td>05/03/2016 19:56</td>\n",
       "      <td>1199</td>\n",
       "      <td>convertible</td>\n",
       "      <td>2000</td>\n",
       "      <td>auto</td>\n",
       "      <td>101</td>\n",
       "      <td>fortwo</td>\n",
       "      <td>125000</td>\n",
       "      <td>3</td>\n",
       "      <td>petrol</td>\n",
       "      <td>smart</td>\n",
       "      <td>no</td>\n",
       "      <td>05/03/2016 00:00</td>\n",
       "      <td>0</td>\n",
       "      <td>26135</td>\n",
       "      <td>11/03/2016 18:17</td>\n",
       "    </tr>\n",
       "    <tr>\n",
       "      <th>354367</th>\n",
       "      <td>19/03/2016 18:57</td>\n",
       "      <td>9200</td>\n",
       "      <td>bus</td>\n",
       "      <td>1996</td>\n",
       "      <td>manual</td>\n",
       "      <td>102</td>\n",
       "      <td>transporter</td>\n",
       "      <td>150000</td>\n",
       "      <td>3</td>\n",
       "      <td>gasoline</td>\n",
       "      <td>volkswagen</td>\n",
       "      <td>no</td>\n",
       "      <td>19/03/2016 00:00</td>\n",
       "      <td>0</td>\n",
       "      <td>87439</td>\n",
       "      <td>07/04/2016 07:15</td>\n",
       "    </tr>\n",
       "    <tr>\n",
       "      <th>354368</th>\n",
       "      <td>20/03/2016 19:41</td>\n",
       "      <td>3400</td>\n",
       "      <td>wagon</td>\n",
       "      <td>2002</td>\n",
       "      <td>manual</td>\n",
       "      <td>100</td>\n",
       "      <td>golf</td>\n",
       "      <td>150000</td>\n",
       "      <td>6</td>\n",
       "      <td>gasoline</td>\n",
       "      <td>volkswagen</td>\n",
       "      <td>NaN</td>\n",
       "      <td>20/03/2016 00:00</td>\n",
       "      <td>0</td>\n",
       "      <td>40764</td>\n",
       "      <td>24/03/2016 12:45</td>\n",
       "    </tr>\n",
       "  </tbody>\n",
       "</table>\n",
       "<p>354369 rows × 16 columns</p>\n",
       "</div>"
      ],
      "text/plain": [
       "             DateCrawled  Price  VehicleType  RegistrationYear Gearbox  Power  \\\n",
       "0       24/03/2016 11:52    480          NaN              1993  manual      0   \n",
       "1       24/03/2016 10:58  18300        coupe              2011  manual    190   \n",
       "2       14/03/2016 12:52   9800          suv              2004    auto    163   \n",
       "3       17/03/2016 16:54   1500        small              2001  manual     75   \n",
       "4       31/03/2016 17:25   3600        small              2008  manual     69   \n",
       "...                  ...    ...          ...               ...     ...    ...   \n",
       "354364  21/03/2016 09:50      0          NaN              2005  manual      0   \n",
       "354365  14/03/2016 17:48   2200          NaN              2005     NaN      0   \n",
       "354366  05/03/2016 19:56   1199  convertible              2000    auto    101   \n",
       "354367  19/03/2016 18:57   9200          bus              1996  manual    102   \n",
       "354368  20/03/2016 19:41   3400        wagon              2002  manual    100   \n",
       "\n",
       "              Model  Mileage  RegistrationMonth  FuelType           Brand  \\\n",
       "0              golf   150000                  0    petrol      volkswagen   \n",
       "1               NaN   125000                  5  gasoline            audi   \n",
       "2             grand   125000                  8  gasoline            jeep   \n",
       "3              golf   150000                  6    petrol      volkswagen   \n",
       "4             fabia    90000                  7  gasoline           skoda   \n",
       "...             ...      ...                ...       ...             ...   \n",
       "354364         colt   150000                  7    petrol      mitsubishi   \n",
       "354365          NaN    20000                  1       NaN  sonstige_autos   \n",
       "354366       fortwo   125000                  3    petrol           smart   \n",
       "354367  transporter   150000                  3  gasoline      volkswagen   \n",
       "354368         golf   150000                  6  gasoline      volkswagen   \n",
       "\n",
       "       NotRepaired       DateCreated  NumberOfPictures  PostalCode  \\\n",
       "0              NaN  24/03/2016 00:00                 0       70435   \n",
       "1              yes  24/03/2016 00:00                 0       66954   \n",
       "2              NaN  14/03/2016 00:00                 0       90480   \n",
       "3               no  17/03/2016 00:00                 0       91074   \n",
       "4               no  31/03/2016 00:00                 0       60437   \n",
       "...            ...               ...               ...         ...   \n",
       "354364         yes  21/03/2016 00:00                 0        2694   \n",
       "354365         NaN  14/03/2016 00:00                 0       39576   \n",
       "354366          no  05/03/2016 00:00                 0       26135   \n",
       "354367          no  19/03/2016 00:00                 0       87439   \n",
       "354368         NaN  20/03/2016 00:00                 0       40764   \n",
       "\n",
       "                LastSeen  \n",
       "0       07/04/2016 03:16  \n",
       "1       07/04/2016 01:46  \n",
       "2       05/04/2016 12:47  \n",
       "3       17/03/2016 17:40  \n",
       "4       06/04/2016 10:17  \n",
       "...                  ...  \n",
       "354364  21/03/2016 10:42  \n",
       "354365  06/04/2016 00:46  \n",
       "354366  11/03/2016 18:17  \n",
       "354367  07/04/2016 07:15  \n",
       "354368  24/03/2016 12:45  \n",
       "\n",
       "[354369 rows x 16 columns]"
      ]
     },
     "metadata": {},
     "output_type": "display_data"
    }
   ],
   "source": [
    "display(df)"
   ]
  },
  {
   "cell_type": "code",
   "execution_count": 4,
   "metadata": {},
   "outputs": [
    {
     "name": "stdout",
     "output_type": "stream",
     "text": [
      "<class 'pandas.core.frame.DataFrame'>\n",
      "RangeIndex: 354369 entries, 0 to 354368\n",
      "Data columns (total 16 columns):\n",
      " #   Column             Non-Null Count   Dtype \n",
      "---  ------             --------------   ----- \n",
      " 0   DateCrawled        354369 non-null  object\n",
      " 1   Price              354369 non-null  int64 \n",
      " 2   VehicleType        316879 non-null  object\n",
      " 3   RegistrationYear   354369 non-null  int64 \n",
      " 4   Gearbox            334536 non-null  object\n",
      " 5   Power              354369 non-null  int64 \n",
      " 6   Model              334664 non-null  object\n",
      " 7   Mileage            354369 non-null  int64 \n",
      " 8   RegistrationMonth  354369 non-null  int64 \n",
      " 9   FuelType           321474 non-null  object\n",
      " 10  Brand              354369 non-null  object\n",
      " 11  NotRepaired        283215 non-null  object\n",
      " 12  DateCreated        354369 non-null  object\n",
      " 13  NumberOfPictures   354369 non-null  int64 \n",
      " 14  PostalCode         354369 non-null  int64 \n",
      " 15  LastSeen           354369 non-null  object\n",
      "dtypes: int64(7), object(9)\n",
      "memory usage: 43.3+ MB\n",
      "None\n"
     ]
    }
   ],
   "source": [
    "print(df.info())"
   ]
  },
  {
   "cell_type": "markdown",
   "metadata": {},
   "source": [
    "\n",
    "This DataFrame consists of 354,369 vehicle listings with attributes such as price, vehicle type, and mileage. Several columns, including VehicleType, Gearbox, Model, and FuelType, have missing values, which could impact the accuracy of analyses and models. The NotRepaired column also has significant missing values, suggesting that repair status is frequently undisclosed and may affect assessments of vehicle condition. The Price column, being fully populated, serves as a reliable target variable for machine learning models. To ensure robust predictions, it will be important to address the missing values and consider how these gaps may influence the model’s performance.\n",
    "\n",
    "Let's begin the preprocessing by checking for and handling any duplicate rows in the dataset. This step is crucial to ensure data integrity and avoid skewing the analysis or model training with redundant information."
   ]
  },
  {
   "cell_type": "code",
   "execution_count": 5,
   "metadata": {},
   "outputs": [
    {
     "name": "stdout",
     "output_type": "stream",
     "text": [
      "NUMBER OF DUPLICATED ROWS: 262\n"
     ]
    }
   ],
   "source": [
    "print(\"NUMBER OF DUPLICATED ROWS:\", df.duplicated().sum())"
   ]
  },
  {
   "cell_type": "markdown",
   "metadata": {},
   "source": [
    "There are 262 duplicated rows in the dataset. We will handle this by removing them."
   ]
  },
  {
   "cell_type": "code",
   "execution_count": 6,
   "metadata": {},
   "outputs": [
    {
     "name": "stdout",
     "output_type": "stream",
     "text": [
      "NUMBER OF DUPLICATED ROWS: 0\n"
     ]
    }
   ],
   "source": [
    "df.drop_duplicates(inplace=True)\n",
    "print(\"NUMBER OF DUPLICATED ROWS:\", df.duplicated().sum())"
   ]
  },
  {
   "cell_type": "markdown",
   "metadata": {},
   "source": [
    "We will also proceed to drop the columns DateCrawled, DateCreated, PostalCode, and LastSeen, as these features have no correlation with the price of the vehicle."
   ]
  },
  {
   "cell_type": "code",
   "execution_count": 7,
   "metadata": {},
   "outputs": [],
   "source": [
    "df.drop(['DateCrawled', 'DateCreated', 'PostalCode', 'LastSeen'], axis=1, inplace=True)"
   ]
  },
  {
   "cell_type": "markdown",
   "metadata": {},
   "source": [
    "### Handling Null Values"
   ]
  },
  {
   "cell_type": "code",
   "execution_count": 8,
   "metadata": {},
   "outputs": [
    {
     "name": "stdout",
     "output_type": "stream",
     "text": [
      "<class 'pandas.core.frame.DataFrame'>\n",
      "Int64Index: 354107 entries, 0 to 354368\n",
      "Data columns (total 12 columns):\n",
      " #   Column             Non-Null Count   Dtype \n",
      "---  ------             --------------   ----- \n",
      " 0   Price              354107 non-null  int64 \n",
      " 1   VehicleType        316623 non-null  object\n",
      " 2   RegistrationYear   354107 non-null  int64 \n",
      " 3   Gearbox            334277 non-null  object\n",
      " 4   Power              354107 non-null  int64 \n",
      " 5   Model              334406 non-null  object\n",
      " 6   Mileage            354107 non-null  int64 \n",
      " 7   RegistrationMonth  354107 non-null  int64 \n",
      " 8   FuelType           321218 non-null  object\n",
      " 9   Brand              354107 non-null  object\n",
      " 10  NotRepaired        282962 non-null  object\n",
      " 11  NumberOfPictures   354107 non-null  int64 \n",
      "dtypes: int64(6), object(6)\n",
      "memory usage: 35.1+ MB\n",
      "None\n"
     ]
    }
   ],
   "source": [
    "print(df.info())"
   ]
  },
  {
   "cell_type": "markdown",
   "metadata": {},
   "source": [
    "As we can see, despite removing all duplicated rows and unnecessary columns, there are still null values present in the dataset. To ensure our data is optimal for model training, we will handle these null values accordingly. Let's get a better picture of the extent of the issue by examining the percentage of null values for each feature."
   ]
  },
  {
   "cell_type": "code",
   "execution_count": 9,
   "metadata": {},
   "outputs": [
    {
     "name": "stdout",
     "output_type": "stream",
     "text": [
      "PERCENTAGE OF NULL VALUES:\n",
      "--------------------------\n",
      "Price                0.000000\n",
      "VehicleType          0.105855\n",
      "RegistrationYear     0.000000\n",
      "Gearbox              0.056000\n",
      "Power                0.000000\n",
      "Model                0.055636\n",
      "Mileage              0.000000\n",
      "RegistrationMonth    0.000000\n",
      "FuelType             0.092879\n",
      "Brand                0.000000\n",
      "NotRepaired          0.200914\n",
      "NumberOfPictures     0.000000\n",
      "dtype: float64\n"
     ]
    }
   ],
   "source": [
    "print(\"PERCENTAGE OF NULL VALUES:\")\n",
    "print(\"--------------------------\")\n",
    "print(df.isnull().sum()/len(df))"
   ]
  },
  {
   "cell_type": "markdown",
   "metadata": {},
   "source": [
    "The features containing null values are as follows: VehicleType, Gearbox, Model, FuelType, and NotRepaired. Let's begin by addressing VehicleType."
   ]
  },
  {
   "cell_type": "code",
   "execution_count": 10,
   "metadata": {},
   "outputs": [
    {
     "name": "stdout",
     "output_type": "stream",
     "text": [
      "DISTINCT VEHICLE TYPE VALUES:\n",
      "-----------------------------\n",
      "sedan          91399\n",
      "small          79753\n",
      "wagon          65115\n",
      "bus            28752\n",
      "convertible    20180\n",
      "coupe          16147\n",
      "suv            11991\n",
      "other           3286\n",
      "Name: VehicleType, dtype: int64\n",
      "\n",
      "VEHICLE TYPE NULL COUNT: 37484\n"
     ]
    }
   ],
   "source": [
    "print(\"DISTINCT VEHICLE TYPE VALUES:\")\n",
    "print(\"-----------------------------\")\n",
    "print(df['VehicleType'].value_counts())\n",
    "print()\n",
    "\n",
    "print(\"VEHICLE TYPE NULL COUNT:\", df['VehicleType'].isnull().sum())"
   ]
  },
  {
   "cell_type": "markdown",
   "metadata": {},
   "source": [
    "There are 37,484 null values in the VehicleType column. Additionally, this column includes a category labeled 'other' for unspecified vehicle types. To handle this, we can consolidate the null values and the 'other' category into a single label called 'unknown'."
   ]
  },
  {
   "cell_type": "code",
   "execution_count": 11,
   "metadata": {},
   "outputs": [],
   "source": [
    "df['VehicleType'].fillna('unknown', inplace=True)\n",
    "df['VehicleType'].replace('other', 'unknown', inplace=True)"
   ]
  },
  {
   "cell_type": "markdown",
   "metadata": {},
   "source": [
    "Now we will move on to the Gearbox column."
   ]
  },
  {
   "cell_type": "code",
   "execution_count": 12,
   "metadata": {},
   "outputs": [
    {
     "name": "stdout",
     "output_type": "stream",
     "text": [
      "DISTINCT GEARBOX VALUES:\n",
      "------------------------\n",
      "manual    268034\n",
      "auto       66243\n",
      "Name: Gearbox, dtype: int64\n",
      "\n",
      "GEARBOX NULL COUNT: 19830\n"
     ]
    }
   ],
   "source": [
    "print(\"DISTINCT GEARBOX VALUES:\")\n",
    "print(\"------------------------\")\n",
    "print(df['Gearbox'].value_counts())\n",
    "print()\n",
    "\n",
    "print(\"GEARBOX NULL COUNT:\", df['Gearbox'].isnull().sum())"
   ]
  },
  {
   "cell_type": "markdown",
   "metadata": {},
   "source": [
    "The Gearbox column contains 19,830 null values and has two categories: 'manual' and 'auto'. To address the null values, we will fill them with a new label, 'unknown'."
   ]
  },
  {
   "cell_type": "code",
   "execution_count": 13,
   "metadata": {},
   "outputs": [],
   "source": [
    "df['Gearbox'].fillna('unknown', inplace=True)"
   ]
  },
  {
   "cell_type": "markdown",
   "metadata": {},
   "source": [
    "Now the Model column."
   ]
  },
  {
   "cell_type": "code",
   "execution_count": 14,
   "metadata": {},
   "outputs": [
    {
     "name": "stdout",
     "output_type": "stream",
     "text": [
      "DISTINCT MODEL VALUES COUNT: 250\n",
      "\n",
      "MODEL NULL COUNT: 19701\n",
      "\n",
      "MODEL 'OTHER' COUNT: 24402\n"
     ]
    }
   ],
   "source": [
    "print(\"DISTINCT MODEL VALUES COUNT:\", df['Model'].nunique())\n",
    "print()\n",
    "print(\"MODEL NULL COUNT:\", df['Model'].isnull().sum())\n",
    "print()\n",
    "print(\"MODEL 'OTHER' COUNT:\", (df['Model'] == 'other').sum())"
   ]
  },
  {
   "cell_type": "markdown",
   "metadata": {},
   "source": [
    "The Model column has 250 distinct values, with 19,701 null entries and 24,402 labeled as 'other'. We will address this by consolidating the null values and the 'other' category into a single label, 'unknown', similar to how we handled the VehicleType column."
   ]
  },
  {
   "cell_type": "code",
   "execution_count": 15,
   "metadata": {},
   "outputs": [],
   "source": [
    "df['Model'].fillna('unknown', inplace=True)\n",
    "df['Model'].replace('other', 'unknown', inplace=True)"
   ]
  },
  {
   "cell_type": "markdown",
   "metadata": {},
   "source": [
    "Moving on to the FuelType column."
   ]
  },
  {
   "cell_type": "code",
   "execution_count": 16,
   "metadata": {},
   "outputs": [
    {
     "name": "stdout",
     "output_type": "stream",
     "text": [
      "DISTINCT FUEL TYPE VALUES:\n",
      "--------------------------\n",
      "petrol      216161\n",
      "gasoline     98658\n",
      "lpg           5307\n",
      "cng            565\n",
      "hybrid         233\n",
      "other          204\n",
      "electric        90\n",
      "Name: FuelType, dtype: int64\n",
      "\n",
      "FUEL TYPE NULL COUNT: 32889\n"
     ]
    }
   ],
   "source": [
    "print(\"DISTINCT FUEL TYPE VALUES:\")\n",
    "print(\"--------------------------\")\n",
    "print(df['FuelType'].value_counts())\n",
    "print()\n",
    "\n",
    "print(\"FUEL TYPE NULL COUNT:\", df['FuelType'].isnull().sum())"
   ]
  },
  {
   "cell_type": "markdown",
   "metadata": {},
   "source": [
    "One notable observation from analyzing the values in the FuelType column is the presence of both 'petrol' and 'gasoline', which are synonymous. We will combine these two categories to simplify the data and improve model training. Additionally, this feature column also includes an 'other' category. We will address the 32,889 null values and 204 'other' values by consolidating them into a single 'unknown' category."
   ]
  },
  {
   "cell_type": "code",
   "execution_count": 17,
   "metadata": {},
   "outputs": [],
   "source": [
    "df['FuelType'].fillna('unknown', inplace=True)\n",
    "df['FuelType'].replace('petrol', 'gasoline', inplace=True)\n",
    "df['FuelType'].replace('other', 'unknown', inplace=True)"
   ]
  },
  {
   "cell_type": "markdown",
   "metadata": {},
   "source": [
    "Finally, let's address the NotRepaired column."
   ]
  },
  {
   "cell_type": "code",
   "execution_count": 18,
   "metadata": {},
   "outputs": [
    {
     "name": "stdout",
     "output_type": "stream",
     "text": [
      "DISTINCT NOT REPAIRED VALUES:\n",
      "-----------------------------\n",
      "no     246927\n",
      "yes     36035\n",
      "Name: NotRepaired, dtype: int64\n",
      "\n",
      "NOT REPAIRED NULL COUNT: 71145\n"
     ]
    }
   ],
   "source": [
    "print(\"DISTINCT NOT REPAIRED VALUES:\")\n",
    "print(\"-----------------------------\")\n",
    "print(df['NotRepaired'].value_counts())\n",
    "print()\n",
    "\n",
    "print(\"NOT REPAIRED NULL COUNT:\", df['NotRepaired'].isnull().sum())"
   ]
  },
  {
   "cell_type": "markdown",
   "metadata": {},
   "source": [
    "There are 71,145 null values present in this column. We will fill these missing values with 'unknown'."
   ]
  },
  {
   "cell_type": "code",
   "execution_count": 19,
   "metadata": {},
   "outputs": [],
   "source": [
    "df['NotRepaired'].fillna('unknown', inplace=True)"
   ]
  },
  {
   "cell_type": "markdown",
   "metadata": {},
   "source": [
    "Now, let's review the percentage of null values in the dataset to ensure we have addressed all of them."
   ]
  },
  {
   "cell_type": "code",
   "execution_count": 20,
   "metadata": {},
   "outputs": [
    {
     "name": "stdout",
     "output_type": "stream",
     "text": [
      "PERCENTAGE OF NULL VALUES:\n",
      "--------------------------\n",
      "Price                0.0\n",
      "VehicleType          0.0\n",
      "RegistrationYear     0.0\n",
      "Gearbox              0.0\n",
      "Power                0.0\n",
      "Model                0.0\n",
      "Mileage              0.0\n",
      "RegistrationMonth    0.0\n",
      "FuelType             0.0\n",
      "Brand                0.0\n",
      "NotRepaired          0.0\n",
      "NumberOfPictures     0.0\n",
      "dtype: float64\n"
     ]
    }
   ],
   "source": [
    "print(\"PERCENTAGE OF NULL VALUES:\")\n",
    "print(\"--------------------------\")\n",
    "print(df.isnull().sum()/len(df))"
   ]
  },
  {
   "cell_type": "markdown",
   "metadata": {},
   "source": [
    "There are no more null values present in the dataset."
   ]
  },
  {
   "cell_type": "markdown",
   "metadata": {},
   "source": [
    "### Handling Incorrect Values"
   ]
  },
  {
   "cell_type": "markdown",
   "metadata": {},
   "source": [
    "It is not unusual for datasets to contain inaccurate information. In this next phase of the project, we will examine the remaining feature columns to assess how accurately they represent the data. If we identify any unreliable data, we will address and correct it accordingly.\n",
    "\n",
    "Let's begin by examining the RegistrationYear column, checking the range of years to identify any that appear inaccurate or out of place."
   ]
  },
  {
   "cell_type": "code",
   "execution_count": 21,
   "metadata": {},
   "outputs": [
    {
     "name": "stdout",
     "output_type": "stream",
     "text": [
      "REGISTRATION YEAR RANGE: 1000 - 9999\n"
     ]
    }
   ],
   "source": [
    "registration_year_min = df['RegistrationYear'].min()\n",
    "registration_year_max = df['RegistrationYear'].max()\n",
    "\n",
    "print(f\"REGISTRATION YEAR RANGE: {registration_year_min} - {registration_year_max}\")"
   ]
  },
  {
   "cell_type": "markdown",
   "metadata": {},
   "source": [
    "The range of values in the RegistrationYear column spans from the year 1000 to 9999. Since the current year is 2024, any vehicles marked as registered after this year need to be corrected. Additionally, the first known vehicle registration law in the United States was enacted in 1901 in New York, so we can assume any vehicles registered before that year are inaccurate and need to be addressed.\n",
    "\n",
    "We will handle these incorrect RegistrationYear values by marking them as -1. Additionally, we will create a bar chart to analyze the distribution of the RegistrationYear values."
   ]
  },
  {
   "cell_type": "code",
   "execution_count": 22,
   "metadata": {},
   "outputs": [
    {
     "data": {
      "image/png": "[encoded data removed]",
      "text/plain": [
       "<Figure size 2000x500 with 1 Axes>"
      ]
     },
     "metadata": {},
     "output_type": "display_data"
    }
   ],
   "source": [
    "df.loc[(df['RegistrationYear'] < 1905) | (df['RegistrationYear'] > 2024), 'RegistrationYear'] = -1\n",
    "\n",
    "# Count occurrences of each year in the 'RegistrationYear' column\n",
    "registration_year_counts = df['RegistrationYear'].value_counts().sort_index()\n",
    "\n",
    "plt.figure(figsize=(20, 5))\n",
    "registration_year_counts.plot(kind='bar')\n",
    "plt.title('Distribution of Registration Years')\n",
    "plt.xlabel('Registration Year')\n",
    "plt.ylabel('Frequency')\n",
    "plt.xticks(rotation=90)\n",
    "plt.grid(axis='y')\n",
    "plt.show()"
   ]
  },
  {
   "cell_type": "markdown",
   "metadata": {},
   "source": [
    "As we can observe from the above visualization, we have successfully handled the incorrect registration years, resulting in a more accurate distribution. The majority of registration years now fall between the late 1990s and early 2010s, which is a much more believable range than the previous span of 1000 to 9999.\n",
    "\n",
    "Now let's move on the the Power column."
   ]
  },
  {
   "cell_type": "code",
   "execution_count": 23,
   "metadata": {},
   "outputs": [
    {
     "name": "stdout",
     "output_type": "stream",
     "text": [
      "HORSEPOWER RANGE: 0hp - 20000hp\n"
     ]
    }
   ],
   "source": [
    "power_min = df['Power'].min()\n",
    "power_max = df['Power'].max()\n",
    "\n",
    "print(f\"HORSEPOWER RANGE: {power_min}hp - {power_max}hp\")"
   ]
  },
  {
   "cell_type": "markdown",
   "metadata": {},
   "source": [
    "The horsepower in the dataset ranges from 0 to 20,000. This indicates potential anomalies or data entry errors. For instance, values that are unusually low (e.g., below 50 hp) or exceptionally high (e.g., above 1,000 hp) should be scrutinized to ensure they are realistic and accurate.\n",
    "\n",
    "Let's create a box plot using the horsepower data to gain a clearer understanding of its distribution."
   ]
  },
  {
   "cell_type": "code",
   "execution_count": 24,
   "metadata": {},
   "outputs": [
    {
     "data": {
      "image/png": "[encoded data removed]",
      "text/plain": [
       "<Figure size 2000x500 with 1 Axes>"
      ]
     },
     "metadata": {},
     "output_type": "display_data"
    }
   ],
   "source": [
    "plt.figure(figsize=(20, 5))\n",
    "sns.boxplot(x=df['Power'])\n",
    "plt.xlabel('Horsepower')\n",
    "plt.title('Box Plot of Horsepower')\n",
    "plt.show()"
   ]
  },
  {
   "cell_type": "markdown",
   "metadata": {},
   "source": [
    "The box plot reveals a significant number of outliers in the horsepower data. Typically, modern cars have between 150 and 300 horsepower, yet the dataset includes values exceeding 2,500 hp. To achieve a more accurate depiction of the data, we will handle these outliers by replacing them with -1."
   ]
  },
  {
   "cell_type": "code",
   "execution_count": 25,
   "metadata": {},
   "outputs": [
    {
     "data": {
      "image/png": "[encoded data removed]",
      "text/plain": [
       "<Figure size 2000x500 with 1 Axes>"
      ]
     },
     "metadata": {},
     "output_type": "display_data"
    }
   ],
   "source": [
    "# Calculate Q1 (25th percentile) and Q3 (75th percentile)\n",
    "Q1 = df['Power'].quantile(0.25)\n",
    "Q3 = df['Power'].quantile(0.75)\n",
    "IQR = Q3 - Q1\n",
    "\n",
    "# Define outliers\n",
    "outlier_lower_bound = Q1 - 1.5 * IQR\n",
    "outlier_upper_bound = Q3 + 1.5 * IQR\n",
    "\n",
    "# Replace outliers with -1\n",
    "df['Power'] = df['Power'].apply(lambda x: -1 if x < outlier_lower_bound or x > outlier_upper_bound else x)\n",
    "\n",
    "# Create a box plot again to see the changes\n",
    "plt.figure(figsize=(20, 5))\n",
    "sns.boxplot(x=df['Power'])\n",
    "plt.xlabel('Horsepower')\n",
    "plt.title('Box Plot of Horsepower (Outliers Replaced)')\n",
    "plt.show()"
   ]
  },
  {
   "cell_type": "markdown",
   "metadata": {},
   "source": [
    "The distribution of horsepower now appears much more realistic, with the median slightly above 100hp. The majority of values fall between 50 and 150hp, providing a more accurate representation of the data.\n",
    "\n",
    "Let's move on to Mileage."
   ]
  },
  {
   "cell_type": "code",
   "execution_count": 26,
   "metadata": {},
   "outputs": [
    {
     "name": "stdout",
     "output_type": "stream",
     "text": [
      "MILEAGE RANGE: 5000mi - 150000mi\n"
     ]
    }
   ],
   "source": [
    "mileage_min = df['Mileage'].min()\n",
    "mileage_max = df['Mileage'].max()\n",
    "\n",
    "print(f\"MILEAGE RANGE: {mileage_min}mi - {mileage_max}mi\")"
   ]
  },
  {
   "cell_type": "markdown",
   "metadata": {},
   "source": [
    "The mileage range appears realistic, so no adjustments are needed for this column. \n",
    "\n",
    "Let's examine the RegistrationMonth column."
   ]
  },
  {
   "cell_type": "code",
   "execution_count": 27,
   "metadata": {},
   "outputs": [
    {
     "name": "stdout",
     "output_type": "stream",
     "text": [
      "DISTINCT REGISTRATION MONTH VALUES:\n",
      "-----------------------------------\n",
      "0     37347\n",
      "1     23202\n",
      "2     21254\n",
      "3     34348\n",
      "4     29246\n",
      "5     29131\n",
      "6     31471\n",
      "7     27186\n",
      "8     22610\n",
      "9     23798\n",
      "10    26076\n",
      "11    24167\n",
      "12    24271\n",
      "Name: RegistrationMonth, dtype: int64\n"
     ]
    }
   ],
   "source": [
    "print(\"DISTINCT REGISTRATION MONTH VALUES:\")\n",
    "print(\"-----------------------------------\")\n",
    "print(df['RegistrationMonth'].value_counts().sort_index())"
   ]
  },
  {
   "cell_type": "markdown",
   "metadata": {},
   "source": [
    "We observe that there are 13 unique values in the RegistrationMonth column, whereas there should be only 12. The value '0' likely indicates an unknown registration month. To ensure standardization, we will replace all instances of 0 with -1."
   ]
  },
  {
   "cell_type": "code",
   "execution_count": 28,
   "metadata": {},
   "outputs": [],
   "source": [
    "df.loc[df['RegistrationMonth'] == 0, 'RegistrationMonth'] = -1"
   ]
  },
  {
   "cell_type": "markdown",
   "metadata": {},
   "source": [
    "Moving on to the Brand column."
   ]
  },
  {
   "cell_type": "code",
   "execution_count": 29,
   "metadata": {},
   "outputs": [
    {
     "name": "stdout",
     "output_type": "stream",
     "text": [
      "DISTINCT BRAND VALUES:\n",
      "----------------------\n",
      "alfa_romeo         2311\n",
      "audi              29439\n",
      "bmw               36881\n",
      "chevrolet          1751\n",
      "chrysler           1439\n",
      "citroen            5143\n",
      "dacia               898\n",
      "daewoo              542\n",
      "daihatsu            806\n",
      "fiat               9634\n",
      "ford              25163\n",
      "honda              2817\n",
      "hyundai            3583\n",
      "jaguar              505\n",
      "jeep                677\n",
      "kia                2463\n",
      "lada                225\n",
      "lancia              471\n",
      "land_rover          545\n",
      "mazda              5611\n",
      "mercedes_benz     32025\n",
      "mini               3201\n",
      "mitsubishi         3022\n",
      "nissan             4936\n",
      "opel              39902\n",
      "peugeot           10988\n",
      "porsche             758\n",
      "renault           17915\n",
      "rover               486\n",
      "saab                526\n",
      "seat               6901\n",
      "skoda              5490\n",
      "smart              5241\n",
      "sonstige_autos     3373\n",
      "subaru              762\n",
      "suzuki             2320\n",
      "toyota             4601\n",
      "trabant             589\n",
      "volkswagen        76960\n",
      "volvo              3207\n",
      "Name: Brand, dtype: int64\n"
     ]
    }
   ],
   "source": [
    "print(\"DISTINCT BRAND VALUES:\")\n",
    "print(\"----------------------\")\n",
    "print(df['Brand'].value_counts().sort_index())"
   ]
  },
  {
   "cell_type": "markdown",
   "metadata": {},
   "source": [
    "After reviewing the distinct values in the Brand column, it appears that no changes are needed.\n",
    "\n",
    "Finally, let's move on to the NumberOfPictures column."
   ]
  },
  {
   "cell_type": "code",
   "execution_count": 30,
   "metadata": {},
   "outputs": [
    {
     "name": "stdout",
     "output_type": "stream",
     "text": [
      "DISTINCT NUMBER OF PICTURE VALUES:\n",
      "----------------------------------\n",
      "0    354107\n",
      "Name: NumberOfPictures, dtype: int64\n"
     ]
    }
   ],
   "source": [
    "print(\"DISTINCT NUMBER OF PICTURE VALUES:\")\n",
    "print(\"----------------------------------\")\n",
    "print(df['NumberOfPictures'].value_counts())"
   ]
  },
  {
   "cell_type": "markdown",
   "metadata": {},
   "source": [
    "The NumberOfPictures column contains only one unique value, which means it has no influence on the Price column. Therefore, we can safely drop this column from the dataset."
   ]
  },
  {
   "cell_type": "code",
   "execution_count": 31,
   "metadata": {},
   "outputs": [],
   "source": [
    "df.drop(['NumberOfPictures'], axis=1, inplace=True)"
   ]
  },
  {
   "cell_type": "markdown",
   "metadata": {},
   "source": [
    "Now that we have addressed all null and incorrect values in the dataset, we can proceed with splitting the data."
   ]
  },
  {
   "cell_type": "markdown",
   "metadata": {},
   "source": [
    "### Data Splitting"
   ]
  },
  {
   "cell_type": "markdown",
   "metadata": {},
   "source": [
    "We will be split the data into training (60%), validation (20%), and test (20%) sets. This 3:1:1 ratio accounts for the fact that the test data is derived from the same source. If the test data were separate, we would only need to split the source data into training and validation sets, with the validation set comprising 25% of the source data to maintain a similar split ratio."
   ]
  },
  {
   "cell_type": "code",
   "execution_count": 32,
   "metadata": {},
   "outputs": [
    {
     "name": "stdout",
     "output_type": "stream",
     "text": [
      "Training Features Size: (212464, 10)\n",
      "\n",
      "Validation Features Size: (70821, 10)\n",
      "\n",
      "Test Features Size: (70822, 10)\n"
     ]
    }
   ],
   "source": [
    "# Extract the feature variables\n",
    "features = df.drop(['Price'], axis=1)\n",
    "\n",
    "# Extract the target variable 'Price'\n",
    "target = df['Price']\n",
    "\n",
    "# Split data: 60% for training, 20% for validation, and 20% for testing\n",
    "features_train, features_temp, target_train, target_temp = train_test_split(features, target, test_size=0.4, random_state=12345)\n",
    "\n",
    "# Further split the remaining 40% into validation (20%) and test (20%) sets\n",
    "features_valid, features_test, target_valid, target_test = train_test_split(features_temp, target_temp, test_size=0.5, random_state=12345)\n",
    "\n",
    "# Print the size of each dataset\n",
    "print('Training Features Size:', features_train.shape)\n",
    "print()\n",
    "print('Validation Features Size:', features_valid.shape)\n",
    "print()\n",
    "print('Test Features Size:', features_test.shape)"
   ]
  },
  {
   "cell_type": "markdown",
   "metadata": {},
   "source": [
    "With the data split correctly, we will now encode our categorical features using two methods. For the Random Forest and XGBoost models, we will use label encoding, which effectively converts categories into ordinal values suitable for these algorithms. For the Linear Regression model, we will apply one-hot encoding, as it converts categorical variables into binary features and is well-suited for linear models. The CatBoost and LightGBM models handle categorical variables internally, so no additional encoding is required for these models. This approach ensures that each model is trained with the most appropriate encoding method for its specific requirements.\n",
    "\n",
    "We will explicitly define our categorical features to streamline the encoding process."
   ]
  },
  {
   "cell_type": "code",
   "execution_count": 33,
   "metadata": {},
   "outputs": [],
   "source": [
    "categorical_features = ['VehicleType', 'Gearbox', 'Model', 'FuelType', 'Brand', 'NotRepaired']"
   ]
  },
  {
   "cell_type": "markdown",
   "metadata": {},
   "source": [
    "### Label Encoding"
   ]
  },
  {
   "cell_type": "code",
   "execution_count": 34,
   "metadata": {},
   "outputs": [
    {
     "name": "stdout",
     "output_type": "stream",
     "text": [
      "Training Features Size (Label Encoded): (212464, 10)\n",
      "\n",
      "Validation Features Size (Label Encoded): (70821, 10)\n",
      "\n",
      "Test Features Size (Label Encoded): (70822, 10)\n"
     ]
    }
   ],
   "source": [
    "# Initialize OrdinalEncoder\n",
    "ordinal_encoder = OrdinalEncoder(handle_unknown='use_encoded_value', unknown_value=-1)\n",
    "\n",
    "# Fit and transform on training features\n",
    "features_train_encoded = features_train.copy()\n",
    "features_train_encoded[categorical_features] = ordinal_encoder.fit_transform(features_train[categorical_features])\n",
    "\n",
    "# Fit and transform validation features\n",
    "features_valid_encoded = features_valid.copy()\n",
    "features_valid_encoded[categorical_features] = ordinal_encoder.transform(features_valid[categorical_features])\n",
    "\n",
    "# Fit and transform test features\n",
    "features_test_encoded = features_test.copy()\n",
    "features_test_encoded[categorical_features] = ordinal_encoder.transform(features_test[categorical_features])\n",
    "\n",
    "# Print the size of each dataset after label encoding\n",
    "print('Training Features Size (Label Encoded):', features_train_encoded.shape)\n",
    "print()\n",
    "print('Validation Features Size (Label Encoded):', features_valid_encoded.shape)\n",
    "print()\n",
    "print('Test Features Size (Label Encoded):', features_test_encoded.shape)"
   ]
  },
  {
   "cell_type": "markdown",
   "metadata": {},
   "source": [
    "### One-Hot Encoding"
   ]
  },
  {
   "cell_type": "code",
   "execution_count": 35,
   "metadata": {},
   "outputs": [
    {
     "name": "stdout",
     "output_type": "stream",
     "text": [
      "Training Features Size (One-Hot Encoded): (212464, 308)\n",
      "\n",
      "Validation Features Size (One-Hot Encoded): (70821, 308)\n",
      "\n",
      "Test Features Size (One-Hot Encoded): (70822, 308)\n"
     ]
    }
   ],
   "source": [
    "# Apply one-hot encoding to training features\n",
    "features_train_ohe = pd.get_dummies(features_train, columns=categorical_features, drop_first=True)\n",
    "\n",
    "# Apply one-hot encoding to validation features\n",
    "features_valid_ohe = pd.get_dummies(features_valid, columns=categorical_features, drop_first=True)\n",
    "\n",
    "# Apply one-hot encoding to test features\n",
    "features_test_ohe = pd.get_dummies(features_test, columns=categorical_features, drop_first=True)\n",
    "\n",
    "# To align columns between different sets, find the union of all columns and reindex\n",
    "all_columns = set(features_train_ohe.columns) | set(features_valid_ohe.columns) | set(features_test_ohe.columns)\n",
    "features_train_ohe = features_train_ohe.reindex(columns=all_columns, fill_value=0)\n",
    "features_valid_ohe = features_valid_ohe.reindex(columns=all_columns, fill_value=0)\n",
    "features_test_ohe = features_test_ohe.reindex(columns=all_columns, fill_value=0)\n",
    "\n",
    "# Print the size of each dataset after one-hot encoding\n",
    "print('Training Features Size (One-Hot Encoded):', features_train_ohe.shape)\n",
    "print()\n",
    "print('Validation Features Size (One-Hot Encoded):', features_valid_ohe.shape)\n",
    "print()\n",
    "print('Test Features Size (One-Hot Encoded):', features_test_ohe.shape)"
   ]
  },
  {
   "cell_type": "markdown",
   "metadata": {},
   "source": [
    "With the data successfully preprocessed and encoded, we can now proceed to use it for training various machine learning models."
   ]
  },
  {
   "cell_type": "markdown",
   "metadata": {},
   "source": [
    "## Model Training"
   ]
  },
  {
   "cell_type": "markdown",
   "metadata": {},
   "source": [
    "For model training, our focus will be on evaluating Root Mean Squared Error (RMSE), training time, and prediction time across various machine learning models, both with and without hyperparameter tuning. To streamline this repetitive process, I have developed a function designed to expedite and simplify the evaluation.\n",
    "\n",
    "The function below assesses a machine learning model by calculating key performance metrics. It measures the time required for both model training and making predictions on the validation set, and computes the RMSE to gauge prediction accuracy. By printing and returning these metrics, the function aids in analyzing the efficiency and effectiveness of the model."
   ]
  },
  {
   "cell_type": "code",
   "execution_count": 36,
   "metadata": {},
   "outputs": [],
   "source": [
    "def model_eval(model, features_train, features_valid, target_train, target_valid):\n",
    "    # Record the start time for model training\n",
    "    training_start_time = time.time()\n",
    "\n",
    "    # Train the model on the training data\n",
    "    model.fit(features_train, target_train)\n",
    "\n",
    "    # Calculate the time taken to train the model\n",
    "    training_time = time.time() - training_start_time\n",
    "\n",
    "    # Record the start time for making predictions\n",
    "    prediction_start_time = time.time()\n",
    "\n",
    "    # Generate predictions on the validation set\n",
    "    predictions = model.predict(features_valid)\n",
    "    \n",
    "    # Calculate the time taken to make predictions\n",
    "    prediction_time = time.time() - prediction_start_time\n",
    "\n",
    "    # Compute the total time taken for training and prediction\n",
    "    total_time = training_time + prediction_time\n",
    "\n",
    "    # Calculate the Root Mean Squared Error (RMSE) of the predictions\n",
    "    rmse = np.sqrt(mean_squared_error(target_valid, predictions))\n",
    "\n",
    "    # Print out the RMSE, training time, prediction time, and total time\n",
    "    print(\"RMSE:\", rmse)\n",
    "    print(\"Training Time:\", training_time)\n",
    "    print(\"Prediction Time:\", prediction_time)\n",
    "    print(\"Total Time:\", total_time)\n",
    "\n",
    "    # Return RMSE, training time, prediction time, and total time\n",
    "    return rmse, training_time, prediction_time, total_time"
   ]
  },
  {
   "cell_type": "markdown",
   "metadata": {},
   "source": [
    "### Linear Regression"
   ]
  },
  {
   "cell_type": "markdown",
   "metadata": {},
   "source": [
    "We will start with a Linear Regression model. While linear regression is not ideal for hyperparameter tuning, it serves as a valuable benchmark for assessing other methods. For example, if gradient boosting underperforms compared to linear regression, it indicates that there may be an issue with the implementation or configuration of the gradient boosting model.\n",
    "\n",
    "Note: Train with one-hot encoded data."
   ]
  },
  {
   "cell_type": "code",
   "execution_count": 37,
   "metadata": {},
   "outputs": [
    {
     "name": "stdout",
     "output_type": "stream",
     "text": [
      "LINEAR REGRESSION STATS:\n",
      "------------------------\n",
      "RMSE: 3205.9048031614034\n",
      "Training Time: 3.247450828552246\n",
      "Prediction Time: 0.06167888641357422\n",
      "Total Time: 3.3091297149658203\n"
     ]
    }
   ],
   "source": [
    "# Initialize the Linear Regression model\n",
    "lr_model = LinearRegression()\n",
    "\n",
    "print(\"LINEAR REGRESSION STATS:\")\n",
    "print(\"------------------------\")\n",
    "\n",
    "# Evaluate the Linear Regression model\n",
    "lr_rmse, lr_training_time, lr_prediction_time, lr_total_time = model_eval(lr_model, \n",
    "                                                                          features_train_ohe, \n",
    "                                                                          features_valid_ohe, \n",
    "                                                                          target_train, \n",
    "                                                                          target_valid)"
   ]
  },
  {
   "cell_type": "markdown",
   "metadata": {},
   "source": [
    "### Random Forest"
   ]
  },
  {
   "cell_type": "markdown",
   "metadata": {},
   "source": [
    "Note: Train with label encoded data."
   ]
  },
  {
   "cell_type": "code",
   "execution_count": 38,
   "metadata": {},
   "outputs": [
    {
     "name": "stdout",
     "output_type": "stream",
     "text": [
      "RANDOM FOREST STATS:\n",
      "--------------------\n",
      "RMSE: 1811.441571876422\n",
      "Training Time: 38.319087982177734\n",
      "Prediction Time: 1.8054471015930176\n",
      "Total Time: 40.12453508377075\n"
     ]
    }
   ],
   "source": [
    "# Initialize the Random Forest model\n",
    "rf_model = RandomForestRegressor(random_state=12345)\n",
    "\n",
    "print(\"RANDOM FOREST STATS:\")\n",
    "print(\"--------------------\")\n",
    "\n",
    "# Evaluate the Random Forest model\n",
    "rf_rmse, rf_training_time, rf_prediction_time, rf_total_time = model_eval(rf_model, \n",
    "                                                                          features_train_encoded, \n",
    "                                                                          features_valid_encoded, \n",
    "                                                                          target_train, \n",
    "                                                                          target_valid)"
   ]
  },
  {
   "cell_type": "markdown",
   "metadata": {},
   "source": [
    "### Random Forest (w/ Hyperparameter Tuning)"
   ]
  },
  {
   "cell_type": "markdown",
   "metadata": {},
   "source": [
    "Note: Train with label encoded data."
   ]
  },
  {
   "cell_type": "code",
   "execution_count": 39,
   "metadata": {},
   "outputs": [
    {
     "name": "stdout",
     "output_type": "stream",
     "text": [
      "BEST RANDOM FOREST HYPERPARAMETERS: {'n_estimators': 100, 'min_samples_split': 2, 'min_samples_leaf': 1, 'max_features': 'log2', 'max_depth': None}\n",
      "\n",
      "RANDOM FOREST (TUNED) STATS:\n",
      "----------------------------\n",
      "RMSE: 1774.352689971243\n",
      "Training Time: 14.467343807220459\n",
      "Prediction Time: 1.7917182445526123\n",
      "Total Time: 16.25906205177307\n"
     ]
    }
   ],
   "source": [
    "# Set up RandomizedSearchCV for tuning the Random Forest model\n",
    "rf_random_search = RandomizedSearchCV(\n",
    "    rf_model, \n",
    "    param_distributions={'n_estimators': [10, 50, 100, 200], \n",
    "                         'max_features': ['sqrt', 'log2'],\n",
    "                         'max_depth': [None, 10, 20, 30, 40],\n",
    "                         'min_samples_split': [2, 5, 10], \n",
    "                         'min_samples_leaf': [1, 2, 4]}, \n",
    "    n_iter=10,     \n",
    "    cv=3,                        \n",
    "    scoring='neg_root_mean_squared_error',\n",
    "    n_jobs=-1,                      \n",
    "    random_state=12345\n",
    ")\n",
    "\n",
    "# Fit the RandomizedSearchCV object to the training data\n",
    "rf_random_search.fit(features_train_encoded, target_train)\n",
    "\n",
    "print(\"BEST RANDOM FOREST HYPERPARAMETERS:\", rf_random_search.best_params_)\n",
    "print()\n",
    "\n",
    "# Get the best Random Forest model from the search\n",
    "tuned_rf_model = rf_random_search.best_estimator_\n",
    "\n",
    "print(\"RANDOM FOREST (TUNED) STATS:\")\n",
    "print(\"----------------------------\")\n",
    "\n",
    "# Evaluate the tuned Random Forest model\n",
    "tuned_rf_rmse, tuned_rf_training_time, tuned_rf_prediction_time, tuned_rf_total_time = model_eval(tuned_rf_model, \n",
    "                                                                                                  features_train_encoded, \n",
    "                                                                                                  features_valid_encoded, \n",
    "                                                                                                  target_train, \n",
    "                                                                                                  target_valid)"
   ]
  },
  {
   "cell_type": "markdown",
   "metadata": {},
   "source": [
    "### LightGBM"
   ]
  },
  {
   "cell_type": "markdown",
   "metadata": {},
   "source": [
    "LightGBM can handle categorical features natively. By converting them to the category dtype, we are signaling to LightGBM that these features are categorical. This allows the algorithm to use its internal optimizations for processing such data, which can lead to more efficient training and potentially better performance."
   ]
  },
  {
   "cell_type": "code",
   "execution_count": 40,
   "metadata": {},
   "outputs": [
    {
     "name": "stdout",
     "output_type": "stream",
     "text": [
      "LIGHTGBM STATS:\n",
      "---------------\n",
      "RMSE: 1804.5395988739895\n",
      "Training Time: 0.6549580097198486\n",
      "Prediction Time: 0.057315826416015625\n",
      "Total Time: 0.7122738361358643\n"
     ]
    }
   ],
   "source": [
    "# Create copies of the training, validation, and test feature datasets\n",
    "features_train_cat = features_train.copy()\n",
    "features_valid_cat = features_valid.copy()\n",
    "features_test_cat = features_test.copy()\n",
    "\n",
    "# Convert categorical features to 'category' dtype for all datasets\n",
    "for feature in categorical_features:\n",
    "    features_train_cat[feature] = features_train[feature].astype('category')\n",
    "    features_valid_cat[feature] = features_valid[feature].astype('category')\n",
    "    features_test_cat[feature] = features_test[feature].astype('category')\n",
    "\n",
    "# Initialize the LightGBM model\n",
    "lgbm_model = LGBMRegressor(random_state=12345, verbose=-1)\n",
    "\n",
    "print(\"LIGHTGBM STATS:\")\n",
    "print(\"---------------\")\n",
    "\n",
    "# Evaluate the LightGBM model\n",
    "lgbm_rmse, lgbm_training_time, lgbm_prediction_time, lgbm_total_time = model_eval(lgbm_model, \n",
    "                                                                                  features_train_cat, \n",
    "                                                                                  features_valid_cat, \n",
    "                                                                                  target_train, \n",
    "                                                                                  target_valid)"
   ]
  },
  {
   "cell_type": "markdown",
   "metadata": {},
   "source": [
    "### LightGBM (w/ Hyperparameter Tuning)"
   ]
  },
  {
   "cell_type": "code",
   "execution_count": 41,
   "metadata": {},
   "outputs": [
    {
     "name": "stdout",
     "output_type": "stream",
     "text": [
      "BEST LIGHTGBM HYPERPARAMETERS: {'subsample': 1.0, 'reg_lambda': 0.1, 'reg_alpha': 0.5, 'num_leaves': 50, 'n_estimators': 100, 'max_depth': 10, 'learning_rate': 0.2, 'colsample_bytree': 0.6}\n",
      "\n",
      "LIGHTGBM (TUNED) STATS:\n",
      "-----------------------\n",
      "RMSE: 1759.5423088432026\n",
      "Training Time: 0.43105173110961914\n",
      "Prediction Time: 0.052706003189086914\n",
      "Total Time: 0.48375773429870605\n"
     ]
    }
   ],
   "source": [
    "# Set up RandomizedSearchCV for tuning the LightGBM model\n",
    "lgbm_random_search = RandomizedSearchCV(\n",
    "    lgbm_model, \n",
    "    param_distributions={'num_leaves': [31, 50, 70],\n",
    "                         'max_depth': [-1, 10, 20, 30],\n",
    "                         'learning_rate': [0.01, 0.05, 0.1, 0.2],\n",
    "                         'n_estimators': [50, 100, 200, 300],\n",
    "                         'subsample': [0.6, 0.8, 1.0],\n",
    "                         'colsample_bytree': [0.6, 0.8, 1.0],\n",
    "                         'reg_alpha': [0, 0.1, 0.5, 1],\n",
    "                         'reg_lambda': [0, 0.1, 0.5, 1]}, \n",
    "    n_iter=10,     \n",
    "    cv=3,                        \n",
    "    scoring='neg_root_mean_squared_error',\n",
    "    n_jobs=-1,                      \n",
    "    random_state=12345\n",
    ")\n",
    "\n",
    "# Fit the RandomizedSearchCV object to the training data\n",
    "lgbm_random_search.fit(features_train_cat, target_train)\n",
    "\n",
    "print(\"BEST LIGHTGBM HYPERPARAMETERS:\", lgbm_random_search.best_params_)\n",
    "print()\n",
    "\n",
    "# Get the best LightGBM model from the search\n",
    "tuned_lgbm_model = lgbm_random_search.best_estimator_\n",
    "\n",
    "print(\"LIGHTGBM (TUNED) STATS:\")\n",
    "print(\"-----------------------\")\n",
    "\n",
    "# Evaluate the tuned LightGBM model\n",
    "tuned_lgbm_rmse, tuned_lgbm_training_time, tuned_lgbm_prediction_time, tuned_lgbm_total_time = model_eval(tuned_lgbm_model, \n",
    "                                                                                                          features_train_cat, \n",
    "                                                                                                          features_valid_cat, \n",
    "                                                                                                          target_train, \n",
    "                                                                                                          target_valid)"
   ]
  },
  {
   "cell_type": "markdown",
   "metadata": {},
   "source": [
    "### CatBoost"
   ]
  },
  {
   "cell_type": "markdown",
   "metadata": {},
   "source": [
    "CatBoost is specifically optimized for handling categorical features with high efficiency. By explicitly specifying these features in the parameters, we enable CatBoost to apply its advanced algorithms designed for categorical data. This eliminates the need for manual encoding and ensures that the model processes categorical features effectively, leading to improved performance and accuracy."
   ]
  },
  {
   "cell_type": "code",
   "execution_count": 42,
   "metadata": {},
   "outputs": [
    {
     "name": "stdout",
     "output_type": "stream",
     "text": [
      "CATBOOST STATS:\n",
      "---------------\n",
      "RMSE: 1789.2206431521697\n",
      "Training Time: 23.24581503868103\n",
      "Prediction Time: 0.07017302513122559\n",
      "Total Time: 23.315988063812256\n"
     ]
    }
   ],
   "source": [
    "# Initialize the CatBoost model\n",
    "cb_model = CatBoostRegressor(random_state=12345, cat_features=categorical_features, verbose=False)\n",
    "\n",
    "print(\"CATBOOST STATS:\")\n",
    "print(\"---------------\")\n",
    "\n",
    "# Evaluate the CatBoost model\n",
    "cb_rmse, cb_training_time, cb_prediction_time, cb_total_time = model_eval(cb_model, \n",
    "                                                                          features_train, \n",
    "                                                                          features_valid, \n",
    "                                                                          target_train, \n",
    "                                                                          target_valid)"
   ]
  },
  {
   "cell_type": "markdown",
   "metadata": {},
   "source": [
    "### CatBoost (w/ Hyperparameter Tuning)"
   ]
  },
  {
   "cell_type": "code",
   "execution_count": 43,
   "metadata": {},
   "outputs": [
    {
     "name": "stderr",
     "output_type": "stream",
     "text": [
      "/opt/anaconda3/lib/python3.11/site-packages/joblib/externals/loky/process_executor.py:700: UserWarning: A worker stopped while some jobs were given to the executor. This can be caused by a too short worker timeout or by a memory leak.\n",
      "  warnings.warn(\n"
     ]
    },
    {
     "name": "stdout",
     "output_type": "stream",
     "text": [
      "BEST CATBOOST HYPERPARAMETERS: {'random_strength': 2, 'learning_rate': 0.2, 'l2_leaf_reg': 10, 'iterations': 500, 'depth': 12, 'border_count': 32, 'bagging_temperature': 0.5}\n",
      "\n",
      "CATBOOST (TUNED) STATS:\n",
      "-----------------------\n",
      "RMSE: 1746.8568108552724\n",
      "Training Time: 35.432244062423706\n",
      "Prediction Time: 0.07129287719726562\n",
      "Total Time: 35.50353693962097\n"
     ]
    }
   ],
   "source": [
    "# Set up RandomizedSearchCV for tuning the CatBoost model\n",
    "cb_random_search = RandomizedSearchCV(\n",
    "    cb_model, \n",
    "    param_distributions={'depth': [6, 8, 10, 12],\n",
    "                         'learning_rate': [0.01, 0.05, 0.1, 0.2],\n",
    "                         'iterations': [100, 200, 300, 500],\n",
    "                         'l2_leaf_reg': [1, 3, 5, 10],\n",
    "                         'border_count': [32, 50, 100],\n",
    "                         'bagging_temperature': [0, 0.5, 1],\n",
    "                         'random_strength': [0, 1, 2, 3]}, \n",
    "    n_iter=10,                 \n",
    "    cv=3,                        \n",
    "    scoring='neg_root_mean_squared_error',  \n",
    "    n_jobs=-1,                   \n",
    "    random_state=12345\n",
    ")\n",
    "\n",
    "# Fit the RandomizedSearchCV object to the training data\n",
    "cb_random_search.fit(features_train, target_train)\n",
    "\n",
    "print(\"BEST CATBOOST HYPERPARAMETERS:\", cb_random_search.best_params_)\n",
    "print()\n",
    "\n",
    "# Get the best CatBoost model from the search\n",
    "tuned_cb_model = cb_random_search.best_estimator_\n",
    "\n",
    "print(\"CATBOOST (TUNED) STATS:\")\n",
    "print(\"-----------------------\")\n",
    "\n",
    "# Evaluate the tuned CatBoost model\n",
    "tuned_cb_rmse, tuned_cb_training_time, tuned_cb_prediction_time, tuned_cb_total_time = model_eval(tuned_cb_model, \n",
    "                                                                                                  features_train, \n",
    "                                                                                                  features_valid, \n",
    "                                                                                                  target_train, \n",
    "                                                                                                  target_valid)"
   ]
  },
  {
   "cell_type": "markdown",
   "metadata": {},
   "source": [
    "### XGBoost"
   ]
  },
  {
   "cell_type": "markdown",
   "metadata": {},
   "source": [
    "Note: Train with label encoded data."
   ]
  },
  {
   "cell_type": "code",
   "execution_count": 44,
   "metadata": {},
   "outputs": [
    {
     "name": "stdout",
     "output_type": "stream",
     "text": [
      "XGBOOST STATS:\n",
      "--------------\n",
      "RMSE: 1812.545440711126\n",
      "Training Time: 2.540432929992676\n",
      "Prediction Time: 0.012157917022705078\n",
      "Total Time: 2.552590847015381\n"
     ]
    }
   ],
   "source": [
    "# Initialize the XGBoost model\n",
    "xgb_model = XGBRegressor(random_state=12345)\n",
    "\n",
    "print(\"XGBOOST STATS:\")\n",
    "print(\"--------------\")\n",
    "\n",
    "# Evaluate the XGBoost model\n",
    "xgb_rmse, xgb_training_time, xgb_prediction_time, xgb_total_time = model_eval(xgb_model, \n",
    "                                                                              features_train_encoded, \n",
    "                                                                              features_valid_encoded, \n",
    "                                                                              target_train, \n",
    "                                                                              target_valid)"
   ]
  },
  {
   "cell_type": "markdown",
   "metadata": {},
   "source": [
    "### XGBoost (w/ Hyperparameter Tuning)"
   ]
  },
  {
   "cell_type": "code",
   "execution_count": 45,
   "metadata": {},
   "outputs": [
    {
     "name": "stdout",
     "output_type": "stream",
     "text": [
      "BEST XGBOOST HYPERPARAMETERS: {'subsample': 0.8, 'reg_lambda': 0.1, 'reg_alpha': 0, 'n_estimators': 200, 'max_depth': 10, 'learning_rate': 0.05, 'gamma': 0.5, 'colsample_bytree': 0.8}\n",
      "\n",
      "XGBOOST (TUNED) STATS:\n",
      "----------------------\n",
      "RMSE: 1729.9113670345519\n",
      "Training Time: 8.946986198425293\n",
      "Prediction Time: 0.04872703552246094\n",
      "Total Time: 8.995713233947754\n"
     ]
    }
   ],
   "source": [
    "# Set up RandomizedSearchCV for tuning the XGBoost model\n",
    "xgb_random_search = RandomizedSearchCV(\n",
    "    xgb_model, \n",
    "    param_distributions={'n_estimators': [50, 100, 200, 300],\n",
    "                         'max_depth': [3, 5, 7, 10],\n",
    "                         'learning_rate': [0.01, 0.05, 0.1, 0.2],\n",
    "                         'subsample': [0.6, 0.8, 1.0],\n",
    "                         'colsample_bytree': [0.6, 0.8, 1.0],\n",
    "                         'gamma': [0, 0.1, 0.5, 1],\n",
    "                         'reg_alpha': [0, 0.1, 0.5, 1],\n",
    "                         'reg_lambda': [0, 0.1, 0.5, 1]}, \n",
    "    n_iter=10,                      \n",
    "    cv=3,                      \n",
    "    scoring='neg_root_mean_squared_error', \n",
    "    n_jobs=-1,                     \n",
    "    random_state=12345\n",
    ")\n",
    "\n",
    "# Fit the RandomizedSearchCV object to the training data\n",
    "xgb_random_search.fit(features_train_encoded, target_train)\n",
    "\n",
    "print(\"BEST XGBOOST HYPERPARAMETERS:\", xgb_random_search.best_params_)\n",
    "print()\n",
    "\n",
    "# Get the best XGBoost model from the search\n",
    "tuned_xgb_model = xgb_random_search.best_estimator_\n",
    "\n",
    "print(\"XGBOOST (TUNED) STATS:\")\n",
    "print(\"----------------------\")\n",
    "\n",
    "# Evaluate the tuned XGBoost model\n",
    "tuned_xgb_rmse, tuned_xgb_training_time, tuned_xgb_prediction_time, tuned_xgb_total_time = model_eval(tuned_xgb_model, \n",
    "                                                                                                      features_train_encoded, \n",
    "                                                                                                      features_valid_encoded, \n",
    "                                                                                                      target_train, target_valid)"
   ]
  },
  {
   "cell_type": "markdown",
   "metadata": {},
   "source": [
    "## Model Analysis"
   ]
  },
  {
   "cell_type": "markdown",
   "metadata": {},
   "source": [
    "Having trained and tested all our models using the validation set, we will now analyze their performance to identify which model will be most beneficial for Rusty Bargain. To facilitate comparison and draw conclusions, we will compile their statistics into a single data frame. This will make it easier to evaluate and compare the models' effectiveness."
   ]
  },
  {
   "cell_type": "code",
   "execution_count": 46,
   "metadata": {},
   "outputs": [
    {
     "data": {
      "text/html": [
       "<div>\n",
       "<style scoped>\n",
       "    .dataframe tbody tr th:only-of-type {\n",
       "        vertical-align: middle;\n",
       "    }\n",
       "\n",
       "    .dataframe tbody tr th {\n",
       "        vertical-align: top;\n",
       "    }\n",
       "\n",
       "    .dataframe thead th {\n",
       "        text-align: right;\n",
       "    }\n",
       "</style>\n",
       "<table border=\"1\" class=\"dataframe\">\n",
       "  <thead>\n",
       "    <tr style=\"text-align: right;\">\n",
       "      <th></th>\n",
       "      <th>Model</th>\n",
       "      <th>RMSE</th>\n",
       "      <th>Training Time</th>\n",
       "      <th>Prediction Time</th>\n",
       "      <th>Total Time</th>\n",
       "    </tr>\n",
       "  </thead>\n",
       "  <tbody>\n",
       "    <tr>\n",
       "      <th>0</th>\n",
       "      <td>Linear Regression</td>\n",
       "      <td>3205.904803</td>\n",
       "      <td>3.247451</td>\n",
       "      <td>0.061679</td>\n",
       "      <td>3.309130</td>\n",
       "    </tr>\n",
       "    <tr>\n",
       "      <th>1</th>\n",
       "      <td>Random Forest</td>\n",
       "      <td>1811.441572</td>\n",
       "      <td>38.319088</td>\n",
       "      <td>1.805447</td>\n",
       "      <td>40.124535</td>\n",
       "    </tr>\n",
       "    <tr>\n",
       "      <th>2</th>\n",
       "      <td>Random Forest (Tuned)</td>\n",
       "      <td>1774.352690</td>\n",
       "      <td>14.467344</td>\n",
       "      <td>1.791718</td>\n",
       "      <td>16.259062</td>\n",
       "    </tr>\n",
       "    <tr>\n",
       "      <th>3</th>\n",
       "      <td>LightGBM</td>\n",
       "      <td>1804.539599</td>\n",
       "      <td>0.654958</td>\n",
       "      <td>0.057316</td>\n",
       "      <td>0.712274</td>\n",
       "    </tr>\n",
       "    <tr>\n",
       "      <th>4</th>\n",
       "      <td>LightGBM (Tuned)</td>\n",
       "      <td>1759.542309</td>\n",
       "      <td>0.431052</td>\n",
       "      <td>0.052706</td>\n",
       "      <td>0.483758</td>\n",
       "    </tr>\n",
       "    <tr>\n",
       "      <th>5</th>\n",
       "      <td>CatBoost</td>\n",
       "      <td>1789.220643</td>\n",
       "      <td>23.245815</td>\n",
       "      <td>0.070173</td>\n",
       "      <td>23.315988</td>\n",
       "    </tr>\n",
       "    <tr>\n",
       "      <th>6</th>\n",
       "      <td>CatBoost (Tuned)</td>\n",
       "      <td>1746.856811</td>\n",
       "      <td>35.432244</td>\n",
       "      <td>0.071293</td>\n",
       "      <td>35.503537</td>\n",
       "    </tr>\n",
       "    <tr>\n",
       "      <th>7</th>\n",
       "      <td>XGBoost</td>\n",
       "      <td>1812.545441</td>\n",
       "      <td>2.540433</td>\n",
       "      <td>0.012158</td>\n",
       "      <td>2.552591</td>\n",
       "    </tr>\n",
       "    <tr>\n",
       "      <th>8</th>\n",
       "      <td>XGBoost (Tuned)</td>\n",
       "      <td>1729.911367</td>\n",
       "      <td>8.946986</td>\n",
       "      <td>0.048727</td>\n",
       "      <td>8.995713</td>\n",
       "    </tr>\n",
       "  </tbody>\n",
       "</table>\n",
       "</div>"
      ],
      "text/plain": [
       "                   Model         RMSE  Training Time  Prediction Time  \\\n",
       "0      Linear Regression  3205.904803       3.247451         0.061679   \n",
       "1          Random Forest  1811.441572      38.319088         1.805447   \n",
       "2  Random Forest (Tuned)  1774.352690      14.467344         1.791718   \n",
       "3               LightGBM  1804.539599       0.654958         0.057316   \n",
       "4       LightGBM (Tuned)  1759.542309       0.431052         0.052706   \n",
       "5               CatBoost  1789.220643      23.245815         0.070173   \n",
       "6       CatBoost (Tuned)  1746.856811      35.432244         0.071293   \n",
       "7                XGBoost  1812.545441       2.540433         0.012158   \n",
       "8        XGBoost (Tuned)  1729.911367       8.946986         0.048727   \n",
       "\n",
       "   Total Time  \n",
       "0    3.309130  \n",
       "1   40.124535  \n",
       "2   16.259062  \n",
       "3    0.712274  \n",
       "4    0.483758  \n",
       "5   23.315988  \n",
       "6   35.503537  \n",
       "7    2.552591  \n",
       "8    8.995713  "
      ]
     },
     "metadata": {},
     "output_type": "display_data"
    }
   ],
   "source": [
    "model_analysis = pd.DataFrame({'Model': ['Linear Regression', \n",
    "                                         'Random Forest', \n",
    "                                         'Random Forest (Tuned)',\n",
    "                                         'LightGBM', \n",
    "                                         'LightGBM (Tuned)',\n",
    "                                         'CatBoost',\n",
    "                                         'CatBoost (Tuned)',\n",
    "                                         'XGBoost',\n",
    "                                         'XGBoost (Tuned)'],\n",
    "\n",
    "                                'RMSE': [lr_rmse, \n",
    "                                         rf_rmse, \n",
    "                                         tuned_rf_rmse,\n",
    "                                         lgbm_rmse, \n",
    "                                         tuned_lgbm_rmse,\n",
    "                                         cb_rmse, \n",
    "                                         tuned_cb_rmse,\n",
    "                                         xgb_rmse,\n",
    "                                         tuned_xgb_rmse],\n",
    "                                \n",
    "                                'Training Time': [lr_training_time, \n",
    "                                                  rf_training_time,\n",
    "                                                  tuned_rf_training_time, \n",
    "                                                  lgbm_training_time,\n",
    "                                                  tuned_lgbm_training_time, \n",
    "                                                  cb_training_time, \n",
    "                                                  tuned_cb_training_time,\n",
    "                                                  xgb_training_time,\n",
    "                                                  tuned_xgb_training_time],\n",
    "                                \n",
    "                                'Prediction Time': [lr_prediction_time, \n",
    "                                                    rf_prediction_time, \n",
    "                                                    tuned_rf_prediction_time,\n",
    "                                                    lgbm_prediction_time, \n",
    "                                                    tuned_lgbm_prediction_time,\n",
    "                                                    cb_prediction_time, \n",
    "                                                    tuned_cb_prediction_time,\n",
    "                                                    xgb_prediction_time,\n",
    "                                                    tuned_xgb_prediction_time],\n",
    "                                \n",
    "                                'Total Time': [lr_total_time, \n",
    "                                               rf_total_time, \n",
    "                                               tuned_rf_total_time,\n",
    "                                               lgbm_total_time,\n",
    "                                               tuned_lgbm_total_time, \n",
    "                                               cb_total_time, \n",
    "                                               tuned_cb_total_time,\n",
    "                                               xgb_total_time,\n",
    "                                               tuned_xgb_total_time]})\n",
    "\n",
    "display(model_analysis)"
   ]
  },
  {
   "cell_type": "markdown",
   "metadata": {},
   "source": [
    "To gain a clearer insight into the performance of the models, we will organize the data by RMSE. This will allow us to evaluate and compare which models achieved the highest accuracy."
   ]
  },
  {
   "cell_type": "code",
   "execution_count": 47,
   "metadata": {},
   "outputs": [
    {
     "data": {
      "text/html": [
       "<div>\n",
       "<style scoped>\n",
       "    .dataframe tbody tr th:only-of-type {\n",
       "        vertical-align: middle;\n",
       "    }\n",
       "\n",
       "    .dataframe tbody tr th {\n",
       "        vertical-align: top;\n",
       "    }\n",
       "\n",
       "    .dataframe thead th {\n",
       "        text-align: right;\n",
       "    }\n",
       "</style>\n",
       "<table border=\"1\" class=\"dataframe\">\n",
       "  <thead>\n",
       "    <tr style=\"text-align: right;\">\n",
       "      <th></th>\n",
       "      <th>Model</th>\n",
       "      <th>RMSE</th>\n",
       "    </tr>\n",
       "  </thead>\n",
       "  <tbody>\n",
       "    <tr>\n",
       "      <th>8</th>\n",
       "      <td>XGBoost (Tuned)</td>\n",
       "      <td>1729.911367</td>\n",
       "    </tr>\n",
       "    <tr>\n",
       "      <th>6</th>\n",
       "      <td>CatBoost (Tuned)</td>\n",
       "      <td>1746.856811</td>\n",
       "    </tr>\n",
       "    <tr>\n",
       "      <th>4</th>\n",
       "      <td>LightGBM (Tuned)</td>\n",
       "      <td>1759.542309</td>\n",
       "    </tr>\n",
       "    <tr>\n",
       "      <th>2</th>\n",
       "      <td>Random Forest (Tuned)</td>\n",
       "      <td>1774.352690</td>\n",
       "    </tr>\n",
       "    <tr>\n",
       "      <th>5</th>\n",
       "      <td>CatBoost</td>\n",
       "      <td>1789.220643</td>\n",
       "    </tr>\n",
       "    <tr>\n",
       "      <th>3</th>\n",
       "      <td>LightGBM</td>\n",
       "      <td>1804.539599</td>\n",
       "    </tr>\n",
       "    <tr>\n",
       "      <th>1</th>\n",
       "      <td>Random Forest</td>\n",
       "      <td>1811.441572</td>\n",
       "    </tr>\n",
       "    <tr>\n",
       "      <th>7</th>\n",
       "      <td>XGBoost</td>\n",
       "      <td>1812.545441</td>\n",
       "    </tr>\n",
       "    <tr>\n",
       "      <th>0</th>\n",
       "      <td>Linear Regression</td>\n",
       "      <td>3205.904803</td>\n",
       "    </tr>\n",
       "  </tbody>\n",
       "</table>\n",
       "</div>"
      ],
      "text/plain": [
       "                   Model         RMSE\n",
       "8        XGBoost (Tuned)  1729.911367\n",
       "6       CatBoost (Tuned)  1746.856811\n",
       "4       LightGBM (Tuned)  1759.542309\n",
       "2  Random Forest (Tuned)  1774.352690\n",
       "5               CatBoost  1789.220643\n",
       "3               LightGBM  1804.539599\n",
       "1          Random Forest  1811.441572\n",
       "7                XGBoost  1812.545441\n",
       "0      Linear Regression  3205.904803"
      ]
     },
     "metadata": {},
     "output_type": "display_data"
    }
   ],
   "source": [
    "display(model_analysis[['Model', 'RMSE']].sort_values(by='RMSE'))"
   ]
  },
  {
   "cell_type": "markdown",
   "metadata": {},
   "source": [
    "The analysis of the RMSE values reveals that the XGBoost (Tuned) model performs the best, with the lowest RMSE of 1729.91, indicating superior accuracy. The CatBoost (Tuned) model follows closely with an RMSE of 1746.86, demonstrating strong performance as well. The LightGBM (Tuned) model shows a slightly higher RMSE of 1759.54, but still outperforms the untuned versions of Random Forest and LightGBM. The Random Forest (Tuned) and CatBoost models show solid performance, with RMSE values of 1774.35 and 1789.22, respectively. Linear Regression, with the highest RMSE of 3205.90, clearly lags behind the other models, emphasizing the benefit of more complex algorithms for this task.\n",
    "\n",
    "Next, we'll rank the models based on their performance times to assess their efficiency."
   ]
  },
  {
   "cell_type": "code",
   "execution_count": 48,
   "metadata": {},
   "outputs": [
    {
     "data": {
      "text/html": [
       "<div>\n",
       "<style scoped>\n",
       "    .dataframe tbody tr th:only-of-type {\n",
       "        vertical-align: middle;\n",
       "    }\n",
       "\n",
       "    .dataframe tbody tr th {\n",
       "        vertical-align: top;\n",
       "    }\n",
       "\n",
       "    .dataframe thead th {\n",
       "        text-align: right;\n",
       "    }\n",
       "</style>\n",
       "<table border=\"1\" class=\"dataframe\">\n",
       "  <thead>\n",
       "    <tr style=\"text-align: right;\">\n",
       "      <th></th>\n",
       "      <th>Model</th>\n",
       "      <th>Total Time</th>\n",
       "    </tr>\n",
       "  </thead>\n",
       "  <tbody>\n",
       "    <tr>\n",
       "      <th>4</th>\n",
       "      <td>LightGBM (Tuned)</td>\n",
       "      <td>0.483758</td>\n",
       "    </tr>\n",
       "    <tr>\n",
       "      <th>3</th>\n",
       "      <td>LightGBM</td>\n",
       "      <td>0.712274</td>\n",
       "    </tr>\n",
       "    <tr>\n",
       "      <th>7</th>\n",
       "      <td>XGBoost</td>\n",
       "      <td>2.552591</td>\n",
       "    </tr>\n",
       "    <tr>\n",
       "      <th>0</th>\n",
       "      <td>Linear Regression</td>\n",
       "      <td>3.309130</td>\n",
       "    </tr>\n",
       "    <tr>\n",
       "      <th>8</th>\n",
       "      <td>XGBoost (Tuned)</td>\n",
       "      <td>8.995713</td>\n",
       "    </tr>\n",
       "    <tr>\n",
       "      <th>2</th>\n",
       "      <td>Random Forest (Tuned)</td>\n",
       "      <td>16.259062</td>\n",
       "    </tr>\n",
       "    <tr>\n",
       "      <th>5</th>\n",
       "      <td>CatBoost</td>\n",
       "      <td>23.315988</td>\n",
       "    </tr>\n",
       "    <tr>\n",
       "      <th>6</th>\n",
       "      <td>CatBoost (Tuned)</td>\n",
       "      <td>35.503537</td>\n",
       "    </tr>\n",
       "    <tr>\n",
       "      <th>1</th>\n",
       "      <td>Random Forest</td>\n",
       "      <td>40.124535</td>\n",
       "    </tr>\n",
       "  </tbody>\n",
       "</table>\n",
       "</div>"
      ],
      "text/plain": [
       "                   Model  Total Time\n",
       "4       LightGBM (Tuned)    0.483758\n",
       "3               LightGBM    0.712274\n",
       "7                XGBoost    2.552591\n",
       "0      Linear Regression    3.309130\n",
       "8        XGBoost (Tuned)    8.995713\n",
       "2  Random Forest (Tuned)   16.259062\n",
       "5               CatBoost   23.315988\n",
       "6       CatBoost (Tuned)   35.503537\n",
       "1          Random Forest   40.124535"
      ]
     },
     "metadata": {},
     "output_type": "display_data"
    }
   ],
   "source": [
    "display(model_analysis[['Model', 'Total Time']].sort_values(by='Total Time'))"
   ]
  },
  {
   "cell_type": "markdown",
   "metadata": {},
   "source": [
    "The performance time analysis shows that LightGBM is the fastest model, with the shortest total time of 0.49 seconds, followed by its tuned version at 0.77 seconds. XGBoost performs well in terms of speed, with the untuned version taking 2.35 seconds and the tuned version slightly longer at 8.17 seconds. Linear Regression, although accurate, is significantly slower with a total time of 5.54 seconds. The Random Forest models, particularly the tuned version at 17.80 seconds, and the CatBoost models, with times ranging from 26.52 to 32.85 seconds, are the slowest, highlighting their longer training and prediction times.\n",
    "\n",
    "Based on the analysis of RMSE and performance times for each model, we can conclude that the LightGBM model with tuned hyperparameters is the best choice for Rusty Bargain. Although the tuned CatBoost and XGBoost models demonstrate higher accuracy, LightGBM's performance time is significantly better, ranking second in speed among all models—just behind the untuned LightGBM. This balance of accuracy and efficiency makes the tuned LightGBM model the most suitable option for Rusty Bargain's needs.\n",
    "\n",
    "Let's now evaluate the model using the test data to verify the validity of our conclusion."
   ]
  },
  {
   "cell_type": "code",
   "execution_count": 49,
   "metadata": {},
   "outputs": [
    {
     "name": "stdout",
     "output_type": "stream",
     "text": [
      "LIGHTGBM (TUNED) TEST STATS:\n",
      "----------------------------\n",
      "RMSE: 1744.6336516329734\n",
      "Training Time: 0.43105173110961914\n",
      "Prediction Time: 0.22994017601013184\n",
      "Total Time: 0.660991907119751\n"
     ]
    }
   ],
   "source": [
    "# Record the start time for making predictions\n",
    "tuned_lgbm_final_prediction_start_time = time.time()\n",
    "\n",
    "# Generate predictions on the test set\n",
    "tuned_lgbm_final_predictions = tuned_lgbm_model.predict(features_test_cat)\n",
    "\n",
    "# Calculate the time taken to make predictions\n",
    "tuned_lgbm_final_prediction_time = time.time() - tuned_lgbm_final_prediction_start_time\n",
    "\n",
    "# Calculate the Root Mean Squared Error (RMSE) of the predictions\n",
    "tuned_lgbm_final_rmse = np.sqrt(mean_squared_error(target_test, tuned_lgbm_final_predictions))\n",
    "\n",
    "print(\"LIGHTGBM (TUNED) TEST STATS:\")\n",
    "print(\"----------------------------\")\n",
    "print(\"RMSE:\", tuned_lgbm_final_rmse)\n",
    "print(\"Training Time:\", tuned_lgbm_training_time)\n",
    "print(\"Prediction Time:\", tuned_lgbm_final_prediction_time)\n",
    "print(\"Total Time:\", tuned_lgbm_training_time + tuned_lgbm_final_prediction_time)"
   ]
  },
  {
   "cell_type": "markdown",
   "metadata": {},
   "source": [
    "The LightGBM model with tuned hyperparameters achieved an RMSE of 1744.63 on the test data, indicating strong performance and accuracy. The training time was 0.71 seconds, and the prediction time was 0.056 seconds, both of which are efficient and conducive to rapid model deployment. The total time of 0.76 seconds for processing is notably fast, making it a highly efficient choice for large-scale applications. These results reaffirm the model’s effectiveness, as it maintains high accuracy while delivering quick performance. Given these factors, the tuned LightGBM model continues to be an excellent choice for the Rusty Bargain project."
   ]
  },
  {
   "cell_type": "markdown",
   "metadata": {},
   "source": [
    "# Checklist"
   ]
  },
  {
   "cell_type": "markdown",
   "metadata": {},
   "source": [
    "Type 'x' to check. Then press Shift+Enter."
   ]
  },
  {
   "cell_type": "markdown",
   "metadata": {},
   "source": [
    "- [x]  Jupyter Notebook is open\n",
    "- [x]  Code is error free\n",
    "- [x]  The cells with the code have been arranged in order of execution\n",
    "- [x]  The data has been downloaded and prepared\n",
    "- [x]  The models have been trained\n",
    "- [x]  The analysis of speed and quality of the models has been performed"
   ]
  }
 ],
 "metadata": {
  "kernelspec": {
   "display_name": "Python 3 (ipykernel)",
   "language": "python",
   "name": "python3"
  },
  "language_info": {
   "codemirror_mode": {
    "name": "ipython",
    "version": 3
   },
   "file_extension": ".py",
   "mimetype": "text/x-python",
   "name": "python",
   "nbconvert_exporter": "python",
   "pygments_lexer": "ipython3",
   "version": "3.11.7"
  },
  "toc": {
   "base_numbering": 1,
   "nav_menu": {},
   "number_sections": true,
   "sideBar": true,
   "skip_h1_title": true,
   "title_cell": "Table of Contents",
   "title_sidebar": "Contents",
   "toc_cell": false,
   "toc_position": {},
   "toc_section_display": true,
   "toc_window_display": false
  }
 },
 "nbformat": 4,
 "nbformat_minor": 2
}
