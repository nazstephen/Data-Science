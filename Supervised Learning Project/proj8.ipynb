{
 "cells": [
  {
   "cell_type": "markdown",
   "metadata": {},
   "source": [
    "# Supervised Learning Project <a id='intro'></a>"
   ]
  },
  {
   "cell_type": "markdown",
   "metadata": {},
   "source": [
    "## Project Description\n",
    "\n",
    "Beta Bank customers are leaving: little by little, chipping away every month. The bankers figured out it’s cheaper to save the existing customers rather than to attract new ones.\n",
    "\n",
    "We need to predict whether a customer will leave the bank soon. You have the data on clients’ past behavior and termination of contracts with the bank.\n",
    "\n",
    "Build a model with the maximum possible F1 score. To pass the project, you need an F1 score of at least 0.59. Check the F1 for the test set.\n",
    "\n",
    "Additionally, measure the AUC-ROC metric and compare it with the F1.  \n",
    "\n",
    "## Project Instructions\n",
    "\n",
    "1) Download and prepare the data. Explain the procedure.\n",
    "2) Examine the balance of classes. Train the model without taking into account the imbalance. Briefly describe your findings.\n",
    "3) Improve the quality of the model. Make sure you use at least two approaches to fixing class imbalance. Use the training set to pick the best parameters. Train different models on training and validation sets. Find the best one. Briefly describe your findings.\n",
    "4) Perform the final testing.\n",
    "\n",
    "## Data Description\n",
    "\n",
    "The data can be found in `/datasets/Churn.csv` file.  \n",
    "\n",
    "### Features\n",
    "\n",
    "- **RowNumber** — data string index\n",
    "- **CustomerId** — unique customer identifier\n",
    "- **Surname** - surname\n",
    "- **CreditScore** — credit score\n",
    "- **Geography** — country of residence\n",
    "- **Gender** — gender\n",
    "- **Age** — age\n",
    "- **Tenure** — period of maturation for a customer’s fixed deposit (years)\n",
    "- **Balance** — account balance\n",
    "- **NumOfProducts** — number of banking products used by the customer\n",
    "- **HasCrCard** — customer has a credit card\n",
    "- **IsActiveMember** — customer’s activeness\n",
    "- **EstimatedSalary** — estimated salary\n",
    "\n",
    "### Target\n",
    "\n",
    "- **Exited** — сustomer has left\n"
   ]
  },
  {
   "cell_type": "markdown",
   "metadata": {},
   "source": [
    "## Initialization"
   ]
  },
  {
   "cell_type": "code",
   "execution_count": 1,
   "metadata": {},
   "outputs": [],
   "source": [
    "# Loading all the libraries\n",
    "import pandas as pd\n",
    "import numpy as np\n",
    "import matplotlib.pyplot as plt\n",
    "from sklearn.preprocessing import StandardScaler\n",
    "from sklearn.preprocessing import OrdinalEncoder\n",
    "from sklearn.linear_model import LogisticRegression\n",
    "from sklearn.tree import DecisionTreeClassifier\n",
    "from sklearn.ensemble import RandomForestClassifier\n",
    "from sklearn.model_selection import train_test_split\n",
    "from sklearn.metrics import accuracy_score\n",
    "from sklearn.metrics import recall_score\n",
    "from sklearn.metrics import precision_score\n",
    "from sklearn.metrics import f1_score\n",
    "from sklearn.metrics import roc_curve\n",
    "from sklearn.metrics import roc_auc_score\n",
    "from sklearn.utils import shuffle"
   ]
  },
  {
   "cell_type": "markdown",
   "metadata": {},
   "source": [
    "## Load Data"
   ]
  },
  {
   "cell_type": "code",
   "execution_count": 2,
   "metadata": {},
   "outputs": [
    {
     "name": "stdout",
     "output_type": "stream",
     "text": [
      "CSV file successfully read from the local path.\n"
     ]
    }
   ],
   "source": [
    "# Load 'Churn.csv' into a data frame\n",
    "try:\n",
    "    # Try to read the CSV file from the local path.\n",
    "    churn_df = pd.read_csv('/Users/benjaminstephen/Documents/TripleTen/Sprint_8/Supervised_Learning_Project/datasets/Churn.csv')\n",
    "except FileNotFoundError:\n",
    "    try:\n",
    "        # Try to read the CSV file from the server path\n",
    "        churn_df = pd.read_csv('/datasets/Churn.csv')\n",
    "        print(\"CSV file successfully read from the server path.\")\n",
    "    except FileNotFoundError:\n",
    "        print(\"CSV file not found. Please check the file paths.\")\n",
    "else:\n",
    "    print(\"CSV file successfully read from the local path.\")"
   ]
  },
  {
   "cell_type": "markdown",
   "metadata": {},
   "source": [
    "## Analyze & Prepare Data\n"
   ]
  },
  {
   "cell_type": "code",
   "execution_count": 3,
   "metadata": {},
   "outputs": [
    {
     "name": "stdout",
     "output_type": "stream",
     "text": [
      "CHURN DATA FRAME INFO:\n",
      "<class 'pandas.core.frame.DataFrame'>\n",
      "RangeIndex: 10000 entries, 0 to 9999\n",
      "Data columns (total 14 columns):\n",
      " #   Column           Non-Null Count  Dtype  \n",
      "---  ------           --------------  -----  \n",
      " 0   RowNumber        10000 non-null  int64  \n",
      " 1   CustomerId       10000 non-null  int64  \n",
      " 2   Surname          10000 non-null  object \n",
      " 3   CreditScore      10000 non-null  int64  \n",
      " 4   Geography        10000 non-null  object \n",
      " 5   Gender           10000 non-null  object \n",
      " 6   Age              10000 non-null  int64  \n",
      " 7   Tenure           9091 non-null   float64\n",
      " 8   Balance          10000 non-null  float64\n",
      " 9   NumOfProducts    10000 non-null  int64  \n",
      " 10  HasCrCard        10000 non-null  int64  \n",
      " 11  IsActiveMember   10000 non-null  int64  \n",
      " 12  EstimatedSalary  10000 non-null  float64\n",
      " 13  Exited           10000 non-null  int64  \n",
      "dtypes: float64(3), int64(8), object(3)\n",
      "memory usage: 1.1+ MB\n",
      "\n",
      "PERCENTAGE OF NULL VALUES:\n",
      "RowNumber          0.0000\n",
      "CustomerId         0.0000\n",
      "Surname            0.0000\n",
      "CreditScore        0.0000\n",
      "Geography          0.0000\n",
      "Gender             0.0000\n",
      "Age                0.0000\n",
      "Tenure             0.0909\n",
      "Balance            0.0000\n",
      "NumOfProducts      0.0000\n",
      "HasCrCard          0.0000\n",
      "IsActiveMember     0.0000\n",
      "EstimatedSalary    0.0000\n",
      "Exited             0.0000\n",
      "dtype: float64\n",
      "\n",
      "CHURN DATA FRAME:\n"
     ]
    },
    {
     "data": {
      "text/html": [
       "<div>\n",
       "<style scoped>\n",
       "    .dataframe tbody tr th:only-of-type {\n",
       "        vertical-align: middle;\n",
       "    }\n",
       "\n",
       "    .dataframe tbody tr th {\n",
       "        vertical-align: top;\n",
       "    }\n",
       "\n",
       "    .dataframe thead th {\n",
       "        text-align: right;\n",
       "    }\n",
       "</style>\n",
       "<table border=\"1\" class=\"dataframe\">\n",
       "  <thead>\n",
       "    <tr style=\"text-align: right;\">\n",
       "      <th></th>\n",
       "      <th>RowNumber</th>\n",
       "      <th>CustomerId</th>\n",
       "      <th>Surname</th>\n",
       "      <th>CreditScore</th>\n",
       "      <th>Geography</th>\n",
       "      <th>Gender</th>\n",
       "      <th>Age</th>\n",
       "      <th>Tenure</th>\n",
       "      <th>Balance</th>\n",
       "      <th>NumOfProducts</th>\n",
       "      <th>HasCrCard</th>\n",
       "      <th>IsActiveMember</th>\n",
       "      <th>EstimatedSalary</th>\n",
       "      <th>Exited</th>\n",
       "    </tr>\n",
       "  </thead>\n",
       "  <tbody>\n",
       "    <tr>\n",
       "      <th>0</th>\n",
       "      <td>1</td>\n",
       "      <td>15634602</td>\n",
       "      <td>Hargrave</td>\n",
       "      <td>619</td>\n",
       "      <td>France</td>\n",
       "      <td>Female</td>\n",
       "      <td>42</td>\n",
       "      <td>2.0</td>\n",
       "      <td>0.00</td>\n",
       "      <td>1</td>\n",
       "      <td>1</td>\n",
       "      <td>1</td>\n",
       "      <td>101348.88</td>\n",
       "      <td>1</td>\n",
       "    </tr>\n",
       "    <tr>\n",
       "      <th>1</th>\n",
       "      <td>2</td>\n",
       "      <td>15647311</td>\n",
       "      <td>Hill</td>\n",
       "      <td>608</td>\n",
       "      <td>Spain</td>\n",
       "      <td>Female</td>\n",
       "      <td>41</td>\n",
       "      <td>1.0</td>\n",
       "      <td>83807.86</td>\n",
       "      <td>1</td>\n",
       "      <td>0</td>\n",
       "      <td>1</td>\n",
       "      <td>112542.58</td>\n",
       "      <td>0</td>\n",
       "    </tr>\n",
       "    <tr>\n",
       "      <th>2</th>\n",
       "      <td>3</td>\n",
       "      <td>15619304</td>\n",
       "      <td>Onio</td>\n",
       "      <td>502</td>\n",
       "      <td>France</td>\n",
       "      <td>Female</td>\n",
       "      <td>42</td>\n",
       "      <td>8.0</td>\n",
       "      <td>159660.80</td>\n",
       "      <td>3</td>\n",
       "      <td>1</td>\n",
       "      <td>0</td>\n",
       "      <td>113931.57</td>\n",
       "      <td>1</td>\n",
       "    </tr>\n",
       "    <tr>\n",
       "      <th>3</th>\n",
       "      <td>4</td>\n",
       "      <td>15701354</td>\n",
       "      <td>Boni</td>\n",
       "      <td>699</td>\n",
       "      <td>France</td>\n",
       "      <td>Female</td>\n",
       "      <td>39</td>\n",
       "      <td>1.0</td>\n",
       "      <td>0.00</td>\n",
       "      <td>2</td>\n",
       "      <td>0</td>\n",
       "      <td>0</td>\n",
       "      <td>93826.63</td>\n",
       "      <td>0</td>\n",
       "    </tr>\n",
       "    <tr>\n",
       "      <th>4</th>\n",
       "      <td>5</td>\n",
       "      <td>15737888</td>\n",
       "      <td>Mitchell</td>\n",
       "      <td>850</td>\n",
       "      <td>Spain</td>\n",
       "      <td>Female</td>\n",
       "      <td>43</td>\n",
       "      <td>2.0</td>\n",
       "      <td>125510.82</td>\n",
       "      <td>1</td>\n",
       "      <td>1</td>\n",
       "      <td>1</td>\n",
       "      <td>79084.10</td>\n",
       "      <td>0</td>\n",
       "    </tr>\n",
       "    <tr>\n",
       "      <th>...</th>\n",
       "      <td>...</td>\n",
       "      <td>...</td>\n",
       "      <td>...</td>\n",
       "      <td>...</td>\n",
       "      <td>...</td>\n",
       "      <td>...</td>\n",
       "      <td>...</td>\n",
       "      <td>...</td>\n",
       "      <td>...</td>\n",
       "      <td>...</td>\n",
       "      <td>...</td>\n",
       "      <td>...</td>\n",
       "      <td>...</td>\n",
       "      <td>...</td>\n",
       "    </tr>\n",
       "    <tr>\n",
       "      <th>9995</th>\n",
       "      <td>9996</td>\n",
       "      <td>15606229</td>\n",
       "      <td>Obijiaku</td>\n",
       "      <td>771</td>\n",
       "      <td>France</td>\n",
       "      <td>Male</td>\n",
       "      <td>39</td>\n",
       "      <td>5.0</td>\n",
       "      <td>0.00</td>\n",
       "      <td>2</td>\n",
       "      <td>1</td>\n",
       "      <td>0</td>\n",
       "      <td>96270.64</td>\n",
       "      <td>0</td>\n",
       "    </tr>\n",
       "    <tr>\n",
       "      <th>9996</th>\n",
       "      <td>9997</td>\n",
       "      <td>15569892</td>\n",
       "      <td>Johnstone</td>\n",
       "      <td>516</td>\n",
       "      <td>France</td>\n",
       "      <td>Male</td>\n",
       "      <td>35</td>\n",
       "      <td>10.0</td>\n",
       "      <td>57369.61</td>\n",
       "      <td>1</td>\n",
       "      <td>1</td>\n",
       "      <td>1</td>\n",
       "      <td>101699.77</td>\n",
       "      <td>0</td>\n",
       "    </tr>\n",
       "    <tr>\n",
       "      <th>9997</th>\n",
       "      <td>9998</td>\n",
       "      <td>15584532</td>\n",
       "      <td>Liu</td>\n",
       "      <td>709</td>\n",
       "      <td>France</td>\n",
       "      <td>Female</td>\n",
       "      <td>36</td>\n",
       "      <td>7.0</td>\n",
       "      <td>0.00</td>\n",
       "      <td>1</td>\n",
       "      <td>0</td>\n",
       "      <td>1</td>\n",
       "      <td>42085.58</td>\n",
       "      <td>1</td>\n",
       "    </tr>\n",
       "    <tr>\n",
       "      <th>9998</th>\n",
       "      <td>9999</td>\n",
       "      <td>15682355</td>\n",
       "      <td>Sabbatini</td>\n",
       "      <td>772</td>\n",
       "      <td>Germany</td>\n",
       "      <td>Male</td>\n",
       "      <td>42</td>\n",
       "      <td>3.0</td>\n",
       "      <td>75075.31</td>\n",
       "      <td>2</td>\n",
       "      <td>1</td>\n",
       "      <td>0</td>\n",
       "      <td>92888.52</td>\n",
       "      <td>1</td>\n",
       "    </tr>\n",
       "    <tr>\n",
       "      <th>9999</th>\n",
       "      <td>10000</td>\n",
       "      <td>15628319</td>\n",
       "      <td>Walker</td>\n",
       "      <td>792</td>\n",
       "      <td>France</td>\n",
       "      <td>Female</td>\n",
       "      <td>28</td>\n",
       "      <td>NaN</td>\n",
       "      <td>130142.79</td>\n",
       "      <td>1</td>\n",
       "      <td>1</td>\n",
       "      <td>0</td>\n",
       "      <td>38190.78</td>\n",
       "      <td>0</td>\n",
       "    </tr>\n",
       "  </tbody>\n",
       "</table>\n",
       "<p>10000 rows × 14 columns</p>\n",
       "</div>"
      ],
      "text/plain": [
       "      RowNumber  CustomerId    Surname  CreditScore Geography  Gender  Age  \\\n",
       "0             1    15634602   Hargrave          619    France  Female   42   \n",
       "1             2    15647311       Hill          608     Spain  Female   41   \n",
       "2             3    15619304       Onio          502    France  Female   42   \n",
       "3             4    15701354       Boni          699    France  Female   39   \n",
       "4             5    15737888   Mitchell          850     Spain  Female   43   \n",
       "...         ...         ...        ...          ...       ...     ...  ...   \n",
       "9995       9996    15606229   Obijiaku          771    France    Male   39   \n",
       "9996       9997    15569892  Johnstone          516    France    Male   35   \n",
       "9997       9998    15584532        Liu          709    France  Female   36   \n",
       "9998       9999    15682355  Sabbatini          772   Germany    Male   42   \n",
       "9999      10000    15628319     Walker          792    France  Female   28   \n",
       "\n",
       "      Tenure    Balance  NumOfProducts  HasCrCard  IsActiveMember  \\\n",
       "0        2.0       0.00              1          1               1   \n",
       "1        1.0   83807.86              1          0               1   \n",
       "2        8.0  159660.80              3          1               0   \n",
       "3        1.0       0.00              2          0               0   \n",
       "4        2.0  125510.82              1          1               1   \n",
       "...      ...        ...            ...        ...             ...   \n",
       "9995     5.0       0.00              2          1               0   \n",
       "9996    10.0   57369.61              1          1               1   \n",
       "9997     7.0       0.00              1          0               1   \n",
       "9998     3.0   75075.31              2          1               0   \n",
       "9999     NaN  130142.79              1          1               0   \n",
       "\n",
       "      EstimatedSalary  Exited  \n",
       "0           101348.88       1  \n",
       "1           112542.58       0  \n",
       "2           113931.57       1  \n",
       "3            93826.63       0  \n",
       "4            79084.10       0  \n",
       "...               ...     ...  \n",
       "9995         96270.64       0  \n",
       "9996        101699.77       0  \n",
       "9997         42085.58       1  \n",
       "9998         92888.52       1  \n",
       "9999         38190.78       0  \n",
       "\n",
       "[10000 rows x 14 columns]"
      ]
     },
     "metadata": {},
     "output_type": "display_data"
    },
    {
     "name": "stdout",
     "output_type": "stream",
     "text": [
      "\n"
     ]
    }
   ],
   "source": [
    "# Print the general/summary information about 'users_behavior_df'\n",
    "print(\"CHURN DATA FRAME INFO:\")\n",
    "churn_df.info()\n",
    "print()\n",
    "\n",
    "print(\"PERCENTAGE OF NULL VALUES:\")\n",
    "print(churn_df.isnull().sum()/len(churn_df))\n",
    "print()\n",
    "\n",
    "print(\"CHURN DATA FRAME:\")\n",
    "display(churn_df)\n",
    "print()"
   ]
  },
  {
   "cell_type": "markdown",
   "metadata": {},
   "source": [
    "The dataset contains 10,000 entries across 14 columns, consisting of integer, float, and object data types. All columns are appropriately defined, ensuring data integrity and suitability for analysis. The 'Tenure' column is the only one with missing values, totaling 909 missing entries, which will be imputed using the median value of the column."
   ]
  },
  {
   "cell_type": "code",
   "execution_count": 4,
   "metadata": {},
   "outputs": [
    {
     "name": "stdout",
     "output_type": "stream",
     "text": [
      "Number of missing 'Tenure' values: 0\n"
     ]
    }
   ],
   "source": [
    "# Calculate the median of the 'Tenure' column\n",
    "median_tenure = churn_df['Tenure'].median()\n",
    "\n",
    "# Fill missing values in the 'Tenure' column with the calculated median\n",
    "churn_df['Tenure'].fillna(median_tenure, inplace=True)\n",
    "\n",
    "# Verify that there are no more missing values in 'Tenure'\n",
    "print(\"Number of missing 'Tenure' values:\", churn_df['Tenure'].isnull().sum())"
   ]
  },
  {
   "cell_type": "markdown",
   "metadata": {},
   "source": [
    "Regarding the target variable 'Exited', it comprises integer values (int64) with precisely two unique values: 0 and 1. These values signify customers who have not exited (0) and those who have exited (1), establishing a clear binary classification task for predictive modeling.\n",
    "\n",
    "With a comprehensive understanding of the dataset's structure and the nature of the target variable, we are well-positioned to proceed with preprocessing steps such as imputation and feature engineering, followed by model building and evaluation. This structured approach ensures that the predictive models developed will effectively address the business problem of identifying potential churners and aid in implementing proactive retention strategies."
   ]
  },
  {
   "cell_type": "markdown",
   "metadata": {},
   "source": [
    "## Define Functions"
   ]
  },
  {
   "cell_type": "code",
   "execution_count": 5,
   "metadata": {},
   "outputs": [],
   "source": [
    "# Split Data Function\n",
    "def split_data(df):\n",
    "    # Extract features by dropping irrelevant columns 'Exited', 'Surname', 'RowNumber', and 'CustomerId'\n",
    "    features = df.drop(['Exited', 'Surname', 'RowNumber', 'CustomerId'], axis=1)\n",
    "\n",
    "    # Extract the target variable 'Exited'\n",
    "    target = df['Exited']\n",
    "\n",
    "    # Split data: 60% for training, 20% for validation, and 20% for testing\n",
    "    features_train, features_temp, target_train, target_temp = train_test_split(\n",
    "        features, \n",
    "        target, \n",
    "        test_size=0.4, \n",
    "        random_state=12345)\n",
    "\n",
    "    # Further split the remaining 40% into validation (20%) and test (20%) sets\n",
    "    features_valid, features_test, target_valid, target_test = train_test_split(\n",
    "        features_temp, \n",
    "        target_temp, \n",
    "        test_size=0.5, \n",
    "        random_state=12345)\n",
    "    \n",
    "    return features_train, target_train, features_valid, target_valid, features_test, target_test\n",
    "\n",
    "# Set Size Function\n",
    "def set_size(features_train, target_train, features_valid, target_valid, features_test, target_test):\n",
    "    # Print sizes of training, validation, and test sets\n",
    "    print('Training Feature Set Size:', features_train.shape)\n",
    "    print('Training Target Set Size:', target_train.shape)\n",
    "    print()\n",
    "    print('Validation Feature Set Size:', features_valid.shape)\n",
    "    print('Validation Target Set Size:', target_valid.shape)\n",
    "    print()\n",
    "    print('Test Feature Set Size:', features_test.shape)\n",
    "    print('Test Target Set Size:', target_test.shape)\n",
    "    \n",
    "\n",
    "# Metrics Function\n",
    "def metric(target, prediction):\n",
    "    # Calculate and return accuracy, recall, precision, and F1 scores\n",
    "    accuracy = accuracy_score(target, prediction)\n",
    "    recall = recall_score(target, prediction)\n",
    "    precision = precision_score(target, prediction)\n",
    "    f1 = f1_score(target, prediction)\n",
    "\n",
    "    return accuracy, recall, precision, f1 \n",
    "\n",
    "# Print Metrics Function\n",
    "def print_metrics(accuracy, recall, precision, f1):\n",
    "    # Print accuracy, recall, precision, and F1 scores\n",
    "    print(\"Accuracy Score:\", accuracy)\n",
    "    print(\"Recall Score:\", recall)\n",
    "    print(\"Precision Score:\", precision)\n",
    "    print(\"F1 Score:\", f1)\n",
    "\n",
    "# Downsample Function\n",
    "def downsample(features, target, fraction):\n",
    "    # Separate features and target for both classes (0 and 1)\n",
    "    features_zeros = features[target == 0]\n",
    "    features_ones = features[target == 1]\n",
    "    target_zeros = target[target == 0]\n",
    "    target_ones = target[target == 1]\n",
    "\n",
    "    # Downsample the majority class (class 0) to match the minority class (class 1)\n",
    "    features_downsampled = pd.concat(\n",
    "        [features_zeros.sample(frac=fraction, random_state=12345)]\n",
    "        + [features_ones]\n",
    "    )\n",
    "    target_downsampled = pd.concat(\n",
    "        [target_zeros.sample(frac=fraction, random_state=12345)]\n",
    "        + [target_ones]\n",
    "    )\n",
    "\n",
    "    # Shuffle the downsampled data to mix the classes\n",
    "    features_downsampled, target_downsampled = shuffle(\n",
    "        features_downsampled, target_downsampled, random_state=12345\n",
    "    )\n",
    "\n",
    "    return features_downsampled, target_downsampled\n",
    "\n",
    "# Upsample Function\n",
    "def upsample(features, target, repeat):\n",
    "    # Separate features and target for both classes (0 and 1)\n",
    "    features_zeros = features[target == 0]\n",
    "    features_ones = features[target == 1]\n",
    "    target_zeros = target[target == 0]\n",
    "    target_ones = target[target == 1]\n",
    "\n",
    "    # Upsample the minority class (class 1) by repeating instances\n",
    "    features_upsampled = pd.concat([features_zeros] + [features_ones] * repeat)\n",
    "    target_upsampled = pd.concat([target_zeros] + [target_ones] * repeat)\n",
    "\n",
    "    # Shuffle the upsampled data to mix the classes\n",
    "    features_upsampled, target_upsampled = shuffle(\n",
    "        features_upsampled, target_upsampled, random_state=12345\n",
    "    )\n",
    "\n",
    "    return features_upsampled, target_upsampled\n",
    "\n",
    "# Decision Tree Validation Function\n",
    "def decision_tree_validation(features_train, target_train, features_valid, target_valid):\n",
    "    best_accuracy = 0\n",
    "    best_recall = 0\n",
    "    best_precision = 0\n",
    "    best_f1 = 0\n",
    "    best_depth = 0\n",
    "    \n",
    "    # Iterate over different depths for Decision Tree model\n",
    "    for depth in range(1, 11):\n",
    "        # Create Decision Tree model with specified max_depth\n",
    "        model = DecisionTreeClassifier(random_state=12345, max_depth=depth)\n",
    "    \n",
    "        # Train the model on training set\n",
    "        model.fit(features_train, target_train)\n",
    "\n",
    "        # Predict on validation set and calculate metrics\n",
    "        predicted_valid = model.predict(features_valid)\n",
    "        accuracy, recall, precision, f1 = metric(target_valid, predicted_valid)\n",
    "        \n",
    "        # Update best metrics if current F1 score is better\n",
    "        if f1 > best_f1:\n",
    "            best_accuracy = accuracy\n",
    "            best_recall = recall\n",
    "            best_precision = precision\n",
    "            best_f1 = f1\n",
    "            best_depth = depth\n",
    "\n",
    "    return best_accuracy, best_recall, best_precision, best_f1, best_depth, model\n",
    "\n",
    "# Random Forest Validation Function\n",
    "def random_forest_validation(features_train, target_train, features_valid, target_valid):\n",
    "    best_accuracy = 0\n",
    "    best_recall = 0\n",
    "    best_precision = 0\n",
    "    best_f1 = 0\n",
    "    best_depth = 0\n",
    "    best_est = 0\n",
    "    \n",
    "    # Iterate over different depths and number of estimators for Random Forest model\n",
    "    for depth in range(1, 11):\n",
    "        for est in range(1, 36):\n",
    "            # Create Random Forest model with specified max_depth and n_estimators\n",
    "            model = RandomForestClassifier(random_state=12345, max_depth=depth, n_estimators=est)\n",
    "    \n",
    "            # Train the model on training set\n",
    "            model.fit(features_train, target_train)\n",
    "\n",
    "            # Predict on validation set and calculate metrics\n",
    "            predicted_valid = model.predict(features_valid)\n",
    "            accuracy, recall, precision, f1 = metric(target_valid, predicted_valid)\n",
    "        \n",
    "            # Update best metrics if current F1 score is better\n",
    "            if f1 > best_f1:\n",
    "                best_accuracy = accuracy\n",
    "                best_recall = recall\n",
    "                best_precision = precision\n",
    "                best_f1 = f1\n",
    "                best_depth = depth\n",
    "                best_est = est\n",
    "\n",
    "    return best_accuracy, best_recall, best_precision, best_f1, best_depth, best_est, model\n",
    "\n",
    "# AUC-ROC Function\n",
    "def auc_roc(model, features, target):\n",
    "    # Predict probabilities for target class 1\n",
    "    probabilities_test = model.predict_proba(features)\n",
    "    probabilities_one_valid = probabilities_test[:, 1]\n",
    "\n",
    "    # Calculate AUC-ROC score\n",
    "    auc_roc = roc_auc_score(target, probabilities_one_valid)\n",
    "    print(\"AUC-ROC:\", auc_roc)\n",
    "\n",
    "    # Compute ROC curve\n",
    "    fpr, tpr, thresholds = roc_curve(target, probabilities_one_valid)\n",
    "\n",
    "    # Plot ROC curve\n",
    "    plt.figure()\n",
    "    plt.plot(fpr, tpr, label='ROC curve')\n",
    "    plt.plot([0, 1], [0, 1], linestyle='--')  # ROC curve for random model\n",
    "    plt.xlim([0.0, 1.0])\n",
    "    plt.ylim([0.0, 1.0])\n",
    "    plt.xlabel('False Positive Rate')\n",
    "    plt.ylabel('True Positive Rate')\n",
    "    plt.title('ROC curve')\n",
    "    plt.show()"
   ]
  },
  {
   "cell_type": "markdown",
   "metadata": {},
   "source": [
    "## Feature Preparation\n",
    "\n",
    "In our investigation, we will utilize three models: Logistic Regression, Decision Tree, and Random Forest. To ensure optimal performance, we need to prepare the features appropriately for each model, recognizing that Logistic Regression requires a different approach than the tree-based models."
   ]
  },
  {
   "cell_type": "markdown",
   "metadata": {},
   "source": [
    "### One-Hot Encoding (For Logistic Regression Model)\n",
    "\n",
    "Logistic Regression relies on a mathematical formula comprising numerical features to determine the category. Therefore, it is essential to one-hot encode the categorical features 'Geography' and 'Gender', as these are the only non-numerical variables in our dataset.\n",
    "\n",
    "Moreover, Logistic Regression, like many linear models, is sensitive to the scale of input features. Features with different scales can bias the model towards those with larger ranges, impacting the coefficients and overall performance. Consequently, we will scale all the features used in the Logistic Regression model to ensure a consistent and unbiased evaluation. \n",
    "\n",
    "After feature preparation is accomplished, we will splait the data appropriately: 60% for training, 20% for validation, and 20% for testing."
   ]
  },
  {
   "cell_type": "code",
   "execution_count": 6,
   "metadata": {},
   "outputs": [
    {
     "name": "stdout",
     "output_type": "stream",
     "text": [
      "Training Feature Set Size: (6000, 11)\n",
      "Training Target Set Size: (6000,)\n",
      "\n",
      "Validation Feature Set Size: (2000, 11)\n",
      "Validation Target Set Size: (2000,)\n",
      "\n",
      "Test Feature Set Size: (2000, 11)\n",
      "Test Target Set Size: (2000,)\n"
     ]
    },
    {
     "data": {
      "text/html": [
       "<div>\n",
       "<style scoped>\n",
       "    .dataframe tbody tr th:only-of-type {\n",
       "        vertical-align: middle;\n",
       "    }\n",
       "\n",
       "    .dataframe tbody tr th {\n",
       "        vertical-align: top;\n",
       "    }\n",
       "\n",
       "    .dataframe thead th {\n",
       "        text-align: right;\n",
       "    }\n",
       "</style>\n",
       "<table border=\"1\" class=\"dataframe\">\n",
       "  <thead>\n",
       "    <tr style=\"text-align: right;\">\n",
       "      <th></th>\n",
       "      <th>CreditScore</th>\n",
       "      <th>Age</th>\n",
       "      <th>Tenure</th>\n",
       "      <th>Balance</th>\n",
       "      <th>NumOfProducts</th>\n",
       "      <th>HasCrCard</th>\n",
       "      <th>IsActiveMember</th>\n",
       "      <th>EstimatedSalary</th>\n",
       "      <th>Geography_Germany</th>\n",
       "      <th>Geography_Spain</th>\n",
       "      <th>Gender_Male</th>\n",
       "    </tr>\n",
       "  </thead>\n",
       "  <tbody>\n",
       "    <tr>\n",
       "      <th>7479</th>\n",
       "      <td>-0.886751</td>\n",
       "      <td>-0.373192</td>\n",
       "      <td>8.0</td>\n",
       "      <td>1.232271</td>\n",
       "      <td>1</td>\n",
       "      <td>1</td>\n",
       "      <td>0</td>\n",
       "      <td>-0.187705</td>\n",
       "      <td>0</td>\n",
       "      <td>1</td>\n",
       "      <td>1</td>\n",
       "    </tr>\n",
       "    <tr>\n",
       "      <th>3411</th>\n",
       "      <td>0.608663</td>\n",
       "      <td>-0.183385</td>\n",
       "      <td>8.0</td>\n",
       "      <td>0.600563</td>\n",
       "      <td>1</td>\n",
       "      <td>0</td>\n",
       "      <td>0</td>\n",
       "      <td>-0.333945</td>\n",
       "      <td>0</td>\n",
       "      <td>0</td>\n",
       "      <td>0</td>\n",
       "    </tr>\n",
       "    <tr>\n",
       "      <th>6027</th>\n",
       "      <td>2.052152</td>\n",
       "      <td>0.480939</td>\n",
       "      <td>3.0</td>\n",
       "      <td>1.027098</td>\n",
       "      <td>2</td>\n",
       "      <td>0</td>\n",
       "      <td>1</td>\n",
       "      <td>1.503095</td>\n",
       "      <td>1</td>\n",
       "      <td>0</td>\n",
       "      <td>1</td>\n",
       "    </tr>\n",
       "    <tr>\n",
       "      <th>1247</th>\n",
       "      <td>-1.457915</td>\n",
       "      <td>-1.417129</td>\n",
       "      <td>6.0</td>\n",
       "      <td>-1.233163</td>\n",
       "      <td>2</td>\n",
       "      <td>1</td>\n",
       "      <td>0</td>\n",
       "      <td>-1.071061</td>\n",
       "      <td>0</td>\n",
       "      <td>0</td>\n",
       "      <td>1</td>\n",
       "    </tr>\n",
       "    <tr>\n",
       "      <th>3716</th>\n",
       "      <td>0.130961</td>\n",
       "      <td>-1.132419</td>\n",
       "      <td>2.0</td>\n",
       "      <td>1.140475</td>\n",
       "      <td>1</td>\n",
       "      <td>0</td>\n",
       "      <td>0</td>\n",
       "      <td>1.524268</td>\n",
       "      <td>1</td>\n",
       "      <td>0</td>\n",
       "      <td>0</td>\n",
       "    </tr>\n",
       "    <tr>\n",
       "      <th>...</th>\n",
       "      <td>...</td>\n",
       "      <td>...</td>\n",
       "      <td>...</td>\n",
       "      <td>...</td>\n",
       "      <td>...</td>\n",
       "      <td>...</td>\n",
       "      <td>...</td>\n",
       "      <td>...</td>\n",
       "      <td>...</td>\n",
       "      <td>...</td>\n",
       "      <td>...</td>\n",
       "    </tr>\n",
       "    <tr>\n",
       "      <th>4478</th>\n",
       "      <td>-1.073677</td>\n",
       "      <td>-0.752805</td>\n",
       "      <td>4.0</td>\n",
       "      <td>-1.233163</td>\n",
       "      <td>2</td>\n",
       "      <td>0</td>\n",
       "      <td>1</td>\n",
       "      <td>-1.278361</td>\n",
       "      <td>0</td>\n",
       "      <td>0</td>\n",
       "      <td>1</td>\n",
       "    </tr>\n",
       "    <tr>\n",
       "      <th>4094</th>\n",
       "      <td>-1.447531</td>\n",
       "      <td>-0.942612</td>\n",
       "      <td>10.0</td>\n",
       "      <td>-1.233163</td>\n",
       "      <td>2</td>\n",
       "      <td>0</td>\n",
       "      <td>1</td>\n",
       "      <td>-1.281307</td>\n",
       "      <td>0</td>\n",
       "      <td>0</td>\n",
       "      <td>1</td>\n",
       "    </tr>\n",
       "    <tr>\n",
       "      <th>3492</th>\n",
       "      <td>0.027113</td>\n",
       "      <td>0.575842</td>\n",
       "      <td>5.0</td>\n",
       "      <td>-0.310229</td>\n",
       "      <td>1</td>\n",
       "      <td>0</td>\n",
       "      <td>1</td>\n",
       "      <td>-0.903158</td>\n",
       "      <td>0</td>\n",
       "      <td>0</td>\n",
       "      <td>0</td>\n",
       "    </tr>\n",
       "    <tr>\n",
       "      <th>2177</th>\n",
       "      <td>0.151731</td>\n",
       "      <td>-1.417129</td>\n",
       "      <td>4.0</td>\n",
       "      <td>-1.233163</td>\n",
       "      <td>2</td>\n",
       "      <td>0</td>\n",
       "      <td>1</td>\n",
       "      <td>-1.128539</td>\n",
       "      <td>0</td>\n",
       "      <td>0</td>\n",
       "      <td>0</td>\n",
       "    </tr>\n",
       "    <tr>\n",
       "      <th>4578</th>\n",
       "      <td>0.400966</td>\n",
       "      <td>-0.088482</td>\n",
       "      <td>1.0</td>\n",
       "      <td>-1.233163</td>\n",
       "      <td>2</td>\n",
       "      <td>0</td>\n",
       "      <td>0</td>\n",
       "      <td>-0.949841</td>\n",
       "      <td>0</td>\n",
       "      <td>0</td>\n",
       "      <td>1</td>\n",
       "    </tr>\n",
       "  </tbody>\n",
       "</table>\n",
       "<p>6000 rows × 11 columns</p>\n",
       "</div>"
      ],
      "text/plain": [
       "      CreditScore       Age  Tenure   Balance  NumOfProducts  HasCrCard  \\\n",
       "7479    -0.886751 -0.373192     8.0  1.232271              1          1   \n",
       "3411     0.608663 -0.183385     8.0  0.600563              1          0   \n",
       "6027     2.052152  0.480939     3.0  1.027098              2          0   \n",
       "1247    -1.457915 -1.417129     6.0 -1.233163              2          1   \n",
       "3716     0.130961 -1.132419     2.0  1.140475              1          0   \n",
       "...           ...       ...     ...       ...            ...        ...   \n",
       "4478    -1.073677 -0.752805     4.0 -1.233163              2          0   \n",
       "4094    -1.447531 -0.942612    10.0 -1.233163              2          0   \n",
       "3492     0.027113  0.575842     5.0 -0.310229              1          0   \n",
       "2177     0.151731 -1.417129     4.0 -1.233163              2          0   \n",
       "4578     0.400966 -0.088482     1.0 -1.233163              2          0   \n",
       "\n",
       "      IsActiveMember  EstimatedSalary  Geography_Germany  Geography_Spain  \\\n",
       "7479               0        -0.187705                  0                1   \n",
       "3411               0        -0.333945                  0                0   \n",
       "6027               1         1.503095                  1                0   \n",
       "1247               0        -1.071061                  0                0   \n",
       "3716               0         1.524268                  1                0   \n",
       "...              ...              ...                ...              ...   \n",
       "4478               1        -1.278361                  0                0   \n",
       "4094               1        -1.281307                  0                0   \n",
       "3492               1        -0.903158                  0                0   \n",
       "2177               1        -1.128539                  0                0   \n",
       "4578               0        -0.949841                  0                0   \n",
       "\n",
       "      Gender_Male  \n",
       "7479            1  \n",
       "3411            0  \n",
       "6027            1  \n",
       "1247            1  \n",
       "3716            0  \n",
       "...           ...  \n",
       "4478            1  \n",
       "4094            1  \n",
       "3492            0  \n",
       "2177            0  \n",
       "4578            1  \n",
       "\n",
       "[6000 rows x 11 columns]"
      ]
     },
     "metadata": {},
     "output_type": "display_data"
    }
   ],
   "source": [
    "# One-Hot Encode the dataset, making sure to avoid falling into the dummy variable trap\n",
    "data_ohe = pd.get_dummies(churn_df, columns=['Geography', 'Gender'], drop_first=True)\n",
    "\n",
    "# Split the data into training, validation, and testing sets\n",
    "features_train_ohe, target_train_ohe, features_valid_ohe, target_valid_ohe, features_test_ohe, target_test_ohe = split_data(data_ohe)\n",
    "\n",
    "# Display the size of each split to ensure they are correct (60% training, 20% validation, 20% testing)\n",
    "set_size(features_train_ohe, target_train_ohe, features_valid_ohe, target_valid_ohe, features_test_ohe, target_test_ohe)\n",
    "\n",
    "# Define the numeric features that need to be scaled\n",
    "numeric = ['CreditScore', 'Age', 'Balance', 'EstimatedSalary']\n",
    "\n",
    "# Suppress SettingWithCopyWarning for chained assignments\n",
    "pd.options.mode.chained_assignment = None\n",
    "\n",
    "# Initialize the StandardScaler\n",
    "scaler = StandardScaler()\n",
    "\n",
    "# Fit the scaler on the training data\n",
    "scaler.fit(features_train_ohe[numeric])\n",
    "\n",
    "# Scale the numeric features in the training, validation, and testing sets\n",
    "features_train_ohe[numeric] = scaler.transform(features_train_ohe[numeric])\n",
    "features_valid_ohe[numeric] = scaler.transform(features_valid_ohe[numeric])\n",
    "features_test_ohe[numeric] = scaler.transform(features_test_ohe[numeric])\n",
    "\n",
    "# Display the training features to check the encoding and scaling\n",
    "display(features_train_ohe)"
   ]
  },
  {
   "cell_type": "markdown",
   "metadata": {},
   "source": [
    "### Label Encoding (For Tree Models) [Decision Tree & Random Forest]\n",
    "\n",
    "Next, we will focus on feature preparation for the tree-based models: Decision Tree and Random Forest. These algorithms are well-suited for handling label-encoded categorical features ('Georgraphy' and 'Gender' in this case) because they split nodes based on feature values rather than their numerical representations. Decision Trees and Random Forests can effectively utilize label-encoded features since they employ inequalities to split nodes and do not assume a linear relationship between the feature values.\n",
    "\n",
    "As with Logistic Regression, we will split the data into appropriate subsets after feature processing: 60% for training, 20% for validation, and 20% for testing."
   ]
  },
  {
   "cell_type": "code",
   "execution_count": 7,
   "metadata": {},
   "outputs": [
    {
     "name": "stdout",
     "output_type": "stream",
     "text": [
      "Training Feature Set Size: (6000, 10)\n",
      "Training Target Set Size: (6000,)\n",
      "\n",
      "Validation Feature Set Size: (2000, 10)\n",
      "Validation Target Set Size: (2000,)\n",
      "\n",
      "Test Feature Set Size: (2000, 10)\n",
      "Test Target Set Size: (2000,)\n"
     ]
    },
    {
     "data": {
      "text/html": [
       "<div>\n",
       "<style scoped>\n",
       "    .dataframe tbody tr th:only-of-type {\n",
       "        vertical-align: middle;\n",
       "    }\n",
       "\n",
       "    .dataframe tbody tr th {\n",
       "        vertical-align: top;\n",
       "    }\n",
       "\n",
       "    .dataframe thead th {\n",
       "        text-align: right;\n",
       "    }\n",
       "</style>\n",
       "<table border=\"1\" class=\"dataframe\">\n",
       "  <thead>\n",
       "    <tr style=\"text-align: right;\">\n",
       "      <th></th>\n",
       "      <th>CreditScore</th>\n",
       "      <th>Geography</th>\n",
       "      <th>Gender</th>\n",
       "      <th>Age</th>\n",
       "      <th>Tenure</th>\n",
       "      <th>Balance</th>\n",
       "      <th>NumOfProducts</th>\n",
       "      <th>HasCrCard</th>\n",
       "      <th>IsActiveMember</th>\n",
       "      <th>EstimatedSalary</th>\n",
       "    </tr>\n",
       "  </thead>\n",
       "  <tbody>\n",
       "    <tr>\n",
       "      <th>7479</th>\n",
       "      <td>567</td>\n",
       "      <td>2.0</td>\n",
       "      <td>1.0</td>\n",
       "      <td>35</td>\n",
       "      <td>8.0</td>\n",
       "      <td>153137.74</td>\n",
       "      <td>1</td>\n",
       "      <td>1</td>\n",
       "      <td>0</td>\n",
       "      <td>88659.07</td>\n",
       "    </tr>\n",
       "    <tr>\n",
       "      <th>3411</th>\n",
       "      <td>711</td>\n",
       "      <td>0.0</td>\n",
       "      <td>0.0</td>\n",
       "      <td>37</td>\n",
       "      <td>8.0</td>\n",
       "      <td>113899.92</td>\n",
       "      <td>1</td>\n",
       "      <td>0</td>\n",
       "      <td>0</td>\n",
       "      <td>80215.20</td>\n",
       "    </tr>\n",
       "    <tr>\n",
       "      <th>6027</th>\n",
       "      <td>850</td>\n",
       "      <td>1.0</td>\n",
       "      <td>1.0</td>\n",
       "      <td>44</td>\n",
       "      <td>3.0</td>\n",
       "      <td>140393.65</td>\n",
       "      <td>2</td>\n",
       "      <td>0</td>\n",
       "      <td>1</td>\n",
       "      <td>186285.52</td>\n",
       "    </tr>\n",
       "    <tr>\n",
       "      <th>1247</th>\n",
       "      <td>512</td>\n",
       "      <td>0.0</td>\n",
       "      <td>1.0</td>\n",
       "      <td>24</td>\n",
       "      <td>6.0</td>\n",
       "      <td>0.00</td>\n",
       "      <td>2</td>\n",
       "      <td>1</td>\n",
       "      <td>0</td>\n",
       "      <td>37654.31</td>\n",
       "    </tr>\n",
       "    <tr>\n",
       "      <th>3716</th>\n",
       "      <td>665</td>\n",
       "      <td>1.0</td>\n",
       "      <td>0.0</td>\n",
       "      <td>27</td>\n",
       "      <td>2.0</td>\n",
       "      <td>147435.96</td>\n",
       "      <td>1</td>\n",
       "      <td>0</td>\n",
       "      <td>0</td>\n",
       "      <td>187508.06</td>\n",
       "    </tr>\n",
       "    <tr>\n",
       "      <th>...</th>\n",
       "      <td>...</td>\n",
       "      <td>...</td>\n",
       "      <td>...</td>\n",
       "      <td>...</td>\n",
       "      <td>...</td>\n",
       "      <td>...</td>\n",
       "      <td>...</td>\n",
       "      <td>...</td>\n",
       "      <td>...</td>\n",
       "      <td>...</td>\n",
       "    </tr>\n",
       "    <tr>\n",
       "      <th>4478</th>\n",
       "      <td>549</td>\n",
       "      <td>0.0</td>\n",
       "      <td>1.0</td>\n",
       "      <td>31</td>\n",
       "      <td>4.0</td>\n",
       "      <td>0.00</td>\n",
       "      <td>2</td>\n",
       "      <td>0</td>\n",
       "      <td>1</td>\n",
       "      <td>25684.85</td>\n",
       "    </tr>\n",
       "    <tr>\n",
       "      <th>4094</th>\n",
       "      <td>513</td>\n",
       "      <td>0.0</td>\n",
       "      <td>1.0</td>\n",
       "      <td>29</td>\n",
       "      <td>10.0</td>\n",
       "      <td>0.00</td>\n",
       "      <td>2</td>\n",
       "      <td>0</td>\n",
       "      <td>1</td>\n",
       "      <td>25514.77</td>\n",
       "    </tr>\n",
       "    <tr>\n",
       "      <th>3492</th>\n",
       "      <td>655</td>\n",
       "      <td>0.0</td>\n",
       "      <td>0.0</td>\n",
       "      <td>45</td>\n",
       "      <td>5.0</td>\n",
       "      <td>57327.04</td>\n",
       "      <td>1</td>\n",
       "      <td>0</td>\n",
       "      <td>1</td>\n",
       "      <td>47349.00</td>\n",
       "    </tr>\n",
       "    <tr>\n",
       "      <th>2177</th>\n",
       "      <td>667</td>\n",
       "      <td>0.0</td>\n",
       "      <td>0.0</td>\n",
       "      <td>24</td>\n",
       "      <td>4.0</td>\n",
       "      <td>0.00</td>\n",
       "      <td>2</td>\n",
       "      <td>0</td>\n",
       "      <td>1</td>\n",
       "      <td>34335.55</td>\n",
       "    </tr>\n",
       "    <tr>\n",
       "      <th>4578</th>\n",
       "      <td>691</td>\n",
       "      <td>0.0</td>\n",
       "      <td>1.0</td>\n",
       "      <td>38</td>\n",
       "      <td>1.0</td>\n",
       "      <td>0.00</td>\n",
       "      <td>2</td>\n",
       "      <td>0</td>\n",
       "      <td>0</td>\n",
       "      <td>44653.50</td>\n",
       "    </tr>\n",
       "  </tbody>\n",
       "</table>\n",
       "<p>6000 rows × 10 columns</p>\n",
       "</div>"
      ],
      "text/plain": [
       "      CreditScore  Geography  Gender  Age  Tenure    Balance  NumOfProducts  \\\n",
       "7479          567        2.0     1.0   35     8.0  153137.74              1   \n",
       "3411          711        0.0     0.0   37     8.0  113899.92              1   \n",
       "6027          850        1.0     1.0   44     3.0  140393.65              2   \n",
       "1247          512        0.0     1.0   24     6.0       0.00              2   \n",
       "3716          665        1.0     0.0   27     2.0  147435.96              1   \n",
       "...           ...        ...     ...  ...     ...        ...            ...   \n",
       "4478          549        0.0     1.0   31     4.0       0.00              2   \n",
       "4094          513        0.0     1.0   29    10.0       0.00              2   \n",
       "3492          655        0.0     0.0   45     5.0   57327.04              1   \n",
       "2177          667        0.0     0.0   24     4.0       0.00              2   \n",
       "4578          691        0.0     1.0   38     1.0       0.00              2   \n",
       "\n",
       "      HasCrCard  IsActiveMember  EstimatedSalary  \n",
       "7479          1               0         88659.07  \n",
       "3411          0               0         80215.20  \n",
       "6027          0               1        186285.52  \n",
       "1247          1               0         37654.31  \n",
       "3716          0               0        187508.06  \n",
       "...         ...             ...              ...  \n",
       "4478          0               1         25684.85  \n",
       "4094          0               1         25514.77  \n",
       "3492          0               1         47349.00  \n",
       "2177          0               1         34335.55  \n",
       "4578          0               0         44653.50  \n",
       "\n",
       "[6000 rows x 10 columns]"
      ]
     },
     "metadata": {},
     "output_type": "display_data"
    }
   ],
   "source": [
    "# Initialize the OrdinalEncoder\n",
    "encoder = OrdinalEncoder()\n",
    "\n",
    "# Fit and transform the encoder on the 'Geography' and 'Gender' columns\n",
    "features_encoded = encoder.fit_transform(churn_df[['Geography', 'Gender']])\n",
    "\n",
    "# Create a new dataframe with the encoded features\n",
    "data_encoded = churn_df.copy()\n",
    "data_encoded[['Geography', 'Gender']] = features_encoded\n",
    "\n",
    "# Split the label-encoded data into training, validation, and testing sets\n",
    "features_train_encoded, target_train_encoded, features_valid_encoded, target_valid_encoded, features_test_encoded, target_test_encoded = split_data(data_encoded)\n",
    "\n",
    "# Display the size of each split to ensure they are correct (60% training, 20% validation, 20% testing)\n",
    "set_size(features_train_encoded, target_train_encoded, features_valid_encoded, target_valid_encoded, features_test_encoded, target_test_encoded)\n",
    "\n",
    "# Display the training features to check the encoding\n",
    "display(features_train_encoded)"
   ]
  },
  {
   "cell_type": "markdown",
   "metadata": {},
   "source": [
    "## Class Imbalance Analysis"
   ]
  },
  {
   "cell_type": "markdown",
   "metadata": {},
   "source": [
    "Before proceeding with data balancing techniques, let's first analyze our target variable distribution to determine if adjustments are necessary to handle the imbalance between positive and negative observations."
   ]
  },
  {
   "cell_type": "code",
   "execution_count": 8,
   "metadata": {},
   "outputs": [
    {
     "name": "stdout",
     "output_type": "stream",
     "text": [
      "Number of POSITIVE observations: 1196\n",
      "Number of NEGATIVE observations: 4804\n",
      "\n",
      "Pecentage of POSITIVE observations: 0.19933333333333333\n",
      "Percentage of NEGATIVE observations: 0.8006666666666666\n"
     ]
    }
   ],
   "source": [
    "print(\"Number of POSITIVE observations:\", np.sum(target_train_ohe == 1))\n",
    "print(\"Number of NEGATIVE observations:\", np.sum(target_train_ohe == 0))\n",
    "\n",
    "total_observations = np.sum(target_train_ohe == 1) + np.sum(target_train_ohe == 0)\n",
    "print()\n",
    "\n",
    "print(\"Pecentage of POSITIVE observations:\", np.sum(target_train_ohe == 1)/total_observations)\n",
    "print(\"Percentage of NEGATIVE observations:\", np.sum(target_train_ohe == 0)/total_observations)"
   ]
  },
  {
   "cell_type": "markdown",
   "metadata": {},
   "source": [
    "Upon examining the dataset, we found that there are 1196 positive observations and 4804 negative observations. This distribution translates to approximately 19.93% positive observations and 80.07% negative observations of the total dataset. The substantial class imbalance observed—where negative observations dominate over positive ones—highlights a potential challenge for machine learning models, particularly those sensitive to skewed class distributions.\n",
    "\n",
    "To establish a baseline for model performance improvement, we will initiate training using Logistic Regression and tree-based models on this imbalanced dataset. This initial step will help us gauge the current performance and subsequently explore methods to enhance model effectiveness, considering the skewed class proportions."
   ]
  },
  {
   "cell_type": "markdown",
   "metadata": {},
   "source": [
    "### Logistic Regression Model (Imbalanced)"
   ]
  },
  {
   "cell_type": "code",
   "execution_count": 9,
   "metadata": {},
   "outputs": [
    {
     "name": "stdout",
     "output_type": "stream",
     "text": [
      "Logistic Regression Model Metrics w/ Imbalanced Dataset:\n",
      "\n",
      "Accuracy Score: 0.802\n",
      "Recall Score: 0.23444976076555024\n",
      "Precision Score: 0.5632183908045977\n",
      "F1 Score: 0.33108108108108103\n"
     ]
    }
   ],
   "source": [
    "# Initialize Logistic Regression model with specified parameters\n",
    "lr_imbalanced_model = LogisticRegression(random_state=12345, solver='liblinear')\n",
    "\n",
    "# Train the Logistic Regression model on the imbalanced training data\n",
    "lr_imbalanced_model.fit(features_train_ohe, target_train_ohe)\n",
    "\n",
    "# Predict on the validation set\n",
    "lr_imbalanced_predicted_valid = lr_imbalanced_model.predict(features_valid_ohe)\n",
    "\n",
    "# Calculate and print evaluation metrics\n",
    "print(\"Logistic Regression Model Metrics w/ Imbalanced Dataset:\")\n",
    "print()\n",
    "lr_imbalanced_accuracy, lr_imbalanced_recall, lr_imbalanced_precision, lr_imbalanced_f1 = metric(target_valid_ohe, lr_imbalanced_predicted_valid)\n",
    "print_metrics(lr_imbalanced_accuracy, lr_imbalanced_recall, lr_imbalanced_precision, lr_imbalanced_f1)"
   ]
  },
  {
   "cell_type": "markdown",
   "metadata": {},
   "source": [
    "### Descision Tree Model (Imbalanced)"
   ]
  },
  {
   "cell_type": "code",
   "execution_count": 10,
   "metadata": {},
   "outputs": [
    {
     "name": "stdout",
     "output_type": "stream",
     "text": [
      "Decision Tree Model Metrics w/ Imbalanced Dataset:\n",
      "\n",
      "Accuracy Score: 0.777\n",
      "Recall Score: 0.45215311004784686\n",
      "Precision Score: 0.46551724137931033\n",
      "F1 Score: 0.4587378640776699\n"
     ]
    }
   ],
   "source": [
    "# Initialize Decision Tree model with specified parameters\n",
    "dt_imbalanced_model = DecisionTreeClassifier(random_state=12345)\n",
    "\n",
    "# Train the Decision Tree model on the imbalanced training data\n",
    "dt_imbalanced_model.fit(features_train_encoded, target_train_encoded)\n",
    "\n",
    "# Predict on the validation set\n",
    "dt_imbalanced_predicted_valid = dt_imbalanced_model.predict(features_valid_encoded)\n",
    "\n",
    "# Calculate and print evaluation metrics\n",
    "print(\"Decision Tree Model Metrics w/ Imbalanced Dataset:\")\n",
    "print()\n",
    "dt_imbalanced_accuracy, dt_imbalanced_recall, dt_imbalanced_precision, dt_imbalanced_f1 = metric(target_valid_encoded, dt_imbalanced_predicted_valid)\n",
    "print_metrics(dt_imbalanced_accuracy, dt_imbalanced_recall, dt_imbalanced_precision, dt_imbalanced_f1)"
   ]
  },
  {
   "cell_type": "markdown",
   "metadata": {},
   "source": [
    "### Random Forest Model (Imbalanced)"
   ]
  },
  {
   "cell_type": "code",
   "execution_count": 11,
   "metadata": {},
   "outputs": [
    {
     "name": "stdout",
     "output_type": "stream",
     "text": [
      "Random Forest Model Metrics w/ Imbalanced Dataset:\n",
      "\n",
      "Accuracy Score: 0.857\n",
      "Recall Score: 0.4569377990430622\n",
      "Precision Score: 0.764\n",
      "F1 Score: 0.5718562874251497\n"
     ]
    }
   ],
   "source": [
    "# Initialize Random Forest model with specified parameters\n",
    "rf_imbalanced_model = RandomForestClassifier(random_state=12345)\n",
    "\n",
    "# Train the Random Forest model on the imbalanced training data\n",
    "rf_imbalanced_model.fit(features_train_encoded, target_train_encoded)\n",
    "\n",
    "# Predict on the validation set\n",
    "rf_imbalanced_predicted_valid = rf_imbalanced_model.predict(features_valid_encoded)\n",
    "\n",
    "# Calculate and print evaluation metrics\n",
    "print(\"Random Forest Model Metrics w/ Imbalanced Dataset:\")\n",
    "print()\n",
    "rf_imbalanced_accuracy, rf_imbalanced_recall, rf_imbalanced_precision, rf_imbalanced_f1 = metric(target_valid_encoded, rf_imbalanced_predicted_valid)\n",
    "print_metrics(rf_imbalanced_accuracy, rf_imbalanced_recall, rf_imbalanced_precision, rf_imbalanced_f1)"
   ]
  },
  {
   "cell_type": "markdown",
   "metadata": {},
   "source": [
    "The initial training results on the imbalanced dataset highlight distinct performance characteristics among the Logistic Regression, Decision Tree, and Random Forest models. Logistic Regression achieves the highest accuracy at 0.802 but struggles significantly with class imbalance, evident from its low recall score of 0.234 and consequently, a modest F1 score of 0.331. This indicates a bias towards predicting the majority class, impacting its ability to generalize effectively to minority class instances. In contrast, the Decision Tree model, with an accuracy of 0.778, shows improved performance in identifying minority class instances, reflected in its higher recall score of 0.452 and a better-balanced F1 score of 0.460. Despite these gains, it still exhibits challenges in achieving optimal predictions across both classes.\n",
    "\n",
    "Among the models tested, Random Forest stands out with the highest accuracy of 0.8585 and a notable recall score of 0.459, suggesting it effectively identifies minority class instances better than Logistic Regression and Decision Tree. The model's precision score of 0.771 contributes to a robust F1 score of 0.576, demonstrating its ability to maintain a good balance between precision and recall. Overall, while the Random Forest model demonstrates the highest overall performance on the imbalanced dataset, particularly in accuracy and precision, all models show room for improvement."
   ]
  },
  {
   "cell_type": "markdown",
   "metadata": {},
   "source": [
    "## Class Balance Analysis"
   ]
  },
  {
   "cell_type": "markdown",
   "metadata": {},
   "source": [
    "Considering the class imbalance, we will apply techniques such as downsampling to reduce the number of majority class instances or upsampling to increase the number of minority class instances. This strategic approach aims to achieve a more balanced dataset, preventing our models from being biased towards the majority class and enhancing their ability to generalize effectively to minority class instances.\n",
    "\n",
    "Let's review the ratio of postive to negative observations before we begin balancing our classes."
   ]
  },
  {
   "cell_type": "code",
   "execution_count": 12,
   "metadata": {},
   "outputs": [
    {
     "name": "stdout",
     "output_type": "stream",
     "text": [
      "Number of POSITIVE observations: 1196\n",
      "Number of NEGATIVE observations: 4804\n",
      "\n",
      "Pecentage of POSITIVE observations: 0.19933333333333333\n",
      "Percentage of NEGATIVE observations: 0.8006666666666666\n"
     ]
    }
   ],
   "source": [
    "print(\"Number of POSITIVE observations:\", np.sum(target_train_ohe == 1))\n",
    "print(\"Number of NEGATIVE observations:\", np.sum(target_train_ohe == 0))\n",
    "\n",
    "total_observations = np.sum(target_train_ohe == 1) + np.sum(target_train_ohe == 0)\n",
    "print()\n",
    "\n",
    "print(\"Pecentage of POSITIVE observations:\", np.sum(target_train_ohe == 1)/total_observations)\n",
    "print(\"Percentage of NEGATIVE observations:\", np.sum(target_train_ohe == 0)/total_observations)"
   ]
  },
  {
   "cell_type": "markdown",
   "metadata": {},
   "source": [
    "Based on current ratio, to appropriately balance our classes during upsampling/downsampling, we will quadruple the number of positive observations during upsampling and reduce the number of negative observations by 80% during downsampling. This adjustment aims to achieve a ratio between observations that is closer to 1:1."
   ]
  },
  {
   "cell_type": "markdown",
   "metadata": {},
   "source": [
    "### Logistc Regression Model (Downsampling)"
   ]
  },
  {
   "cell_type": "code",
   "execution_count": 13,
   "metadata": {},
   "outputs": [
    {
     "name": "stdout",
     "output_type": "stream",
     "text": [
      "Logistic Regression Model Metrics w/ DOWNSAMPLING:\n",
      "\n",
      "Accuracy Score: 0.663\n",
      "Recall Score: 0.7416267942583732\n",
      "Precision Score: 0.3538812785388128\n",
      "F1 Score: 0.4791344667697063\n",
      "AUC-ROC: 0.7628720836685438\n"
     ]
    },
    {
     "data": {
      "image/png": "[encoded data removed]",
      "text/plain": [
       "<Figure size 640x480 with 1 Axes>"
      ]
     },
     "metadata": {},
     "output_type": "display_data"
    }
   ],
   "source": [
    "# Perform downsampling of the majority class (negative observations) to balance the dataset\n",
    "lr_features_downsampled, lr_target_downsampled = downsample(\n",
    "    features_train_ohe,  # Features of the original training set\n",
    "    target_train_ohe,    # Target variable of the original training set\n",
    "    0.2                  # Desired ratio of positive to negative observations after downsampling\n",
    ")\n",
    "\n",
    "# Initialize Logistic Regression model\n",
    "lr_downsample_model = LogisticRegression(random_state=12345, solver='liblinear')\n",
    "\n",
    "# Train the Logistic Regression model on the downsampled data\n",
    "lr_downsample_model.fit(lr_features_downsampled, lr_target_downsampled)\n",
    "\n",
    "# Make predictions on the validation set using the trained model\n",
    "lr_downsample_predicted_valid = lr_downsample_model.predict(features_valid_ohe)\n",
    "\n",
    "# Print model evaluation metrics with downsampling\n",
    "print(\"Logistic Regression Model Metrics w/ DOWNSAMPLING:\")\n",
    "print()\n",
    "lr_downsample_accuracy, lr_downsample_recall, lr_downsample_precision, lr_downsample_f1 = metric(target_valid_ohe, lr_downsample_predicted_valid)\n",
    "print_metrics(lr_downsample_accuracy, lr_downsample_recall, lr_downsample_precision, lr_downsample_f1)\n",
    "\n",
    "# Calculate and plot ROC AUC curve for the Logistic Regression model\n",
    "auc_roc(lr_downsample_model, features_valid_ohe, target_valid_ohe)"
   ]
  },
  {
   "cell_type": "markdown",
   "metadata": {},
   "source": [
    "### Logistc Regression Model (Upsampling)"
   ]
  },
  {
   "cell_type": "code",
   "execution_count": 14,
   "metadata": {},
   "outputs": [
    {
     "name": "stdout",
     "output_type": "stream",
     "text": [
      "Logistic Regression Model Metrics w/ UPSAMPLING:\n",
      "\n",
      "Accuracy Score: 0.702\n",
      "Recall Score: 0.6818181818181818\n",
      "Precision Score: 0.3810160427807487\n",
      "F1 Score: 0.4888507718696398\n",
      "AUC-ROC: 0.7636493687960851\n"
     ]
    },
    {
     "data": {
      "image/png": "[encoded data removed]",
      "text/plain": [
       "<Figure size 640x480 with 1 Axes>"
      ]
     },
     "metadata": {},
     "output_type": "display_data"
    }
   ],
   "source": [
    "# Perform upsampling of the minority class (positive observations) to balance the dataset\n",
    "lr_features_upsampled, lr_target_upsampled = upsample(\n",
    "    features_train_ohe, target_train_ohe, 4\n",
    ")\n",
    "\n",
    "# Initialize Logistic Regression model\n",
    "lr_upsample_model = LogisticRegression(random_state=12345, solver='liblinear')\n",
    "\n",
    "# Train the Logistic Regression model on the upsampled data\n",
    "lr_upsample_model.fit(lr_features_upsampled, lr_target_upsampled)\n",
    "\n",
    "# Make predictions on the validation set using the trained model\n",
    "lr_upsample_predicted_valid = lr_upsample_model.predict(features_valid_ohe)\n",
    "\n",
    "# Print model evaluation metrics with upsampling\n",
    "print(\"Logistic Regression Model Metrics w/ UPSAMPLING:\")\n",
    "print()\n",
    "lr_upsample_accuracy, lr_upsample_recall, lr_upsample_precision, lr_upsample_f1 = metric(target_valid_ohe, lr_upsample_predicted_valid)\n",
    "print_metrics(lr_upsample_accuracy, lr_upsample_recall, lr_upsample_precision, lr_upsample_f1)\n",
    "\n",
    "# Calculate and plot ROC AUC curve for the Logistic Regression model\n",
    "auc_roc(lr_upsample_model, features_valid_ohe, target_valid_ohe)"
   ]
  },
  {
   "cell_type": "markdown",
   "metadata": {},
   "source": [
    "### Decision Tree Model (Downsampling)"
   ]
  },
  {
   "cell_type": "code",
   "execution_count": 15,
   "metadata": {},
   "outputs": [
    {
     "name": "stdout",
     "output_type": "stream",
     "text": [
      "Best depth of Decision Tree model with DOWNSAMPLING (according to F1 score): max_depth=4\n",
      "\n",
      "Accuracy Score: 0.74\n",
      "Recall Score: 0.7488038277511961\n",
      "Precision Score: 0.42994505494505497\n",
      "F1 Score: 0.5462478184991274\n",
      "AUC-ROC: 0.7359302318547778\n"
     ]
    },
    {
     "data": {
      "image/png": "[encoded data removed]",
      "text/plain": [
       "<Figure size 640x480 with 1 Axes>"
      ]
     },
     "metadata": {},
     "output_type": "display_data"
    }
   ],
   "source": [
    "# Perform downsampling of the majority class (negative observations) to balance the dataset\n",
    "tree_features_downsampled, tree_target_downsampled = downsample(\n",
    "    features_train_encoded, target_train_encoded, 0.2\n",
    ")\n",
    "\n",
    "# Perform Decision Tree validation on downsampled data\n",
    "(dt_downsample_best_accuracy, \n",
    " dt_downsample_best_recall, \n",
    " dt_downsample_best_precision, \n",
    " dt_downsample_best_f1, \n",
    " dt_downsample_best_depth,\n",
    " dt_downsample_model) = decision_tree_validation(tree_features_downsampled, tree_target_downsampled, features_valid_encoded, target_valid_encoded)\n",
    "\n",
    "# Print the best depth of Decision Tree model based on F1 score\n",
    "print(\"Best depth of Decision Tree model with DOWNSAMPLING (according to F1 score): max_depth={}\".format(dt_downsample_best_depth))\n",
    "print()\n",
    "\n",
    "# Print metrics (accuracy, recall, precision, F1) of the Decision Tree model with downsampling\n",
    "print_metrics(dt_downsample_best_accuracy, dt_downsample_best_recall, dt_downsample_best_precision, dt_downsample_best_f1)\n",
    "\n",
    "# Plot AUC-ROC curve for the Decision Tree model with downsampling\n",
    "auc_roc(dt_downsample_model, features_valid_encoded, target_valid_encoded)"
   ]
  },
  {
   "cell_type": "markdown",
   "metadata": {},
   "source": [
    "### Decision Tree Model (Upsampling)"
   ]
  },
  {
   "cell_type": "code",
   "execution_count": 16,
   "metadata": {},
   "outputs": [
    {
     "name": "stdout",
     "output_type": "stream",
     "text": [
      "Best depth of Decision Tree model with UPSAMPLING (according to F1 score): max_depth=5\n",
      "\n",
      "Accuracy Score: 0.8085\n",
      "Recall Score: 0.6578947368421053\n",
      "Precision Score: 0.5339805825242718\n",
      "F1 Score: 0.5894962486602359\n",
      "AUC-ROC: 0.7432380730587531\n"
     ]
    },
    {
     "data": {
      "image/png": "[encoded data removed]",
      "text/plain": [
       "<Figure size 640x480 with 1 Axes>"
      ]
     },
     "metadata": {},
     "output_type": "display_data"
    }
   ],
   "source": [
    "# Perform upsampling of the majority class (negative observations) to balance the dataset\n",
    "tree_features_upsampled, tree_target_upsampled = upsample(\n",
    "    features_train_encoded, target_train_encoded, 4\n",
    ")\n",
    "\n",
    "# Perform Decision Tree validation on upsampled data\n",
    "(dt_upsample_best_accuracy, \n",
    " dt_upsample_best_recall, \n",
    " dt_upsample_best_precision, \n",
    " dt_upsample_best_f1, \n",
    " dt_upsample_best_depth,\n",
    " dt_upsample_model) = decision_tree_validation(tree_features_upsampled, tree_target_upsampled, features_valid_encoded, target_valid_encoded)\n",
    "\n",
    "# Print the best depth of Decision Tree model based on F1 score\n",
    "print(\"Best depth of Decision Tree model with UPSAMPLING (according to F1 score): max_depth={}\".format(dt_upsample_best_depth))\n",
    "print()\n",
    "\n",
    "# Print metrics (accuracy, recall, precision, F1) of the Decision Tree model with upsampling\n",
    "print_metrics(dt_upsample_best_accuracy, dt_upsample_best_recall, dt_upsample_best_precision, dt_upsample_best_f1)\n",
    "\n",
    "# Plot AUC-ROC curve for the Decision Tree model with upsampling\n",
    "auc_roc(dt_upsample_model, features_valid_encoded, target_valid_encoded)"
   ]
  },
  {
   "cell_type": "markdown",
   "metadata": {},
   "source": [
    "### Random Forest Model (Downsampling)"
   ]
  },
  {
   "cell_type": "code",
   "execution_count": 17,
   "metadata": {},
   "outputs": [
    {
     "name": "stdout",
     "output_type": "stream",
     "text": [
      "Best depth and number of estimators of Random Forest model with DOWNSAMPLING (according to F1 score): max_depth=8 & n_estimators=25\n",
      "\n",
      "Accuracy Score: 0.758\n",
      "Recall Score: 0.8014354066985646\n",
      "Precision Score: 0.45516304347826086\n",
      "F1 Score: 0.5805892547660312\n",
      "AUC-ROC: 0.8391291987006938\n"
     ]
    },
    {
     "data": {
      "image/png": "[encoded data removed]",
      "text/plain": [
       "<Figure size 640x480 with 1 Axes>"
      ]
     },
     "metadata": {},
     "output_type": "display_data"
    }
   ],
   "source": [
    "# Perform Random Forest validation on downsampled data\n",
    "(rf_downsample_best_accuracy, \n",
    " rf_downsample_best_recall, \n",
    " rf_downsample_best_precision, \n",
    " rf_downsample_best_f1, \n",
    " rf_downsample_best_depth, \n",
    " rf_downsample_best_est,\n",
    " rf_downsample_model) = random_forest_validation(tree_features_downsampled, tree_target_downsampled, features_valid_encoded, target_valid_encoded)\n",
    "\n",
    "# Print the best depth and number of estimatores of Random Forest model based on F1 score\n",
    "print(\"Best depth and number of estimators of Random Forest model with DOWNSAMPLING (according to F1 score): max_depth={} & n_estimators={}\".format(rf_downsample_best_depth, rf_downsample_best_est))\n",
    "print()\n",
    "\n",
    "# Print metrics (accuracy, recall, precision, F1) of the Random Forest model with downsampling\n",
    "print_metrics(rf_downsample_best_accuracy, rf_downsample_best_recall, rf_downsample_best_precision, rf_downsample_best_f1)\n",
    "\n",
    "# Plot AUC-ROC curve for the Random Forest model with downsampling\n",
    "auc_roc(rf_downsample_model, features_valid_encoded, target_valid_encoded)"
   ]
  },
  {
   "cell_type": "markdown",
   "metadata": {},
   "source": [
    "### Random Forest Model (Upsampling)"
   ]
  },
  {
   "cell_type": "code",
   "execution_count": 18,
   "metadata": {},
   "outputs": [
    {
     "name": "stdout",
     "output_type": "stream",
     "text": [
      "Best depth and number of estimators of Random Forest model with UPSAMPLING (according to F1 score): max_depth=8 & n_estimators=33\n",
      "\n",
      "Accuracy Score: 0.8225\n",
      "Recall Score: 0.715311004784689\n",
      "Precision Score: 0.5588785046728972\n",
      "F1 Score: 0.627492130115425\n",
      "AUC-ROC: 0.8484218389900737\n"
     ]
    },
    {
     "data": {
      "image/png": "[encoded data removed]",
      "text/plain": [
       "<Figure size 640x480 with 1 Axes>"
      ]
     },
     "metadata": {},
     "output_type": "display_data"
    }
   ],
   "source": [
    "# Perform Random Forest validation on upsampled data\n",
    "(rf_upsample_best_accuracy, \n",
    " rf_upsample_best_recall, \n",
    " rf_upsample_best_precision, \n",
    " rf_upsample_best_f1, \n",
    " rf_upsample_best_depth, \n",
    " rf_upsample_best_est,\n",
    " rf_upsample_model) = random_forest_validation(tree_features_upsampled, tree_target_upsampled, features_valid_encoded, target_valid_encoded)\n",
    "\n",
    "# Print the best depth and number of estimatores of Random Forest model based on F1 score\n",
    "print(\"Best depth and number of estimators of Random Forest model with UPSAMPLING (according to F1 score): max_depth={} & n_estimators={}\".format(rf_upsample_best_depth, rf_upsample_best_est))\n",
    "print()\n",
    "\n",
    "# Print metrics (accuracy, recall, precision, F1) of the Random Forest model with upsampling\n",
    "print_metrics(rf_upsample_best_accuracy, rf_upsample_best_recall, rf_upsample_best_precision, rf_upsample_best_f1)\n",
    "\n",
    "# Plot AUC-ROC curve for the Random Forest model with upsampling\n",
    "auc_roc(rf_upsample_model, features_valid_encoded, target_valid_encoded)"
   ]
  },
  {
   "cell_type": "markdown",
   "metadata": {},
   "source": [
    "After analyzing the performance metrics of various models with balanced classes, several key findings emerge. Logistic Regression, when applied with both downsampling and upsampling techniques, shows moderate performance with F1 scores ranging from 0.479 to 0.488 and AUC-ROC values between 0.762 to 0.763. While it provides decent performance metrics, it does not outperform other models significantly. The Decision Tree model demonstrates notable improvements with upsampling, achieving an F1 score of 0.589 and an AUC-ROC of 0.7430, indicating its capability to handle class imbalance effectively. However, its performance with downsampling is comparatively weaker. On the other hand, Random Forest consistently delivers strong results across all scenarios, particularly with upsampling where it achieves the highest F1 score of 0.627 and the highest AUC-ROC of 0.848. This suggests Random Forest effectively balances precision and recall, making it the most suitable model for testing purposes in this analysis. Its robust performance across multiple metrics indicates it can provide reliable predictions, ensuring both accuracy and the ability to generalize well to minority class instances. Thus, Random Forest with upsampling and hyperparameters of max_depth=8 and n_estimators=33 stands out as the optimal choice among the evaluated models."
   ]
  },
  {
   "cell_type": "markdown",
   "metadata": {},
   "source": [
    "## Final Test\n",
    "\n",
    "We will now initialize a Random Forest model with hyperparameters tuned for optimal performance with upsampling of the minority class positive observations, aiming to achieve an F1 score of at least 0.59."
   ]
  },
  {
   "cell_type": "code",
   "execution_count": 19,
   "metadata": {},
   "outputs": [
    {
     "name": "stdout",
     "output_type": "stream",
     "text": [
      "Final Random Forest Model Metrics w/ UPSAMPLING:\n",
      "\n",
      "Accuracy Score: 0.808\n",
      "Recall Score: 0.6903073286052009\n",
      "Precision Score: 0.5357798165137615\n",
      "F1 Score: 0.603305785123967\n",
      "AUC-ROC: 0.8479007481962189\n"
     ]
    },
    {
     "data": {
      "image/png": "[encoded data removed]",
      "text/plain": [
       "<Figure size 640x480 with 1 Axes>"
      ]
     },
     "metadata": {},
     "output_type": "display_data"
    }
   ],
   "source": [
    "# Initialize Random Forest model with specified parameters\n",
    "final_model = RandomForestClassifier(random_state=12345, max_depth=rf_upsample_best_depth, n_estimators=rf_upsample_best_est)\n",
    "\n",
    "# Train the Random Forest model on the upsampled data\n",
    "final_model.fit(tree_features_upsampled, tree_target_upsampled)\n",
    "\n",
    "# Make predictions on the test set using the trained model\n",
    "predicted_test = final_model.predict(features_test_encoded)\n",
    "\n",
    "# Print metrics (accuracy, recall, precision, F1) of the Random Forest model with upsampling\n",
    "print(\"Final Random Forest Model Metrics w/ UPSAMPLING:\")\n",
    "print()\n",
    "final_accuracy, final_recall, final_precision, final_f1 = metric(target_test_encoded, predicted_test)\n",
    "print_metrics(final_accuracy, final_recall, final_precision, final_f1)\n",
    "\n",
    "# Plot AUC-ROC curve for the Random Forest model with upsamplin\n",
    "auc_roc(final_model, features_test_encoded, target_test_encoded)"
   ]
  },
  {
   "cell_type": "markdown",
   "metadata": {},
   "source": [
    "We achieved an F1 score of at leat 0.60!"
   ]
  },
  {
   "cell_type": "markdown",
   "metadata": {},
   "source": [
    "## Conclusion\n",
    "\n",
    "Throughout the project aimed at predicting customer churn for Beta Bank, the primary goal was to develop a robust predictive model using data on client behavior and contract terminations. Given the imperative to retain existing customers over acquiring new ones due to cost efficiency, we started by preparing the dataset from `/datasets/Churn.csv`, examining features like 'CreditScore', 'Geography', 'Gender', 'Age', and more, alongside the target variable Exited, which indicates whether a customer has left the bank.\n",
    "\n",
    "An initial assessment revealed class imbalance in the 'Exited' variable, with fewer instances of churned customers compared to those who remained. This imbalance posed a challenge as models trained on imbalanced data tend to prioritize accuracy on the majority class, often resulting in poor performance on minority class predictions. We first trained Logistic Regression, Decision Tree, and Random Forest models without addressing this imbalance to establish a baseline. While Logistic Regression showed moderate accuracy, it struggled with low recall and F1 scores for predicting churned customers. Decision Tree and Random Forest exhibited better potential in handling minority class predictions, albeit with varying degrees of success.\n",
    "\n",
    "To enhance model effectiveness, we implemented upsampling to mitigate class imbalance. Upsampling involved increasing the number of minority class instances through duplication. This aimed to improve the model's ability to correctly predict instances from the minority class.\n",
    "\n",
    "Through rigorous parameter tuning and validation using the training set, we optimized Decision Tree and Random Forest models, focusing on maximizing the F1 score as per project requirements. Random Forest consistently outperformed the other models due to its ensemble approach, which leverages multiple decision trees to mitigate class imbalance and improve predictive performance. The selected Random Forest model, trained on upsampled data with optimized parameters, achieved an F1 score of 0.603 and an AUC-ROC of 0.847 during final testing on the test set, surpassing project expectations.\n",
    "\n",
    "In conclusion, this project underscores the significance of addressing class imbalance through strategic techniques like upsampling to enhance model reliability and performance. By leveraging Random Forest's ensemble learning and optimizing parameters, we successfully built a predictive model that meets project objectives, providing actionable insights for Beta Bank to proactively manage customer churn and improve retention strategies effectively."
   ]
  }
 ],
 "metadata": {
  "ExecuteTimeLog": [
   {
    "duration": 828,
    "start_time": "2021-11-16T09:21:11.304Z"
   },
   {
    "duration": 893,
    "start_time": "2021-11-16T09:21:17.728Z"
   },
   {
    "duration": 1150,
    "start_time": "2021-11-16T09:21:29.568Z"
   },
   {
    "duration": 3,
    "start_time": "2021-11-16T09:24:14.495Z"
   },
   {
    "duration": 120,
    "start_time": "2021-11-16T09:24:46.630Z"
   },
   {
    "duration": 3,
    "start_time": "2021-11-16T09:28:27.882Z"
   },
   {
    "duration": 4,
    "start_time": "2021-11-16T09:29:54.281Z"
   },
   {
    "duration": 3,
    "start_time": "2021-11-16T09:30:45.936Z"
   },
   {
    "duration": 4,
    "start_time": "2021-11-16T09:31:06.300Z"
   },
   {
    "duration": 113,
    "start_time": "2021-11-16T09:31:37.208Z"
   },
   {
    "duration": 143,
    "start_time": "2021-11-16T09:31:48.656Z"
   },
   {
    "duration": 98,
    "start_time": "2021-11-16T09:31:55.678Z"
   },
   {
    "duration": 3,
    "start_time": "2021-11-16T09:32:08.535Z"
   },
   {
    "duration": 111,
    "start_time": "2021-11-16T09:32:10.120Z"
   },
   {
    "duration": 3,
    "start_time": "2021-11-16T09:32:15.732Z"
   },
   {
    "duration": 4,
    "start_time": "2021-11-16T09:32:29.423Z"
   },
   {
    "duration": 3,
    "start_time": "2021-11-16T10:03:03.074Z"
   },
   {
    "duration": 3,
    "start_time": "2021-11-16T10:10:01.288Z"
   },
   {
    "duration": 3,
    "start_time": "2021-11-16T10:10:46.923Z"
   },
   {
    "duration": 121,
    "start_time": "2021-11-16T10:37:46.494Z"
   },
   {
    "duration": 125,
    "start_time": "2021-11-16T10:38:20.632Z"
   },
   {
    "duration": 112,
    "start_time": "2021-11-16T10:46:53.001Z"
   },
   {
    "duration": 110,
    "start_time": "2021-11-16T10:48:25.775Z"
   },
   {
    "duration": 3,
    "start_time": "2021-11-16T10:50:18.720Z"
   },
   {
    "duration": 4,
    "start_time": "2021-11-16T10:50:37.649Z"
   },
   {
    "duration": 2,
    "start_time": "2021-11-16T10:50:51.884Z"
   },
   {
    "duration": 3,
    "start_time": "2021-11-16T10:51:56.237Z"
   },
   {
    "duration": 101,
    "start_time": "2021-11-16T10:53:13.791Z"
   },
   {
    "duration": 3,
    "start_time": "2021-11-16T10:55:59.186Z"
   },
   {
    "duration": 3,
    "start_time": "2021-11-16T10:56:10.751Z"
   },
   {
    "duration": 3,
    "start_time": "2021-11-16T10:56:49.038Z"
   },
   {
    "duration": 3,
    "start_time": "2021-11-16T10:56:49.174Z"
   },
   {
    "duration": 4,
    "start_time": "2021-11-16T10:56:49.414Z"
   },
   {
    "duration": 3,
    "start_time": "2021-11-16T10:56:49.680Z"
   },
   {
    "duration": 3,
    "start_time": "2021-11-16T10:56:50.370Z"
   },
   {
    "duration": 114,
    "start_time": "2021-11-16T10:59:34.518Z"
   },
   {
    "duration": 3,
    "start_time": "2021-11-16T11:01:41.201Z"
   },
   {
    "duration": 116,
    "start_time": "2021-11-16T11:01:48.754Z"
   },
   {
    "duration": 3,
    "start_time": "2021-11-16T11:02:16.685Z"
   },
   {
    "duration": 3,
    "start_time": "2021-11-16T11:02:19.479Z"
   },
   {
    "duration": 3,
    "start_time": "2021-11-16T11:02:47.067Z"
   },
   {
    "duration": 3,
    "start_time": "2021-11-16T11:02:49.353Z"
   },
   {
    "duration": 3,
    "start_time": "2021-11-16T11:03:07.835Z"
   },
   {
    "duration": 3,
    "start_time": "2021-11-16T11:03:07.953Z"
   },
   {
    "duration": 112,
    "start_time": "2021-11-16T11:07:52.072Z"
   },
   {
    "duration": 187,
    "start_time": "2021-11-16T11:09:23.468Z"
   },
   {
    "duration": 4,
    "start_time": "2021-11-16T11:10:01.455Z"
   },
   {
    "duration": 3,
    "start_time": "2021-11-16T11:10:05.069Z"
   },
   {
    "duration": 4,
    "start_time": "2021-11-16T11:10:13.376Z"
   },
   {
    "duration": 3,
    "start_time": "2021-11-16T11:10:14.434Z"
   },
   {
    "duration": 3,
    "start_time": "2021-11-16T11:10:22.853Z"
   },
   {
    "duration": 4,
    "start_time": "2021-11-16T11:27:29.279Z"
   },
   {
    "duration": 4,
    "start_time": "2021-11-16T11:29:08.919Z"
   },
   {
    "duration": 118,
    "start_time": "2021-11-16T11:29:46.703Z"
   },
   {
    "duration": 437,
    "start_time": "2021-11-16T11:36:02.181Z"
   },
   {
    "duration": 157,
    "start_time": "2021-11-16T11:36:14.388Z"
   },
   {
    "duration": 207,
    "start_time": "2021-11-16T11:47:15.898Z"
   },
   {
    "duration": 3,
    "start_time": "2021-11-16T11:53:52.092Z"
   },
   {
    "duration": 3,
    "start_time": "2021-11-16T11:53:52.236Z"
   },
   {
    "duration": 3,
    "start_time": "2021-11-16T11:59:12.005Z"
   },
   {
    "duration": 112,
    "start_time": "2021-11-16T12:00:33.446Z"
   },
   {
    "duration": 3,
    "start_time": "2021-11-16T12:02:14.453Z"
   },
   {
    "duration": 3,
    "start_time": "2021-11-16T12:02:39.512Z"
   },
   {
    "duration": 106,
    "start_time": "2021-11-16T12:03:03.460Z"
   },
   {
    "duration": 3,
    "start_time": "2021-11-17T20:37:21.139Z"
   },
   {
    "duration": 3,
    "start_time": "2021-11-17T20:37:22.229Z"
   },
   {
    "duration": 3,
    "start_time": "2021-11-17T20:38:38.806Z"
   },
   {
    "duration": 3,
    "start_time": "2021-11-17T20:38:41.958Z"
   },
   {
    "duration": 3,
    "start_time": "2021-11-17T20:43:46.551Z"
   },
   {
    "duration": 4,
    "start_time": "2021-11-17T20:58:21.835Z"
   },
   {
    "duration": 3,
    "start_time": "2021-11-17T20:59:21.872Z"
   },
   {
    "duration": 4,
    "start_time": "2021-11-17T20:59:45.352Z"
   },
   {
    "duration": 4,
    "start_time": "2021-11-17T20:59:49.646Z"
   },
   {
    "duration": 159,
    "start_time": "2021-11-17T21:02:26.949Z"
   },
   {
    "duration": 3,
    "start_time": "2021-11-17T21:03:53.461Z"
   },
   {
    "duration": 3,
    "start_time": "2021-11-17T21:03:53.694Z"
   },
   {
    "duration": 3,
    "start_time": "2021-11-17T21:05:28.145Z"
   },
   {
    "duration": 116,
    "start_time": "2021-11-17T21:05:57.787Z"
   },
   {
    "duration": 3,
    "start_time": "2021-11-17T21:06:37.993Z"
   },
   {
    "duration": 3,
    "start_time": "2021-11-17T21:06:38.261Z"
   },
   {
    "duration": 3,
    "start_time": "2021-11-17T21:11:54.358Z"
   },
   {
    "duration": 3,
    "start_time": "2021-11-17T21:12:43.846Z"
   },
   {
    "duration": 4,
    "start_time": "2021-11-17T21:13:08.773Z"
   },
   {
    "duration": 3,
    "start_time": "2021-11-17T21:14:44.441Z"
   },
   {
    "duration": 3,
    "start_time": "2021-11-17T21:15:42.059Z"
   },
   {
    "duration": 4,
    "start_time": "2021-11-17T21:15:51.995Z"
   },
   {
    "duration": 3,
    "start_time": "2021-11-17T21:15:53.923Z"
   },
   {
    "duration": 3,
    "start_time": "2021-11-17T21:15:55.282Z"
   },
   {
    "duration": 3,
    "start_time": "2021-11-17T21:16:28.492Z"
   },
   {
    "duration": 3,
    "start_time": "2021-11-17T21:16:32.603Z"
   },
   {
    "duration": 3,
    "start_time": "2021-11-17T21:17:06.941Z"
   },
   {
    "duration": 98,
    "start_time": "2021-11-17T21:18:05.733Z"
   },
   {
    "duration": 4,
    "start_time": "2021-11-17T21:21:35.255Z"
   },
   {
    "duration": 3,
    "start_time": "2021-11-17T21:21:37.804Z"
   },
   {
    "duration": 4,
    "start_time": "2021-11-17T21:23:06.071Z"
   },
   {
    "duration": 3,
    "start_time": "2021-11-17T21:23:24.799Z"
   },
   {
    "duration": 3,
    "start_time": "2021-11-17T21:23:32.591Z"
   },
   {
    "duration": 98,
    "start_time": "2021-11-17T21:28:31.559Z"
   },
   {
    "duration": 3,
    "start_time": "2021-11-17T21:28:45.448Z"
   },
   {
    "duration": 3,
    "start_time": "2021-11-17T21:29:17.303Z"
   },
   {
    "duration": 3,
    "start_time": "2021-11-17T21:29:29.617Z"
   },
   {
    "duration": 3,
    "start_time": "2021-11-17T21:29:32.681Z"
   },
   {
    "duration": 3,
    "start_time": "2021-11-17T21:36:11.474Z"
   },
   {
    "duration": 3,
    "start_time": "2021-11-17T21:36:14.791Z"
   },
   {
    "duration": 3,
    "start_time": "2021-11-17T21:36:53.943Z"
   },
   {
    "duration": 3,
    "start_time": "2021-11-17T21:36:56.165Z"
   },
   {
    "duration": 4,
    "start_time": "2021-11-17T21:37:16.590Z"
   },
   {
    "duration": 3,
    "start_time": "2021-11-17T21:37:22.702Z"
   },
   {
    "duration": 4,
    "start_time": "2021-11-17T21:38:03.479Z"
   },
   {
    "duration": 3,
    "start_time": "2021-11-17T21:38:08.601Z"
   },
   {
    "duration": 3,
    "start_time": "2021-11-17T21:38:12.928Z"
   },
   {
    "duration": 3,
    "start_time": "2021-11-17T21:38:48.896Z"
   },
   {
    "duration": 2,
    "start_time": "2021-11-17T21:38:49.171Z"
   },
   {
    "duration": 4,
    "start_time": "2021-11-17T21:39:57.889Z"
   },
   {
    "duration": 3,
    "start_time": "2021-11-17T21:39:58.057Z"
   },
   {
    "duration": 3,
    "start_time": "2021-11-17T21:41:20.108Z"
   },
   {
    "duration": 3,
    "start_time": "2021-11-17T21:41:20.629Z"
   },
   {
    "duration": 3,
    "start_time": "2021-11-17T21:42:49.136Z"
   },
   {
    "duration": 3,
    "start_time": "2021-11-17T21:43:15.137Z"
   },
   {
    "duration": 4,
    "start_time": "2021-11-17T21:43:16.766Z"
   },
   {
    "duration": 4,
    "start_time": "2021-11-17T21:43:31.711Z"
   },
   {
    "duration": 3,
    "start_time": "2021-11-17T21:43:36.312Z"
   },
   {
    "duration": 4,
    "start_time": "2021-11-17T21:45:08.825Z"
   },
   {
    "duration": 4,
    "start_time": "2021-11-17T21:45:10.119Z"
   },
   {
    "duration": 4,
    "start_time": "2021-11-17T21:45:13.748Z"
   },
   {
    "duration": 3,
    "start_time": "2021-11-17T21:45:22.219Z"
   },
   {
    "duration": 3,
    "start_time": "2021-11-17T21:45:33.412Z"
   },
   {
    "duration": 2,
    "start_time": "2021-11-17T21:46:01.885Z"
   },
   {
    "duration": 3,
    "start_time": "2021-11-17T21:46:03.628Z"
   },
   {
    "duration": 107,
    "start_time": "2021-11-17T21:47:32.512Z"
   },
   {
    "duration": 103,
    "start_time": "2021-11-17T21:50:36.243Z"
   },
   {
    "duration": 3,
    "start_time": "2021-11-18T06:28:31.440Z"
   },
   {
    "duration": 3,
    "start_time": "2021-11-18T06:29:00.168Z"
   },
   {
    "duration": 3,
    "start_time": "2021-11-18T06:31:27.008Z"
   },
   {
    "duration": 2,
    "start_time": "2021-11-18T06:35:34.288Z"
   },
   {
    "duration": 2,
    "start_time": "2021-11-18T06:38:04.527Z"
   },
   {
    "duration": 1581,
    "start_time": "2024-05-30T06:26:24.625Z"
   },
   {
    "duration": 81,
    "start_time": "2024-05-30T06:26:26.212Z"
   },
   {
    "duration": 72,
    "start_time": "2024-05-30T06:26:26.298Z"
   },
   {
    "duration": 8,
    "start_time": "2024-05-30T06:26:26.376Z"
   },
   {
    "duration": 1926,
    "start_time": "2024-05-30T06:26:26.388Z"
   },
   {
    "duration": 0,
    "start_time": "2024-05-30T06:26:28.322Z"
   },
   {
    "duration": 0,
    "start_time": "2024-05-30T06:26:28.323Z"
   },
   {
    "duration": 0,
    "start_time": "2024-05-30T06:26:28.328Z"
   },
   {
    "duration": 0,
    "start_time": "2024-05-30T06:26:28.331Z"
   },
   {
    "duration": 0,
    "start_time": "2024-05-30T06:26:28.334Z"
   },
   {
    "duration": 0,
    "start_time": "2024-05-30T06:26:28.337Z"
   },
   {
    "duration": 0,
    "start_time": "2024-05-30T06:26:28.339Z"
   },
   {
    "duration": 0,
    "start_time": "2024-05-30T06:26:28.343Z"
   },
   {
    "duration": 1,
    "start_time": "2024-05-30T06:26:28.345Z"
   },
   {
    "duration": 0,
    "start_time": "2024-05-30T06:26:28.348Z"
   },
   {
    "duration": 0,
    "start_time": "2024-05-30T06:26:28.351Z"
   },
   {
    "duration": 0,
    "start_time": "2024-05-30T06:26:28.357Z"
   },
   {
    "duration": 0,
    "start_time": "2024-05-30T06:26:28.360Z"
   },
   {
    "duration": 0,
    "start_time": "2024-05-30T06:26:28.363Z"
   },
   {
    "duration": 0,
    "start_time": "2024-05-30T06:26:28.367Z"
   },
   {
    "duration": 1,
    "start_time": "2024-05-30T06:26:28.369Z"
   },
   {
    "duration": 0,
    "start_time": "2024-05-30T06:26:28.373Z"
   },
   {
    "duration": 0,
    "start_time": "2024-05-30T06:26:28.376Z"
   },
   {
    "duration": 0,
    "start_time": "2024-05-30T06:26:28.379Z"
   },
   {
    "duration": 0,
    "start_time": "2024-05-30T06:48:21.429Z"
   },
   {
    "duration": 0,
    "start_time": "2024-05-30T06:48:21.432Z"
   },
   {
    "duration": 0,
    "start_time": "2024-05-30T06:48:21.434Z"
   },
   {
    "duration": 0,
    "start_time": "2024-05-30T06:48:21.436Z"
   },
   {
    "duration": 0,
    "start_time": "2024-05-30T06:48:21.438Z"
   },
   {
    "duration": 0,
    "start_time": "2024-05-30T06:48:21.440Z"
   },
   {
    "duration": 0,
    "start_time": "2024-05-30T06:48:21.443Z"
   },
   {
    "duration": 0,
    "start_time": "2024-05-30T06:48:21.445Z"
   },
   {
    "duration": 0,
    "start_time": "2024-05-30T06:48:21.446Z"
   },
   {
    "duration": 0,
    "start_time": "2024-05-30T06:48:21.450Z"
   },
   {
    "duration": 0,
    "start_time": "2024-05-30T06:48:21.452Z"
   },
   {
    "duration": 0,
    "start_time": "2024-05-30T06:48:21.454Z"
   },
   {
    "duration": 0,
    "start_time": "2024-05-30T06:48:21.456Z"
   },
   {
    "duration": 0,
    "start_time": "2024-05-30T06:48:21.457Z"
   },
   {
    "duration": 0,
    "start_time": "2024-05-30T06:48:21.458Z"
   },
   {
    "duration": 0,
    "start_time": "2024-05-30T06:48:21.459Z"
   },
   {
    "duration": 1280,
    "start_time": "2024-05-30T06:50:38.723Z"
   },
   {
    "duration": 48,
    "start_time": "2024-05-30T06:50:40.009Z"
   },
   {
    "duration": 74,
    "start_time": "2024-05-30T06:50:40.060Z"
   },
   {
    "duration": 5,
    "start_time": "2024-05-30T06:50:40.140Z"
   },
   {
    "duration": 1370,
    "start_time": "2024-05-30T06:50:40.149Z"
   },
   {
    "duration": 0,
    "start_time": "2024-05-30T06:50:41.523Z"
   },
   {
    "duration": 1,
    "start_time": "2024-05-30T06:50:41.525Z"
   },
   {
    "duration": 1,
    "start_time": "2024-05-30T06:50:41.527Z"
   },
   {
    "duration": 0,
    "start_time": "2024-05-30T06:50:41.530Z"
   },
   {
    "duration": 0,
    "start_time": "2024-05-30T06:50:41.533Z"
   },
   {
    "duration": 0,
    "start_time": "2024-05-30T06:50:41.535Z"
   },
   {
    "duration": 0,
    "start_time": "2024-05-30T06:50:41.537Z"
   },
   {
    "duration": 0,
    "start_time": "2024-05-30T06:50:41.540Z"
   },
   {
    "duration": 0,
    "start_time": "2024-05-30T06:50:41.543Z"
   },
   {
    "duration": 0,
    "start_time": "2024-05-30T06:50:41.544Z"
   },
   {
    "duration": 0,
    "start_time": "2024-05-30T06:50:41.546Z"
   },
   {
    "duration": 0,
    "start_time": "2024-05-30T06:50:41.547Z"
   },
   {
    "duration": 0,
    "start_time": "2024-05-30T06:50:41.549Z"
   },
   {
    "duration": 0,
    "start_time": "2024-05-30T06:50:41.551Z"
   },
   {
    "duration": 1,
    "start_time": "2024-05-30T06:50:41.552Z"
   },
   {
    "duration": 0,
    "start_time": "2024-05-30T06:50:41.556Z"
   },
   {
    "duration": 0,
    "start_time": "2024-05-30T06:50:41.558Z"
   },
   {
    "duration": 0,
    "start_time": "2024-05-30T06:50:41.561Z"
   },
   {
    "duration": 1,
    "start_time": "2024-05-30T06:50:41.563Z"
   },
   {
    "duration": 110,
    "start_time": "2024-05-30T06:54:37.701Z"
   },
   {
    "duration": 37,
    "start_time": "2024-05-30T06:55:20.677Z"
   },
   {
    "duration": 43,
    "start_time": "2024-05-30T06:55:21.655Z"
   },
   {
    "duration": 678,
    "start_time": "2024-05-30T06:57:25.662Z"
   },
   {
    "duration": 1582,
    "start_time": "2024-05-30T06:57:31.576Z"
   },
   {
    "duration": 0,
    "start_time": "2024-05-30T06:57:33.161Z"
   },
   {
    "duration": 145,
    "start_time": "2024-05-30T06:58:01.827Z"
   },
   {
    "duration": 44,
    "start_time": "2024-05-30T06:58:08.068Z"
   },
   {
    "duration": 540,
    "start_time": "2024-05-30T06:58:10.973Z"
   },
   {
    "duration": 467,
    "start_time": "2024-05-30T06:58:11.960Z"
   },
   {
    "duration": 1653,
    "start_time": "2024-05-30T06:59:13.597Z"
   },
   {
    "duration": 292,
    "start_time": "2024-05-30T06:59:36.215Z"
   },
   {
    "duration": 268,
    "start_time": "2024-05-30T06:59:36.838Z"
   },
   {
    "duration": 503,
    "start_time": "2024-05-30T06:59:37.956Z"
   },
   {
    "duration": 374,
    "start_time": "2024-05-30T06:59:38.462Z"
   },
   {
    "duration": 698,
    "start_time": "2024-05-30T06:59:38.840Z"
   },
   {
    "duration": 692,
    "start_time": "2024-05-30T07:00:53.530Z"
   },
   {
    "duration": 442,
    "start_time": "2024-05-30T07:00:54.227Z"
   },
   {
    "duration": 406,
    "start_time": "2024-05-30T07:00:54.673Z"
   },
   {
    "duration": 15,
    "start_time": "2024-05-30T07:00:55.083Z"
   },
   {
    "duration": 15,
    "start_time": "2024-05-30T07:00:55.122Z"
   },
   {
    "duration": 1227,
    "start_time": "2024-05-30T21:39:57.452Z"
   },
   {
    "duration": 73,
    "start_time": "2024-05-30T21:39:58.683Z"
   },
   {
    "duration": 60,
    "start_time": "2024-05-30T21:39:58.762Z"
   },
   {
    "duration": 6,
    "start_time": "2024-05-30T21:39:58.829Z"
   },
   {
    "duration": 1581,
    "start_time": "2024-05-30T21:39:58.838Z"
   },
   {
    "duration": 0,
    "start_time": "2024-05-30T21:40:00.429Z"
   },
   {
    "duration": 1,
    "start_time": "2024-05-30T21:40:00.434Z"
   },
   {
    "duration": 0,
    "start_time": "2024-05-30T21:40:00.441Z"
   },
   {
    "duration": 0,
    "start_time": "2024-05-30T21:40:00.443Z"
   },
   {
    "duration": 0,
    "start_time": "2024-05-30T21:40:00.446Z"
   },
   {
    "duration": 0,
    "start_time": "2024-05-30T21:40:00.455Z"
   },
   {
    "duration": 0,
    "start_time": "2024-05-30T21:40:00.460Z"
   },
   {
    "duration": 0,
    "start_time": "2024-05-30T21:40:00.465Z"
   },
   {
    "duration": 0,
    "start_time": "2024-05-30T21:40:00.467Z"
   },
   {
    "duration": 0,
    "start_time": "2024-05-30T21:40:00.469Z"
   },
   {
    "duration": 0,
    "start_time": "2024-05-30T21:40:00.472Z"
   },
   {
    "duration": 0,
    "start_time": "2024-05-30T21:40:00.474Z"
   },
   {
    "duration": 0,
    "start_time": "2024-05-30T21:40:00.476Z"
   },
   {
    "duration": 0,
    "start_time": "2024-05-30T21:40:00.478Z"
   },
   {
    "duration": 0,
    "start_time": "2024-05-30T21:40:00.481Z"
   },
   {
    "duration": 0,
    "start_time": "2024-05-30T21:40:00.482Z"
   },
   {
    "duration": 0,
    "start_time": "2024-05-30T21:40:00.511Z"
   },
   {
    "duration": 0,
    "start_time": "2024-05-30T21:40:00.513Z"
   },
   {
    "duration": 0,
    "start_time": "2024-05-30T21:40:00.515Z"
   },
   {
    "duration": 0,
    "start_time": "2024-05-30T21:40:00.517Z"
   }
  ],
  "kernelspec": {
   "display_name": "Python 3 (ipykernel)",
   "language": "python",
   "name": "python3"
  },
  "language_info": {
   "codemirror_mode": {
    "name": "ipython",
    "version": 3
   },
   "file_extension": ".py",
   "mimetype": "text/x-python",
   "name": "python",
   "nbconvert_exporter": "python",
   "pygments_lexer": "ipython3",
   "version": "3.11.7"
  },
  "toc": {
   "base_numbering": 1,
   "nav_menu": {},
   "number_sections": true,
   "sideBar": true,
   "skip_h1_title": false,
   "title_cell": "Table of Contents",
   "title_sidebar": "Contents",
   "toc_cell": false,
   "toc_position": {},
   "toc_section_display": true,
   "toc_window_display": false
  }
 },
 "nbformat": 4,
 "nbformat_minor": 4
}
