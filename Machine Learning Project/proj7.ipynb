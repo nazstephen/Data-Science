{
 "cells": [
  {
   "cell_type": "markdown",
   "metadata": {},
   "source": [
    "# Machine Learning Project <a id='intro'></a>"
   ]
  },
  {
   "cell_type": "markdown",
   "metadata": {},
   "source": [
    "## Project Description\n",
    "\n",
    "Mobile carrier Megaline has found out that many of their subscribers use legacy plans. They want to develop a model that would analyze subscribers' behavior and recommend one of Megaline's newer plans: Smart or Ultra.\n",
    "\n",
    "You have access to behavior data about subscribers who have already switched to the new plans. For this classification task, you need to develop a model that will pick the right plan. Since you’ve already performed the data preprocessing step, you can move straight to creating the model.\n",
    "\n",
    "Develop a model with the highest possible accuracy. In this project, the threshold for accuracy is 0.75. Check the accuracy using the test dataset.\n",
    "\n",
    "## Project Instructions\n",
    "\n",
    "1) Open and look through the data file. Path to the file: `datasets/users_behavior.csv`\n",
    "2) Split the source data into a training set, a validation set, and a test set.\n",
    "3) Investigate the quality of different models by changing hyperparameters. Briefly describe the findings of the study.\n",
    "4) Check the quality of the model using the test set.\n",
    "5) Sanity check the model.\n",
    "\n",
    "## Data Description\n",
    "Every observation in the dataset contains monthly behavior information about one user. The information given is as follows: \n",
    "- **сalls** — number of calls\n",
    "- **minutes** — total call duration in minutes\n",
    "- **messages** — number of text messages\n",
    "- **mb_used** — Internet traffic used in MB\n",
    "- **is_ultra** — plan for the current month (Ultra - 1, Smart - 0)\n"
   ]
  },
  {
   "cell_type": "markdown",
   "metadata": {},
   "source": [
    "## Initialization"
   ]
  },
  {
   "cell_type": "code",
   "execution_count": 1,
   "metadata": {},
   "outputs": [],
   "source": [
    "# Loading all the libraries\n",
    "import pandas as pd\n",
    "from sklearn.tree import DecisionTreeClassifier\n",
    "from sklearn.ensemble import RandomForestClassifier\n",
    "from sklearn.linear_model import LogisticRegression\n",
    "from sklearn.metrics import accuracy_score\n",
    "from sklearn.model_selection import train_test_split"
   ]
  },
  {
   "cell_type": "markdown",
   "metadata": {},
   "source": [
    "## Load data"
   ]
  },
  {
   "cell_type": "code",
   "execution_count": 2,
   "metadata": {},
   "outputs": [
    {
     "name": "stdout",
     "output_type": "stream",
     "text": [
      "CSV file successfully read from the local path.\n"
     ]
    }
   ],
   "source": [
    "# Load 'users_behavior.csv' into a data frame\n",
    "try:\n",
    "    # Try to read the CSV file from the local path.\n",
    "    users_behavior_df = pd.read_csv('/Users/benjaminstephen/Documents/TripleTen/Sprint_7/Machine_Learning_Project/datasets/users_behavior.csv')\n",
    "except FileNotFoundError:\n",
    "    try:\n",
    "        # Try to read the CSV file from the server path\n",
    "        users_behavior_df = pd.read_csv('/datasets/users_behavior.csv')\n",
    "        print(\"CSV file successfully read from the server path.\")\n",
    "    except FileNotFoundError:\n",
    "        print(\"CSV file not found. Please check the file paths.\")\n",
    "else:\n",
    "    print(\"CSV file successfully read from the local path.\")"
   ]
  },
  {
   "cell_type": "code",
   "execution_count": 3,
   "metadata": {},
   "outputs": [
    {
     "name": "stdout",
     "output_type": "stream",
     "text": [
      "USERS BEHAVIOR DATA FRAME FRAME INFO:\n",
      "<class 'pandas.core.frame.DataFrame'>\n",
      "RangeIndex: 3214 entries, 0 to 3213\n",
      "Data columns (total 5 columns):\n",
      " #   Column    Non-Null Count  Dtype  \n",
      "---  ------    --------------  -----  \n",
      " 0   calls     3214 non-null   float64\n",
      " 1   minutes   3214 non-null   float64\n",
      " 2   messages  3214 non-null   float64\n",
      " 3   mb_used   3214 non-null   float64\n",
      " 4   is_ultra  3214 non-null   int64  \n",
      "dtypes: float64(4), int64(1)\n",
      "memory usage: 125.7 KB\n",
      "\n",
      "PERCENTAGE OF NULL VALUES:\n",
      "calls       0.0\n",
      "minutes     0.0\n",
      "messages    0.0\n",
      "mb_used     0.0\n",
      "is_ultra    0.0\n",
      "dtype: float64\n",
      "\n",
      "USERS BEHAVIOR DATA FRAME:\n"
     ]
    },
    {
     "data": {
      "text/html": [
       "<div>\n",
       "<style scoped>\n",
       "    .dataframe tbody tr th:only-of-type {\n",
       "        vertical-align: middle;\n",
       "    }\n",
       "\n",
       "    .dataframe tbody tr th {\n",
       "        vertical-align: top;\n",
       "    }\n",
       "\n",
       "    .dataframe thead th {\n",
       "        text-align: right;\n",
       "    }\n",
       "</style>\n",
       "<table border=\"1\" class=\"dataframe\">\n",
       "  <thead>\n",
       "    <tr style=\"text-align: right;\">\n",
       "      <th></th>\n",
       "      <th>calls</th>\n",
       "      <th>minutes</th>\n",
       "      <th>messages</th>\n",
       "      <th>mb_used</th>\n",
       "      <th>is_ultra</th>\n",
       "    </tr>\n",
       "  </thead>\n",
       "  <tbody>\n",
       "    <tr>\n",
       "      <th>0</th>\n",
       "      <td>40.0</td>\n",
       "      <td>311.90</td>\n",
       "      <td>83.0</td>\n",
       "      <td>19915.42</td>\n",
       "      <td>0</td>\n",
       "    </tr>\n",
       "    <tr>\n",
       "      <th>1</th>\n",
       "      <td>85.0</td>\n",
       "      <td>516.75</td>\n",
       "      <td>56.0</td>\n",
       "      <td>22696.96</td>\n",
       "      <td>0</td>\n",
       "    </tr>\n",
       "    <tr>\n",
       "      <th>2</th>\n",
       "      <td>77.0</td>\n",
       "      <td>467.66</td>\n",
       "      <td>86.0</td>\n",
       "      <td>21060.45</td>\n",
       "      <td>0</td>\n",
       "    </tr>\n",
       "    <tr>\n",
       "      <th>3</th>\n",
       "      <td>106.0</td>\n",
       "      <td>745.53</td>\n",
       "      <td>81.0</td>\n",
       "      <td>8437.39</td>\n",
       "      <td>1</td>\n",
       "    </tr>\n",
       "    <tr>\n",
       "      <th>4</th>\n",
       "      <td>66.0</td>\n",
       "      <td>418.74</td>\n",
       "      <td>1.0</td>\n",
       "      <td>14502.75</td>\n",
       "      <td>0</td>\n",
       "    </tr>\n",
       "    <tr>\n",
       "      <th>...</th>\n",
       "      <td>...</td>\n",
       "      <td>...</td>\n",
       "      <td>...</td>\n",
       "      <td>...</td>\n",
       "      <td>...</td>\n",
       "    </tr>\n",
       "    <tr>\n",
       "      <th>3209</th>\n",
       "      <td>122.0</td>\n",
       "      <td>910.98</td>\n",
       "      <td>20.0</td>\n",
       "      <td>35124.90</td>\n",
       "      <td>1</td>\n",
       "    </tr>\n",
       "    <tr>\n",
       "      <th>3210</th>\n",
       "      <td>25.0</td>\n",
       "      <td>190.36</td>\n",
       "      <td>0.0</td>\n",
       "      <td>3275.61</td>\n",
       "      <td>0</td>\n",
       "    </tr>\n",
       "    <tr>\n",
       "      <th>3211</th>\n",
       "      <td>97.0</td>\n",
       "      <td>634.44</td>\n",
       "      <td>70.0</td>\n",
       "      <td>13974.06</td>\n",
       "      <td>0</td>\n",
       "    </tr>\n",
       "    <tr>\n",
       "      <th>3212</th>\n",
       "      <td>64.0</td>\n",
       "      <td>462.32</td>\n",
       "      <td>90.0</td>\n",
       "      <td>31239.78</td>\n",
       "      <td>0</td>\n",
       "    </tr>\n",
       "    <tr>\n",
       "      <th>3213</th>\n",
       "      <td>80.0</td>\n",
       "      <td>566.09</td>\n",
       "      <td>6.0</td>\n",
       "      <td>29480.52</td>\n",
       "      <td>1</td>\n",
       "    </tr>\n",
       "  </tbody>\n",
       "</table>\n",
       "<p>3214 rows × 5 columns</p>\n",
       "</div>"
      ],
      "text/plain": [
       "      calls  minutes  messages   mb_used  is_ultra\n",
       "0      40.0   311.90      83.0  19915.42         0\n",
       "1      85.0   516.75      56.0  22696.96         0\n",
       "2      77.0   467.66      86.0  21060.45         0\n",
       "3     106.0   745.53      81.0   8437.39         1\n",
       "4      66.0   418.74       1.0  14502.75         0\n",
       "...     ...      ...       ...       ...       ...\n",
       "3209  122.0   910.98      20.0  35124.90         1\n",
       "3210   25.0   190.36       0.0   3275.61         0\n",
       "3211   97.0   634.44      70.0  13974.06         0\n",
       "3212   64.0   462.32      90.0  31239.78         0\n",
       "3213   80.0   566.09       6.0  29480.52         1\n",
       "\n",
       "[3214 rows x 5 columns]"
      ]
     },
     "metadata": {},
     "output_type": "display_data"
    },
    {
     "name": "stdout",
     "output_type": "stream",
     "text": [
      "\n"
     ]
    }
   ],
   "source": [
    "# Print the general/summary information about 'users_behavior_df'\n",
    "print(\"USERS BEHAVIOR DATA FRAME FRAME INFO:\")\n",
    "users_behavior_df.info()\n",
    "print()\n",
    "\n",
    "print(\"PERCENTAGE OF NULL VALUES:\")\n",
    "print(users_behavior_df.isnull().sum()/len(users_behavior_df))\n",
    "print()\n",
    "\n",
    "print(\"USERS BEHAVIOR FRAME:\")\n",
    "display(users_behavior_df)\n",
    "print()"
   ]
  },
  {
   "cell_type": "markdown",
   "metadata": {},
   "source": [
    "The 'Users Behaviors' DataFrame consists of 3214 entries with 5 columns: calls, minutes, messages, mb_used, and is_ultra. All columns are fully populated with no missing values, as indicated by the non-null counts matching the total entries. The data types are appropriate for the variables, with four columns as float64 and one as int64. The memory usage is 125.7 KB, which is efficient for this data size. There are no immediate errors in the data, as all columns are of expected types and fully populated, suggesting data integrity is maintained."
   ]
  },
  {
   "cell_type": "markdown",
   "metadata": {},
   "source": [
    "## Split Data"
   ]
  },
  {
   "cell_type": "code",
   "execution_count": 4,
   "metadata": {},
   "outputs": [
    {
     "name": "stdout",
     "output_type": "stream",
     "text": [
      "Training Feature Set Size: (1928, 4)\n",
      "Training Target Set Size: (1928,)\n",
      "\n",
      "Validation Feature Set Size: (643, 4)\n",
      "Validation Target Set Size: (643,)\n",
      "\n",
      "Test Feature Set Size: (643, 4)\n",
      "Test Target Set Size: (643,)\n"
     ]
    }
   ],
   "source": [
    "# Extract the features\n",
    "features = users_behavior_df.drop(['is_ultra'], axis=1)\n",
    "\n",
    "# Extract the target\n",
    "target = users_behavior_df['is_ultra']\n",
    "\n",
    "# Split 60% training and 40% temp (validation + test)\n",
    "features_train, features_temp, target_train, target_temp = train_test_split(\n",
    "    features, \n",
    "    target, \n",
    "    test_size=0.4, \n",
    "    random_state=12345)\n",
    "\n",
    "# Split 50% validation and 50% test from the temp set\n",
    "features_valid, features_test, target_valid, target_test = train_test_split(\n",
    "    features_temp, \n",
    "    target_temp, \n",
    "    test_size=0.5, \n",
    "    random_state=12345)\n",
    "\n",
    "# Print the dimensions of eacg dataset\n",
    "print('Training Feature Set Size:', features_train.shape)\n",
    "print('Training Target Set Size:', target_train.shape)\n",
    "print()\n",
    "print('Validation Feature Set Size:', features_valid.shape)\n",
    "print('Validation Target Set Size:', target_valid.shape)\n",
    "print()\n",
    "print('Test Feature Set Size:', features_test.shape)\n",
    "print('Test Target Set Size:', target_test.shape)"
   ]
  },
  {
   "cell_type": "markdown",
   "metadata": {},
   "source": [
    "Here we are splitting the source data into training (60%), validation (20%), and test (20%) sets. We split the data in a 3:1:1 ratio because the test data is derived from the source data itself. If the test data were separate, we would only need to split the source data into training and validation sets, making the validation set 25% of the source data to maintain a comparable split ratio.\n",
    "\n",
    "Now that the data is split properly we will investigate the quality of different classifer models."
   ]
  },
  {
   "cell_type": "markdown",
   "metadata": {},
   "source": [
    "## Model Investigation\n",
    "### Decision Tree"
   ]
  },
  {
   "cell_type": "code",
   "execution_count": 5,
   "metadata": {},
   "outputs": [
    {
     "name": "stdout",
     "output_type": "stream",
     "text": [
      "Accuracy of the best Decisiotn Tree model on the validation set (max_depth = 3): 0.7216174183514774\n"
     ]
    }
   ],
   "source": [
    "# Create a loop for max_depth from 1 to 21\n",
    "dt_best_score = 0\n",
    "best_depth = 0\n",
    "for depth in range(1, 21):\n",
    "        # Create a Decision Tree model, specify max_depth=depth\n",
    "        dt_model = DecisionTreeClassifier(random_state=12345, max_depth=depth)\n",
    "    \n",
    "        # Train the model on training set\n",
    "        dt_model.fit(features_train, target_train)\n",
    "\n",
    "        # Calculate accuracy score on validation set\n",
    "        dt_score = dt_model.score(features_valid, target_valid)\n",
    "        if dt_score > dt_best_score:\n",
    "                dt_best_score = dt_score # save best accuracy score on validation set\n",
    "                best_depth = depth # save the max tree depth corresponding to best accuracy score\n",
    "\n",
    "print(\"Accuracy of the best Decisiotn Tree model on the validation set (max_depth = {}): {}\".format(best_depth, dt_score))"
   ]
  },
  {
   "cell_type": "markdown",
   "metadata": {},
   "source": [
    "### Random Forest"
   ]
  },
  {
   "cell_type": "code",
   "execution_count": 6,
   "metadata": {},
   "outputs": [
    {
     "name": "stdout",
     "output_type": "stream",
     "text": [
      "Accuracy of the best Random Forest model on the validation set (n_estimators = 23): 0.7947122861586314\n"
     ]
    }
   ],
   "source": [
    "# Create a loop for n_estimators from 1 to 101\n",
    "rf_best_score = 0\n",
    "best_est = 0\n",
    "for est in range(1, 101): # choose hyperparameter range\n",
    "    # Create a Random Forest model, specify n_estimators=est\n",
    "    rf_model = RandomForestClassifier(random_state=12345, n_estimators=est)\n",
    "    \n",
    "    # Train the model training set\n",
    "    rf_model.fit(features_train, target_train)\n",
    "\n",
    "    # Calculate accuracy score on validation set\n",
    "    rf_score = rf_model.score(features_valid, target_valid)\n",
    "    if rf_score > rf_best_score:\n",
    "        rf_best_score = rf_score # save best accuracy score on validation set\n",
    "        best_est = est # save number of estimators corresponding to best accuracy score\n",
    "\n",
    "print(\"Accuracy of the best Random Forest model on the validation set (n_estimators = {}): {}\".format(best_est, rf_best_score))"
   ]
  },
  {
   "cell_type": "markdown",
   "metadata": {},
   "source": [
    "### Logistics Regression"
   ]
  },
  {
   "cell_type": "code",
   "execution_count": 7,
   "metadata": {},
   "outputs": [
    {
     "name": "stdout",
     "output_type": "stream",
     "text": [
      "Accuracy of the Logistic Regression model on the validation set: 0.7589424572317263\n"
     ]
    }
   ],
   "source": [
    "# Create a Logistics Regression model, specify solver='liblinear'\n",
    "lr_model = LogisticRegression(random_state=12345, solver='liblinear')\n",
    "\n",
    "# Train model on training set\n",
    "lr_model.fit(features_train, target_train)\n",
    "\n",
    "# Calculate accuracy score on validation set\n",
    "lr_score = lr_model.score(features_valid, target_valid)\n",
    "\n",
    "print(\"Accuracy of the Logistic Regression model on the validation set:\", lr_score)"
   ]
  },
  {
   "cell_type": "markdown",
   "metadata": {},
   "source": [
    "Based on the validation set accuracies of the three models tested, the Random Forest model, with an accuracy of 0.7947, outperforms the Decision Tree (0.7138) and Logistic Regression (0.7589) models. Therefore, the Random Forest model is the best choice based on accuracy. \n",
    "\n",
    "We will conduct a final test using the Random Forest model, with the hyperparameter 'n_estimators' set to 23, as this configuration yielded the highest accuracy during validation."
   ]
  },
  {
   "cell_type": "markdown",
   "metadata": {},
   "source": [
    "## Final Test"
   ]
  },
  {
   "cell_type": "code",
   "execution_count": 8,
   "metadata": {},
   "outputs": [
    {
     "name": "stdout",
     "output_type": "stream",
     "text": [
      "Accuracy of the final Random Forest model on the test set: 0.7807153965785381\n"
     ]
    }
   ],
   "source": [
    "# Create a model, specify n_estimators=23 (best_est)\n",
    "final_model = RandomForestClassifier(random_state=12345, n_estimators=23)\n",
    "\n",
    "# Train final model on training set\n",
    "final_model.fit(features_train, target_train)\n",
    "\n",
    "# Calculate accuracy score on test set\n",
    "final_score = final_model.score(features_test, target_test)\n",
    "\n",
    "print(\"Accuracy of the final Random Forest model on the test set:\", final_score)"
   ]
  },
  {
   "cell_type": "markdown",
   "metadata": {},
   "source": [
    "The final Random Forest model, with n_estimators set to 23, achieved a slightly lower accuracy of 0.7807 on the test set compared to 0.7947 on the validation set, indicating good but slightly reduced performance on unseen data. Still, the model performs reasonably well in predicting whether a customer will opt for the Ultra plan or not based on the given features.\n",
    "\n",
    "Let's perform a quick sanity check to ensure the accuracy of the results."
   ]
  },
  {
   "cell_type": "markdown",
   "metadata": {},
   "source": [
    "## Sanity Check"
   ]
  },
  {
   "cell_type": "code",
   "execution_count": 9,
   "metadata": {},
   "outputs": [
    {
     "data": {
      "text/html": [
       "<div>\n",
       "<style scoped>\n",
       "    .dataframe tbody tr th:only-of-type {\n",
       "        vertical-align: middle;\n",
       "    }\n",
       "\n",
       "    .dataframe tbody tr th {\n",
       "        vertical-align: top;\n",
       "    }\n",
       "\n",
       "    .dataframe thead th {\n",
       "        text-align: right;\n",
       "    }\n",
       "</style>\n",
       "<table border=\"1\" class=\"dataframe\">\n",
       "  <thead>\n",
       "    <tr style=\"text-align: right;\">\n",
       "      <th></th>\n",
       "      <th>calls</th>\n",
       "      <th>minutes</th>\n",
       "      <th>messages</th>\n",
       "      <th>mb_used</th>\n",
       "      <th>is_ultra</th>\n",
       "      <th>predictions</th>\n",
       "    </tr>\n",
       "  </thead>\n",
       "  <tbody>\n",
       "    <tr>\n",
       "      <th>160</th>\n",
       "      <td>61.0</td>\n",
       "      <td>495.11</td>\n",
       "      <td>8.0</td>\n",
       "      <td>10891.23</td>\n",
       "      <td>0</td>\n",
       "      <td>0</td>\n",
       "    </tr>\n",
       "    <tr>\n",
       "      <th>2498</th>\n",
       "      <td>80.0</td>\n",
       "      <td>555.04</td>\n",
       "      <td>28.0</td>\n",
       "      <td>28083.58</td>\n",
       "      <td>0</td>\n",
       "      <td>1</td>\n",
       "    </tr>\n",
       "    <tr>\n",
       "      <th>1748</th>\n",
       "      <td>87.0</td>\n",
       "      <td>697.23</td>\n",
       "      <td>0.0</td>\n",
       "      <td>8335.70</td>\n",
       "      <td>0</td>\n",
       "      <td>1</td>\n",
       "    </tr>\n",
       "    <tr>\n",
       "      <th>1816</th>\n",
       "      <td>41.0</td>\n",
       "      <td>275.80</td>\n",
       "      <td>9.0</td>\n",
       "      <td>10032.39</td>\n",
       "      <td>0</td>\n",
       "      <td>1</td>\n",
       "    </tr>\n",
       "    <tr>\n",
       "      <th>1077</th>\n",
       "      <td>60.0</td>\n",
       "      <td>428.49</td>\n",
       "      <td>20.0</td>\n",
       "      <td>29389.52</td>\n",
       "      <td>1</td>\n",
       "      <td>0</td>\n",
       "    </tr>\n",
       "    <tr>\n",
       "      <th>...</th>\n",
       "      <td>...</td>\n",
       "      <td>...</td>\n",
       "      <td>...</td>\n",
       "      <td>...</td>\n",
       "      <td>...</td>\n",
       "      <td>...</td>\n",
       "    </tr>\n",
       "    <tr>\n",
       "      <th>2401</th>\n",
       "      <td>55.0</td>\n",
       "      <td>446.06</td>\n",
       "      <td>79.0</td>\n",
       "      <td>26526.28</td>\n",
       "      <td>0</td>\n",
       "      <td>1</td>\n",
       "    </tr>\n",
       "    <tr>\n",
       "      <th>2928</th>\n",
       "      <td>102.0</td>\n",
       "      <td>742.65</td>\n",
       "      <td>58.0</td>\n",
       "      <td>16089.24</td>\n",
       "      <td>1</td>\n",
       "      <td>0</td>\n",
       "    </tr>\n",
       "    <tr>\n",
       "      <th>1985</th>\n",
       "      <td>52.0</td>\n",
       "      <td>349.94</td>\n",
       "      <td>42.0</td>\n",
       "      <td>12150.72</td>\n",
       "      <td>0</td>\n",
       "      <td>0</td>\n",
       "    </tr>\n",
       "    <tr>\n",
       "      <th>357</th>\n",
       "      <td>39.0</td>\n",
       "      <td>221.18</td>\n",
       "      <td>59.0</td>\n",
       "      <td>17865.23</td>\n",
       "      <td>0</td>\n",
       "      <td>0</td>\n",
       "    </tr>\n",
       "    <tr>\n",
       "      <th>2313</th>\n",
       "      <td>40.0</td>\n",
       "      <td>301.03</td>\n",
       "      <td>102.0</td>\n",
       "      <td>6057.63</td>\n",
       "      <td>0</td>\n",
       "      <td>1</td>\n",
       "    </tr>\n",
       "  </tbody>\n",
       "</table>\n",
       "<p>643 rows × 6 columns</p>\n",
       "</div>"
      ],
      "text/plain": [
       "      calls  minutes  messages   mb_used  is_ultra  predictions\n",
       "160    61.0   495.11       8.0  10891.23         0            0\n",
       "2498   80.0   555.04      28.0  28083.58         0            1\n",
       "1748   87.0   697.23       0.0   8335.70         0            1\n",
       "1816   41.0   275.80       9.0  10032.39         0            1\n",
       "1077   60.0   428.49      20.0  29389.52         1            0\n",
       "...     ...      ...       ...       ...       ...          ...\n",
       "2401   55.0   446.06      79.0  26526.28         0            1\n",
       "2928  102.0   742.65      58.0  16089.24         1            0\n",
       "1985   52.0   349.94      42.0  12150.72         0            0\n",
       "357    39.0   221.18      59.0  17865.23         0            0\n",
       "2313   40.0   301.03     102.0   6057.63         0            1\n",
       "\n",
       "[643 rows x 6 columns]"
      ]
     },
     "metadata": {},
     "output_type": "display_data"
    },
    {
     "name": "stdout",
     "output_type": "stream",
     "text": [
      "Error Count: 141\n",
      "Accuracy: 0.7807153965785381\n"
     ]
    }
   ],
   "source": [
    "# Add the actual target values and predictions to  the features_test data frame\n",
    "predictions_test = final_model.predict(features_test)\n",
    "features_test['is_ultra'] = target_test\n",
    "features_test['predictions'] = predictions_test\n",
    "display(features_test)\n",
    "\n",
    "# Manually calculate number of correct predictions and overall accuracy of the final model\n",
    "count = 0\n",
    "for i in range(len(features_test)):\n",
    "    if features_test.iloc[i]['predictions'] == features_test.iloc[i]['is_ultra']:\n",
    "        count += 1\n",
    "\n",
    "print(\"Error Count:\", len(features_test) - count)\n",
    "print(\"Accuracy:\", count/len(features_test))\n"
   ]
  },
  {
   "cell_type": "markdown",
   "metadata": {},
   "source": [
    "The accuracy of the final Random Forest model on the test set is approximately 78.07%, indicating that it correctly classified 78.07% of the instances in the test data."
   ]
  },
  {
   "cell_type": "markdown",
   "metadata": {},
   "source": [
    "## Conclusion"
   ]
  },
  {
   "cell_type": "markdown",
   "metadata": {},
   "source": [
    "In conclusion, the analysis of subscriber behavior data from Megaline suggests that a Random Forest model with 23 estimators is the most effective in predicting whether customers will opt for the Ultra plan. This model demonstrated a solid accuracy of 78.07% on unseen test data, meeting the project's threshold. Despite a slight drop in performance from validation to test, the model's reliability in recommending appropriate plans remains evident. Moving forward, implementing this model could significantly aid Megaline in transitioning subscribers from legacy plans to newer, more suitable options, ultimately improving customer satisfaction and company revenue."
   ]
  }
 ],
 "metadata": {
  "ExecuteTimeLog": [
   {
    "duration": 828,
    "start_time": "2021-11-16T09:21:11.304Z"
   },
   {
    "duration": 893,
    "start_time": "2021-11-16T09:21:17.728Z"
   },
   {
    "duration": 1150,
    "start_time": "2021-11-16T09:21:29.568Z"
   },
   {
    "duration": 3,
    "start_time": "2021-11-16T09:24:14.495Z"
   },
   {
    "duration": 120,
    "start_time": "2021-11-16T09:24:46.630Z"
   },
   {
    "duration": 3,
    "start_time": "2021-11-16T09:28:27.882Z"
   },
   {
    "duration": 4,
    "start_time": "2021-11-16T09:29:54.281Z"
   },
   {
    "duration": 3,
    "start_time": "2021-11-16T09:30:45.936Z"
   },
   {
    "duration": 4,
    "start_time": "2021-11-16T09:31:06.300Z"
   },
   {
    "duration": 113,
    "start_time": "2021-11-16T09:31:37.208Z"
   },
   {
    "duration": 143,
    "start_time": "2021-11-16T09:31:48.656Z"
   },
   {
    "duration": 98,
    "start_time": "2021-11-16T09:31:55.678Z"
   },
   {
    "duration": 3,
    "start_time": "2021-11-16T09:32:08.535Z"
   },
   {
    "duration": 111,
    "start_time": "2021-11-16T09:32:10.120Z"
   },
   {
    "duration": 3,
    "start_time": "2021-11-16T09:32:15.732Z"
   },
   {
    "duration": 4,
    "start_time": "2021-11-16T09:32:29.423Z"
   },
   {
    "duration": 3,
    "start_time": "2021-11-16T10:03:03.074Z"
   },
   {
    "duration": 3,
    "start_time": "2021-11-16T10:10:01.288Z"
   },
   {
    "duration": 3,
    "start_time": "2021-11-16T10:10:46.923Z"
   },
   {
    "duration": 121,
    "start_time": "2021-11-16T10:37:46.494Z"
   },
   {
    "duration": 125,
    "start_time": "2021-11-16T10:38:20.632Z"
   },
   {
    "duration": 112,
    "start_time": "2021-11-16T10:46:53.001Z"
   },
   {
    "duration": 110,
    "start_time": "2021-11-16T10:48:25.775Z"
   },
   {
    "duration": 3,
    "start_time": "2021-11-16T10:50:18.720Z"
   },
   {
    "duration": 4,
    "start_time": "2021-11-16T10:50:37.649Z"
   },
   {
    "duration": 2,
    "start_time": "2021-11-16T10:50:51.884Z"
   },
   {
    "duration": 3,
    "start_time": "2021-11-16T10:51:56.237Z"
   },
   {
    "duration": 101,
    "start_time": "2021-11-16T10:53:13.791Z"
   },
   {
    "duration": 3,
    "start_time": "2021-11-16T10:55:59.186Z"
   },
   {
    "duration": 3,
    "start_time": "2021-11-16T10:56:10.751Z"
   },
   {
    "duration": 3,
    "start_time": "2021-11-16T10:56:49.038Z"
   },
   {
    "duration": 3,
    "start_time": "2021-11-16T10:56:49.174Z"
   },
   {
    "duration": 4,
    "start_time": "2021-11-16T10:56:49.414Z"
   },
   {
    "duration": 3,
    "start_time": "2021-11-16T10:56:49.680Z"
   },
   {
    "duration": 3,
    "start_time": "2021-11-16T10:56:50.370Z"
   },
   {
    "duration": 114,
    "start_time": "2021-11-16T10:59:34.518Z"
   },
   {
    "duration": 3,
    "start_time": "2021-11-16T11:01:41.201Z"
   },
   {
    "duration": 116,
    "start_time": "2021-11-16T11:01:48.754Z"
   },
   {
    "duration": 3,
    "start_time": "2021-11-16T11:02:16.685Z"
   },
   {
    "duration": 3,
    "start_time": "2021-11-16T11:02:19.479Z"
   },
   {
    "duration": 3,
    "start_time": "2021-11-16T11:02:47.067Z"
   },
   {
    "duration": 3,
    "start_time": "2021-11-16T11:02:49.353Z"
   },
   {
    "duration": 3,
    "start_time": "2021-11-16T11:03:07.835Z"
   },
   {
    "duration": 3,
    "start_time": "2021-11-16T11:03:07.953Z"
   },
   {
    "duration": 112,
    "start_time": "2021-11-16T11:07:52.072Z"
   },
   {
    "duration": 187,
    "start_time": "2021-11-16T11:09:23.468Z"
   },
   {
    "duration": 4,
    "start_time": "2021-11-16T11:10:01.455Z"
   },
   {
    "duration": 3,
    "start_time": "2021-11-16T11:10:05.069Z"
   },
   {
    "duration": 4,
    "start_time": "2021-11-16T11:10:13.376Z"
   },
   {
    "duration": 3,
    "start_time": "2021-11-16T11:10:14.434Z"
   },
   {
    "duration": 3,
    "start_time": "2021-11-16T11:10:22.853Z"
   },
   {
    "duration": 4,
    "start_time": "2021-11-16T11:27:29.279Z"
   },
   {
    "duration": 4,
    "start_time": "2021-11-16T11:29:08.919Z"
   },
   {
    "duration": 118,
    "start_time": "2021-11-16T11:29:46.703Z"
   },
   {
    "duration": 437,
    "start_time": "2021-11-16T11:36:02.181Z"
   },
   {
    "duration": 157,
    "start_time": "2021-11-16T11:36:14.388Z"
   },
   {
    "duration": 207,
    "start_time": "2021-11-16T11:47:15.898Z"
   },
   {
    "duration": 3,
    "start_time": "2021-11-16T11:53:52.092Z"
   },
   {
    "duration": 3,
    "start_time": "2021-11-16T11:53:52.236Z"
   },
   {
    "duration": 3,
    "start_time": "2021-11-16T11:59:12.005Z"
   },
   {
    "duration": 112,
    "start_time": "2021-11-16T12:00:33.446Z"
   },
   {
    "duration": 3,
    "start_time": "2021-11-16T12:02:14.453Z"
   },
   {
    "duration": 3,
    "start_time": "2021-11-16T12:02:39.512Z"
   },
   {
    "duration": 106,
    "start_time": "2021-11-16T12:03:03.460Z"
   },
   {
    "duration": 3,
    "start_time": "2021-11-17T20:37:21.139Z"
   },
   {
    "duration": 3,
    "start_time": "2021-11-17T20:37:22.229Z"
   },
   {
    "duration": 3,
    "start_time": "2021-11-17T20:38:38.806Z"
   },
   {
    "duration": 3,
    "start_time": "2021-11-17T20:38:41.958Z"
   },
   {
    "duration": 3,
    "start_time": "2021-11-17T20:43:46.551Z"
   },
   {
    "duration": 4,
    "start_time": "2021-11-17T20:58:21.835Z"
   },
   {
    "duration": 3,
    "start_time": "2021-11-17T20:59:21.872Z"
   },
   {
    "duration": 4,
    "start_time": "2021-11-17T20:59:45.352Z"
   },
   {
    "duration": 4,
    "start_time": "2021-11-17T20:59:49.646Z"
   },
   {
    "duration": 159,
    "start_time": "2021-11-17T21:02:26.949Z"
   },
   {
    "duration": 3,
    "start_time": "2021-11-17T21:03:53.461Z"
   },
   {
    "duration": 3,
    "start_time": "2021-11-17T21:03:53.694Z"
   },
   {
    "duration": 3,
    "start_time": "2021-11-17T21:05:28.145Z"
   },
   {
    "duration": 116,
    "start_time": "2021-11-17T21:05:57.787Z"
   },
   {
    "duration": 3,
    "start_time": "2021-11-17T21:06:37.993Z"
   },
   {
    "duration": 3,
    "start_time": "2021-11-17T21:06:38.261Z"
   },
   {
    "duration": 3,
    "start_time": "2021-11-17T21:11:54.358Z"
   },
   {
    "duration": 3,
    "start_time": "2021-11-17T21:12:43.846Z"
   },
   {
    "duration": 4,
    "start_time": "2021-11-17T21:13:08.773Z"
   },
   {
    "duration": 3,
    "start_time": "2021-11-17T21:14:44.441Z"
   },
   {
    "duration": 3,
    "start_time": "2021-11-17T21:15:42.059Z"
   },
   {
    "duration": 4,
    "start_time": "2021-11-17T21:15:51.995Z"
   },
   {
    "duration": 3,
    "start_time": "2021-11-17T21:15:53.923Z"
   },
   {
    "duration": 3,
    "start_time": "2021-11-17T21:15:55.282Z"
   },
   {
    "duration": 3,
    "start_time": "2021-11-17T21:16:28.492Z"
   },
   {
    "duration": 3,
    "start_time": "2021-11-17T21:16:32.603Z"
   },
   {
    "duration": 3,
    "start_time": "2021-11-17T21:17:06.941Z"
   },
   {
    "duration": 98,
    "start_time": "2021-11-17T21:18:05.733Z"
   },
   {
    "duration": 4,
    "start_time": "2021-11-17T21:21:35.255Z"
   },
   {
    "duration": 3,
    "start_time": "2021-11-17T21:21:37.804Z"
   },
   {
    "duration": 4,
    "start_time": "2021-11-17T21:23:06.071Z"
   },
   {
    "duration": 3,
    "start_time": "2021-11-17T21:23:24.799Z"
   },
   {
    "duration": 3,
    "start_time": "2021-11-17T21:23:32.591Z"
   },
   {
    "duration": 98,
    "start_time": "2021-11-17T21:28:31.559Z"
   },
   {
    "duration": 3,
    "start_time": "2021-11-17T21:28:45.448Z"
   },
   {
    "duration": 3,
    "start_time": "2021-11-17T21:29:17.303Z"
   },
   {
    "duration": 3,
    "start_time": "2021-11-17T21:29:29.617Z"
   },
   {
    "duration": 3,
    "start_time": "2021-11-17T21:29:32.681Z"
   },
   {
    "duration": 3,
    "start_time": "2021-11-17T21:36:11.474Z"
   },
   {
    "duration": 3,
    "start_time": "2021-11-17T21:36:14.791Z"
   },
   {
    "duration": 3,
    "start_time": "2021-11-17T21:36:53.943Z"
   },
   {
    "duration": 3,
    "start_time": "2021-11-17T21:36:56.165Z"
   },
   {
    "duration": 4,
    "start_time": "2021-11-17T21:37:16.590Z"
   },
   {
    "duration": 3,
    "start_time": "2021-11-17T21:37:22.702Z"
   },
   {
    "duration": 4,
    "start_time": "2021-11-17T21:38:03.479Z"
   },
   {
    "duration": 3,
    "start_time": "2021-11-17T21:38:08.601Z"
   },
   {
    "duration": 3,
    "start_time": "2021-11-17T21:38:12.928Z"
   },
   {
    "duration": 3,
    "start_time": "2021-11-17T21:38:48.896Z"
   },
   {
    "duration": 2,
    "start_time": "2021-11-17T21:38:49.171Z"
   },
   {
    "duration": 4,
    "start_time": "2021-11-17T21:39:57.889Z"
   },
   {
    "duration": 3,
    "start_time": "2021-11-17T21:39:58.057Z"
   },
   {
    "duration": 3,
    "start_time": "2021-11-17T21:41:20.108Z"
   },
   {
    "duration": 3,
    "start_time": "2021-11-17T21:41:20.629Z"
   },
   {
    "duration": 3,
    "start_time": "2021-11-17T21:42:49.136Z"
   },
   {
    "duration": 3,
    "start_time": "2021-11-17T21:43:15.137Z"
   },
   {
    "duration": 4,
    "start_time": "2021-11-17T21:43:16.766Z"
   },
   {
    "duration": 4,
    "start_time": "2021-11-17T21:43:31.711Z"
   },
   {
    "duration": 3,
    "start_time": "2021-11-17T21:43:36.312Z"
   },
   {
    "duration": 4,
    "start_time": "2021-11-17T21:45:08.825Z"
   },
   {
    "duration": 4,
    "start_time": "2021-11-17T21:45:10.119Z"
   },
   {
    "duration": 4,
    "start_time": "2021-11-17T21:45:13.748Z"
   },
   {
    "duration": 3,
    "start_time": "2021-11-17T21:45:22.219Z"
   },
   {
    "duration": 3,
    "start_time": "2021-11-17T21:45:33.412Z"
   },
   {
    "duration": 2,
    "start_time": "2021-11-17T21:46:01.885Z"
   },
   {
    "duration": 3,
    "start_time": "2021-11-17T21:46:03.628Z"
   },
   {
    "duration": 107,
    "start_time": "2021-11-17T21:47:32.512Z"
   },
   {
    "duration": 103,
    "start_time": "2021-11-17T21:50:36.243Z"
   },
   {
    "duration": 3,
    "start_time": "2021-11-18T06:28:31.440Z"
   },
   {
    "duration": 3,
    "start_time": "2021-11-18T06:29:00.168Z"
   },
   {
    "duration": 3,
    "start_time": "2021-11-18T06:31:27.008Z"
   },
   {
    "duration": 2,
    "start_time": "2021-11-18T06:35:34.288Z"
   },
   {
    "duration": 2,
    "start_time": "2021-11-18T06:38:04.527Z"
   },
   {
    "duration": 1581,
    "start_time": "2024-05-30T06:26:24.625Z"
   },
   {
    "duration": 81,
    "start_time": "2024-05-30T06:26:26.212Z"
   },
   {
    "duration": 72,
    "start_time": "2024-05-30T06:26:26.298Z"
   },
   {
    "duration": 8,
    "start_time": "2024-05-30T06:26:26.376Z"
   },
   {
    "duration": 1926,
    "start_time": "2024-05-30T06:26:26.388Z"
   },
   {
    "duration": 0,
    "start_time": "2024-05-30T06:26:28.322Z"
   },
   {
    "duration": 0,
    "start_time": "2024-05-30T06:26:28.323Z"
   },
   {
    "duration": 0,
    "start_time": "2024-05-30T06:26:28.328Z"
   },
   {
    "duration": 0,
    "start_time": "2024-05-30T06:26:28.331Z"
   },
   {
    "duration": 0,
    "start_time": "2024-05-30T06:26:28.334Z"
   },
   {
    "duration": 0,
    "start_time": "2024-05-30T06:26:28.337Z"
   },
   {
    "duration": 0,
    "start_time": "2024-05-30T06:26:28.339Z"
   },
   {
    "duration": 0,
    "start_time": "2024-05-30T06:26:28.343Z"
   },
   {
    "duration": 1,
    "start_time": "2024-05-30T06:26:28.345Z"
   },
   {
    "duration": 0,
    "start_time": "2024-05-30T06:26:28.348Z"
   },
   {
    "duration": 0,
    "start_time": "2024-05-30T06:26:28.351Z"
   },
   {
    "duration": 0,
    "start_time": "2024-05-30T06:26:28.357Z"
   },
   {
    "duration": 0,
    "start_time": "2024-05-30T06:26:28.360Z"
   },
   {
    "duration": 0,
    "start_time": "2024-05-30T06:26:28.363Z"
   },
   {
    "duration": 0,
    "start_time": "2024-05-30T06:26:28.367Z"
   },
   {
    "duration": 1,
    "start_time": "2024-05-30T06:26:28.369Z"
   },
   {
    "duration": 0,
    "start_time": "2024-05-30T06:26:28.373Z"
   },
   {
    "duration": 0,
    "start_time": "2024-05-30T06:26:28.376Z"
   },
   {
    "duration": 0,
    "start_time": "2024-05-30T06:26:28.379Z"
   },
   {
    "duration": 0,
    "start_time": "2024-05-30T06:48:21.429Z"
   },
   {
    "duration": 0,
    "start_time": "2024-05-30T06:48:21.432Z"
   },
   {
    "duration": 0,
    "start_time": "2024-05-30T06:48:21.434Z"
   },
   {
    "duration": 0,
    "start_time": "2024-05-30T06:48:21.436Z"
   },
   {
    "duration": 0,
    "start_time": "2024-05-30T06:48:21.438Z"
   },
   {
    "duration": 0,
    "start_time": "2024-05-30T06:48:21.440Z"
   },
   {
    "duration": 0,
    "start_time": "2024-05-30T06:48:21.443Z"
   },
   {
    "duration": 0,
    "start_time": "2024-05-30T06:48:21.445Z"
   },
   {
    "duration": 0,
    "start_time": "2024-05-30T06:48:21.446Z"
   },
   {
    "duration": 0,
    "start_time": "2024-05-30T06:48:21.450Z"
   },
   {
    "duration": 0,
    "start_time": "2024-05-30T06:48:21.452Z"
   },
   {
    "duration": 0,
    "start_time": "2024-05-30T06:48:21.454Z"
   },
   {
    "duration": 0,
    "start_time": "2024-05-30T06:48:21.456Z"
   },
   {
    "duration": 0,
    "start_time": "2024-05-30T06:48:21.457Z"
   },
   {
    "duration": 0,
    "start_time": "2024-05-30T06:48:21.458Z"
   },
   {
    "duration": 0,
    "start_time": "2024-05-30T06:48:21.459Z"
   },
   {
    "duration": 1280,
    "start_time": "2024-05-30T06:50:38.723Z"
   },
   {
    "duration": 48,
    "start_time": "2024-05-30T06:50:40.009Z"
   },
   {
    "duration": 74,
    "start_time": "2024-05-30T06:50:40.060Z"
   },
   {
    "duration": 5,
    "start_time": "2024-05-30T06:50:40.140Z"
   },
   {
    "duration": 1370,
    "start_time": "2024-05-30T06:50:40.149Z"
   },
   {
    "duration": 0,
    "start_time": "2024-05-30T06:50:41.523Z"
   },
   {
    "duration": 1,
    "start_time": "2024-05-30T06:50:41.525Z"
   },
   {
    "duration": 1,
    "start_time": "2024-05-30T06:50:41.527Z"
   },
   {
    "duration": 0,
    "start_time": "2024-05-30T06:50:41.530Z"
   },
   {
    "duration": 0,
    "start_time": "2024-05-30T06:50:41.533Z"
   },
   {
    "duration": 0,
    "start_time": "2024-05-30T06:50:41.535Z"
   },
   {
    "duration": 0,
    "start_time": "2024-05-30T06:50:41.537Z"
   },
   {
    "duration": 0,
    "start_time": "2024-05-30T06:50:41.540Z"
   },
   {
    "duration": 0,
    "start_time": "2024-05-30T06:50:41.543Z"
   },
   {
    "duration": 0,
    "start_time": "2024-05-30T06:50:41.544Z"
   },
   {
    "duration": 0,
    "start_time": "2024-05-30T06:50:41.546Z"
   },
   {
    "duration": 0,
    "start_time": "2024-05-30T06:50:41.547Z"
   },
   {
    "duration": 0,
    "start_time": "2024-05-30T06:50:41.549Z"
   },
   {
    "duration": 0,
    "start_time": "2024-05-30T06:50:41.551Z"
   },
   {
    "duration": 1,
    "start_time": "2024-05-30T06:50:41.552Z"
   },
   {
    "duration": 0,
    "start_time": "2024-05-30T06:50:41.556Z"
   },
   {
    "duration": 0,
    "start_time": "2024-05-30T06:50:41.558Z"
   },
   {
    "duration": 0,
    "start_time": "2024-05-30T06:50:41.561Z"
   },
   {
    "duration": 1,
    "start_time": "2024-05-30T06:50:41.563Z"
   },
   {
    "duration": 110,
    "start_time": "2024-05-30T06:54:37.701Z"
   },
   {
    "duration": 37,
    "start_time": "2024-05-30T06:55:20.677Z"
   },
   {
    "duration": 43,
    "start_time": "2024-05-30T06:55:21.655Z"
   },
   {
    "duration": 678,
    "start_time": "2024-05-30T06:57:25.662Z"
   },
   {
    "duration": 1582,
    "start_time": "2024-05-30T06:57:31.576Z"
   },
   {
    "duration": 0,
    "start_time": "2024-05-30T06:57:33.161Z"
   },
   {
    "duration": 145,
    "start_time": "2024-05-30T06:58:01.827Z"
   },
   {
    "duration": 44,
    "start_time": "2024-05-30T06:58:08.068Z"
   },
   {
    "duration": 540,
    "start_time": "2024-05-30T06:58:10.973Z"
   },
   {
    "duration": 467,
    "start_time": "2024-05-30T06:58:11.960Z"
   },
   {
    "duration": 1653,
    "start_time": "2024-05-30T06:59:13.597Z"
   },
   {
    "duration": 292,
    "start_time": "2024-05-30T06:59:36.215Z"
   },
   {
    "duration": 268,
    "start_time": "2024-05-30T06:59:36.838Z"
   },
   {
    "duration": 503,
    "start_time": "2024-05-30T06:59:37.956Z"
   },
   {
    "duration": 374,
    "start_time": "2024-05-30T06:59:38.462Z"
   },
   {
    "duration": 698,
    "start_time": "2024-05-30T06:59:38.840Z"
   },
   {
    "duration": 692,
    "start_time": "2024-05-30T07:00:53.530Z"
   },
   {
    "duration": 442,
    "start_time": "2024-05-30T07:00:54.227Z"
   },
   {
    "duration": 406,
    "start_time": "2024-05-30T07:00:54.673Z"
   },
   {
    "duration": 15,
    "start_time": "2024-05-30T07:00:55.083Z"
   },
   {
    "duration": 15,
    "start_time": "2024-05-30T07:00:55.122Z"
   },
   {
    "duration": 1227,
    "start_time": "2024-05-30T21:39:57.452Z"
   },
   {
    "duration": 73,
    "start_time": "2024-05-30T21:39:58.683Z"
   },
   {
    "duration": 60,
    "start_time": "2024-05-30T21:39:58.762Z"
   },
   {
    "duration": 6,
    "start_time": "2024-05-30T21:39:58.829Z"
   },
   {
    "duration": 1581,
    "start_time": "2024-05-30T21:39:58.838Z"
   },
   {
    "duration": 0,
    "start_time": "2024-05-30T21:40:00.429Z"
   },
   {
    "duration": 1,
    "start_time": "2024-05-30T21:40:00.434Z"
   },
   {
    "duration": 0,
    "start_time": "2024-05-30T21:40:00.441Z"
   },
   {
    "duration": 0,
    "start_time": "2024-05-30T21:40:00.443Z"
   },
   {
    "duration": 0,
    "start_time": "2024-05-30T21:40:00.446Z"
   },
   {
    "duration": 0,
    "start_time": "2024-05-30T21:40:00.455Z"
   },
   {
    "duration": 0,
    "start_time": "2024-05-30T21:40:00.460Z"
   },
   {
    "duration": 0,
    "start_time": "2024-05-30T21:40:00.465Z"
   },
   {
    "duration": 0,
    "start_time": "2024-05-30T21:40:00.467Z"
   },
   {
    "duration": 0,
    "start_time": "2024-05-30T21:40:00.469Z"
   },
   {
    "duration": 0,
    "start_time": "2024-05-30T21:40:00.472Z"
   },
   {
    "duration": 0,
    "start_time": "2024-05-30T21:40:00.474Z"
   },
   {
    "duration": 0,
    "start_time": "2024-05-30T21:40:00.476Z"
   },
   {
    "duration": 0,
    "start_time": "2024-05-30T21:40:00.478Z"
   },
   {
    "duration": 0,
    "start_time": "2024-05-30T21:40:00.481Z"
   },
   {
    "duration": 0,
    "start_time": "2024-05-30T21:40:00.482Z"
   },
   {
    "duration": 0,
    "start_time": "2024-05-30T21:40:00.511Z"
   },
   {
    "duration": 0,
    "start_time": "2024-05-30T21:40:00.513Z"
   },
   {
    "duration": 0,
    "start_time": "2024-05-30T21:40:00.515Z"
   },
   {
    "duration": 0,
    "start_time": "2024-05-30T21:40:00.517Z"
   }
  ],
  "kernelspec": {
   "display_name": "Python 3 (ipykernel)",
   "language": "python",
   "name": "python3"
  },
  "language_info": {
   "codemirror_mode": {
    "name": "ipython",
    "version": 3
   },
   "file_extension": ".py",
   "mimetype": "text/x-python",
   "name": "python",
   "nbconvert_exporter": "python",
   "pygments_lexer": "ipython3",
   "version": "3.11.7"
  },
  "toc": {
   "base_numbering": 1,
   "nav_menu": {},
   "number_sections": true,
   "sideBar": true,
   "skip_h1_title": false,
   "title_cell": "Table of Contents",
   "title_sidebar": "Contents",
   "toc_cell": false,
   "toc_position": {},
   "toc_section_display": true,
   "toc_window_display": false
  }
 },
 "nbformat": 4,
 "nbformat_minor": 4
}
