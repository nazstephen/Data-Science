{
 "cells": [
  {
   "cell_type": "markdown",
   "metadata": {},
   "source": [
    "# Integrated Project 1 <a id='intro'></a>"
   ]
  },
  {
   "cell_type": "markdown",
   "metadata": {},
   "source": [
    "## Project Description\n",
    "\n",
    "You work for the online store Ice, which sells video games all over the world. User and expert reviews, genres, platforms (e.g. Xbox or PlayStation), and historical data on game sales are available from open sources. You need to identify patterns that determine whether a game succeeds or not. This will allow you to spot potential big winners and plan advertising campaigns.\n",
    "\n",
    "In front of you is data going back to 2016. Let’s imagine that it’s December 2016 and you’re planning a campaign for 2017. \n",
    "\n",
    "(The important thing is to get experience working with data. It doesn't really matter whether you're forecasting 2017 sales based on data from 2016 or 2027 sales based on data from 2026.)\n",
    "\n",
    "The dataset contains the abbreviation ESRB. The Entertainment Software Rating Board evaluates a game's content and assigns an age rating such as Teen or Mature.\n",
    "\n",
    "## Instructions on Completing the Project\n",
    "\n",
    "### Step 1: Open the Data File and Study the General Information\n",
    "- File path: \n",
    "  - /datasets/games.csv\n",
    "\n",
    "### Step 2: Prepare the Data\n",
    "- Replace the column names (make them lowercase).\n",
    "- Convert the data to the required types.\n",
    "- Describe the columns where the data types have been changed and why.\n",
    "- If necessary, decide how to deal with missing values:\n",
    "  - Explain why you filled in the missing values as you did or why you decided to leave them blank.\n",
    "  - Why do you think the values are missing? Give possible reasons.\n",
    "  - Pay attention to the abbreviation TBD (to be determined). Specify how you intend to handle such cases.\n",
    "- Calculate the total sales (the sum of sales in all regions) for each game and put these values in a separate column.\n",
    "\n",
    "### Step 3: Analyze the Data\n",
    "- Look at how many games were released in different years. Is the data for every period significant?\n",
    "- Look at how sales varied from platform to platform. Choose the platforms with the greatest total sales and build a distribution based on data for each year. Find platforms that used to be popular but now have zero sales. How long does it generally take for new platforms to appear and old ones to fade?\n",
    "- Determine what period you should take data for. To do so, look at your answers to the previous questions. The data should allow you to build a model for 2017.\n",
    "- Work only with the data that you've decided is relevant. Disregard the data for previous years.\n",
    "- Which platforms are leading in sales? Which ones are growing or shrinking? Select several potentially profitable platforms.\n",
    "- Build a box plot for the global sales of all games, broken down by platform. Are the differences in sales significant? What about average sales on various platforms? Describe your findings.\n",
    "- Take a look at how user and professional reviews affect sales for one popular platform (you choose). Build a scatter plot and calculate the correlation between reviews and sales. Draw conclusions.\n",
    "- Keeping your conclusions in mind, compare the sales of the same games on other platforms.\n",
    "- Take a look at the general distribution of games by genre. What can we say about the most profitable genres? Can you generalize about genres with high and low sales?\n",
    "\n",
    "### Step 4: Create User Profile for Each Region\n",
    "- For each region (NA, EU, JP), determine:\n",
    "  - The top five platforms. Describe variations in their market shares from region to region.\n",
    "  - The top five genres. Explain the difference.\n",
    "  - Do ESRB ratings affect sales in individual regions?\n",
    "\n",
    "### Step 5: Test Hypotheses\n",
    "- Average user ratings of the Xbox One and PC platforms are the same. \n",
    "- Average user ratings for the Action and Sports genres are different.\n",
    "- Set the alpha threshold value yourself.\n",
    "- Explain:\n",
    "  - How you formulated the null and alternative hypotheses \n",
    "  - What significance level you chose to test the hypotheses, and why\n",
    "\n",
    "### Step 6: Write General Conclusion\n",
    "\n",
    "## Data Description\n",
    "- Name \n",
    "- Platform \n",
    "- Year_of_Release \n",
    "- Genre\n",
    "- NA_sales (North American sales in USD million) \n",
    "- EU_sales (sales in Europe in USD million) \n",
    "- JP_sales (sales in Japan in USD million) \n",
    "- Other_sales (sales in other countries in USD million) \n",
    "- Critic_Score (maximum of 100) \n",
    "- User_Score (maximum of 10) \n",
    "- Rating (ESRB)"
   ]
  },
  {
   "cell_type": "markdown",
   "metadata": {},
   "source": [
    "## Initialization"
   ]
  },
  {
   "cell_type": "code",
   "execution_count": 1,
   "metadata": {},
   "outputs": [],
   "source": [
    "# Loading all the libraries\n",
    "import pandas as pd\n",
    "import numpy as np\n",
    "from matplotlib import pyplot as plt\n",
    "import scipy.stats as st"
   ]
  },
  {
   "cell_type": "markdown",
   "metadata": {},
   "source": [
    "## Load data"
   ]
  },
  {
   "cell_type": "code",
   "execution_count": 2,
   "metadata": {},
   "outputs": [
    {
     "name": "stdout",
     "output_type": "stream",
     "text": [
      "CSV file successfully read from the local path.\n"
     ]
    }
   ],
   "source": [
    "# Load the data file into a data frame\n",
    "try:\n",
    "    # Try to read the CSV file from the local path.\n",
    "    games_df = pd.read_csv('/Users/benjaminstephen/Documents/TripleTen/Sprint_5/Integrated_Project_1/datasets/games.csv')\n",
    "except FileNotFoundError:\n",
    "    try:\n",
    "        # Try to read the CSV file from the server path\n",
    "        games_df = pd.read_csv('/datasets/games.csv')\n",
    "        print(\"CSV file successfully read from the server path.\")\n",
    "    except FileNotFoundError:\n",
    "        print(\"CSV file not found. Please check the file paths.\")\n",
    "else:\n",
    "    print(\"CSV file successfully read from the local path.\")"
   ]
  },
  {
   "cell_type": "markdown",
   "metadata": {},
   "source": [
    "## Prepare data"
   ]
  },
  {
   "cell_type": "code",
   "execution_count": 3,
   "metadata": {},
   "outputs": [
    {
     "name": "stdout",
     "output_type": "stream",
     "text": [
      "GAMES DATA FRAME INFO:\n",
      "<class 'pandas.core.frame.DataFrame'>\n",
      "RangeIndex: 16715 entries, 0 to 16714\n",
      "Data columns (total 11 columns):\n",
      " #   Column           Non-Null Count  Dtype  \n",
      "---  ------           --------------  -----  \n",
      " 0   Name             16713 non-null  object \n",
      " 1   Platform         16715 non-null  object \n",
      " 2   Year_of_Release  16446 non-null  float64\n",
      " 3   Genre            16713 non-null  object \n",
      " 4   NA_sales         16715 non-null  float64\n",
      " 5   EU_sales         16715 non-null  float64\n",
      " 6   JP_sales         16715 non-null  float64\n",
      " 7   Other_sales      16715 non-null  float64\n",
      " 8   Critic_Score     8137 non-null   float64\n",
      " 9   User_Score       10014 non-null  object \n",
      " 10  Rating           9949 non-null   object \n",
      "dtypes: float64(6), object(5)\n",
      "memory usage: 1.4+ MB\n",
      "\n",
      "PERCENTAGE OF NULL VALUES:\n",
      "Name               0.000120\n",
      "Platform           0.000000\n",
      "Year_of_Release    0.016093\n",
      "Genre              0.000120\n",
      "NA_sales           0.000000\n",
      "EU_sales           0.000000\n",
      "JP_sales           0.000000\n",
      "Other_sales        0.000000\n",
      "Critic_Score       0.513192\n",
      "User_Score         0.400897\n",
      "Rating             0.404786\n",
      "dtype: float64\n",
      "\n",
      "GAMES DATA FRAME:\n"
     ]
    },
    {
     "data": {
      "text/html": [
       "<div>\n",
       "<style scoped>\n",
       "    .dataframe tbody tr th:only-of-type {\n",
       "        vertical-align: middle;\n",
       "    }\n",
       "\n",
       "    .dataframe tbody tr th {\n",
       "        vertical-align: top;\n",
       "    }\n",
       "\n",
       "    .dataframe thead th {\n",
       "        text-align: right;\n",
       "    }\n",
       "</style>\n",
       "<table border=\"1\" class=\"dataframe\">\n",
       "  <thead>\n",
       "    <tr style=\"text-align: right;\">\n",
       "      <th></th>\n",
       "      <th>Name</th>\n",
       "      <th>Platform</th>\n",
       "      <th>Year_of_Release</th>\n",
       "      <th>Genre</th>\n",
       "      <th>NA_sales</th>\n",
       "      <th>EU_sales</th>\n",
       "      <th>JP_sales</th>\n",
       "      <th>Other_sales</th>\n",
       "      <th>Critic_Score</th>\n",
       "      <th>User_Score</th>\n",
       "      <th>Rating</th>\n",
       "    </tr>\n",
       "  </thead>\n",
       "  <tbody>\n",
       "    <tr>\n",
       "      <th>0</th>\n",
       "      <td>Wii Sports</td>\n",
       "      <td>Wii</td>\n",
       "      <td>2006.0</td>\n",
       "      <td>Sports</td>\n",
       "      <td>41.36</td>\n",
       "      <td>28.96</td>\n",
       "      <td>3.77</td>\n",
       "      <td>8.45</td>\n",
       "      <td>76.0</td>\n",
       "      <td>8</td>\n",
       "      <td>E</td>\n",
       "    </tr>\n",
       "    <tr>\n",
       "      <th>1</th>\n",
       "      <td>Super Mario Bros.</td>\n",
       "      <td>NES</td>\n",
       "      <td>1985.0</td>\n",
       "      <td>Platform</td>\n",
       "      <td>29.08</td>\n",
       "      <td>3.58</td>\n",
       "      <td>6.81</td>\n",
       "      <td>0.77</td>\n",
       "      <td>NaN</td>\n",
       "      <td>NaN</td>\n",
       "      <td>NaN</td>\n",
       "    </tr>\n",
       "    <tr>\n",
       "      <th>2</th>\n",
       "      <td>Mario Kart Wii</td>\n",
       "      <td>Wii</td>\n",
       "      <td>2008.0</td>\n",
       "      <td>Racing</td>\n",
       "      <td>15.68</td>\n",
       "      <td>12.76</td>\n",
       "      <td>3.79</td>\n",
       "      <td>3.29</td>\n",
       "      <td>82.0</td>\n",
       "      <td>8.3</td>\n",
       "      <td>E</td>\n",
       "    </tr>\n",
       "    <tr>\n",
       "      <th>3</th>\n",
       "      <td>Wii Sports Resort</td>\n",
       "      <td>Wii</td>\n",
       "      <td>2009.0</td>\n",
       "      <td>Sports</td>\n",
       "      <td>15.61</td>\n",
       "      <td>10.93</td>\n",
       "      <td>3.28</td>\n",
       "      <td>2.95</td>\n",
       "      <td>80.0</td>\n",
       "      <td>8</td>\n",
       "      <td>E</td>\n",
       "    </tr>\n",
       "    <tr>\n",
       "      <th>4</th>\n",
       "      <td>Pokemon Red/Pokemon Blue</td>\n",
       "      <td>GB</td>\n",
       "      <td>1996.0</td>\n",
       "      <td>Role-Playing</td>\n",
       "      <td>11.27</td>\n",
       "      <td>8.89</td>\n",
       "      <td>10.22</td>\n",
       "      <td>1.00</td>\n",
       "      <td>NaN</td>\n",
       "      <td>NaN</td>\n",
       "      <td>NaN</td>\n",
       "    </tr>\n",
       "    <tr>\n",
       "      <th>...</th>\n",
       "      <td>...</td>\n",
       "      <td>...</td>\n",
       "      <td>...</td>\n",
       "      <td>...</td>\n",
       "      <td>...</td>\n",
       "      <td>...</td>\n",
       "      <td>...</td>\n",
       "      <td>...</td>\n",
       "      <td>...</td>\n",
       "      <td>...</td>\n",
       "      <td>...</td>\n",
       "    </tr>\n",
       "    <tr>\n",
       "      <th>16710</th>\n",
       "      <td>Samurai Warriors: Sanada Maru</td>\n",
       "      <td>PS3</td>\n",
       "      <td>2016.0</td>\n",
       "      <td>Action</td>\n",
       "      <td>0.00</td>\n",
       "      <td>0.00</td>\n",
       "      <td>0.01</td>\n",
       "      <td>0.00</td>\n",
       "      <td>NaN</td>\n",
       "      <td>NaN</td>\n",
       "      <td>NaN</td>\n",
       "    </tr>\n",
       "    <tr>\n",
       "      <th>16711</th>\n",
       "      <td>LMA Manager 2007</td>\n",
       "      <td>X360</td>\n",
       "      <td>2006.0</td>\n",
       "      <td>Sports</td>\n",
       "      <td>0.00</td>\n",
       "      <td>0.01</td>\n",
       "      <td>0.00</td>\n",
       "      <td>0.00</td>\n",
       "      <td>NaN</td>\n",
       "      <td>NaN</td>\n",
       "      <td>NaN</td>\n",
       "    </tr>\n",
       "    <tr>\n",
       "      <th>16712</th>\n",
       "      <td>Haitaka no Psychedelica</td>\n",
       "      <td>PSV</td>\n",
       "      <td>2016.0</td>\n",
       "      <td>Adventure</td>\n",
       "      <td>0.00</td>\n",
       "      <td>0.00</td>\n",
       "      <td>0.01</td>\n",
       "      <td>0.00</td>\n",
       "      <td>NaN</td>\n",
       "      <td>NaN</td>\n",
       "      <td>NaN</td>\n",
       "    </tr>\n",
       "    <tr>\n",
       "      <th>16713</th>\n",
       "      <td>Spirits &amp; Spells</td>\n",
       "      <td>GBA</td>\n",
       "      <td>2003.0</td>\n",
       "      <td>Platform</td>\n",
       "      <td>0.01</td>\n",
       "      <td>0.00</td>\n",
       "      <td>0.00</td>\n",
       "      <td>0.00</td>\n",
       "      <td>NaN</td>\n",
       "      <td>NaN</td>\n",
       "      <td>NaN</td>\n",
       "    </tr>\n",
       "    <tr>\n",
       "      <th>16714</th>\n",
       "      <td>Winning Post 8 2016</td>\n",
       "      <td>PSV</td>\n",
       "      <td>2016.0</td>\n",
       "      <td>Simulation</td>\n",
       "      <td>0.00</td>\n",
       "      <td>0.00</td>\n",
       "      <td>0.01</td>\n",
       "      <td>0.00</td>\n",
       "      <td>NaN</td>\n",
       "      <td>NaN</td>\n",
       "      <td>NaN</td>\n",
       "    </tr>\n",
       "  </tbody>\n",
       "</table>\n",
       "<p>16715 rows × 11 columns</p>\n",
       "</div>"
      ],
      "text/plain": [
       "                                Name Platform  Year_of_Release         Genre  \\\n",
       "0                         Wii Sports      Wii           2006.0        Sports   \n",
       "1                  Super Mario Bros.      NES           1985.0      Platform   \n",
       "2                     Mario Kart Wii      Wii           2008.0        Racing   \n",
       "3                  Wii Sports Resort      Wii           2009.0        Sports   \n",
       "4           Pokemon Red/Pokemon Blue       GB           1996.0  Role-Playing   \n",
       "...                              ...      ...              ...           ...   \n",
       "16710  Samurai Warriors: Sanada Maru      PS3           2016.0        Action   \n",
       "16711               LMA Manager 2007     X360           2006.0        Sports   \n",
       "16712        Haitaka no Psychedelica      PSV           2016.0     Adventure   \n",
       "16713               Spirits & Spells      GBA           2003.0      Platform   \n",
       "16714            Winning Post 8 2016      PSV           2016.0    Simulation   \n",
       "\n",
       "       NA_sales  EU_sales  JP_sales  Other_sales  Critic_Score User_Score  \\\n",
       "0         41.36     28.96      3.77         8.45          76.0          8   \n",
       "1         29.08      3.58      6.81         0.77           NaN        NaN   \n",
       "2         15.68     12.76      3.79         3.29          82.0        8.3   \n",
       "3         15.61     10.93      3.28         2.95          80.0          8   \n",
       "4         11.27      8.89     10.22         1.00           NaN        NaN   \n",
       "...         ...       ...       ...          ...           ...        ...   \n",
       "16710      0.00      0.00      0.01         0.00           NaN        NaN   \n",
       "16711      0.00      0.01      0.00         0.00           NaN        NaN   \n",
       "16712      0.00      0.00      0.01         0.00           NaN        NaN   \n",
       "16713      0.01      0.00      0.00         0.00           NaN        NaN   \n",
       "16714      0.00      0.00      0.01         0.00           NaN        NaN   \n",
       "\n",
       "      Rating  \n",
       "0          E  \n",
       "1        NaN  \n",
       "2          E  \n",
       "3          E  \n",
       "4        NaN  \n",
       "...      ...  \n",
       "16710    NaN  \n",
       "16711    NaN  \n",
       "16712    NaN  \n",
       "16713    NaN  \n",
       "16714    NaN  \n",
       "\n",
       "[16715 rows x 11 columns]"
      ]
     },
     "metadata": {},
     "output_type": "display_data"
    },
    {
     "name": "stdout",
     "output_type": "stream",
     "text": [
      "\n"
     ]
    }
   ],
   "source": [
    "# Print the general/summary information about the data frame\n",
    "print(\"GAMES DATA FRAME INFO:\")\n",
    "games_df.info()\n",
    "print()\n",
    "\n",
    "print(\"PERCENTAGE OF NULL VALUES:\")\n",
    "print(games_df.isnull().sum()/len(games_df))\n",
    "print()\n",
    "\n",
    "print(\"GAMES DATA FRAME:\")\n",
    "display(games_df)\n",
    "print()"
   ]
  },
  {
   "cell_type": "code",
   "execution_count": 4,
   "metadata": {},
   "outputs": [
    {
     "name": "stdout",
     "output_type": "stream",
     "text": [
      "Index(['name', 'platform', 'year_of_release', 'genre', 'na_sales', 'eu_sales',\n",
      "       'jp_sales', 'other_sales', 'critic_score', 'user_score', 'rating'],\n",
      "      dtype='object')\n"
     ]
    }
   ],
   "source": [
    "# Rename columns so they are all lowercase\n",
    "games_df.rename(columns=str.lower, inplace=True)\n",
    "print(games_df.columns)"
   ]
  },
  {
   "cell_type": "markdown",
   "metadata": {},
   "source": [
    "Let's address the handling of missing values and the conversion of columns containing incorrect data types, starting with the 'name' and 'genre' columns. Both the 'name' and 'genre' columns contain only two null values each. Considering the small proportion of missing values compared to the entirety of the dataset, we will enhance data completeness and integrity by removing these specific entries from the dataset."
   ]
  },
  {
   "cell_type": "code",
   "execution_count": 5,
   "metadata": {},
   "outputs": [
    {
     "data": {
      "text/html": [
       "<div>\n",
       "<style scoped>\n",
       "    .dataframe tbody tr th:only-of-type {\n",
       "        vertical-align: middle;\n",
       "    }\n",
       "\n",
       "    .dataframe tbody tr th {\n",
       "        vertical-align: top;\n",
       "    }\n",
       "\n",
       "    .dataframe thead th {\n",
       "        text-align: right;\n",
       "    }\n",
       "</style>\n",
       "<table border=\"1\" class=\"dataframe\">\n",
       "  <thead>\n",
       "    <tr style=\"text-align: right;\">\n",
       "      <th></th>\n",
       "      <th>name</th>\n",
       "      <th>platform</th>\n",
       "      <th>year_of_release</th>\n",
       "      <th>genre</th>\n",
       "      <th>na_sales</th>\n",
       "      <th>eu_sales</th>\n",
       "      <th>jp_sales</th>\n",
       "      <th>other_sales</th>\n",
       "      <th>critic_score</th>\n",
       "      <th>user_score</th>\n",
       "      <th>rating</th>\n",
       "    </tr>\n",
       "  </thead>\n",
       "  <tbody>\n",
       "    <tr>\n",
       "      <th>5835</th>\n",
       "      <td>BlazBlue: Chrono Phantasma</td>\n",
       "      <td>PS3</td>\n",
       "      <td>2013.0</td>\n",
       "      <td>Fighting</td>\n",
       "      <td>0.14</td>\n",
       "      <td>0.00</td>\n",
       "      <td>0.14</td>\n",
       "      <td>0.03</td>\n",
       "      <td>83.0</td>\n",
       "      <td>8.3</td>\n",
       "      <td>T</td>\n",
       "    </tr>\n",
       "    <tr>\n",
       "      <th>13074</th>\n",
       "      <td>Winning Post 7 2010</td>\n",
       "      <td>PSP</td>\n",
       "      <td>2010.0</td>\n",
       "      <td>Sports</td>\n",
       "      <td>0.00</td>\n",
       "      <td>0.00</td>\n",
       "      <td>0.05</td>\n",
       "      <td>0.00</td>\n",
       "      <td>NaN</td>\n",
       "      <td>NaN</td>\n",
       "      <td>NaN</td>\n",
       "    </tr>\n",
       "    <tr>\n",
       "      <th>10284</th>\n",
       "      <td>PDC World Championship Darts: Pro Tour</td>\n",
       "      <td>Wii</td>\n",
       "      <td>2010.0</td>\n",
       "      <td>Sports</td>\n",
       "      <td>0.00</td>\n",
       "      <td>0.09</td>\n",
       "      <td>0.00</td>\n",
       "      <td>0.01</td>\n",
       "      <td>NaN</td>\n",
       "      <td>NaN</td>\n",
       "      <td>NaN</td>\n",
       "    </tr>\n",
       "    <tr>\n",
       "      <th>3100</th>\n",
       "      <td>Tiger Woods PGA Tour 09</td>\n",
       "      <td>PS3</td>\n",
       "      <td>2008.0</td>\n",
       "      <td>Sports</td>\n",
       "      <td>0.34</td>\n",
       "      <td>0.22</td>\n",
       "      <td>0.00</td>\n",
       "      <td>0.10</td>\n",
       "      <td>82.0</td>\n",
       "      <td>7.2</td>\n",
       "      <td>E</td>\n",
       "    </tr>\n",
       "    <tr>\n",
       "      <th>4332</th>\n",
       "      <td>Tekken Advance</td>\n",
       "      <td>GBA</td>\n",
       "      <td>2001.0</td>\n",
       "      <td>Fighting</td>\n",
       "      <td>0.32</td>\n",
       "      <td>0.12</td>\n",
       "      <td>0.00</td>\n",
       "      <td>0.01</td>\n",
       "      <td>82.0</td>\n",
       "      <td>8.2</td>\n",
       "      <td>T</td>\n",
       "    </tr>\n",
       "  </tbody>\n",
       "</table>\n",
       "</div>"
      ],
      "text/plain": [
       "                                         name platform  year_of_release  \\\n",
       "5835               BlazBlue: Chrono Phantasma      PS3           2013.0   \n",
       "13074                     Winning Post 7 2010      PSP           2010.0   \n",
       "10284  PDC World Championship Darts: Pro Tour      Wii           2010.0   \n",
       "3100                  Tiger Woods PGA Tour 09      PS3           2008.0   \n",
       "4332                           Tekken Advance      GBA           2001.0   \n",
       "\n",
       "          genre  na_sales  eu_sales  jp_sales  other_sales  critic_score  \\\n",
       "5835   Fighting      0.14      0.00      0.14         0.03          83.0   \n",
       "13074    Sports      0.00      0.00      0.05         0.00           NaN   \n",
       "10284    Sports      0.00      0.09      0.00         0.01           NaN   \n",
       "3100     Sports      0.34      0.22      0.00         0.10          82.0   \n",
       "4332   Fighting      0.32      0.12      0.00         0.01          82.0   \n",
       "\n",
       "      user_score rating  \n",
       "5835         8.3      T  \n",
       "13074        NaN    NaN  \n",
       "10284        NaN    NaN  \n",
       "3100         7.2      E  \n",
       "4332         8.2      T  "
      ]
     },
     "metadata": {},
     "output_type": "display_data"
    },
    {
     "name": "stdout",
     "output_type": "stream",
     "text": [
      "<class 'pandas.core.frame.DataFrame'>\n",
      "Int64Index: 16713 entries, 0 to 16714\n",
      "Data columns (total 11 columns):\n",
      " #   Column           Non-Null Count  Dtype  \n",
      "---  ------           --------------  -----  \n",
      " 0   name             16713 non-null  object \n",
      " 1   platform         16713 non-null  object \n",
      " 2   year_of_release  16444 non-null  float64\n",
      " 3   genre            16713 non-null  object \n",
      " 4   na_sales         16713 non-null  float64\n",
      " 5   eu_sales         16713 non-null  float64\n",
      " 6   jp_sales         16713 non-null  float64\n",
      " 7   other_sales      16713 non-null  float64\n",
      " 8   critic_score     8137 non-null   float64\n",
      " 9   user_score       10014 non-null  object \n",
      " 10  rating           9949 non-null   object \n",
      "dtypes: float64(6), object(5)\n",
      "memory usage: 1.5+ MB\n",
      "None\n"
     ]
    }
   ],
   "source": [
    "# Replace missing values\n",
    "games_df.dropna(subset=['name'], inplace=True)\n",
    "games_df.dropna(subset=['genre'], inplace=True)\n",
    "\n",
    "display(games_df.sample(5))\n",
    "print(games_df.info())"
   ]
  },
  {
   "cell_type": "markdown",
   "metadata": {},
   "source": [
    "\n",
    "Now that the 'name' and 'genre' columns contain only non-null values, let's proceed to address the 'year_of_release' column.\n",
    "\n",
    "This column presently contains some null values. To ensure consistency and proper data representation throughout the dataset, we will convert the values in the 'year_of_release' column to date-time data types as well as drop any null values as they do not make up a significant portion of the date."
   ]
  },
  {
   "cell_type": "code",
   "execution_count": 6,
   "metadata": {},
   "outputs": [
    {
     "data": {
      "text/html": [
       "<div>\n",
       "<style scoped>\n",
       "    .dataframe tbody tr th:only-of-type {\n",
       "        vertical-align: middle;\n",
       "    }\n",
       "\n",
       "    .dataframe tbody tr th {\n",
       "        vertical-align: top;\n",
       "    }\n",
       "\n",
       "    .dataframe thead th {\n",
       "        text-align: right;\n",
       "    }\n",
       "</style>\n",
       "<table border=\"1\" class=\"dataframe\">\n",
       "  <thead>\n",
       "    <tr style=\"text-align: right;\">\n",
       "      <th></th>\n",
       "      <th>name</th>\n",
       "      <th>platform</th>\n",
       "      <th>year_of_release</th>\n",
       "      <th>genre</th>\n",
       "      <th>na_sales</th>\n",
       "      <th>eu_sales</th>\n",
       "      <th>jp_sales</th>\n",
       "      <th>other_sales</th>\n",
       "      <th>critic_score</th>\n",
       "      <th>user_score</th>\n",
       "      <th>rating</th>\n",
       "    </tr>\n",
       "  </thead>\n",
       "  <tbody>\n",
       "    <tr>\n",
       "      <th>13432</th>\n",
       "      <td>Wonder World Amusement Park</td>\n",
       "      <td>Wii</td>\n",
       "      <td>2008</td>\n",
       "      <td>Misc</td>\n",
       "      <td>0.04</td>\n",
       "      <td>0.00</td>\n",
       "      <td>0.00</td>\n",
       "      <td>0.00</td>\n",
       "      <td>37.0</td>\n",
       "      <td>4.5</td>\n",
       "      <td>E</td>\n",
       "    </tr>\n",
       "    <tr>\n",
       "      <th>8309</th>\n",
       "      <td>Thief: Deadly Shadows</td>\n",
       "      <td>XB</td>\n",
       "      <td>2004</td>\n",
       "      <td>Action</td>\n",
       "      <td>0.13</td>\n",
       "      <td>0.04</td>\n",
       "      <td>0.00</td>\n",
       "      <td>0.01</td>\n",
       "      <td>82.0</td>\n",
       "      <td>7.3</td>\n",
       "      <td>M</td>\n",
       "    </tr>\n",
       "    <tr>\n",
       "      <th>12009</th>\n",
       "      <td>Shounen Sunday x Shounen Magazine: Nettou! Dre...</td>\n",
       "      <td>DS</td>\n",
       "      <td>2009</td>\n",
       "      <td>Sports</td>\n",
       "      <td>0.00</td>\n",
       "      <td>0.00</td>\n",
       "      <td>0.07</td>\n",
       "      <td>0.00</td>\n",
       "      <td>NaN</td>\n",
       "      <td>NaN</td>\n",
       "      <td>NaN</td>\n",
       "    </tr>\n",
       "    <tr>\n",
       "      <th>5523</th>\n",
       "      <td>SSX Blur</td>\n",
       "      <td>Wii</td>\n",
       "      <td>2007</td>\n",
       "      <td>Sports</td>\n",
       "      <td>0.29</td>\n",
       "      <td>0.01</td>\n",
       "      <td>0.00</td>\n",
       "      <td>0.03</td>\n",
       "      <td>74.0</td>\n",
       "      <td>8.1</td>\n",
       "      <td>E</td>\n",
       "    </tr>\n",
       "    <tr>\n",
       "      <th>15590</th>\n",
       "      <td>Katekyoo Hitman Reborn! Dream Hyper Battle!</td>\n",
       "      <td>PS2</td>\n",
       "      <td>2007</td>\n",
       "      <td>Fighting</td>\n",
       "      <td>0.00</td>\n",
       "      <td>0.00</td>\n",
       "      <td>0.02</td>\n",
       "      <td>0.00</td>\n",
       "      <td>NaN</td>\n",
       "      <td>NaN</td>\n",
       "      <td>NaN</td>\n",
       "    </tr>\n",
       "  </tbody>\n",
       "</table>\n",
       "</div>"
      ],
      "text/plain": [
       "                                                    name platform  \\\n",
       "13432                        Wonder World Amusement Park      Wii   \n",
       "8309                               Thief: Deadly Shadows       XB   \n",
       "12009  Shounen Sunday x Shounen Magazine: Nettou! Dre...       DS   \n",
       "5523                                            SSX Blur      Wii   \n",
       "15590        Katekyoo Hitman Reborn! Dream Hyper Battle!      PS2   \n",
       "\n",
       "       year_of_release     genre  na_sales  eu_sales  jp_sales  other_sales  \\\n",
       "13432             2008      Misc      0.04      0.00      0.00         0.00   \n",
       "8309              2004    Action      0.13      0.04      0.00         0.01   \n",
       "12009             2009    Sports      0.00      0.00      0.07         0.00   \n",
       "5523              2007    Sports      0.29      0.01      0.00         0.03   \n",
       "15590             2007  Fighting      0.00      0.00      0.02         0.00   \n",
       "\n",
       "       critic_score user_score rating  \n",
       "13432          37.0        4.5      E  \n",
       "8309           82.0        7.3      M  \n",
       "12009           NaN        NaN    NaN  \n",
       "5523           74.0        8.1      E  \n",
       "15590           NaN        NaN    NaN  "
      ]
     },
     "metadata": {},
     "output_type": "display_data"
    },
    {
     "name": "stdout",
     "output_type": "stream",
     "text": [
      "<class 'pandas.core.frame.DataFrame'>\n",
      "Int64Index: 16444 entries, 0 to 16714\n",
      "Data columns (total 11 columns):\n",
      " #   Column           Non-Null Count  Dtype  \n",
      "---  ------           --------------  -----  \n",
      " 0   name             16444 non-null  object \n",
      " 1   platform         16444 non-null  object \n",
      " 2   year_of_release  16444 non-null  int64  \n",
      " 3   genre            16444 non-null  object \n",
      " 4   na_sales         16444 non-null  float64\n",
      " 5   eu_sales         16444 non-null  float64\n",
      " 6   jp_sales         16444 non-null  float64\n",
      " 7   other_sales      16444 non-null  float64\n",
      " 8   critic_score     7983 non-null   float64\n",
      " 9   user_score       9839 non-null   object \n",
      " 10  rating           9768 non-null   object \n",
      "dtypes: float64(5), int64(1), object(5)\n",
      "memory usage: 1.5+ MB\n",
      "None\n"
     ]
    }
   ],
   "source": [
    "# Drop the null values\n",
    "games_df.dropna(subset=['year_of_release'], inplace=True)\n",
    "\n",
    "# Convert the column to date-time data type\n",
    "games_df['year_of_release'] = pd.to_datetime(games_df['year_of_release'], format='%Y')\n",
    "games_df['year_of_release'] = games_df['year_of_release'].dt.year.astype(int)\n",
    "\n",
    "display(games_df.sample(5))\n",
    "print(games_df.info())"
   ]
  },
  {
   "cell_type": "markdown",
   "metadata": {},
   "source": [
    "We have successfully addressed the 'year_of_release' column by dropping the missing years and converting the non-null values to the proper data type. Now, let's turn our attention to the 'critic_score' column.\n",
    "\n",
    "Approximately half of the 'critic_score' column contains missing values. We will fix this by replacing these values with a single placeholder (0). This approach will help us maintain the overall distribution and reliability of our dataset during analysis."
   ]
  },
  {
   "cell_type": "code",
   "execution_count": 7,
   "metadata": {},
   "outputs": [
    {
     "data": {
      "text/html": [
       "<div>\n",
       "<style scoped>\n",
       "    .dataframe tbody tr th:only-of-type {\n",
       "        vertical-align: middle;\n",
       "    }\n",
       "\n",
       "    .dataframe tbody tr th {\n",
       "        vertical-align: top;\n",
       "    }\n",
       "\n",
       "    .dataframe thead th {\n",
       "        text-align: right;\n",
       "    }\n",
       "</style>\n",
       "<table border=\"1\" class=\"dataframe\">\n",
       "  <thead>\n",
       "    <tr style=\"text-align: right;\">\n",
       "      <th></th>\n",
       "      <th>name</th>\n",
       "      <th>platform</th>\n",
       "      <th>year_of_release</th>\n",
       "      <th>genre</th>\n",
       "      <th>na_sales</th>\n",
       "      <th>eu_sales</th>\n",
       "      <th>jp_sales</th>\n",
       "      <th>other_sales</th>\n",
       "      <th>critic_score</th>\n",
       "      <th>user_score</th>\n",
       "      <th>rating</th>\n",
       "    </tr>\n",
       "  </thead>\n",
       "  <tbody>\n",
       "    <tr>\n",
       "      <th>7974</th>\n",
       "      <td>Fairy Fencer F</td>\n",
       "      <td>PS3</td>\n",
       "      <td>2013</td>\n",
       "      <td>Role-Playing</td>\n",
       "      <td>0.05</td>\n",
       "      <td>0.03</td>\n",
       "      <td>0.09</td>\n",
       "      <td>0.02</td>\n",
       "      <td>65.0</td>\n",
       "      <td>7.4</td>\n",
       "      <td>T</td>\n",
       "    </tr>\n",
       "    <tr>\n",
       "      <th>14485</th>\n",
       "      <td>Mother Goose no Himitsu no Yakata</td>\n",
       "      <td>PSP</td>\n",
       "      <td>2011</td>\n",
       "      <td>Adventure</td>\n",
       "      <td>0.00</td>\n",
       "      <td>0.00</td>\n",
       "      <td>0.03</td>\n",
       "      <td>0.00</td>\n",
       "      <td>-1.0</td>\n",
       "      <td>NaN</td>\n",
       "      <td>NaN</td>\n",
       "    </tr>\n",
       "    <tr>\n",
       "      <th>5626</th>\n",
       "      <td>Vin Diesel: Wheelman</td>\n",
       "      <td>PS3</td>\n",
       "      <td>2009</td>\n",
       "      <td>Racing</td>\n",
       "      <td>0.12</td>\n",
       "      <td>0.14</td>\n",
       "      <td>0.00</td>\n",
       "      <td>0.05</td>\n",
       "      <td>-1.0</td>\n",
       "      <td>NaN</td>\n",
       "      <td>NaN</td>\n",
       "    </tr>\n",
       "    <tr>\n",
       "      <th>12301</th>\n",
       "      <td>Bleach: Versus Crusade</td>\n",
       "      <td>Wii</td>\n",
       "      <td>2008</td>\n",
       "      <td>Fighting</td>\n",
       "      <td>0.00</td>\n",
       "      <td>0.00</td>\n",
       "      <td>0.06</td>\n",
       "      <td>0.00</td>\n",
       "      <td>-1.0</td>\n",
       "      <td>NaN</td>\n",
       "      <td>NaN</td>\n",
       "    </tr>\n",
       "    <tr>\n",
       "      <th>13802</th>\n",
       "      <td>PD Ultraman Battle Collection 64</td>\n",
       "      <td>N64</td>\n",
       "      <td>1999</td>\n",
       "      <td>Strategy</td>\n",
       "      <td>0.00</td>\n",
       "      <td>0.00</td>\n",
       "      <td>0.04</td>\n",
       "      <td>0.00</td>\n",
       "      <td>-1.0</td>\n",
       "      <td>NaN</td>\n",
       "      <td>NaN</td>\n",
       "    </tr>\n",
       "  </tbody>\n",
       "</table>\n",
       "</div>"
      ],
      "text/plain": [
       "                                    name platform  year_of_release  \\\n",
       "7974                      Fairy Fencer F      PS3             2013   \n",
       "14485  Mother Goose no Himitsu no Yakata      PSP             2011   \n",
       "5626                Vin Diesel: Wheelman      PS3             2009   \n",
       "12301             Bleach: Versus Crusade      Wii             2008   \n",
       "13802   PD Ultraman Battle Collection 64      N64             1999   \n",
       "\n",
       "              genre  na_sales  eu_sales  jp_sales  other_sales  critic_score  \\\n",
       "7974   Role-Playing      0.05      0.03      0.09         0.02          65.0   \n",
       "14485     Adventure      0.00      0.00      0.03         0.00          -1.0   \n",
       "5626         Racing      0.12      0.14      0.00         0.05          -1.0   \n",
       "12301      Fighting      0.00      0.00      0.06         0.00          -1.0   \n",
       "13802      Strategy      0.00      0.00      0.04         0.00          -1.0   \n",
       "\n",
       "      user_score rating  \n",
       "7974         7.4      T  \n",
       "14485        NaN    NaN  \n",
       "5626         NaN    NaN  \n",
       "12301        NaN    NaN  \n",
       "13802        NaN    NaN  "
      ]
     },
     "metadata": {},
     "output_type": "display_data"
    },
    {
     "name": "stdout",
     "output_type": "stream",
     "text": [
      "<class 'pandas.core.frame.DataFrame'>\n",
      "Int64Index: 16444 entries, 0 to 16714\n",
      "Data columns (total 11 columns):\n",
      " #   Column           Non-Null Count  Dtype  \n",
      "---  ------           --------------  -----  \n",
      " 0   name             16444 non-null  object \n",
      " 1   platform         16444 non-null  object \n",
      " 2   year_of_release  16444 non-null  int64  \n",
      " 3   genre            16444 non-null  object \n",
      " 4   na_sales         16444 non-null  float64\n",
      " 5   eu_sales         16444 non-null  float64\n",
      " 6   jp_sales         16444 non-null  float64\n",
      " 7   other_sales      16444 non-null  float64\n",
      " 8   critic_score     16444 non-null  float64\n",
      " 9   user_score       9839 non-null   object \n",
      " 10  rating           9768 non-null   object \n",
      "dtypes: float64(5), int64(1), object(5)\n",
      "memory usage: 1.5+ MB\n",
      "None\n"
     ]
    }
   ],
   "source": [
    "# Replace missing 'critic_score' values with the average critic score rating of games within the data frame\n",
    "games_df['critic_score'].fillna(-1, inplace=True)\n",
    "\n",
    "display(games_df.sample(5))\n",
    "print(games_df.info())"
   ]
  },
  {
   "cell_type": "markdown",
   "metadata": {},
   "source": [
    "The 'critic_score' column has been successfully corrected. Now, let's address the 'user_score' column, which contains missing values and values of an incorrect data type. Additionally, some entries contain the value 'tbd', which is not acceptable for our analysis. We will handle these 'tbd' values in the same way as the missing values by replacing them with a placeholder value (0). This will ensure consistency and accuracy in our data analysis."
   ]
  },
  {
   "cell_type": "code",
   "execution_count": 8,
   "metadata": {},
   "outputs": [
    {
     "data": {
      "text/html": [
       "<div>\n",
       "<style scoped>\n",
       "    .dataframe tbody tr th:only-of-type {\n",
       "        vertical-align: middle;\n",
       "    }\n",
       "\n",
       "    .dataframe tbody tr th {\n",
       "        vertical-align: top;\n",
       "    }\n",
       "\n",
       "    .dataframe thead th {\n",
       "        text-align: right;\n",
       "    }\n",
       "</style>\n",
       "<table border=\"1\" class=\"dataframe\">\n",
       "  <thead>\n",
       "    <tr style=\"text-align: right;\">\n",
       "      <th></th>\n",
       "      <th>name</th>\n",
       "      <th>platform</th>\n",
       "      <th>year_of_release</th>\n",
       "      <th>genre</th>\n",
       "      <th>na_sales</th>\n",
       "      <th>eu_sales</th>\n",
       "      <th>jp_sales</th>\n",
       "      <th>other_sales</th>\n",
       "      <th>critic_score</th>\n",
       "      <th>user_score</th>\n",
       "      <th>rating</th>\n",
       "    </tr>\n",
       "  </thead>\n",
       "  <tbody>\n",
       "    <tr>\n",
       "      <th>8116</th>\n",
       "      <td>Squeeballs Party</td>\n",
       "      <td>Wii</td>\n",
       "      <td>2009</td>\n",
       "      <td>Puzzle</td>\n",
       "      <td>0.17</td>\n",
       "      <td>0.00</td>\n",
       "      <td>0.00</td>\n",
       "      <td>0.01</td>\n",
       "      <td>59.0</td>\n",
       "      <td>-1.0</td>\n",
       "      <td>E10+</td>\n",
       "    </tr>\n",
       "    <tr>\n",
       "      <th>9310</th>\n",
       "      <td>Avatar: The Last Airbender - The Burning Earth</td>\n",
       "      <td>X360</td>\n",
       "      <td>2007</td>\n",
       "      <td>Action</td>\n",
       "      <td>0.11</td>\n",
       "      <td>0.01</td>\n",
       "      <td>0.00</td>\n",
       "      <td>0.01</td>\n",
       "      <td>-1.0</td>\n",
       "      <td>-1.0</td>\n",
       "      <td>NaN</td>\n",
       "    </tr>\n",
       "    <tr>\n",
       "      <th>8739</th>\n",
       "      <td>Pressure Cooker</td>\n",
       "      <td>2600</td>\n",
       "      <td>1982</td>\n",
       "      <td>Action</td>\n",
       "      <td>0.14</td>\n",
       "      <td>0.01</td>\n",
       "      <td>0.00</td>\n",
       "      <td>0.00</td>\n",
       "      <td>-1.0</td>\n",
       "      <td>-1.0</td>\n",
       "      <td>NaN</td>\n",
       "    </tr>\n",
       "    <tr>\n",
       "      <th>2023</th>\n",
       "      <td>Shrek 2</td>\n",
       "      <td>GC</td>\n",
       "      <td>2004</td>\n",
       "      <td>Platform</td>\n",
       "      <td>0.73</td>\n",
       "      <td>0.26</td>\n",
       "      <td>0.01</td>\n",
       "      <td>0.03</td>\n",
       "      <td>70.0</td>\n",
       "      <td>6.4</td>\n",
       "      <td>E</td>\n",
       "    </tr>\n",
       "    <tr>\n",
       "      <th>12503</th>\n",
       "      <td>The Next BIG Thing</td>\n",
       "      <td>PC</td>\n",
       "      <td>2011</td>\n",
       "      <td>Adventure</td>\n",
       "      <td>0.00</td>\n",
       "      <td>0.05</td>\n",
       "      <td>0.00</td>\n",
       "      <td>0.01</td>\n",
       "      <td>75.0</td>\n",
       "      <td>7.9</td>\n",
       "      <td>E10+</td>\n",
       "    </tr>\n",
       "  </tbody>\n",
       "</table>\n",
       "</div>"
      ],
      "text/plain": [
       "                                                 name platform  \\\n",
       "8116                                 Squeeballs Party      Wii   \n",
       "9310   Avatar: The Last Airbender - The Burning Earth     X360   \n",
       "8739                                  Pressure Cooker     2600   \n",
       "2023                                          Shrek 2       GC   \n",
       "12503                              The Next BIG Thing       PC   \n",
       "\n",
       "       year_of_release      genre  na_sales  eu_sales  jp_sales  other_sales  \\\n",
       "8116              2009     Puzzle      0.17      0.00      0.00         0.01   \n",
       "9310              2007     Action      0.11      0.01      0.00         0.01   \n",
       "8739              1982     Action      0.14      0.01      0.00         0.00   \n",
       "2023              2004   Platform      0.73      0.26      0.01         0.03   \n",
       "12503             2011  Adventure      0.00      0.05      0.00         0.01   \n",
       "\n",
       "       critic_score  user_score rating  \n",
       "8116           59.0        -1.0   E10+  \n",
       "9310           -1.0        -1.0    NaN  \n",
       "8739           -1.0        -1.0    NaN  \n",
       "2023           70.0         6.4      E  \n",
       "12503          75.0         7.9   E10+  "
      ]
     },
     "metadata": {},
     "output_type": "display_data"
    },
    {
     "name": "stdout",
     "output_type": "stream",
     "text": [
      "<class 'pandas.core.frame.DataFrame'>\n",
      "Int64Index: 16444 entries, 0 to 16714\n",
      "Data columns (total 11 columns):\n",
      " #   Column           Non-Null Count  Dtype  \n",
      "---  ------           --------------  -----  \n",
      " 0   name             16444 non-null  object \n",
      " 1   platform         16444 non-null  object \n",
      " 2   year_of_release  16444 non-null  int64  \n",
      " 3   genre            16444 non-null  object \n",
      " 4   na_sales         16444 non-null  float64\n",
      " 5   eu_sales         16444 non-null  float64\n",
      " 6   jp_sales         16444 non-null  float64\n",
      " 7   other_sales      16444 non-null  float64\n",
      " 8   critic_score     16444 non-null  float64\n",
      " 9   user_score       16444 non-null  float64\n",
      " 10  rating           9768 non-null   object \n",
      "dtypes: float64(6), int64(1), object(4)\n",
      "memory usage: 1.5+ MB\n",
      "None\n"
     ]
    }
   ],
   "source": [
    "# Replace missing and unacceptable 'user_score' values with the average user score rating of games within the data frame\n",
    "games_df['user_score'] = games_df['user_score'].replace('tbd', -1)\n",
    "games_df['user_score'].fillna(-1, inplace=True)\n",
    "games_df['user_score'] = games_df['user_score'].astype(float)\n",
    "\n",
    "display(games_df.sample(5))\n",
    "print(games_df.info())"
   ]
  },
  {
   "cell_type": "markdown",
   "metadata": {},
   "source": [
    "The 'user_score' column is now ready for analysis. Finally, let's address the 'rating' column.\n",
    "\n",
    "Approximately half of the entries in the 'rating' column missing. To address this issue, we'll fill in the missing values with a placeholder to represent unknown ratings ('U')."
   ]
  },
  {
   "cell_type": "code",
   "execution_count": 9,
   "metadata": {},
   "outputs": [
    {
     "data": {
      "text/html": [
       "<div>\n",
       "<style scoped>\n",
       "    .dataframe tbody tr th:only-of-type {\n",
       "        vertical-align: middle;\n",
       "    }\n",
       "\n",
       "    .dataframe tbody tr th {\n",
       "        vertical-align: top;\n",
       "    }\n",
       "\n",
       "    .dataframe thead th {\n",
       "        text-align: right;\n",
       "    }\n",
       "</style>\n",
       "<table border=\"1\" class=\"dataframe\">\n",
       "  <thead>\n",
       "    <tr style=\"text-align: right;\">\n",
       "      <th></th>\n",
       "      <th>name</th>\n",
       "      <th>platform</th>\n",
       "      <th>year_of_release</th>\n",
       "      <th>genre</th>\n",
       "      <th>na_sales</th>\n",
       "      <th>eu_sales</th>\n",
       "      <th>jp_sales</th>\n",
       "      <th>other_sales</th>\n",
       "      <th>critic_score</th>\n",
       "      <th>user_score</th>\n",
       "      <th>rating</th>\n",
       "    </tr>\n",
       "  </thead>\n",
       "  <tbody>\n",
       "    <tr>\n",
       "      <th>15526</th>\n",
       "      <td>Sega Ages 2500 Series Vol. 32: Phantasy Star C...</td>\n",
       "      <td>PS2</td>\n",
       "      <td>2008</td>\n",
       "      <td>Role-Playing</td>\n",
       "      <td>0.00</td>\n",
       "      <td>0.00</td>\n",
       "      <td>0.02</td>\n",
       "      <td>0.00</td>\n",
       "      <td>-1.0</td>\n",
       "      <td>-1.0</td>\n",
       "      <td>U</td>\n",
       "    </tr>\n",
       "    <tr>\n",
       "      <th>426</th>\n",
       "      <td>Baseball</td>\n",
       "      <td>NES</td>\n",
       "      <td>1983</td>\n",
       "      <td>Sports</td>\n",
       "      <td>0.73</td>\n",
       "      <td>0.10</td>\n",
       "      <td>2.35</td>\n",
       "      <td>0.02</td>\n",
       "      <td>-1.0</td>\n",
       "      <td>-1.0</td>\n",
       "      <td>U</td>\n",
       "    </tr>\n",
       "    <tr>\n",
       "      <th>11304</th>\n",
       "      <td>Famicom Mini: Mario Bros.</td>\n",
       "      <td>GBA</td>\n",
       "      <td>2004</td>\n",
       "      <td>Platform</td>\n",
       "      <td>0.00</td>\n",
       "      <td>0.00</td>\n",
       "      <td>0.08</td>\n",
       "      <td>0.00</td>\n",
       "      <td>-1.0</td>\n",
       "      <td>-1.0</td>\n",
       "      <td>U</td>\n",
       "    </tr>\n",
       "    <tr>\n",
       "      <th>15306</th>\n",
       "      <td>Rose to Tasogare no Kojou</td>\n",
       "      <td>PSV</td>\n",
       "      <td>2016</td>\n",
       "      <td>Action</td>\n",
       "      <td>0.00</td>\n",
       "      <td>0.00</td>\n",
       "      <td>0.02</td>\n",
       "      <td>0.00</td>\n",
       "      <td>-1.0</td>\n",
       "      <td>-1.0</td>\n",
       "      <td>U</td>\n",
       "    </tr>\n",
       "    <tr>\n",
       "      <th>5842</th>\n",
       "      <td>Burnout</td>\n",
       "      <td>GC</td>\n",
       "      <td>2002</td>\n",
       "      <td>Racing</td>\n",
       "      <td>0.23</td>\n",
       "      <td>0.06</td>\n",
       "      <td>0.00</td>\n",
       "      <td>0.01</td>\n",
       "      <td>78.0</td>\n",
       "      <td>7.9</td>\n",
       "      <td>E</td>\n",
       "    </tr>\n",
       "  </tbody>\n",
       "</table>\n",
       "</div>"
      ],
      "text/plain": [
       "                                                    name platform  \\\n",
       "15526  Sega Ages 2500 Series Vol. 32: Phantasy Star C...      PS2   \n",
       "426                                             Baseball      NES   \n",
       "11304                          Famicom Mini: Mario Bros.      GBA   \n",
       "15306                          Rose to Tasogare no Kojou      PSV   \n",
       "5842                                             Burnout       GC   \n",
       "\n",
       "       year_of_release         genre  na_sales  eu_sales  jp_sales  \\\n",
       "15526             2008  Role-Playing      0.00      0.00      0.02   \n",
       "426               1983        Sports      0.73      0.10      2.35   \n",
       "11304             2004      Platform      0.00      0.00      0.08   \n",
       "15306             2016        Action      0.00      0.00      0.02   \n",
       "5842              2002        Racing      0.23      0.06      0.00   \n",
       "\n",
       "       other_sales  critic_score  user_score rating  \n",
       "15526         0.00          -1.0        -1.0      U  \n",
       "426           0.02          -1.0        -1.0      U  \n",
       "11304         0.00          -1.0        -1.0      U  \n",
       "15306         0.00          -1.0        -1.0      U  \n",
       "5842          0.01          78.0         7.9      E  "
      ]
     },
     "metadata": {},
     "output_type": "display_data"
    },
    {
     "name": "stdout",
     "output_type": "stream",
     "text": [
      "<class 'pandas.core.frame.DataFrame'>\n",
      "Int64Index: 16444 entries, 0 to 16714\n",
      "Data columns (total 11 columns):\n",
      " #   Column           Non-Null Count  Dtype  \n",
      "---  ------           --------------  -----  \n",
      " 0   name             16444 non-null  object \n",
      " 1   platform         16444 non-null  object \n",
      " 2   year_of_release  16444 non-null  int64  \n",
      " 3   genre            16444 non-null  object \n",
      " 4   na_sales         16444 non-null  float64\n",
      " 5   eu_sales         16444 non-null  float64\n",
      " 6   jp_sales         16444 non-null  float64\n",
      " 7   other_sales      16444 non-null  float64\n",
      " 8   critic_score     16444 non-null  float64\n",
      " 9   user_score       16444 non-null  float64\n",
      " 10  rating           16444 non-null  object \n",
      "dtypes: float64(6), int64(1), object(4)\n",
      "memory usage: 1.5+ MB\n",
      "None\n"
     ]
    }
   ],
   "source": [
    "# Replace missing 'rating' values with ratings most associated with each game genre\n",
    "games_df['rating'].fillna('U', inplace=True)\n",
    "\n",
    "display(games_df.sample(5))\n",
    "print(games_df.info())"
   ]
  },
  {
   "cell_type": "markdown",
   "metadata": {},
   "source": [
    "With the data now refined, we have an opportunity to enhance its depth by calculating total sales for each game. This involves aggregating sales figures from all regions and consolidating them into a singular metric. By creating a dedicated column to house these aggregated values, we'll be able to glean a more comprehensive understanding of each game's commercial performance."
   ]
  },
  {
   "cell_type": "code",
   "execution_count": 10,
   "metadata": {},
   "outputs": [
    {
     "data": {
      "text/html": [
       "<div>\n",
       "<style scoped>\n",
       "    .dataframe tbody tr th:only-of-type {\n",
       "        vertical-align: middle;\n",
       "    }\n",
       "\n",
       "    .dataframe tbody tr th {\n",
       "        vertical-align: top;\n",
       "    }\n",
       "\n",
       "    .dataframe thead th {\n",
       "        text-align: right;\n",
       "    }\n",
       "</style>\n",
       "<table border=\"1\" class=\"dataframe\">\n",
       "  <thead>\n",
       "    <tr style=\"text-align: right;\">\n",
       "      <th></th>\n",
       "      <th>name</th>\n",
       "      <th>platform</th>\n",
       "      <th>year_of_release</th>\n",
       "      <th>genre</th>\n",
       "      <th>na_sales</th>\n",
       "      <th>eu_sales</th>\n",
       "      <th>jp_sales</th>\n",
       "      <th>other_sales</th>\n",
       "      <th>critic_score</th>\n",
       "      <th>user_score</th>\n",
       "      <th>rating</th>\n",
       "      <th>total_sales</th>\n",
       "    </tr>\n",
       "  </thead>\n",
       "  <tbody>\n",
       "    <tr>\n",
       "      <th>249</th>\n",
       "      <td>Tony Hawk's Pro Skater 3</td>\n",
       "      <td>PS2</td>\n",
       "      <td>2001</td>\n",
       "      <td>Sports</td>\n",
       "      <td>2.66</td>\n",
       "      <td>1.29</td>\n",
       "      <td>0.01</td>\n",
       "      <td>0.46</td>\n",
       "      <td>97.0</td>\n",
       "      <td>7.5</td>\n",
       "      <td>T</td>\n",
       "      <td>4.42</td>\n",
       "    </tr>\n",
       "    <tr>\n",
       "      <th>770</th>\n",
       "      <td>R.C. Pro-Am</td>\n",
       "      <td>NES</td>\n",
       "      <td>1988</td>\n",
       "      <td>Racing</td>\n",
       "      <td>1.47</td>\n",
       "      <td>0.38</td>\n",
       "      <td>0.19</td>\n",
       "      <td>0.10</td>\n",
       "      <td>-1.0</td>\n",
       "      <td>-1.0</td>\n",
       "      <td>U</td>\n",
       "      <td>2.14</td>\n",
       "    </tr>\n",
       "    <tr>\n",
       "      <th>12703</th>\n",
       "      <td>Teenage Mutant Ninja Turtles II: Back from the...</td>\n",
       "      <td>GB</td>\n",
       "      <td>1991</td>\n",
       "      <td>Action</td>\n",
       "      <td>0.00</td>\n",
       "      <td>0.00</td>\n",
       "      <td>0.06</td>\n",
       "      <td>0.00</td>\n",
       "      <td>-1.0</td>\n",
       "      <td>-1.0</td>\n",
       "      <td>U</td>\n",
       "      <td>0.06</td>\n",
       "    </tr>\n",
       "    <tr>\n",
       "      <th>10297</th>\n",
       "      <td>NBA Live 16</td>\n",
       "      <td>XOne</td>\n",
       "      <td>2015</td>\n",
       "      <td>Sports</td>\n",
       "      <td>0.09</td>\n",
       "      <td>0.01</td>\n",
       "      <td>0.00</td>\n",
       "      <td>0.01</td>\n",
       "      <td>60.0</td>\n",
       "      <td>5.6</td>\n",
       "      <td>E</td>\n",
       "      <td>0.11</td>\n",
       "    </tr>\n",
       "    <tr>\n",
       "      <th>8317</th>\n",
       "      <td>Country Dance: All Stars</td>\n",
       "      <td>X360</td>\n",
       "      <td>2012</td>\n",
       "      <td>Action</td>\n",
       "      <td>0.16</td>\n",
       "      <td>0.00</td>\n",
       "      <td>0.00</td>\n",
       "      <td>0.01</td>\n",
       "      <td>-1.0</td>\n",
       "      <td>5.2</td>\n",
       "      <td>E10+</td>\n",
       "      <td>0.17</td>\n",
       "    </tr>\n",
       "  </tbody>\n",
       "</table>\n",
       "</div>"
      ],
      "text/plain": [
       "                                                    name platform  \\\n",
       "249                             Tony Hawk's Pro Skater 3      PS2   \n",
       "770                                          R.C. Pro-Am      NES   \n",
       "12703  Teenage Mutant Ninja Turtles II: Back from the...       GB   \n",
       "10297                                        NBA Live 16     XOne   \n",
       "8317                            Country Dance: All Stars     X360   \n",
       "\n",
       "       year_of_release   genre  na_sales  eu_sales  jp_sales  other_sales  \\\n",
       "249               2001  Sports      2.66      1.29      0.01         0.46   \n",
       "770               1988  Racing      1.47      0.38      0.19         0.10   \n",
       "12703             1991  Action      0.00      0.00      0.06         0.00   \n",
       "10297             2015  Sports      0.09      0.01      0.00         0.01   \n",
       "8317              2012  Action      0.16      0.00      0.00         0.01   \n",
       "\n",
       "       critic_score  user_score rating  total_sales  \n",
       "249            97.0         7.5      T         4.42  \n",
       "770            -1.0        -1.0      U         2.14  \n",
       "12703          -1.0        -1.0      U         0.06  \n",
       "10297          60.0         5.6      E         0.11  \n",
       "8317           -1.0         5.2   E10+         0.17  "
      ]
     },
     "metadata": {},
     "output_type": "display_data"
    },
    {
     "name": "stdout",
     "output_type": "stream",
     "text": [
      "<class 'pandas.core.frame.DataFrame'>\n",
      "Int64Index: 16444 entries, 0 to 16714\n",
      "Data columns (total 12 columns):\n",
      " #   Column           Non-Null Count  Dtype  \n",
      "---  ------           --------------  -----  \n",
      " 0   name             16444 non-null  object \n",
      " 1   platform         16444 non-null  object \n",
      " 2   year_of_release  16444 non-null  int64  \n",
      " 3   genre            16444 non-null  object \n",
      " 4   na_sales         16444 non-null  float64\n",
      " 5   eu_sales         16444 non-null  float64\n",
      " 6   jp_sales         16444 non-null  float64\n",
      " 7   other_sales      16444 non-null  float64\n",
      " 8   critic_score     16444 non-null  float64\n",
      " 9   user_score       16444 non-null  float64\n",
      " 10  rating           16444 non-null  object \n",
      " 11  total_sales      16444 non-null  float64\n",
      "dtypes: float64(7), int64(1), object(4)\n",
      "memory usage: 1.6+ MB\n",
      "None\n"
     ]
    }
   ],
   "source": [
    "# Calculate the total number of sales for each game\n",
    "games_df['total_sales'] = games_df['na_sales'] + games_df['eu_sales'] + games_df['jp_sales'] + games_df['other_sales']\n",
    "\n",
    "display(games_df.sample(5))\n",
    "print(games_df.info())"
   ]
  },
  {
   "cell_type": "markdown",
   "metadata": {},
   "source": [
    "The data is now ready for analysis!"
   ]
  },
  {
   "cell_type": "markdown",
   "metadata": {},
   "source": [
    "## Analyze Data"
   ]
  },
  {
   "cell_type": "markdown",
   "metadata": {},
   "source": [
    "We will start our analysis by examining the number of game releases across different years. This will help us identify the time period with the most significant data."
   ]
  },
  {
   "cell_type": "code",
   "execution_count": 11,
   "metadata": {},
   "outputs": [
    {
     "data": {
      "image/png": "[encoded data removed]",
      "text/plain": [
       "<Figure size 2000x500 with 1 Axes>"
      ]
     },
     "metadata": {},
     "output_type": "display_data"
    }
   ],
   "source": [
    "plt.figure(figsize=(20, 5))\n",
    "games_df['year_of_release'].value_counts().sort_index().plot(kind='bar', title='Games Released per Year', xlabel='Years', ylabel='Games Released')\n",
    "plt.show()"
   ]
  },
  {
   "cell_type": "markdown",
   "metadata": {},
   "source": [
    "The visualization illustrates a clear trend in game releases over the years. Starting in the early 1990s, there was a gradual increase in the number of games released. This trend continued to rise sharply from the early 2000s, marking a significant boom in the gaming industry. The peak of this surge occurred in 2008 and 2009, after which there has been a steady decline in the number of game releases. The most significant and relevant data spans from 2000 to 2016, capturing the period where the majority of game releases occurred.\n",
    "\n",
    "Now we will observe how sales varied platform by platform."
   ]
  },
  {
   "cell_type": "code",
   "execution_count": 12,
   "metadata": {},
   "outputs": [
    {
     "data": {
      "text/plain": [
       "<Axes: title={'center': 'Total Game Sales for Each Platform'}, xlabel='Platforms', ylabel='Total Game Sales (Millions)'>"
      ]
     },
     "execution_count": 12,
     "metadata": {},
     "output_type": "execute_result"
    },
    {
     "data": {
      "image/png": "[encoded data removed]",
      "text/plain": [
       "<Figure size 2000x500 with 1 Axes>"
      ]
     },
     "metadata": {},
     "output_type": "display_data"
    }
   ],
   "source": [
    "plt.figure(figsize=(20, 5))\n",
    "games_df.groupby('platform')['total_sales'].sum().sort_index().plot(kind='bar', title='Total Game Sales for Each Platform', xlabel='Platforms', ylabel='Total Game Sales (Millions)')"
   ]
  },
  {
   "cell_type": "markdown",
   "metadata": {},
   "source": [
    "As observed, the top five gaming consoles in terms of sales are the PS2, Xbox 360, PS3, Wii, and DS, in that order. This information will be instrumental in furthering our investigation.\n",
    "\n",
    "We will analyze the total annual sales of these top platforms from the year 2000 onward by building a distribution."
   ]
  },
  {
   "cell_type": "code",
   "execution_count": 13,
   "metadata": {},
   "outputs": [
    {
     "data": {
      "image/png": "[encoded data removed]",
      "text/plain": [
       "<Figure size 2000x500 with 1 Axes>"
      ]
     },
     "metadata": {},
     "output_type": "display_data"
    }
   ],
   "source": [
    "# Group by year_of_release and platform, then sum total sales\n",
    "platform_sales = games_df.groupby('platform')['total_sales'].sum().sort_values(ascending=False)\n",
    "top_5_plats = platform_sales.head(5)\n",
    "\n",
    "\n",
    "# Filter the original DataFrame so that it only contains the top 5 platforms\n",
    "top_5_games_df = games_df[games_df['platform'].isin(top_5_plats.keys()) & (games_df['platform'].isin(top_5_plats.keys()) & (games_df['year_of_release'] >= 2000))]\n",
    "platform_sales_df = top_5_games_df.groupby(['year_of_release', 'platform'])['total_sales'].sum().unstack()\n",
    "\n",
    "\n",
    "fig, ax = plt.subplots(figsize=(20, 5))\n",
    "\n",
    "# Plot each platform's total sales by year\n",
    "for platform in platform_sales_df.columns:\n",
    "    ax.plot(platform_sales_df.index, platform_sales_df[platform], label=platform)\n",
    "\n",
    "plt.title('Total Sales per Top 5 Platforms')\n",
    "plt.xlabel('Year of Release')\n",
    "plt.ylabel('Total Sales (Millions)')\n",
    "plt.legend(title='Platform')\n",
    "\n",
    "# Set x-axis to diaplye years\n",
    "ax.set_xticks(platform_sales_df.index)\n",
    "ax.set_xticklabels(platform_sales_df.index)\n",
    "\n",
    "plt.grid(True)\n",
    "plt.show()"
   ]
  },
  {
   "cell_type": "markdown",
   "metadata": {},
   "source": [
    "From the analysis of the line graph, it's evident that the PS2 enjoyed an exceptional longevity compared to other leading platforms. However, its sales trajectory started a steady decline post-2004, continuing further after the release of the PS3, which was marketed as an upgraded version. Conversely, the Wii demonstrated a robust start, generating nearly $150 million in sales during its debut year. This surge can be attributed to its innovative gaming mechanics, which captured widespread interest. The remaining platforms followed a similar trend of sales steadily increasing, reaching peaks around the 3-4 year mark, and then gradually declining.\n",
    "\n",
    "To enhance the relevance of our analysis and improve the accuracy of our sales projections for 2017, we will narrow our dataset to focus on the period from 2013 to 2016. By concentrating on this more recent timeframe, we can avoid the inclusion of outdated trends that might skew our predictions. This refined dataset will enable us to more precisely assess how platforms and games performed in terms of sales, providing clearer insights for forecasting future trends."
   ]
  },
  {
   "cell_type": "code",
   "execution_count": 14,
   "metadata": {},
   "outputs": [
    {
     "name": "stdout",
     "output_type": "stream",
     "text": [
      "<class 'pandas.core.frame.DataFrame'>\n",
      "Int64Index: 2233 entries, 16 to 16714\n",
      "Data columns (total 12 columns):\n",
      " #   Column           Non-Null Count  Dtype  \n",
      "---  ------           --------------  -----  \n",
      " 0   name             2233 non-null   object \n",
      " 1   platform         2233 non-null   object \n",
      " 2   year_of_release  2233 non-null   int64  \n",
      " 3   genre            2233 non-null   object \n",
      " 4   na_sales         2233 non-null   float64\n",
      " 5   eu_sales         2233 non-null   float64\n",
      " 6   jp_sales         2233 non-null   float64\n",
      " 7   other_sales      2233 non-null   float64\n",
      " 8   critic_score     2233 non-null   float64\n",
      " 9   user_score       2233 non-null   float64\n",
      " 10  rating           2233 non-null   object \n",
      " 11  total_sales      2233 non-null   float64\n",
      "dtypes: float64(7), int64(1), object(4)\n",
      "memory usage: 226.8+ KB\n",
      "None\n"
     ]
    }
   ],
   "source": [
    "# Filter the data frame to include only relevant data\n",
    "games_df = games_df[(games_df['year_of_release'] >= 2013)]\n",
    "print(games_df.info())"
   ]
  },
  {
   "cell_type": "markdown",
   "metadata": {},
   "source": [
    "### Difference in Sales by Platform\n",
    "\n",
    "We will build a box plot for the global sales of all games, broken down by platform. to explore whether or not the differences in sales significant."
   ]
  },
  {
   "cell_type": "code",
   "execution_count": 15,
   "metadata": {},
   "outputs": [
    {
     "data": {
      "text/plain": [
       "<Figure size 640x480 with 0 Axes>"
      ]
     },
     "metadata": {},
     "output_type": "display_data"
    },
    {
     "data": {
      "image/png": "[encoded data removed]",
      "text/plain": [
       "<Figure size 2000x500 with 1 Axes>"
      ]
     },
     "metadata": {},
     "output_type": "display_data"
    },
    {
     "data": {
      "text/html": [
       "<div>\n",
       "<style scoped>\n",
       "    .dataframe tbody tr th:only-of-type {\n",
       "        vertical-align: middle;\n",
       "    }\n",
       "\n",
       "    .dataframe tbody tr th {\n",
       "        vertical-align: top;\n",
       "    }\n",
       "\n",
       "    .dataframe thead tr th {\n",
       "        text-align: left;\n",
       "    }\n",
       "\n",
       "    .dataframe thead tr:last-of-type th {\n",
       "        text-align: right;\n",
       "    }\n",
       "</style>\n",
       "<table border=\"1\" class=\"dataframe\">\n",
       "  <thead>\n",
       "    <tr>\n",
       "      <th></th>\n",
       "      <th>mean</th>\n",
       "      <th>median</th>\n",
       "      <th>std</th>\n",
       "      <th>var</th>\n",
       "    </tr>\n",
       "    <tr>\n",
       "      <th></th>\n",
       "      <th>total_sales</th>\n",
       "      <th>total_sales</th>\n",
       "      <th>total_sales</th>\n",
       "      <th>total_sales</th>\n",
       "    </tr>\n",
       "    <tr>\n",
       "      <th>platform</th>\n",
       "      <th></th>\n",
       "      <th></th>\n",
       "      <th></th>\n",
       "      <th></th>\n",
       "    </tr>\n",
       "  </thead>\n",
       "  <tbody>\n",
       "    <tr>\n",
       "      <th>3DS</th>\n",
       "      <td>0.472772</td>\n",
       "      <td>0.090</td>\n",
       "      <td>1.381347</td>\n",
       "      <td>1.908119</td>\n",
       "    </tr>\n",
       "    <tr>\n",
       "      <th>DS</th>\n",
       "      <td>0.192500</td>\n",
       "      <td>0.150</td>\n",
       "      <td>0.172026</td>\n",
       "      <td>0.029593</td>\n",
       "    </tr>\n",
       "    <tr>\n",
       "      <th>PC</th>\n",
       "      <td>0.208624</td>\n",
       "      <td>0.080</td>\n",
       "      <td>0.352304</td>\n",
       "      <td>0.124118</td>\n",
       "    </tr>\n",
       "    <tr>\n",
       "      <th>PS3</th>\n",
       "      <td>0.525884</td>\n",
       "      <td>0.150</td>\n",
       "      <td>1.451939</td>\n",
       "      <td>2.108128</td>\n",
       "    </tr>\n",
       "    <tr>\n",
       "      <th>PS4</th>\n",
       "      <td>0.801378</td>\n",
       "      <td>0.200</td>\n",
       "      <td>1.609456</td>\n",
       "      <td>2.590350</td>\n",
       "    </tr>\n",
       "    <tr>\n",
       "      <th>PSP</th>\n",
       "      <td>0.052239</td>\n",
       "      <td>0.020</td>\n",
       "      <td>0.059768</td>\n",
       "      <td>0.003572</td>\n",
       "    </tr>\n",
       "    <tr>\n",
       "      <th>PSV</th>\n",
       "      <td>0.092151</td>\n",
       "      <td>0.040</td>\n",
       "      <td>0.153816</td>\n",
       "      <td>0.023660</td>\n",
       "    </tr>\n",
       "    <tr>\n",
       "      <th>Wii</th>\n",
       "      <td>0.593913</td>\n",
       "      <td>0.180</td>\n",
       "      <td>0.915432</td>\n",
       "      <td>0.838016</td>\n",
       "    </tr>\n",
       "    <tr>\n",
       "      <th>WiiU</th>\n",
       "      <td>0.562000</td>\n",
       "      <td>0.200</td>\n",
       "      <td>1.038778</td>\n",
       "      <td>1.079060</td>\n",
       "    </tr>\n",
       "    <tr>\n",
       "      <th>X360</th>\n",
       "      <td>0.735484</td>\n",
       "      <td>0.265</td>\n",
       "      <td>1.663275</td>\n",
       "      <td>2.766484</td>\n",
       "    </tr>\n",
       "    <tr>\n",
       "      <th>XOne</th>\n",
       "      <td>0.645020</td>\n",
       "      <td>0.220</td>\n",
       "      <td>1.036139</td>\n",
       "      <td>1.073584</td>\n",
       "    </tr>\n",
       "  </tbody>\n",
       "</table>\n",
       "</div>"
      ],
      "text/plain": [
       "                mean      median         std         var\n",
       "         total_sales total_sales total_sales total_sales\n",
       "platform                                                \n",
       "3DS         0.472772       0.090    1.381347    1.908119\n",
       "DS          0.192500       0.150    0.172026    0.029593\n",
       "PC          0.208624       0.080    0.352304    0.124118\n",
       "PS3         0.525884       0.150    1.451939    2.108128\n",
       "PS4         0.801378       0.200    1.609456    2.590350\n",
       "PSP         0.052239       0.020    0.059768    0.003572\n",
       "PSV         0.092151       0.040    0.153816    0.023660\n",
       "Wii         0.593913       0.180    0.915432    0.838016\n",
       "WiiU        0.562000       0.200    1.038778    1.079060\n",
       "X360        0.735484       0.265    1.663275    2.766484\n",
       "XOne        0.645020       0.220    1.036139    1.073584"
      ]
     },
     "execution_count": 15,
     "metadata": {},
     "output_type": "execute_result"
    }
   ],
   "source": [
    "# Plot box plots for each gaming platform to meaure difference in sales\n",
    "plt.figure()\n",
    "games_df.boxplot(column='total_sales', by='platform', figsize=(20, 5))\n",
    "plt.title('Total Sales of Games by Platform')\n",
    "plt.xlabel('Platforms')\n",
    "plt.ylabel('Total Sales (Millions)')\n",
    "plt.yscale('log')  # Use logarithmic scale for better visualization\n",
    "plt.show()\n",
    "\n",
    "# Calculate the mean, median, std dev and variance of the total sales by platform\n",
    "games_df.pivot_table(index='platform', values=['total_sales'], aggfunc=['mean', 'median', 'std', 'var'])"
   ]
  },
  {
   "cell_type": "markdown",
   "metadata": {},
   "source": [
    "The viusalization and the pivot table above offer comprehensive insights into the total sales performance across various gaming platforms. \n",
    "\n",
    "The median total sales as seen in the box plot and pivot table above provide a measure of the central tendency and are particularly useful for understanding the distribution of sales data, especially in the presence of outliers. Platforms like the Wii, with a median total sales higher than its mean, suggest that sales data may be positively skewed, indicating a few highly successful games driving overall sales. This can be seen in the box plot visualization for the Wii.\n",
    "\n",
    "The mean total sales serve as a measure of average sales volume on each platform, indicating relative popularity or market success. Platforms with higher mean total sales, such as the PS4, signify stronger overall sales performance. Conversely, those with lower mean sales, like GBA or XB, may have less market share or appeal.\n",
    "\n",
    " Standard deviation measures the variability or dispersion of total sales around the mean, with higher values suggesting greater fluctuation in sales performance across different games. For instance, the Wii platform exhibits the highest standard deviation and variance, implying significant variability in sales figures. Meanwhile, platforms like DS, PS3, and X360 show relatively high mean total sales, underscoring their significance in the gaming market. \n",
    " \n",
    " This data aids in understanding sales dynamics and market positioning across gaming platforms, facilitating informed strategic decisions within the industry."
   ]
  },
  {
   "cell_type": "markdown",
   "metadata": {},
   "source": [
    "### Do Reviews Affect Sales?\n",
    "\n",
    "Let's examine how user and professional reviews influence sales for Xbox 360 games. We will create scatter plots for user scores and critic scores, and calculate the correlation between reviews and sales for each plot. Let's begin with Critic Scores."
   ]
  },
  {
   "cell_type": "code",
   "execution_count": 16,
   "metadata": {},
   "outputs": [
    {
     "data": {
      "image/png": "[encoded data removed]",
      "text/plain": [
       "<Figure size 2000x500 with 1 Axes>"
      ]
     },
     "metadata": {},
     "output_type": "display_data"
    },
    {
     "name": "stdout",
     "output_type": "stream",
     "text": [
      "Correlation Coefficent (Sales vs Critic Score): 0.3503445460228664\n"
     ]
    }
   ],
   "source": [
    "# Plotting the first scatter plot with 'critic_score' on x-axis and 'total_sales' on y-axis\n",
    "x360_critic = games_df[(games_df['platform'] == 'X360') & (games_df['critic_score'] != -1)]\n",
    "fig, ax = plt.subplots(figsize=(20, 5))\n",
    "x360_critic.plot(x='critic_score', y='total_sales', kind='scatter', title='Sales vs Critic Score', ax=ax)\n",
    "plt.xlabel('Critic Score')\n",
    "plt.ylabel('Total Sales (Millions)')\n",
    "plt.show()\n",
    "\n",
    "print(\"Correlation Coefficent (Sales vs Critic Score):\", x360_critic['critic_score'].corr(x360_critic['total_sales']))"
   ]
  },
  {
   "cell_type": "markdown",
   "metadata": {},
   "source": [
    "Based on the scatterplot and the correlation coefficient of 0.35, it is evident that there is not a strong relationship between sales and critic scores. This suggests that a positive critic review does not necessarily translate into higher sales for a game, and vice versa. Let's investigate whether this trend holds true for user reviews as well."
   ]
  },
  {
   "cell_type": "code",
   "execution_count": 17,
   "metadata": {},
   "outputs": [
    {
     "data": {
      "image/png": "[encoded data removed]",
      "text/plain": [
       "<Figure size 2000x500 with 1 Axes>"
      ]
     },
     "metadata": {},
     "output_type": "display_data"
    },
    {
     "name": "stdout",
     "output_type": "stream",
     "text": [
      "Correlation Coefficent (Sales vs User Score): -0.006238179532306317\n"
     ]
    }
   ],
   "source": [
    "# Plotting the second scatter plot with 'user_score' on x-axis and 'total_sales' on y-axis\n",
    "x360_user = games_df[(games_df['platform'] == 'X360') & (games_df['critic_score'] != -1)]\n",
    "fig, ax = plt.subplots(figsize=(20, 5))\n",
    "x360_user.plot(x='user_score', y='total_sales', kind='scatter', title='Sales vs User Score', ax=ax)\n",
    "plt.xlabel('User Score')\n",
    "plt.ylabel('Total Sales (Millions)')\n",
    "plt.show()\n",
    "\n",
    "print(\"Correlation Coefficent (Sales vs User Score):\", x360_user['user_score'].corr(x360_user['total_sales']))"
   ]
  },
  {
   "cell_type": "markdown",
   "metadata": {},
   "source": [
    "As we can see, there is an even weaker correlation between sales and user reviews, with a correlation coefficient of just -0.007. This is evident from both the visualization and the numerical data. Therefore, we can infer that user reviews, whether positive or negative, do not significantly impact the sales of Xbox 360 games. "
   ]
  },
  {
   "cell_type": "markdown",
   "metadata": {},
   "source": [
    "### Cross-Platform Sales Analysis\n",
    "\n",
    "Now, let's begin a thorough comparison of game sales across different platforms. To ensure accuracy, our first step is to identify the top three games with availability across multiple platforms. By identifying the top three games available on multiple platforms, we can ensure our analysis is based on comprehensive and accurate data, setting a solid foundation for our comparison."
   ]
  },
  {
   "cell_type": "code",
   "execution_count": 18,
   "metadata": {},
   "outputs": [
    {
     "name": "stdout",
     "output_type": "stream",
     "text": [
      "name\n",
      "LEGO Marvel Super Heroes    9\n",
      "FIFA 14                     9\n",
      "LEGO Jurassic World         8\n",
      "Name: platform, dtype: int64\n"
     ]
    },
    {
     "data": {
      "image/png": "[encoded data removed]",
      "text/plain": [
       "<Figure size 2000x500 with 1 Axes>"
      ]
     },
     "metadata": {},
     "output_type": "display_data"
    }
   ],
   "source": [
    "# Get the top 3 games that are availble to the most amount of gaming platforms\n",
    "game_platform_counts = games_df.groupby('name')['platform'].nunique().sort_values(ascending=False)\n",
    "three_games = game_platform_counts.head(3)\n",
    "print(three_games)\n",
    "\n",
    "# Filter the original DataFrame so that it only contains our chosen 3 games\n",
    "three_plats_games_df = games_df[games_df['name'].isin(three_games.keys())]\n",
    "\n",
    "# Plot\n",
    "fig, ax = plt.subplots(figsize=(20, 5))\n",
    "three_plats_games_df.groupby(['platform', 'name'])['total_sales'].sum().unstack().plot(kind='bar', ax=ax)\n",
    "plt.title('Total Sales per Platform for Top 3 Games')\n",
    "plt.xlabel('Platforms')\n",
    "plt.ylabel('Total Sales (Millions)')\n",
    "plt.legend(title='Game')\n",
    "plt.show()"
   ]
  },
  {
   "cell_type": "markdown",
   "metadata": {},
   "source": [
    "Upon examination of the sales data for 'FIFA 14', 'LEGO Jurassic World', and 'LEGO Marvel Super Heroes' across multiple gaming platforms, notable patterns emerge. 'FIFA 14' exhibited significant traction, particularly on PS3, PS4, and Xbox 360 platforms, indicating a strong affinity among gamers for these consoles. Following behind, 'LEGO Marvel Super Heroes' showcased popularity on the PS3, PS4, and Xbox 360 platforms as well. These insights strongly suggest that these gaming consoles were the preferred choices among gamers during the period under analysis. Understanding these preferences not only provides valuable market intelligence but also offers insights into consumer behavior within the gaming industry, facilitating informed decision-making for stakeholders."
   ]
  },
  {
   "cell_type": "markdown",
   "metadata": {},
   "source": [
    "### Most Profitable & Least Profitable Video Game Genres\n",
    "\n",
    "Let's delve into the most and least profitable video game genres, and explore the insights and assumptions we can draw about these genres and the demographics that engage with them."
   ]
  },
  {
   "cell_type": "code",
   "execution_count": 19,
   "metadata": {},
   "outputs": [
    {
     "data": {
      "text/plain": [
       "<Axes: title={'center': 'Average Game Sales for Each Platform'}, xlabel='Genres', ylabel='Average Game Sales'>"
      ]
     },
     "execution_count": 19,
     "metadata": {},
     "output_type": "execute_result"
    },
    {
     "data": {
      "image/png": "[encoded data removed]",
      "text/plain": [
       "<Figure size 2000x500 with 1 Axes>"
      ]
     },
     "metadata": {},
     "output_type": "display_data"
    }
   ],
   "source": [
    "# Create a bar chart of average sales based on genre\n",
    "fig, ax = plt.subplots(figsize=(20, 5))\n",
    "games_df.groupby('genre')['total_sales'].mean().sort_index().plot(kind='bar', title='Average Game Sales for Each Platform', xlabel='Genres', ylabel='Average Game Sales', ax=ax)"
   ]
  },
  {
   "cell_type": "markdown",
   "metadata": {},
   "source": [
    "The bar chart reveals shooter games as the most profitable, followed by sports and platform games, while puzzle, strategy, and adventure games rank lowest in sales. This popularity can be explained by shooter games leading in profitability due to their broad appeal, high production values, and robust multiplayer features, which foster strong community engagement and franchise loyalty. Sports games also benefit from significant marketing and annual releases, maintaining a large, dedicated fan base. Platform games, while not as lucrative as shooters or sports games, attract a wide range of players due to their accessible gameplay. In contrast, puzzle, strategy, and adventure games cater to niche audiences and often have lower production budgets and marketing efforts, resulting in lower sales. Additionally, the limited replay value and infrequent releases of these genres contribute to their reduced profitability. Action and sports games attract diverse audiences with their engaging gameplay and competitive elements, whereas shooters appeal predominantly to younger males. Puzzle games target casual gamers, while strategy games attract a niche audience. Higher sales in action, sports, and shooters may be attributed to larger production budgets and broader marketing. Overall, games with broad appeal and competitive features tend to be most profitable, while niche genres like strategy and puzzle games lag behind."
   ]
  },
  {
   "cell_type": "markdown",
   "metadata": {},
   "source": [
    "## Video Games & Regions\n",
    "\n",
    "Let's identify the top five platforms in each region (North America, Europe, Japan) by analyzing total game sales on each platform. By utilizing sales figures as a metric, we can ascertain the most prominent platforms in each region."
   ]
  },
  {
   "cell_type": "markdown",
   "metadata": {},
   "source": [
    "### Most Popular Gaming Platform by Region"
   ]
  },
  {
   "cell_type": "code",
   "execution_count": 20,
   "metadata": {},
   "outputs": [
    {
     "name": "stdout",
     "output_type": "stream",
     "text": [
      "platform\n",
      "PS4     108.74\n",
      "XOne     93.12\n",
      "X360     81.66\n",
      "PS3      63.50\n",
      "3DS      38.20\n",
      "Name: na_sales, dtype: float64\n",
      "\n",
      "platform\n",
      "PS4     141.09\n",
      "PS3      67.81\n",
      "XOne     51.59\n",
      "X360     42.52\n",
      "3DS      30.96\n",
      "Name: eu_sales, dtype: float64\n",
      "\n",
      "platform\n",
      "3DS     67.81\n",
      "PS3     23.35\n",
      "PSV     18.59\n",
      "PS4     15.96\n",
      "WiiU    10.88\n",
      "Name: jp_sales, dtype: float64\n",
      "\n"
     ]
    },
    {
     "data": {
      "image/png": "[encoded data removed]",
      "text/plain": [
       "<Figure size 2000x500 with 1 Axes>"
      ]
     },
     "metadata": {},
     "output_type": "display_data"
    }
   ],
   "source": [
    "# Group by platform and sum sales for each region\n",
    "\n",
    "# North America\n",
    "top_5_plat_na = games_df.groupby('platform')['na_sales'].sum()\n",
    "print(top_5_plat_na.sort_values(ascending=False).head())\n",
    "print()\n",
    "\n",
    "# Europe\n",
    "top_5_plat_eu = games_df.groupby('platform')['eu_sales'].sum()\n",
    "print(top_5_plat_eu.sort_values(ascending=False).head())\n",
    "print()\n",
    "\n",
    "# Japan\n",
    "top_5_plat_jp = games_df.groupby('platform')['jp_sales'].sum()\n",
    "print(top_5_plat_jp.sort_values(ascending=False).head())\n",
    "print()\n",
    "\n",
    "# Plot\n",
    "fig, ax = plt.subplots(figsize=(20, 5))\n",
    "plt.bar(top_5_plat_na.index, top_5_plat_na, label='NA', alpha=0.7)\n",
    "plt.bar(top_5_plat_eu.index, top_5_plat_eu, label='EU', alpha=0.7)\n",
    "plt.bar(top_5_plat_jp.index, top_5_plat_jp, label='JP', alpha=0.7)\n",
    "\n",
    "plt.title('Region Sales per Platform')\n",
    "plt.xlabel('Platforms')\n",
    "plt.ylabel('Sales (Millions)')\n",
    "plt.legend(title='Region')\n",
    "plt.show()"
   ]
  },
  {
   "cell_type": "markdown",
   "metadata": {},
   "source": [
    "We can see from the sales data and visualization that the PS4 is the dominant platform in both North America and Europe, reflecting its widespread popularity and strong market presence. The Xbox One also shows significant sales in both regions, though it lags behind the PS4. Notably, the Xbox 360 and PS3 still maintain considerable sales, showcasing the enduring appeal of older console generations. In Japan, the 3DS leads by a substantial margin, highlighting the region's preference for handheld gaming devices. The PS Vita and Wii U also feature prominently in Japan, indicating a distinct market preference for portable and unique gaming experiences compared to Western markets."
   ]
  },
  {
   "cell_type": "markdown",
   "metadata": {},
   "source": [
    "### Most Popular Game Genres by Region\n",
    "\n",
    "Now, let's identify the top five genres in each region (North America, Europe, Japan) by analyzing the total game sales of each genre in a particular region."
   ]
  },
  {
   "cell_type": "code",
   "execution_count": 21,
   "metadata": {},
   "outputs": [
    {
     "name": "stdout",
     "output_type": "stream",
     "text": [
      "genre\n",
      "Action          126.05\n",
      "Shooter         109.74\n",
      "Sports           65.27\n",
      "Role-Playing     46.40\n",
      "Misc             27.49\n",
      "Name: na_sales, dtype: float64\n",
      "\n",
      "genre\n",
      "Action          118.13\n",
      "Shooter          87.86\n",
      "Sports           60.52\n",
      "Role-Playing     36.97\n",
      "Racing           20.19\n",
      "Name: eu_sales, dtype: float64\n",
      "\n",
      "genre\n",
      "Role-Playing    51.04\n",
      "Action          40.49\n",
      "Misc             9.20\n",
      "Fighting         7.65\n",
      "Shooter          6.61\n",
      "Name: jp_sales, dtype: float64\n",
      "\n"
     ]
    },
    {
     "data": {
      "image/png": "[encoded data removed]",
      "text/plain": [
       "<Figure size 2000x500 with 1 Axes>"
      ]
     },
     "metadata": {},
     "output_type": "display_data"
    }
   ],
   "source": [
    "# Group by genre and sum sales for each region\n",
    "\n",
    "# North America\n",
    "na_genre_sales = games_df.groupby('genre')['na_sales'].sum()\n",
    "print(na_genre_sales.sort_values(ascending=False).head())\n",
    "print()\n",
    "\n",
    "# Europe\n",
    "eu_genre_sales = games_df.groupby('genre')['eu_sales'].sum()\n",
    "print(eu_genre_sales.sort_values(ascending=False).head())\n",
    "print()\n",
    "\n",
    "# Japan\n",
    "jp_genre_sales = games_df.groupby('genre')['jp_sales'].sum()\n",
    "print(jp_genre_sales.sort_values(ascending=False).head())\n",
    "print()\n",
    "\n",
    "# Plot\n",
    "fig, ax = plt.subplots(figsize=(20, 5))\n",
    "plt.bar(na_genre_sales.index, na_genre_sales, label='NA', alpha=0.7)\n",
    "plt.bar(eu_genre_sales.index, eu_genre_sales, label='EU', alpha=0.7)\n",
    "plt.bar(jp_genre_sales.index, jp_genre_sales, label='JP', alpha=0.7)\n",
    "\n",
    "plt.title('Region Sales per Game Genre')\n",
    "plt.xlabel('Genres')\n",
    "plt.ylabel('Sales (Millions)')\n",
    "plt.legend(title='Region')\n",
    "plt.show()"
   ]
  },
  {
   "cell_type": "markdown",
   "metadata": {},
   "source": [
    "In North America, the gaming landscape is dominated by Action, Shooters, and Sport genres, mirroring a similar trend in Europe. This alignment in gaming preferences underscores the striking similarity between these two regions. Conversely, in Japan, gamers gravitate towards Role-playing and Action genres, highlighting a unique gaming culture that distinguishes it from its Western counterparts."
   ]
  },
  {
   "cell_type": "markdown",
   "metadata": {},
   "source": [
    "### ESRB Ratings vs Regional Sales\n",
    "\n",
    "Finally, let's determine what the top 5 ESRB ratings in each region are. We can use this information to forumlate hypotheses in regard to how ESRB ratings affect profit."
   ]
  },
  {
   "cell_type": "code",
   "execution_count": 22,
   "metadata": {},
   "outputs": [
    {
     "name": "stdout",
     "output_type": "stream",
     "text": [
      "rating\n",
      "M       165.21\n",
      "U        89.42\n",
      "E        79.05\n",
      "E10+     54.24\n",
      "T        49.79\n",
      "Name: na_sales, dtype: float64\n",
      "\n",
      "rating\n",
      "M       145.32\n",
      "E        83.36\n",
      "U        78.91\n",
      "E10+     42.69\n",
      "T        41.95\n",
      "Name: eu_sales, dtype: float64\n",
      "\n",
      "rating\n",
      "U       85.05\n",
      "T       20.59\n",
      "E       15.14\n",
      "M       14.11\n",
      "E10+     5.89\n",
      "Name: jp_sales, dtype: float64\n",
      "\n"
     ]
    },
    {
     "data": {
      "image/png": "[encoded data removed]",
      "text/plain": [
       "<Figure size 2000x500 with 1 Axes>"
      ]
     },
     "metadata": {},
     "output_type": "display_data"
    }
   ],
   "source": [
    "# Group by rating and sum sales for each region\n",
    "\n",
    "# North America\n",
    "na_rating_sales = games_df.groupby('rating')['na_sales'].sum()\n",
    "print(na_rating_sales.sort_values(ascending=False).head())\n",
    "print()\n",
    "\n",
    "# Europe\n",
    "eu_rating_sales = games_df.groupby('rating')['eu_sales'].sum()\n",
    "print(eu_rating_sales.sort_values(ascending=False).head())\n",
    "print()\n",
    "\n",
    "# Japan\n",
    "jp_rating_sales = games_df.groupby('rating')['jp_sales'].sum()\n",
    "print(jp_rating_sales.sort_values(ascending=False).head())\n",
    "print()\n",
    "\n",
    "# Plot\n",
    "fig, ax = plt.subplots(figsize=(20, 5))\n",
    "plt.bar(na_rating_sales.index, na_rating_sales, label='NA', alpha=0.7)\n",
    "plt.bar(eu_rating_sales.index, eu_rating_sales, label='EU', alpha=0.7)\n",
    "plt.bar(jp_rating_sales.index, jp_rating_sales, label='JP', alpha=0.7)\n",
    "\n",
    "plt.title('Region Sales per Game Rating')\n",
    "plt.xlabel('Ratings')\n",
    "plt.ylabel('Sales (Millions)')\n",
    "plt.legend(title='Region')\n",
    "plt.show()"
   ]
  },
  {
   "cell_type": "markdown",
   "metadata": {},
   "source": [
    "\n",
    "The sales data by ESRB rating reveals distinct regional preferences. In North America, games rated 'M' (Mature) are the most popular, followed by 'U' (Unknown) and 'E' (Everyone), suggesting a strong market for mature content. Similarly, in Europe, 'M' rated games lead in sales, with 'E' and 'U' ratings following closely, indicating a comparable demand for mature games. Conversely, in Japan, 'U' rated games dominate the market, significantly outperforming other ratings, and indicating a preference for content not clearly defined by the ESRB system. 'T' (Teen) rated games are more popular in Japan compared to North America and Europe, highlighting regional differences in gaming preferences. Overall, while mature games dominate Western markets, Japan shows a unique trend favoring games with unknown ratings and a broader acceptance of teen-rated content.\n",
    "\n",
    "The prominence of 'U' (Unknown) rated games in Japan's sales data suggests several insights about the rating system and market dynamics in the region. Unlike North America and Europe, where the ESRB (Entertainment Software Rating Board) ratings are widely used and recognized, Japan relies on different rating organizations such as CERO (Computer Entertainment Rating Organization). Consequently, many games released in Japan might not carry ESRB ratings at all, leading them to be classified as 'U' (Unknown) in datasets primarily structured around ESRB ratings. This indicates that the ESRB system is not fully applicable or reflective of the Japanese market, where local rating practices and consumer preferences prevail. Therefore, the high sales of 'U' rated games underscore the distinct regulatory environment and market characteristics in Japan, highlighting the importance of considering regional rating systems when analyzing global sales data."
   ]
  },
  {
   "cell_type": "markdown",
   "metadata": {
    "tags": []
   },
   "source": [
    "## Test Hypotheses"
   ]
  },
  {
   "cell_type": "markdown",
   "metadata": {},
   "source": [
    "We will now test the hypothesis that the average user ratings of the Xbox One and PC platforms are the same. We will do so using via independent samples t-test.\n",
    "\n",
    "Before we begin our test we need to forumate a null and alternative hypothesis. For the comparison of average user ratings between the Xbox One and PC platforms, the null hypothesis (H0) states that the mean user ratings for both platforms are equal, while the alternative hypothesis (H1) suggests they are not equal.\n",
    "\n",
    "To conduct the hypothesis test, I chose a significance level (alpha) of 0.05. This significance level was selected as it provides a balanced approach, allowing for a reasonable chance of detecting real differences without overly increasing the risk of making Type I errors, where we reject a true null hypothesis. "
   ]
  },
  {
   "cell_type": "code",
   "execution_count": 23,
   "metadata": {},
   "outputs": [
    {
     "name": "stdout",
     "output_type": "stream",
     "text": [
      "p-value: 0.20111399900783603\n",
      "\n",
      "We cannot reject the null hypothesis.\n"
     ]
    }
   ],
   "source": [
    "# Test the hypotheses\n",
    "  \n",
    " #h0 = Average user ratings of the Xbox One and PC platforms are the same. \n",
    " #h1 = Average user ratings of the Xbox One and PC platforms are NOT the same. \n",
    "\n",
    "xbox_one_avg_rate = games_df[games_df['platform'] == 'XOne']['user_score']\n",
    "pc_avg_rate = games_df[games_df['platform'] == 'PC']['user_score']\n",
    "\n",
    "# Perform independent samples t-test\n",
    "results = st.ttest_ind(xbox_one_avg_rate, pc_avg_rate)\n",
    "\n",
    "print('p-value:', results.pvalue)\n",
    "print()\n",
    "\n",
    "# Check the p-value against alpha\n",
    "alpha = 0.05\n",
    "\n",
    "if results.pvalue < alpha:\n",
    "    print(\"We reject the null hypothesis.\")\n",
    "\n",
    "else:\n",
    "    print(\"We cannot reject the null hypothesis.\")"
   ]
  },
  {
   "cell_type": "markdown",
   "metadata": {},
   "source": [
    "\n",
    "With a p-value of 0.2, which is greater than the chosen significance level of 0.05, we cannot reject the null hypothesis. This suggests that there is not a statistically significant difference in average user ratings between the Xbox One and PC platforms. Therefore, we can conclude that the average user ratings for these two platforms are the same.\n",
    "\n",
    "We will now test the hypothesis that the average user ratings for the Action and Sports genres are different. We will conduct an independent samples t-test again.\n",
    "\n",
    "The null hypothesis (H0) posits that the mean user ratings for both genres are the same, while the alternative hypothesis (H1) suggests they are different. The significance value (0.05) was chosen for the same reason stated in the previous test."
   ]
  },
  {
   "cell_type": "code",
   "execution_count": 24,
   "metadata": {},
   "outputs": [
    {
     "name": "stdout",
     "output_type": "stream",
     "text": [
      "p-value: 0.02193663336455412\n",
      "\n",
      "We reject the null hypothesis.\n"
     ]
    }
   ],
   "source": [
    "# Test the hypotheses\n",
    "  \n",
    " #h0 = Average user ratings for the Action and Sports genres are the same.\n",
    " #h1 = Average user ratings for the Action and Sports genres are NOT the same.\n",
    "\n",
    "act_avg_rate = games_df[games_df['genre'] == 'Action']['user_score']\n",
    "sprt_avg_rate = games_df[games_df['genre'] == 'Sports']['user_score']\n",
    "\n",
    "# Perform independent samples t-test\n",
    "results = st.ttest_ind(act_avg_rate, sprt_avg_rate, nan_policy='omit')\n",
    "\n",
    "print('p-value:', results.pvalue)\n",
    "print()\n",
    "\n",
    "# Check the p-value against alpha\n",
    "alpha = 0.05\n",
    "\n",
    "if results.pvalue < alpha:\n",
    "    print(\"We reject the null hypothesis.\")\n",
    "\n",
    "else:\n",
    "    print(\"We cannot reject the null hypothesis.\")"
   ]
  },
  {
   "cell_type": "markdown",
   "metadata": {},
   "source": [
    "With a p-value of 0.02, which is less than the significance level of 0.05, we reject the null hypothesis. Therefore, we conclude that there is a statistically significant difference in average user ratings between the Action and Sports genres. Thus, we accept the alternative hypothesis that the average user ratings for these two genres are not the same."
   ]
  },
  {
   "cell_type": "markdown",
   "metadata": {},
   "source": [
    "## Conclusion"
   ]
  },
  {
   "cell_type": "markdown",
   "metadata": {},
   "source": [
    "Through an exhaustive analysis encompassing various facets of the gaming industry, several key insights have emerged. Initially, an examination of game release trends spanning from the 1990s to the mid-2010s revealed a significant surge in releases, particularly peaking around 2008 and 2009. Subsequent scrutiny of sales across top gaming platforms elucidated distinctive trajectories, with platforms like the PS2 demonstrating remarkable longevity, while the Wii enjoyed a robust start driven by innovative gameplay mechanics. Refocusing the analysis from 2006 onwards provided a sharper perspective, coinciding with periods of peak profitability and the introduction of new gaming consoles. Further exploration into the impact of user and professional reviews on Xbox 360 game sales underscored a weak correlation, indicating that critical acclaim or user praise alone may not guarantee commercial success. Comparison of game sales across platforms unveiled preferences for specific consoles during the analyzed period, with titles like 'FIFA 14' and 'LEGO Marvel Super Heroes' exhibiting significant traction on platforms like PS3, PS4, and Xbox 360. Examination of genre profitability highlighted shooters, sports, and platforms as frontrunners, attracting diverse audiences and commanding substantial sales volumes. Geographical disparities in platform and genre preferences were evident, with North America and Europe favoring action-oriented genres, while Japan leaned towards role-playing games. Finally, an assessment of ESRB ratings across regions revealed a prevalence of 'E', 'M', and 'T' ratings, reflective of varied demographic compositions and cultural nuances. Hypothesis testing further affirmed and unaffrimed distinctions, with no statistically significant differences observed in average user ratings in regard to platforms, but rather with genres. Collectively, these findings provide a comprehensive understanding of the gaming landscape, offering valuable insights for stakeholders to make informed decisions and navigate an ever-evolving industry landscape."
   ]
  }
 ],
 "metadata": {
  "ExecuteTimeLog": [
   {
    "duration": 828,
    "start_time": "2021-11-16T09:21:11.304Z"
   },
   {
    "duration": 893,
    "start_time": "2021-11-16T09:21:17.728Z"
   },
   {
    "duration": 1150,
    "start_time": "2021-11-16T09:21:29.568Z"
   },
   {
    "duration": 3,
    "start_time": "2021-11-16T09:24:14.495Z"
   },
   {
    "duration": 120,
    "start_time": "2021-11-16T09:24:46.630Z"
   },
   {
    "duration": 3,
    "start_time": "2021-11-16T09:28:27.882Z"
   },
   {
    "duration": 4,
    "start_time": "2021-11-16T09:29:54.281Z"
   },
   {
    "duration": 3,
    "start_time": "2021-11-16T09:30:45.936Z"
   },
   {
    "duration": 4,
    "start_time": "2021-11-16T09:31:06.300Z"
   },
   {
    "duration": 113,
    "start_time": "2021-11-16T09:31:37.208Z"
   },
   {
    "duration": 143,
    "start_time": "2021-11-16T09:31:48.656Z"
   },
   {
    "duration": 98,
    "start_time": "2021-11-16T09:31:55.678Z"
   },
   {
    "duration": 3,
    "start_time": "2021-11-16T09:32:08.535Z"
   },
   {
    "duration": 111,
    "start_time": "2021-11-16T09:32:10.120Z"
   },
   {
    "duration": 3,
    "start_time": "2021-11-16T09:32:15.732Z"
   },
   {
    "duration": 4,
    "start_time": "2021-11-16T09:32:29.423Z"
   },
   {
    "duration": 3,
    "start_time": "2021-11-16T10:03:03.074Z"
   },
   {
    "duration": 3,
    "start_time": "2021-11-16T10:10:01.288Z"
   },
   {
    "duration": 3,
    "start_time": "2021-11-16T10:10:46.923Z"
   },
   {
    "duration": 121,
    "start_time": "2021-11-16T10:37:46.494Z"
   },
   {
    "duration": 125,
    "start_time": "2021-11-16T10:38:20.632Z"
   },
   {
    "duration": 112,
    "start_time": "2021-11-16T10:46:53.001Z"
   },
   {
    "duration": 110,
    "start_time": "2021-11-16T10:48:25.775Z"
   },
   {
    "duration": 3,
    "start_time": "2021-11-16T10:50:18.720Z"
   },
   {
    "duration": 4,
    "start_time": "2021-11-16T10:50:37.649Z"
   },
   {
    "duration": 2,
    "start_time": "2021-11-16T10:50:51.884Z"
   },
   {
    "duration": 3,
    "start_time": "2021-11-16T10:51:56.237Z"
   },
   {
    "duration": 101,
    "start_time": "2021-11-16T10:53:13.791Z"
   },
   {
    "duration": 3,
    "start_time": "2021-11-16T10:55:59.186Z"
   },
   {
    "duration": 3,
    "start_time": "2021-11-16T10:56:10.751Z"
   },
   {
    "duration": 3,
    "start_time": "2021-11-16T10:56:49.038Z"
   },
   {
    "duration": 3,
    "start_time": "2021-11-16T10:56:49.174Z"
   },
   {
    "duration": 4,
    "start_time": "2021-11-16T10:56:49.414Z"
   },
   {
    "duration": 3,
    "start_time": "2021-11-16T10:56:49.680Z"
   },
   {
    "duration": 3,
    "start_time": "2021-11-16T10:56:50.370Z"
   },
   {
    "duration": 114,
    "start_time": "2021-11-16T10:59:34.518Z"
   },
   {
    "duration": 3,
    "start_time": "2021-11-16T11:01:41.201Z"
   },
   {
    "duration": 116,
    "start_time": "2021-11-16T11:01:48.754Z"
   },
   {
    "duration": 3,
    "start_time": "2021-11-16T11:02:16.685Z"
   },
   {
    "duration": 3,
    "start_time": "2021-11-16T11:02:19.479Z"
   },
   {
    "duration": 3,
    "start_time": "2021-11-16T11:02:47.067Z"
   },
   {
    "duration": 3,
    "start_time": "2021-11-16T11:02:49.353Z"
   },
   {
    "duration": 3,
    "start_time": "2021-11-16T11:03:07.835Z"
   },
   {
    "duration": 3,
    "start_time": "2021-11-16T11:03:07.953Z"
   },
   {
    "duration": 112,
    "start_time": "2021-11-16T11:07:52.072Z"
   },
   {
    "duration": 187,
    "start_time": "2021-11-16T11:09:23.468Z"
   },
   {
    "duration": 4,
    "start_time": "2021-11-16T11:10:01.455Z"
   },
   {
    "duration": 3,
    "start_time": "2021-11-16T11:10:05.069Z"
   },
   {
    "duration": 4,
    "start_time": "2021-11-16T11:10:13.376Z"
   },
   {
    "duration": 3,
    "start_time": "2021-11-16T11:10:14.434Z"
   },
   {
    "duration": 3,
    "start_time": "2021-11-16T11:10:22.853Z"
   },
   {
    "duration": 4,
    "start_time": "2021-11-16T11:27:29.279Z"
   },
   {
    "duration": 4,
    "start_time": "2021-11-16T11:29:08.919Z"
   },
   {
    "duration": 118,
    "start_time": "2021-11-16T11:29:46.703Z"
   },
   {
    "duration": 437,
    "start_time": "2021-11-16T11:36:02.181Z"
   },
   {
    "duration": 157,
    "start_time": "2021-11-16T11:36:14.388Z"
   },
   {
    "duration": 207,
    "start_time": "2021-11-16T11:47:15.898Z"
   },
   {
    "duration": 3,
    "start_time": "2021-11-16T11:53:52.092Z"
   },
   {
    "duration": 3,
    "start_time": "2021-11-16T11:53:52.236Z"
   },
   {
    "duration": 3,
    "start_time": "2021-11-16T11:59:12.005Z"
   },
   {
    "duration": 112,
    "start_time": "2021-11-16T12:00:33.446Z"
   },
   {
    "duration": 3,
    "start_time": "2021-11-16T12:02:14.453Z"
   },
   {
    "duration": 3,
    "start_time": "2021-11-16T12:02:39.512Z"
   },
   {
    "duration": 106,
    "start_time": "2021-11-16T12:03:03.460Z"
   },
   {
    "duration": 3,
    "start_time": "2021-11-17T20:37:21.139Z"
   },
   {
    "duration": 3,
    "start_time": "2021-11-17T20:37:22.229Z"
   },
   {
    "duration": 3,
    "start_time": "2021-11-17T20:38:38.806Z"
   },
   {
    "duration": 3,
    "start_time": "2021-11-17T20:38:41.958Z"
   },
   {
    "duration": 3,
    "start_time": "2021-11-17T20:43:46.551Z"
   },
   {
    "duration": 4,
    "start_time": "2021-11-17T20:58:21.835Z"
   },
   {
    "duration": 3,
    "start_time": "2021-11-17T20:59:21.872Z"
   },
   {
    "duration": 4,
    "start_time": "2021-11-17T20:59:45.352Z"
   },
   {
    "duration": 4,
    "start_time": "2021-11-17T20:59:49.646Z"
   },
   {
    "duration": 159,
    "start_time": "2021-11-17T21:02:26.949Z"
   },
   {
    "duration": 3,
    "start_time": "2021-11-17T21:03:53.461Z"
   },
   {
    "duration": 3,
    "start_time": "2021-11-17T21:03:53.694Z"
   },
   {
    "duration": 3,
    "start_time": "2021-11-17T21:05:28.145Z"
   },
   {
    "duration": 116,
    "start_time": "2021-11-17T21:05:57.787Z"
   },
   {
    "duration": 3,
    "start_time": "2021-11-17T21:06:37.993Z"
   },
   {
    "duration": 3,
    "start_time": "2021-11-17T21:06:38.261Z"
   },
   {
    "duration": 3,
    "start_time": "2021-11-17T21:11:54.358Z"
   },
   {
    "duration": 3,
    "start_time": "2021-11-17T21:12:43.846Z"
   },
   {
    "duration": 4,
    "start_time": "2021-11-17T21:13:08.773Z"
   },
   {
    "duration": 3,
    "start_time": "2021-11-17T21:14:44.441Z"
   },
   {
    "duration": 3,
    "start_time": "2021-11-17T21:15:42.059Z"
   },
   {
    "duration": 4,
    "start_time": "2021-11-17T21:15:51.995Z"
   },
   {
    "duration": 3,
    "start_time": "2021-11-17T21:15:53.923Z"
   },
   {
    "duration": 3,
    "start_time": "2021-11-17T21:15:55.282Z"
   },
   {
    "duration": 3,
    "start_time": "2021-11-17T21:16:28.492Z"
   },
   {
    "duration": 3,
    "start_time": "2021-11-17T21:16:32.603Z"
   },
   {
    "duration": 3,
    "start_time": "2021-11-17T21:17:06.941Z"
   },
   {
    "duration": 98,
    "start_time": "2021-11-17T21:18:05.733Z"
   },
   {
    "duration": 4,
    "start_time": "2021-11-17T21:21:35.255Z"
   },
   {
    "duration": 3,
    "start_time": "2021-11-17T21:21:37.804Z"
   },
   {
    "duration": 4,
    "start_time": "2021-11-17T21:23:06.071Z"
   },
   {
    "duration": 3,
    "start_time": "2021-11-17T21:23:24.799Z"
   },
   {
    "duration": 3,
    "start_time": "2021-11-17T21:23:32.591Z"
   },
   {
    "duration": 98,
    "start_time": "2021-11-17T21:28:31.559Z"
   },
   {
    "duration": 3,
    "start_time": "2021-11-17T21:28:45.448Z"
   },
   {
    "duration": 3,
    "start_time": "2021-11-17T21:29:17.303Z"
   },
   {
    "duration": 3,
    "start_time": "2021-11-17T21:29:29.617Z"
   },
   {
    "duration": 3,
    "start_time": "2021-11-17T21:29:32.681Z"
   },
   {
    "duration": 3,
    "start_time": "2021-11-17T21:36:11.474Z"
   },
   {
    "duration": 3,
    "start_time": "2021-11-17T21:36:14.791Z"
   },
   {
    "duration": 3,
    "start_time": "2021-11-17T21:36:53.943Z"
   },
   {
    "duration": 3,
    "start_time": "2021-11-17T21:36:56.165Z"
   },
   {
    "duration": 4,
    "start_time": "2021-11-17T21:37:16.590Z"
   },
   {
    "duration": 3,
    "start_time": "2021-11-17T21:37:22.702Z"
   },
   {
    "duration": 4,
    "start_time": "2021-11-17T21:38:03.479Z"
   },
   {
    "duration": 3,
    "start_time": "2021-11-17T21:38:08.601Z"
   },
   {
    "duration": 3,
    "start_time": "2021-11-17T21:38:12.928Z"
   },
   {
    "duration": 3,
    "start_time": "2021-11-17T21:38:48.896Z"
   },
   {
    "duration": 2,
    "start_time": "2021-11-17T21:38:49.171Z"
   },
   {
    "duration": 4,
    "start_time": "2021-11-17T21:39:57.889Z"
   },
   {
    "duration": 3,
    "start_time": "2021-11-17T21:39:58.057Z"
   },
   {
    "duration": 3,
    "start_time": "2021-11-17T21:41:20.108Z"
   },
   {
    "duration": 3,
    "start_time": "2021-11-17T21:41:20.629Z"
   },
   {
    "duration": 3,
    "start_time": "2021-11-17T21:42:49.136Z"
   },
   {
    "duration": 3,
    "start_time": "2021-11-17T21:43:15.137Z"
   },
   {
    "duration": 4,
    "start_time": "2021-11-17T21:43:16.766Z"
   },
   {
    "duration": 4,
    "start_time": "2021-11-17T21:43:31.711Z"
   },
   {
    "duration": 3,
    "start_time": "2021-11-17T21:43:36.312Z"
   },
   {
    "duration": 4,
    "start_time": "2021-11-17T21:45:08.825Z"
   },
   {
    "duration": 4,
    "start_time": "2021-11-17T21:45:10.119Z"
   },
   {
    "duration": 4,
    "start_time": "2021-11-17T21:45:13.748Z"
   },
   {
    "duration": 3,
    "start_time": "2021-11-17T21:45:22.219Z"
   },
   {
    "duration": 3,
    "start_time": "2021-11-17T21:45:33.412Z"
   },
   {
    "duration": 2,
    "start_time": "2021-11-17T21:46:01.885Z"
   },
   {
    "duration": 3,
    "start_time": "2021-11-17T21:46:03.628Z"
   },
   {
    "duration": 107,
    "start_time": "2021-11-17T21:47:32.512Z"
   },
   {
    "duration": 103,
    "start_time": "2021-11-17T21:50:36.243Z"
   },
   {
    "duration": 3,
    "start_time": "2021-11-18T06:28:31.440Z"
   },
   {
    "duration": 3,
    "start_time": "2021-11-18T06:29:00.168Z"
   },
   {
    "duration": 3,
    "start_time": "2021-11-18T06:31:27.008Z"
   },
   {
    "duration": 2,
    "start_time": "2021-11-18T06:35:34.288Z"
   },
   {
    "duration": 2,
    "start_time": "2021-11-18T06:38:04.527Z"
   },
   {
    "duration": 1581,
    "start_time": "2024-05-30T06:26:24.625Z"
   },
   {
    "duration": 81,
    "start_time": "2024-05-30T06:26:26.212Z"
   },
   {
    "duration": 72,
    "start_time": "2024-05-30T06:26:26.298Z"
   },
   {
    "duration": 8,
    "start_time": "2024-05-30T06:26:26.376Z"
   },
   {
    "duration": 1926,
    "start_time": "2024-05-30T06:26:26.388Z"
   },
   {
    "duration": 0,
    "start_time": "2024-05-30T06:26:28.322Z"
   },
   {
    "duration": 0,
    "start_time": "2024-05-30T06:26:28.323Z"
   },
   {
    "duration": 0,
    "start_time": "2024-05-30T06:26:28.328Z"
   },
   {
    "duration": 0,
    "start_time": "2024-05-30T06:26:28.331Z"
   },
   {
    "duration": 0,
    "start_time": "2024-05-30T06:26:28.334Z"
   },
   {
    "duration": 0,
    "start_time": "2024-05-30T06:26:28.337Z"
   },
   {
    "duration": 0,
    "start_time": "2024-05-30T06:26:28.339Z"
   },
   {
    "duration": 0,
    "start_time": "2024-05-30T06:26:28.343Z"
   },
   {
    "duration": 1,
    "start_time": "2024-05-30T06:26:28.345Z"
   },
   {
    "duration": 0,
    "start_time": "2024-05-30T06:26:28.348Z"
   },
   {
    "duration": 0,
    "start_time": "2024-05-30T06:26:28.351Z"
   },
   {
    "duration": 0,
    "start_time": "2024-05-30T06:26:28.357Z"
   },
   {
    "duration": 0,
    "start_time": "2024-05-30T06:26:28.360Z"
   },
   {
    "duration": 0,
    "start_time": "2024-05-30T06:26:28.363Z"
   },
   {
    "duration": 0,
    "start_time": "2024-05-30T06:26:28.367Z"
   },
   {
    "duration": 1,
    "start_time": "2024-05-30T06:26:28.369Z"
   },
   {
    "duration": 0,
    "start_time": "2024-05-30T06:26:28.373Z"
   },
   {
    "duration": 0,
    "start_time": "2024-05-30T06:26:28.376Z"
   },
   {
    "duration": 0,
    "start_time": "2024-05-30T06:26:28.379Z"
   },
   {
    "duration": 0,
    "start_time": "2024-05-30T06:48:21.429Z"
   },
   {
    "duration": 0,
    "start_time": "2024-05-30T06:48:21.432Z"
   },
   {
    "duration": 0,
    "start_time": "2024-05-30T06:48:21.434Z"
   },
   {
    "duration": 0,
    "start_time": "2024-05-30T06:48:21.436Z"
   },
   {
    "duration": 0,
    "start_time": "2024-05-30T06:48:21.438Z"
   },
   {
    "duration": 0,
    "start_time": "2024-05-30T06:48:21.440Z"
   },
   {
    "duration": 0,
    "start_time": "2024-05-30T06:48:21.443Z"
   },
   {
    "duration": 0,
    "start_time": "2024-05-30T06:48:21.445Z"
   },
   {
    "duration": 0,
    "start_time": "2024-05-30T06:48:21.446Z"
   },
   {
    "duration": 0,
    "start_time": "2024-05-30T06:48:21.450Z"
   },
   {
    "duration": 0,
    "start_time": "2024-05-30T06:48:21.452Z"
   },
   {
    "duration": 0,
    "start_time": "2024-05-30T06:48:21.454Z"
   },
   {
    "duration": 0,
    "start_time": "2024-05-30T06:48:21.456Z"
   },
   {
    "duration": 0,
    "start_time": "2024-05-30T06:48:21.457Z"
   },
   {
    "duration": 0,
    "start_time": "2024-05-30T06:48:21.458Z"
   },
   {
    "duration": 0,
    "start_time": "2024-05-30T06:48:21.459Z"
   },
   {
    "duration": 1280,
    "start_time": "2024-05-30T06:50:38.723Z"
   },
   {
    "duration": 48,
    "start_time": "2024-05-30T06:50:40.009Z"
   },
   {
    "duration": 74,
    "start_time": "2024-05-30T06:50:40.060Z"
   },
   {
    "duration": 5,
    "start_time": "2024-05-30T06:50:40.140Z"
   },
   {
    "duration": 1370,
    "start_time": "2024-05-30T06:50:40.149Z"
   },
   {
    "duration": 0,
    "start_time": "2024-05-30T06:50:41.523Z"
   },
   {
    "duration": 1,
    "start_time": "2024-05-30T06:50:41.525Z"
   },
   {
    "duration": 1,
    "start_time": "2024-05-30T06:50:41.527Z"
   },
   {
    "duration": 0,
    "start_time": "2024-05-30T06:50:41.530Z"
   },
   {
    "duration": 0,
    "start_time": "2024-05-30T06:50:41.533Z"
   },
   {
    "duration": 0,
    "start_time": "2024-05-30T06:50:41.535Z"
   },
   {
    "duration": 0,
    "start_time": "2024-05-30T06:50:41.537Z"
   },
   {
    "duration": 0,
    "start_time": "2024-05-30T06:50:41.540Z"
   },
   {
    "duration": 0,
    "start_time": "2024-05-30T06:50:41.543Z"
   },
   {
    "duration": 0,
    "start_time": "2024-05-30T06:50:41.544Z"
   },
   {
    "duration": 0,
    "start_time": "2024-05-30T06:50:41.546Z"
   },
   {
    "duration": 0,
    "start_time": "2024-05-30T06:50:41.547Z"
   },
   {
    "duration": 0,
    "start_time": "2024-05-30T06:50:41.549Z"
   },
   {
    "duration": 0,
    "start_time": "2024-05-30T06:50:41.551Z"
   },
   {
    "duration": 1,
    "start_time": "2024-05-30T06:50:41.552Z"
   },
   {
    "duration": 0,
    "start_time": "2024-05-30T06:50:41.556Z"
   },
   {
    "duration": 0,
    "start_time": "2024-05-30T06:50:41.558Z"
   },
   {
    "duration": 0,
    "start_time": "2024-05-30T06:50:41.561Z"
   },
   {
    "duration": 1,
    "start_time": "2024-05-30T06:50:41.563Z"
   },
   {
    "duration": 110,
    "start_time": "2024-05-30T06:54:37.701Z"
   },
   {
    "duration": 37,
    "start_time": "2024-05-30T06:55:20.677Z"
   },
   {
    "duration": 43,
    "start_time": "2024-05-30T06:55:21.655Z"
   },
   {
    "duration": 678,
    "start_time": "2024-05-30T06:57:25.662Z"
   },
   {
    "duration": 1582,
    "start_time": "2024-05-30T06:57:31.576Z"
   },
   {
    "duration": 0,
    "start_time": "2024-05-30T06:57:33.161Z"
   },
   {
    "duration": 145,
    "start_time": "2024-05-30T06:58:01.827Z"
   },
   {
    "duration": 44,
    "start_time": "2024-05-30T06:58:08.068Z"
   },
   {
    "duration": 540,
    "start_time": "2024-05-30T06:58:10.973Z"
   },
   {
    "duration": 467,
    "start_time": "2024-05-30T06:58:11.960Z"
   },
   {
    "duration": 1653,
    "start_time": "2024-05-30T06:59:13.597Z"
   },
   {
    "duration": 292,
    "start_time": "2024-05-30T06:59:36.215Z"
   },
   {
    "duration": 268,
    "start_time": "2024-05-30T06:59:36.838Z"
   },
   {
    "duration": 503,
    "start_time": "2024-05-30T06:59:37.956Z"
   },
   {
    "duration": 374,
    "start_time": "2024-05-30T06:59:38.462Z"
   },
   {
    "duration": 698,
    "start_time": "2024-05-30T06:59:38.840Z"
   },
   {
    "duration": 692,
    "start_time": "2024-05-30T07:00:53.530Z"
   },
   {
    "duration": 442,
    "start_time": "2024-05-30T07:00:54.227Z"
   },
   {
    "duration": 406,
    "start_time": "2024-05-30T07:00:54.673Z"
   },
   {
    "duration": 15,
    "start_time": "2024-05-30T07:00:55.083Z"
   },
   {
    "duration": 15,
    "start_time": "2024-05-30T07:00:55.122Z"
   },
   {
    "duration": 1227,
    "start_time": "2024-05-30T21:39:57.452Z"
   },
   {
    "duration": 73,
    "start_time": "2024-05-30T21:39:58.683Z"
   },
   {
    "duration": 60,
    "start_time": "2024-05-30T21:39:58.762Z"
   },
   {
    "duration": 6,
    "start_time": "2024-05-30T21:39:58.829Z"
   },
   {
    "duration": 1581,
    "start_time": "2024-05-30T21:39:58.838Z"
   },
   {
    "duration": 0,
    "start_time": "2024-05-30T21:40:00.429Z"
   },
   {
    "duration": 1,
    "start_time": "2024-05-30T21:40:00.434Z"
   },
   {
    "duration": 0,
    "start_time": "2024-05-30T21:40:00.441Z"
   },
   {
    "duration": 0,
    "start_time": "2024-05-30T21:40:00.443Z"
   },
   {
    "duration": 0,
    "start_time": "2024-05-30T21:40:00.446Z"
   },
   {
    "duration": 0,
    "start_time": "2024-05-30T21:40:00.455Z"
   },
   {
    "duration": 0,
    "start_time": "2024-05-30T21:40:00.460Z"
   },
   {
    "duration": 0,
    "start_time": "2024-05-30T21:40:00.465Z"
   },
   {
    "duration": 0,
    "start_time": "2024-05-30T21:40:00.467Z"
   },
   {
    "duration": 0,
    "start_time": "2024-05-30T21:40:00.469Z"
   },
   {
    "duration": 0,
    "start_time": "2024-05-30T21:40:00.472Z"
   },
   {
    "duration": 0,
    "start_time": "2024-05-30T21:40:00.474Z"
   },
   {
    "duration": 0,
    "start_time": "2024-05-30T21:40:00.476Z"
   },
   {
    "duration": 0,
    "start_time": "2024-05-30T21:40:00.478Z"
   },
   {
    "duration": 0,
    "start_time": "2024-05-30T21:40:00.481Z"
   },
   {
    "duration": 0,
    "start_time": "2024-05-30T21:40:00.482Z"
   },
   {
    "duration": 0,
    "start_time": "2024-05-30T21:40:00.511Z"
   },
   {
    "duration": 0,
    "start_time": "2024-05-30T21:40:00.513Z"
   },
   {
    "duration": 0,
    "start_time": "2024-05-30T21:40:00.515Z"
   },
   {
    "duration": 0,
    "start_time": "2024-05-30T21:40:00.517Z"
   }
  ],
  "kernelspec": {
   "display_name": "Python 3 (ipykernel)",
   "language": "python",
   "name": "python3"
  },
  "language_info": {
   "codemirror_mode": {
    "name": "ipython",
    "version": 3
   },
   "file_extension": ".py",
   "mimetype": "text/x-python",
   "name": "python",
   "nbconvert_exporter": "python",
   "pygments_lexer": "ipython3",
   "version": "3.11.7"
  },
  "toc": {
   "base_numbering": 1,
   "nav_menu": {},
   "number_sections": true,
   "sideBar": true,
   "skip_h1_title": false,
   "title_cell": "Table of Contents",
   "title_sidebar": "Contents",
   "toc_cell": false,
   "toc_position": {},
   "toc_section_display": true,
   "toc_window_display": false
  }
 },
 "nbformat": 4,
 "nbformat_minor": 4
}
