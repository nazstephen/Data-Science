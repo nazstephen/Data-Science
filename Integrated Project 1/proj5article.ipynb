{
 "cells": [
  {
   "cell_type": "markdown",
   "metadata": {},
   "source": [
    "# Exploring Video Game Industry Trends: Essential Insights for Game Developers"
   ]
  },
  {
   "cell_type": "markdown",
   "metadata": {},
   "source": [
    "## Objective\n",
    "\n",
    "Are you considering developing a new video game but feeling uncertain about which genre, platform, or features will attract the most players? Gaining insights into the video game market’s historical trends can provide a powerful foundation for creating successful games. This article presents a detailed analysis of gaming industry trends from 1980 to 2016, leveraging comprehensive data to uncover patterns and key drivers that have shaped the market. By understanding these trends, developers can make data-informed decisions around game design, platform compatibility, target demographics, and even marketing strategies.\n",
    "\n",
    "## Key Questions We'll Address:\n",
    "The analysis explores the following critical questions:\n",
    "1) Which gaming platforms have dominated sales historically, and why?\n",
    "2) How influential are reviews in determining a game's commercial success?\n",
    "3) What are the sales patterns across different platforms and how do these trends vary over time?\n",
    "4) Which genres have been the most profitable, and who are their primary audiences?\n",
    "5) How do player preferences differ by geographic region?\n",
    "\n",
    "By addressing these questions, this article aims to provide developers with actionable insights for creating games that resonate with their intended audiences and succeed across global markets."
   ]
  },
  {
   "cell_type": "markdown",
   "metadata": {},
   "source": [
    "## The Dataset\n",
    "The analysis is based on a dataset that includes video games released between 1980 and 2016. This substantial timeline allows for a nuanced look at the industry’s evolution, revealing trends and shifts in player preferences, technology adoption, and genre popularity over time. The focus is particularly on the period from 2000 to 2016, as this timeframe captures the industry's most prolific years, with a marked increase in game releases and rapid technological advancements."
   ]
  },
  {
   "cell_type": "markdown",
   "metadata": {},
   "source": [
    " The Dataset\n",
    "The analysis is based on a dataset that includes video games released between 1980 and 2016. This substantial timeline allows for a nuanced look at the industry’s evolution, revealing trends and shifts in player preferences, technology adoption, and genre popularity over time. The focus is particularly on the period from 2000 to 2016, as this timeframe captures the industry's most prolific years, with a marked increase in game releases and rapid technological advancements."
   ]
  },
  {
   "cell_type": "markdown",
   "metadata": {},
   "source": [
    "![Alt Text](images/release_year_dist.png)"
   ]
  },
  {
   "cell_type": "markdown",
   "metadata": {},
   "source": [
    "The number of game releases exhibits a notable trend over the years. From the early 1990s onward, the gaming industry experienced steady growth, with the number of new titles increasing annually. This trend accelerated in the early 2000s, marking a period of unprecedented expansion. The industry saw its peak in game releases around 2008-2009, which was followed by a gradual decline. This fluctuation highlights both the challenges of market saturation and the impact of changing consumer tastes and technological innovations. The most relevant and impactful data spans from 2000 to 2016, providing a rich foundation for understanding the trends that have shaped the modern gaming industry."
   ]
  },
  {
   "cell_type": "markdown",
   "metadata": {},
   "source": [
    "## Gaming Platforms with the Most Sales"
   ]
  },
  {
   "cell_type": "markdown",
   "metadata": {},
   "source": [
    "![Alt Text](images/sales_per_plat.png)"
   ]
  },
  {
   "cell_type": "markdown",
   "metadata": {},
   "source": [
    "Identifying platforms that achieved the highest sales is essential to understanding consumer preferences and market leaders. Our analysis highlights the top five platforms in terms of total sales: the PlayStation 2 (PS2), Xbox 360, PlayStation 3 (PS3), Wii, and Nintendo DS (DS). These platforms serve as benchmarks for evaluating industry performance over time."
   ]
  },
  {
   "cell_type": "markdown",
   "metadata": {},
   "source": [
    "![Alt Text](images/top_5_plat_sales.png)"
   ]
  },
  {
   "cell_type": "markdown",
   "metadata": {},
   "source": [
    "In examining annual sales trajectories for these platforms, a few key patterns emerge:\n",
    "\n",
    "- The PS2 stands out for its remarkable longevity, achieving strong early sales and maintaining high performance long after newer consoles were introduced. This endurance is likely due to its extensive game library, strong developer support, and accessible price point as the console aged.\n",
    "- The Wii made an explosive entry into the market, achieving nearly $150 million in sales in its release year. The console’s innovative motion-sensing technology captured a diverse audience, making it a unique success among non-traditional gamers.\n",
    "- Other platforms, including the Xbox 360 and PS3, saw significant growth within their first few years, generally peaking around 3-4 years post-launch before experiencing a gradual decline.\n",
    "\n",
    "To understand recent trends and predict potential future sales, we analyzed sales distributions for these platforms from 2013 to 2016, focusing on identifying consistent performers and platforms with fluctuating demand."
   ]
  },
  {
   "cell_type": "markdown",
   "metadata": {},
   "source": [
    "## Differences in Sales by Platform"
   ]
  },
  {
   "cell_type": "markdown",
   "metadata": {},
   "source": [
    "![Alt Text](images/top_game_sales_by_plat.png)"
   ]
  },
  {
   "cell_type": "markdown",
   "metadata": {},
   "source": [
    "A deeper analysis of sales distributions across platforms reveals notable distinctions:\n",
    "\n",
    "- Median Sales: Platforms like the PSP and DS had lower median sales figures (0.020M and 0.150M, respectively), while the PS4 and Xbox 360 showed much higher median values, indicating strong sustained demand and market appeal.\n",
    "- Mean Sales: Higher mean sales on platforms like PS4 and Xbox 360 suggest they maintained loyal user bases, contributing to more consistent commercial success.\n",
    "- Standard Deviation: The Xbox 360 exhibited the highest variability in sales, highlighting its ability to host both high-performing, best-selling titles and lesser-known games with limited reach.\n",
    "\n",
    "These insights into sales variability and consistency across platforms provide developers with a clearer understanding of which consoles offer reliable sales performance versus those with more variable outcomes."
   ]
  },
  {
   "cell_type": "markdown",
   "metadata": {},
   "source": [
    "## Do Reviews Affect Sales?\n",
    "To assess the effect of reviews on sales, we focused on Xbox 360 games, given its diverse game library. Two types of review scores were examined: critic reviews and user reviews."
   ]
  },
  {
   "cell_type": "markdown",
   "metadata": {},
   "source": [
    "### Critic Scores"
   ]
  },
  {
   "cell_type": "markdown",
   "metadata": {},
   "source": [
    "![Alt Text](images/sales_vs_crtics.png)"
   ]
  },
  {
   "cell_type": "markdown",
   "metadata": {},
   "source": [
    "A positive, albeit weak, correlation (0.35) was observed between critic scores and sales, suggesting that while favorable reviews might support stronger sales, they do not guarantee commercial success. This implies that other factors, such as brand reputation, marketing efforts, and game genre, may also significantly impact sales."
   ]
  },
  {
   "cell_type": "markdown",
   "metadata": {},
   "source": [
    "### User Scores"
   ]
  },
  {
   "cell_type": "markdown",
   "metadata": {},
   "source": [
    "![Alt Text](images/sales_vs_user.png)"
   ]
  },
  {
   "cell_type": "markdown",
   "metadata": {},
   "source": [
    "User scores showed an even weaker correlation (-0.006) with sales, indicating that user reviews have minimal influence on a game’s commercial performance. While user scores may shape public perception, they are not strong predictors of financial success, potentially because they are often subjective and reflect individual preferences rather than broader market demand."
   ]
  },
  {
   "cell_type": "markdown",
   "metadata": {},
   "source": [
    "## Cross-Platform Sales Analysis"
   ]
  },
  {
   "cell_type": "markdown",
   "metadata": {},
   "source": [
    "![Alt](images/top_sales_per_plat_per_top_3_games.png)"
   ]
  },
  {
   "cell_type": "markdown",
   "metadata": {},
   "source": [
    "To gain a comprehensive understanding of cross-platform success, we examined the top three games available across multiple platforms. The titles identified were LEGO Marvel Super Heroes, FIFA 14, and LEGO Jurassic World.\n",
    "\n",
    "- FIFA 14 demonstrated strong sales on platforms like the PS3, PS4, and Xbox 360, highlighting a robust affinity among sports game fans for these consoles.\n",
    "- Both LEGO titles performed well on PS3, PS4, and Xbox 360, indicating that these platforms share a common audience with a preference for family-friendly, universally appealing games.\n",
    "\n",
    "These findings underscore the potential of popular multi-platform titles to achieve broad success, likely due to their universal appeal, loyal fan bases, and platform compatibility."
   ]
  },
  {
   "cell_type": "markdown",
   "metadata": {},
   "source": [
    "## Most Profitable & Least Profitable Video Game Genres"
   ]
  },
  {
   "cell_type": "markdown",
   "metadata": {},
   "source": [
    "![Alt](images/avg_genre_sales_plat.png)"
   ]
  },
  {
   "cell_type": "markdown",
   "metadata": {},
   "source": [
    "Examining genre profitability reveals which types of games have attracted the largest audiences and yielded the highest returns:\n",
    "\n",
    "- Top Performers: Shooter, sports, and platform games rank among the highest in sales. Shooters typically lead with engaging gameplay mechanics and intense action, while sports games benefit from annual releases and large, dedicated fan bases.\n",
    "- Lower Performers: Puzzle, strategy, and adventure games exhibit lower sales, likely due to their niche appeal and often limited marketing budgets.\n",
    "\n",
    "These findings equip developers with knowledge about which genres command the broadest player engagement and commercial potential, allowing them to make informed choices about game focus and genre selection."
   ]
  },
  {
   "cell_type": "markdown",
   "metadata": {},
   "source": [
    "## Video Games & Regional Preferences\n",
    "\n",
    "The analysis also highlights significant regional variations in platform and genre preferences across North America, Europe, and Japan."
   ]
  },
  {
   "cell_type": "markdown",
   "metadata": {},
   "source": [
    "### Top Platforms by Region"
   ]
  },
  {
   "cell_type": "markdown",
   "metadata": {},
   "source": [
    "![Alt](images/platform_region.png)"
   ]
  },
  {
   "cell_type": "markdown",
   "metadata": {},
   "source": [
    "- North America & Europe: The PS4 is the dominant platform, closely followed by the Xbox One. Previous-generation consoles like the Xbox 360 and PS3 also maintain a notable presence, indicating lasting appeal.\n",
    "\n",
    "- Japan: The Nintendo 3DS is particularly popular, reflecting Japan’s strong preference for handheld devices and unique gaming experiences."
   ]
  },
  {
   "cell_type": "markdown",
   "metadata": {},
   "source": [
    "### Top Genres by Region"
   ]
  },
  {
   "cell_type": "markdown",
   "metadata": {},
   "source": [
    "![Alt](images/genres_region.png)"
   ]
  },
  {
   "cell_type": "markdown",
   "metadata": {},
   "source": [
    "- North America & Europe: Action, shooter, and sports genres dominate, with similar preferences across both regions.\n",
    "\n",
    "- Japan: The role-playing and action genres are particularly favored, reflecting a distinctive cultural approach to gaming compared to Western markets.\n",
    "\n",
    "Understanding these regional differences enables developers to tailor games to specific market demographics, optimizing their reach and relevance within each region."
   ]
  },
  {
   "cell_type": "markdown",
   "metadata": {},
   "source": [
    "### ESRB Ratings vs Regional Sales"
   ]
  },
  {
   "cell_type": "markdown",
   "metadata": {},
   "source": [
    "![Alt](images/esrb_regions.png)"
   ]
  },
  {
   "cell_type": "markdown",
   "metadata": {},
   "source": [
    "Content rating preferences vary across regions as well:\n",
    "\n",
    "- North America & Europe: Games rated \"Mature\" (M) top the sales charts, indicating a large adult gaming audience.\n",
    "- Japan: Sales are led by games with \"Unknown\" ratings, largely due to the local CERO rating system, underscoring the importance of region-specific content ratings.\n",
    "\n",
    "These insights into content rating preferences across regions inform developers about the types of themes and age-appropriate content that resonate with audiences in different markets."
   ]
  },
  {
   "cell_type": "markdown",
   "metadata": {},
   "source": [
    "## Summary\n",
    "This analysis offers a comprehensive view of the gaming market, identifying long-term platform trends, genre profitability, regional preferences, and the nuanced role of reviews. Key findings suggest that platforms like the PS2 and Xbox 360 have demonstrated lasting appeal, while shooter and sports genres are consistently profitable. Preferences vary widely by region, with North American and European markets leaning toward action and shooter genres, while Japanese players show a preference for role-playing games.

For game developers, these insights highlight the importance of understanding market trends and tailoring design, platform, and genre choices to specific audience needs. By leveraging historical data, developers can make informed decisions that increase the likelihood of commercial success in the dynamic gaming industry."
   ]
  }
 ],
 "metadata": {
  "ExecuteTimeLog": [
   {
    "duration": 828,
    "start_time": "2021-11-16T09:21:11.304Z"
   },
   {
    "duration": 893,
    "start_time": "2021-11-16T09:21:17.728Z"
   },
   {
    "duration": 1150,
    "start_time": "2021-11-16T09:21:29.568Z"
   },
   {
    "duration": 3,
    "start_time": "2021-11-16T09:24:14.495Z"
   },
   {
    "duration": 120,
    "start_time": "2021-11-16T09:24:46.630Z"
   },
   {
    "duration": 3,
    "start_time": "2021-11-16T09:28:27.882Z"
   },
   {
    "duration": 4,
    "start_time": "2021-11-16T09:29:54.281Z"
   },
   {
    "duration": 3,
    "start_time": "2021-11-16T09:30:45.936Z"
   },
   {
    "duration": 4,
    "start_time": "2021-11-16T09:31:06.300Z"
   },
   {
    "duration": 113,
    "start_time": "2021-11-16T09:31:37.208Z"
   },
   {
    "duration": 143,
    "start_time": "2021-11-16T09:31:48.656Z"
   },
   {
    "duration": 98,
    "start_time": "2021-11-16T09:31:55.678Z"
   },
   {
    "duration": 3,
    "start_time": "2021-11-16T09:32:08.535Z"
   },
   {
    "duration": 111,
    "start_time": "2021-11-16T09:32:10.120Z"
   },
   {
    "duration": 3,
    "start_time": "2021-11-16T09:32:15.732Z"
   },
   {
    "duration": 4,
    "start_time": "2021-11-16T09:32:29.423Z"
   },
   {
    "duration": 3,
    "start_time": "2021-11-16T10:03:03.074Z"
   },
   {
    "duration": 3,
    "start_time": "2021-11-16T10:10:01.288Z"
   },
   {
    "duration": 3,
    "start_time": "2021-11-16T10:10:46.923Z"
   },
   {
    "duration": 121,
    "start_time": "2021-11-16T10:37:46.494Z"
   },
   {
    "duration": 125,
    "start_time": "2021-11-16T10:38:20.632Z"
   },
   {
    "duration": 112,
    "start_time": "2021-11-16T10:46:53.001Z"
   },
   {
    "duration": 110,
    "start_time": "2021-11-16T10:48:25.775Z"
   },
   {
    "duration": 3,
    "start_time": "2021-11-16T10:50:18.720Z"
   },
   {
    "duration": 4,
    "start_time": "2021-11-16T10:50:37.649Z"
   },
   {
    "duration": 2,
    "start_time": "2021-11-16T10:50:51.884Z"
   },
   {
    "duration": 3,
    "start_time": "2021-11-16T10:51:56.237Z"
   },
   {
    "duration": 101,
    "start_time": "2021-11-16T10:53:13.791Z"
   },
   {
    "duration": 3,
    "start_time": "2021-11-16T10:55:59.186Z"
   },
   {
    "duration": 3,
    "start_time": "2021-11-16T10:56:10.751Z"
   },
   {
    "duration": 3,
    "start_time": "2021-11-16T10:56:49.038Z"
   },
   {
    "duration": 3,
    "start_time": "2021-11-16T10:56:49.174Z"
   },
   {
    "duration": 4,
    "start_time": "2021-11-16T10:56:49.414Z"
   },
   {
    "duration": 3,
    "start_time": "2021-11-16T10:56:49.680Z"
   },
   {
    "duration": 3,
    "start_time": "2021-11-16T10:56:50.370Z"
   },
   {
    "duration": 114,
    "start_time": "2021-11-16T10:59:34.518Z"
   },
   {
    "duration": 3,
    "start_time": "2021-11-16T11:01:41.201Z"
   },
   {
    "duration": 116,
    "start_time": "2021-11-16T11:01:48.754Z"
   },
   {
    "duration": 3,
    "start_time": "2021-11-16T11:02:16.685Z"
   },
   {
    "duration": 3,
    "start_time": "2021-11-16T11:02:19.479Z"
   },
   {
    "duration": 3,
    "start_time": "2021-11-16T11:02:47.067Z"
   },
   {
    "duration": 3,
    "start_time": "2021-11-16T11:02:49.353Z"
   },
   {
    "duration": 3,
    "start_time": "2021-11-16T11:03:07.835Z"
   },
   {
    "duration": 3,
    "start_time": "2021-11-16T11:03:07.953Z"
   },
   {
    "duration": 112,
    "start_time": "2021-11-16T11:07:52.072Z"
   },
   {
    "duration": 187,
    "start_time": "2021-11-16T11:09:23.468Z"
   },
   {
    "duration": 4,
    "start_time": "2021-11-16T11:10:01.455Z"
   },
   {
    "duration": 3,
    "start_time": "2021-11-16T11:10:05.069Z"
   },
   {
    "duration": 4,
    "start_time": "2021-11-16T11:10:13.376Z"
   },
   {
    "duration": 3,
    "start_time": "2021-11-16T11:10:14.434Z"
   },
   {
    "duration": 3,
    "start_time": "2021-11-16T11:10:22.853Z"
   },
   {
    "duration": 4,
    "start_time": "2021-11-16T11:27:29.279Z"
   },
   {
    "duration": 4,
    "start_time": "2021-11-16T11:29:08.919Z"
   },
   {
    "duration": 118,
    "start_time": "2021-11-16T11:29:46.703Z"
   },
   {
    "duration": 437,
    "start_time": "2021-11-16T11:36:02.181Z"
   },
   {
    "duration": 157,
    "start_time": "2021-11-16T11:36:14.388Z"
   },
   {
    "duration": 207,
    "start_time": "2021-11-16T11:47:15.898Z"
   },
   {
    "duration": 3,
    "start_time": "2021-11-16T11:53:52.092Z"
   },
   {
    "duration": 3,
    "start_time": "2021-11-16T11:53:52.236Z"
   },
   {
    "duration": 3,
    "start_time": "2021-11-16T11:59:12.005Z"
   },
   {
    "duration": 112,
    "start_time": "2021-11-16T12:00:33.446Z"
   },
   {
    "duration": 3,
    "start_time": "2021-11-16T12:02:14.453Z"
   },
   {
    "duration": 3,
    "start_time": "2021-11-16T12:02:39.512Z"
   },
   {
    "duration": 106,
    "start_time": "2021-11-16T12:03:03.460Z"
   },
   {
    "duration": 3,
    "start_time": "2021-11-17T20:37:21.139Z"
   },
   {
    "duration": 3,
    "start_time": "2021-11-17T20:37:22.229Z"
   },
   {
    "duration": 3,
    "start_time": "2021-11-17T20:38:38.806Z"
   },
   {
    "duration": 3,
    "start_time": "2021-11-17T20:38:41.958Z"
   },
   {
    "duration": 3,
    "start_time": "2021-11-17T20:43:46.551Z"
   },
   {
    "duration": 4,
    "start_time": "2021-11-17T20:58:21.835Z"
   },
   {
    "duration": 3,
    "start_time": "2021-11-17T20:59:21.872Z"
   },
   {
    "duration": 4,
    "start_time": "2021-11-17T20:59:45.352Z"
   },
   {
    "duration": 4,
    "start_time": "2021-11-17T20:59:49.646Z"
   },
   {
    "duration": 159,
    "start_time": "2021-11-17T21:02:26.949Z"
   },
   {
    "duration": 3,
    "start_time": "2021-11-17T21:03:53.461Z"
   },
   {
    "duration": 3,
    "start_time": "2021-11-17T21:03:53.694Z"
   },
   {
    "duration": 3,
    "start_time": "2021-11-17T21:05:28.145Z"
   },
   {
    "duration": 116,
    "start_time": "2021-11-17T21:05:57.787Z"
   },
   {
    "duration": 3,
    "start_time": "2021-11-17T21:06:37.993Z"
   },
   {
    "duration": 3,
    "start_time": "2021-11-17T21:06:38.261Z"
   },
   {
    "duration": 3,
    "start_time": "2021-11-17T21:11:54.358Z"
   },
   {
    "duration": 3,
    "start_time": "2021-11-17T21:12:43.846Z"
   },
   {
    "duration": 4,
    "start_time": "2021-11-17T21:13:08.773Z"
   },
   {
    "duration": 3,
    "start_time": "2021-11-17T21:14:44.441Z"
   },
   {
    "duration": 3,
    "start_time": "2021-11-17T21:15:42.059Z"
   },
   {
    "duration": 4,
    "start_time": "2021-11-17T21:15:51.995Z"
   },
   {
    "duration": 3,
    "start_time": "2021-11-17T21:15:53.923Z"
   },
   {
    "duration": 3,
    "start_time": "2021-11-17T21:15:55.282Z"
   },
   {
    "duration": 3,
    "start_time": "2021-11-17T21:16:28.492Z"
   },
   {
    "duration": 3,
    "start_time": "2021-11-17T21:16:32.603Z"
   },
   {
    "duration": 3,
    "start_time": "2021-11-17T21:17:06.941Z"
   },
   {
    "duration": 98,
    "start_time": "2021-11-17T21:18:05.733Z"
   },
   {
    "duration": 4,
    "start_time": "2021-11-17T21:21:35.255Z"
   },
   {
    "duration": 3,
    "start_time": "2021-11-17T21:21:37.804Z"
   },
   {
    "duration": 4,
    "start_time": "2021-11-17T21:23:06.071Z"
   },
   {
    "duration": 3,
    "start_time": "2021-11-17T21:23:24.799Z"
   },
   {
    "duration": 3,
    "start_time": "2021-11-17T21:23:32.591Z"
   },
   {
    "duration": 98,
    "start_time": "2021-11-17T21:28:31.559Z"
   },
   {
    "duration": 3,
    "start_time": "2021-11-17T21:28:45.448Z"
   },
   {
    "duration": 3,
    "start_time": "2021-11-17T21:29:17.303Z"
   },
   {
    "duration": 3,
    "start_time": "2021-11-17T21:29:29.617Z"
   },
   {
    "duration": 3,
    "start_time": "2021-11-17T21:29:32.681Z"
   },
   {
    "duration": 3,
    "start_time": "2021-11-17T21:36:11.474Z"
   },
   {
    "duration": 3,
    "start_time": "2021-11-17T21:36:14.791Z"
   },
   {
    "duration": 3,
    "start_time": "2021-11-17T21:36:53.943Z"
   },
   {
    "duration": 3,
    "start_time": "2021-11-17T21:36:56.165Z"
   },
   {
    "duration": 4,
    "start_time": "2021-11-17T21:37:16.590Z"
   },
   {
    "duration": 3,
    "start_time": "2021-11-17T21:37:22.702Z"
   },
   {
    "duration": 4,
    "start_time": "2021-11-17T21:38:03.479Z"
   },
   {
    "duration": 3,
    "start_time": "2021-11-17T21:38:08.601Z"
   },
   {
    "duration": 3,
    "start_time": "2021-11-17T21:38:12.928Z"
   },
   {
    "duration": 3,
    "start_time": "2021-11-17T21:38:48.896Z"
   },
   {
    "duration": 2,
    "start_time": "2021-11-17T21:38:49.171Z"
   },
   {
    "duration": 4,
    "start_time": "2021-11-17T21:39:57.889Z"
   },
   {
    "duration": 3,
    "start_time": "2021-11-17T21:39:58.057Z"
   },
   {
    "duration": 3,
    "start_time": "2021-11-17T21:41:20.108Z"
   },
   {
    "duration": 3,
    "start_time": "2021-11-17T21:41:20.629Z"
   },
   {
    "duration": 3,
    "start_time": "2021-11-17T21:42:49.136Z"
   },
   {
    "duration": 3,
    "start_time": "2021-11-17T21:43:15.137Z"
   },
   {
    "duration": 4,
    "start_time": "2021-11-17T21:43:16.766Z"
   },
   {
    "duration": 4,
    "start_time": "2021-11-17T21:43:31.711Z"
   },
   {
    "duration": 3,
    "start_time": "2021-11-17T21:43:36.312Z"
   },
   {
    "duration": 4,
    "start_time": "2021-11-17T21:45:08.825Z"
   },
   {
    "duration": 4,
    "start_time": "2021-11-17T21:45:10.119Z"
   },
   {
    "duration": 4,
    "start_time": "2021-11-17T21:45:13.748Z"
   },
   {
    "duration": 3,
    "start_time": "2021-11-17T21:45:22.219Z"
   },
   {
    "duration": 3,
    "start_time": "2021-11-17T21:45:33.412Z"
   },
   {
    "duration": 2,
    "start_time": "2021-11-17T21:46:01.885Z"
   },
   {
    "duration": 3,
    "start_time": "2021-11-17T21:46:03.628Z"
   },
   {
    "duration": 107,
    "start_time": "2021-11-17T21:47:32.512Z"
   },
   {
    "duration": 103,
    "start_time": "2021-11-17T21:50:36.243Z"
   },
   {
    "duration": 3,
    "start_time": "2021-11-18T06:28:31.440Z"
   },
   {
    "duration": 3,
    "start_time": "2021-11-18T06:29:00.168Z"
   },
   {
    "duration": 3,
    "start_time": "2021-11-18T06:31:27.008Z"
   },
   {
    "duration": 2,
    "start_time": "2021-11-18T06:35:34.288Z"
   },
   {
    "duration": 2,
    "start_time": "2021-11-18T06:38:04.527Z"
   },
   {
    "duration": 1581,
    "start_time": "2024-05-30T06:26:24.625Z"
   },
   {
    "duration": 81,
    "start_time": "2024-05-30T06:26:26.212Z"
   },
   {
    "duration": 72,
    "start_time": "2024-05-30T06:26:26.298Z"
   },
   {
    "duration": 8,
    "start_time": "2024-05-30T06:26:26.376Z"
   },
   {
    "duration": 1926,
    "start_time": "2024-05-30T06:26:26.388Z"
   },
   {
    "duration": 0,
    "start_time": "2024-05-30T06:26:28.322Z"
   },
   {
    "duration": 0,
    "start_time": "2024-05-30T06:26:28.323Z"
   },
   {
    "duration": 0,
    "start_time": "2024-05-30T06:26:28.328Z"
   },
   {
    "duration": 0,
    "start_time": "2024-05-30T06:26:28.331Z"
   },
   {
    "duration": 0,
    "start_time": "2024-05-30T06:26:28.334Z"
   },
   {
    "duration": 0,
    "start_time": "2024-05-30T06:26:28.337Z"
   },
   {
    "duration": 0,
    "start_time": "2024-05-30T06:26:28.339Z"
   },
   {
    "duration": 0,
    "start_time": "2024-05-30T06:26:28.343Z"
   },
   {
    "duration": 1,
    "start_time": "2024-05-30T06:26:28.345Z"
   },
   {
    "duration": 0,
    "start_time": "2024-05-30T06:26:28.348Z"
   },
   {
    "duration": 0,
    "start_time": "2024-05-30T06:26:28.351Z"
   },
   {
    "duration": 0,
    "start_time": "2024-05-30T06:26:28.357Z"
   },
   {
    "duration": 0,
    "start_time": "2024-05-30T06:26:28.360Z"
   },
   {
    "duration": 0,
    "start_time": "2024-05-30T06:26:28.363Z"
   },
   {
    "duration": 0,
    "start_time": "2024-05-30T06:26:28.367Z"
   },
   {
    "duration": 1,
    "start_time": "2024-05-30T06:26:28.369Z"
   },
   {
    "duration": 0,
    "start_time": "2024-05-30T06:26:28.373Z"
   },
   {
    "duration": 0,
    "start_time": "2024-05-30T06:26:28.376Z"
   },
   {
    "duration": 0,
    "start_time": "2024-05-30T06:26:28.379Z"
   },
   {
    "duration": 0,
    "start_time": "2024-05-30T06:48:21.429Z"
   },
   {
    "duration": 0,
    "start_time": "2024-05-30T06:48:21.432Z"
   },
   {
    "duration": 0,
    "start_time": "2024-05-30T06:48:21.434Z"
   },
   {
    "duration": 0,
    "start_time": "2024-05-30T06:48:21.436Z"
   },
   {
    "duration": 0,
    "start_time": "2024-05-30T06:48:21.438Z"
   },
   {
    "duration": 0,
    "start_time": "2024-05-30T06:48:21.440Z"
   },
   {
    "duration": 0,
    "start_time": "2024-05-30T06:48:21.443Z"
   },
   {
    "duration": 0,
    "start_time": "2024-05-30T06:48:21.445Z"
   },
   {
    "duration": 0,
    "start_time": "2024-05-30T06:48:21.446Z"
   },
   {
    "duration": 0,
    "start_time": "2024-05-30T06:48:21.450Z"
   },
   {
    "duration": 0,
    "start_time": "2024-05-30T06:48:21.452Z"
   },
   {
    "duration": 0,
    "start_time": "2024-05-30T06:48:21.454Z"
   },
   {
    "duration": 0,
    "start_time": "2024-05-30T06:48:21.456Z"
   },
   {
    "duration": 0,
    "start_time": "2024-05-30T06:48:21.457Z"
   },
   {
    "duration": 0,
    "start_time": "2024-05-30T06:48:21.458Z"
   },
   {
    "duration": 0,
    "start_time": "2024-05-30T06:48:21.459Z"
   },
   {
    "duration": 1280,
    "start_time": "2024-05-30T06:50:38.723Z"
   },
   {
    "duration": 48,
    "start_time": "2024-05-30T06:50:40.009Z"
   },
   {
    "duration": 74,
    "start_time": "2024-05-30T06:50:40.060Z"
   },
   {
    "duration": 5,
    "start_time": "2024-05-30T06:50:40.140Z"
   },
   {
    "duration": 1370,
    "start_time": "2024-05-30T06:50:40.149Z"
   },
   {
    "duration": 0,
    "start_time": "2024-05-30T06:50:41.523Z"
   },
   {
    "duration": 1,
    "start_time": "2024-05-30T06:50:41.525Z"
   },
   {
    "duration": 1,
    "start_time": "2024-05-30T06:50:41.527Z"
   },
   {
    "duration": 0,
    "start_time": "2024-05-30T06:50:41.530Z"
   },
   {
    "duration": 0,
    "start_time": "2024-05-30T06:50:41.533Z"
   },
   {
    "duration": 0,
    "start_time": "2024-05-30T06:50:41.535Z"
   },
   {
    "duration": 0,
    "start_time": "2024-05-30T06:50:41.537Z"
   },
   {
    "duration": 0,
    "start_time": "2024-05-30T06:50:41.540Z"
   },
   {
    "duration": 0,
    "start_time": "2024-05-30T06:50:41.543Z"
   },
   {
    "duration": 0,
    "start_time": "2024-05-30T06:50:41.544Z"
   },
   {
    "duration": 0,
    "start_time": "2024-05-30T06:50:41.546Z"
   },
   {
    "duration": 0,
    "start_time": "2024-05-30T06:50:41.547Z"
   },
   {
    "duration": 0,
    "start_time": "2024-05-30T06:50:41.549Z"
   },
   {
    "duration": 0,
    "start_time": "2024-05-30T06:50:41.551Z"
   },
   {
    "duration": 1,
    "start_time": "2024-05-30T06:50:41.552Z"
   },
   {
    "duration": 0,
    "start_time": "2024-05-30T06:50:41.556Z"
   },
   {
    "duration": 0,
    "start_time": "2024-05-30T06:50:41.558Z"
   },
   {
    "duration": 0,
    "start_time": "2024-05-30T06:50:41.561Z"
   },
   {
    "duration": 1,
    "start_time": "2024-05-30T06:50:41.563Z"
   },
   {
    "duration": 110,
    "start_time": "2024-05-30T06:54:37.701Z"
   },
   {
    "duration": 37,
    "start_time": "2024-05-30T06:55:20.677Z"
   },
   {
    "duration": 43,
    "start_time": "2024-05-30T06:55:21.655Z"
   },
   {
    "duration": 678,
    "start_time": "2024-05-30T06:57:25.662Z"
   },
   {
    "duration": 1582,
    "start_time": "2024-05-30T06:57:31.576Z"
   },
   {
    "duration": 0,
    "start_time": "2024-05-30T06:57:33.161Z"
   },
   {
    "duration": 145,
    "start_time": "2024-05-30T06:58:01.827Z"
   },
   {
    "duration": 44,
    "start_time": "2024-05-30T06:58:08.068Z"
   },
   {
    "duration": 540,
    "start_time": "2024-05-30T06:58:10.973Z"
   },
   {
    "duration": 467,
    "start_time": "2024-05-30T06:58:11.960Z"
   },
   {
    "duration": 1653,
    "start_time": "2024-05-30T06:59:13.597Z"
   },
   {
    "duration": 292,
    "start_time": "2024-05-30T06:59:36.215Z"
   },
   {
    "duration": 268,
    "start_time": "2024-05-30T06:59:36.838Z"
   },
   {
    "duration": 503,
    "start_time": "2024-05-30T06:59:37.956Z"
   },
   {
    "duration": 374,
    "start_time": "2024-05-30T06:59:38.462Z"
   },
   {
    "duration": 698,
    "start_time": "2024-05-30T06:59:38.840Z"
   },
   {
    "duration": 692,
    "start_time": "2024-05-30T07:00:53.530Z"
   },
   {
    "duration": 442,
    "start_time": "2024-05-30T07:00:54.227Z"
   },
   {
    "duration": 406,
    "start_time": "2024-05-30T07:00:54.673Z"
   },
   {
    "duration": 15,
    "start_time": "2024-05-30T07:00:55.083Z"
   },
   {
    "duration": 15,
    "start_time": "2024-05-30T07:00:55.122Z"
   },
   {
    "duration": 1227,
    "start_time": "2024-05-30T21:39:57.452Z"
   },
   {
    "duration": 73,
    "start_time": "2024-05-30T21:39:58.683Z"
   },
   {
    "duration": 60,
    "start_time": "2024-05-30T21:39:58.762Z"
   },
   {
    "duration": 6,
    "start_time": "2024-05-30T21:39:58.829Z"
   },
   {
    "duration": 1581,
    "start_time": "2024-05-30T21:39:58.838Z"
   },
   {
    "duration": 0,
    "start_time": "2024-05-30T21:40:00.429Z"
   },
   {
    "duration": 1,
    "start_time": "2024-05-30T21:40:00.434Z"
   },
   {
    "duration": 0,
    "start_time": "2024-05-30T21:40:00.441Z"
   },
   {
    "duration": 0,
    "start_time": "2024-05-30T21:40:00.443Z"
   },
   {
    "duration": 0,
    "start_time": "2024-05-30T21:40:00.446Z"
   },
   {
    "duration": 0,
    "start_time": "2024-05-30T21:40:00.455Z"
   },
   {
    "duration": 0,
    "start_time": "2024-05-30T21:40:00.460Z"
   },
   {
    "duration": 0,
    "start_time": "2024-05-30T21:40:00.465Z"
   },
   {
    "duration": 0,
    "start_time": "2024-05-30T21:40:00.467Z"
   },
   {
    "duration": 0,
    "start_time": "2024-05-30T21:40:00.469Z"
   },
   {
    "duration": 0,
    "start_time": "2024-05-30T21:40:00.472Z"
   },
   {
    "duration": 0,
    "start_time": "2024-05-30T21:40:00.474Z"
   },
   {
    "duration": 0,
    "start_time": "2024-05-30T21:40:00.476Z"
   },
   {
    "duration": 0,
    "start_time": "2024-05-30T21:40:00.478Z"
   },
   {
    "duration": 0,
    "start_time": "2024-05-30T21:40:00.481Z"
   },
   {
    "duration": 0,
    "start_time": "2024-05-30T21:40:00.482Z"
   },
   {
    "duration": 0,
    "start_time": "2024-05-30T21:40:00.511Z"
   },
   {
    "duration": 0,
    "start_time": "2024-05-30T21:40:00.513Z"
   },
   {
    "duration": 0,
    "start_time": "2024-05-30T21:40:00.515Z"
   },
   {
    "duration": 0,
    "start_time": "2024-05-30T21:40:00.517Z"
   }
  ],
  "kernelspec": {
   "display_name": "base",
   "language": "python",
   "name": "python3"
  },
  "language_info": {
   "codemirror_mode": {
    "name": "ipython",
    "version": 3
   },
   "file_extension": ".py",
   "mimetype": "text/x-python",
   "name": "python",
   "nbconvert_exporter": "python",
   "pygments_lexer": "ipython3",
   "version": "3.11.7"
  },
  "toc": {
   "base_numbering": 1,
   "nav_menu": {},
   "number_sections": true,
   "sideBar": true,
   "skip_h1_title": false,
   "title_cell": "Table of Contents",
   "title_sidebar": "Contents",
   "toc_cell": false,
   "toc_position": {},
   "toc_section_display": true,
   "toc_window_display": false
  }
 },
 "nbformat": 4,
 "nbformat_minor": 4
}
