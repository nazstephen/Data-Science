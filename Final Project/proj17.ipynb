{
 "cells": [
  {
   "cell_type": "markdown",
   "metadata": {},
   "source": [
    "# Final Project <a id='intro'></a>"
   ]
  },
  {
   "cell_type": "markdown",
   "metadata": {},
   "source": [
    "## Project Description\n",
    "The telecom operator Interconnect would like to be able to forecast their churn of clients. If it's discovered that a user is planning to leave, they will be offered promotional codes and special plan options. Interconnect's marketing team has collected some of their clientele's personal data, including information about their plans and contracts.\n",
    "\n",
    "## Interconnect's Services\n",
    "Interconnect mainly provides two types of services:\n",
    "1) Landline communication. The telephone can be connected to several lines simultaneously.\n",
    "2) Internet. The network can be set up via a telephone line (DSL, _digital subscriber line_) or through a fiber optic cable.\n",
    "\n",
    "Some other services the company provides include:\n",
    "- Internet security: antivirus software (DeviceProtection) and a malicious website blocker (OnlineSecurity)\n",
    "- A dedicated technical support line (TechSupport)\n",
    "- Cloud file storage and data backup (OnlineBackup)\n",
    "- TV streaming (StreamingTV) and a movie directory (StreamingMovies)\n",
    "The clients can choose either a monthly payment or sign a 1- or 2-year contract. They can use various payment methods and receive an electronic invoice after a transaction.\n",
    "\n",
    "## Data Description\n",
    "The data consists of files obtained from different sources:\n",
    "- `contract.csv` — contract information\n",
    "- `personal.csv` — the client's personal data\n",
    "- `internet.csv` — information about Internet services\n",
    "- `phone.csv` — information about telephone services\n",
    "\n",
    "In each file, the column **customerID** contains a unique code assigned to each client.\n",
    "\n",
    "The contract information is valid as of February 1, 2020.\n",
    "\n",
    "## Work Plan\n",
    "**A) Initialization:** Import necessary libraries such as Pandas, NumPy, Matplotlib, Seaborn for data manipulation and visualization, and Scikit-learn for model building.\n",
    "\n",
    "**B) Load Data:** Load all four CSV files (`contract.csv`, `personal.csv`, `internet.csv`, `phone.csv`) into separate DataFrames. Ensure that the data types are appropriate for analysis.\n",
    "\n",
    "**C) Data Preprocessing:**\n",
    "- Check for missing values and fill or drop them as necessary.\n",
    "- Identify and remove duplicate rows.\n",
    "- Convert any inappropriate data types to the correct format (e.g., dates, categorical variables).\n",
    "\n",
    "**D) Exploratory Data Analysis:**\n",
    "- Use visualizations (bar plots, histograms, box plots) to identify trends and relationships between customer attributes and churn rates.\n",
    "- Look for correlations between features and the target variable.\n",
    "\n",
    "**E) Model Training Preparation:**\n",
    "- Split the dataset into training, validation and test sets.\n",
    "- Encode categorical variables using techniques like one-hot encoding or label encoding as appropriate.\n",
    "- Handle class imbalance through appropriate means.\n",
    "\n",
    "**F) Model Training:**\n",
    "- Select a variety of classification algorithms (e.g., Logistic Regression, Random Forest, Gradient Boosting).\n",
    "- Use cross-validation to tune hyperparameters and select the best-performing model based on the AUC-ROC score.\n",
    "\n",
    "**G) Model Analysis & Test:**\n",
    "- Analyze the performance of each model using AUC-ROC and accuracy metrics.\n",
    "- Choose the best model and retrain it on the entire training set, then evaluate it on the test set.\n",
    "\n",
    "## Clarifying Questions\n",
    "1) What is the most appropriate way to address missing values—should they be filled with a specific value (e.g., \"No,\" -1) or should rows be removed?\n",
    "\n",
    "2) Are there specific features that require in-depth exploratory analysis? Which features should we prioritize in our analysis?\n",
    "\n",
    "3) What strategies should we consider for addressing potential class imbalance between churned and non-churned customers (e.g., oversampling, undersampling, or using different evaluation metrics)?\n",
    "\n",
    "4) Do you have any recommendations on specific models that have been successful in similar churn prediction tasks?\n",
    "\n",
    "5) Are there any specific feature engineering techniques you recommend to enhance the predictive power of the model?"
   ]
  },
  {
   "cell_type": "markdown",
   "metadata": {},
   "source": [
    "## Initialization"
   ]
  },
  {
   "cell_type": "code",
   "execution_count": 1,
   "metadata": {},
   "outputs": [],
   "source": [
    "# Loading all the libraries\n",
    "import pandas as pd\n",
    "import numpy as np\n",
    "import matplotlib.pyplot as plt\n",
    "import seaborn as sns\n",
    "from functools import reduce\n",
    "\n",
    "from sklearn.preprocessing import OrdinalEncoder\n",
    "from sklearn.preprocessing import OneHotEncoder\n",
    "from sklearn.model_selection import train_test_split, RandomizedSearchCV\n",
    "from sklearn.metrics import roc_auc_score, roc_curve, accuracy_score, f1_score\n",
    "\n",
    "from sklearn.linear_model import LogisticRegression\n",
    "from sklearn.ensemble import RandomForestClassifier\n",
    "from lightgbm import LGBMClassifier\n",
    "from catboost import CatBoostClassifier\n",
    "from xgboost import XGBClassifier"
   ]
  },
  {
   "cell_type": "markdown",
   "metadata": {},
   "source": [
    "## Load Data"
   ]
  },
  {
   "cell_type": "code",
   "execution_count": 2,
   "metadata": {},
   "outputs": [
    {
     "name": "stdout",
     "output_type": "stream",
     "text": [
      "'contract.csv' file successfully read from the local path.\n",
      "'internet.csv' file successfully read from the local path.\n",
      "'personal.csv' file successfully read from the local path.\n",
      "'phone.csv' file successfully read from the local path.\n"
     ]
    }
   ],
   "source": [
    "# Load data function\n",
    "def load_data(file_name, local_path, server_path):\n",
    "    try:\n",
    "        data = pd.read_csv(local_path + file_name)\n",
    "        print(f\"'{file_name}' file successfully read from the local path.\")\n",
    "\n",
    "    except FileNotFoundError:\n",
    "        try:\n",
    "            data = pd.read_csv(server_path + file_name)\n",
    "            print(f\"'{file_name}' file successfully read from the server path.\")\n",
    "\n",
    "        except FileNotFoundError:\n",
    "            print(f\"'{file_name}' file not found. Please check the file paths.\")\n",
    "            data = None\n",
    "            \n",
    "    return data\n",
    "\n",
    "file_names = ['contract.csv', 'internet.csv', 'personal.csv', 'phone.csv']\n",
    "local_path = '/Users/benjaminstephen/Documents/TripleTen/Sprint_17/Final_Project/datasets/final_provider/'\n",
    "server_path = '/datasets/final_provider/'\n",
    "\n",
    "contract_data = load_data(file_names[0], local_path, server_path)\n",
    "internet_data = load_data(file_names[1], local_path, server_path)\n",
    "personal_data = load_data(file_names[2], local_path, server_path)   \n",
    "phone_data = load_data(file_names[3], local_path, server_path)  "
   ]
  },
  {
   "cell_type": "markdown",
   "metadata": {},
   "source": [
    "## Data Preprocessing"
   ]
  },
  {
   "cell_type": "markdown",
   "metadata": {},
   "source": [
    "To start, we will preprocess the data and clean it to ensure it is optimally prepared for model training. We will be utilizing the fucntion below to help us observe the data in a timely manner."
   ]
  },
  {
   "cell_type": "code",
   "execution_count": 3,
   "metadata": {},
   "outputs": [],
   "source": [
    "# Analyze function\n",
    "def analyze(data):\n",
    "    # Display the DataFrame\n",
    "    display(data)\n",
    "\n",
    "    # Print DataFrame Info\n",
    "    print(\"DATAFRAME INFO:\")\n",
    "    data.info()\n",
    "    print()\n",
    "\n",
    "    # Calculate Percentage of Null Values\n",
    "    print(\"PERCENTAGE OF NULL VALUES:\")\n",
    "    print((data.isnull().sum()/len(data)) * 100)\n",
    "    print()\n",
    "\n",
    "    # Calculate Number of Duplicated Rows\n",
    "    print(\"NUMBER OF DUPLICATED ROWS:\", data.duplicated().sum())"
   ]
  },
  {
   "cell_type": "markdown",
   "metadata": {},
   "source": [
    "### Contract Data"
   ]
  },
  {
   "cell_type": "code",
   "execution_count": 4,
   "metadata": {},
   "outputs": [
    {
     "data": {
      "text/html": [
       "<div>\n",
       "<style scoped>\n",
       "    .dataframe tbody tr th:only-of-type {\n",
       "        vertical-align: middle;\n",
       "    }\n",
       "\n",
       "    .dataframe tbody tr th {\n",
       "        vertical-align: top;\n",
       "    }\n",
       "\n",
       "    .dataframe thead th {\n",
       "        text-align: right;\n",
       "    }\n",
       "</style>\n",
       "<table border=\"1\" class=\"dataframe\">\n",
       "  <thead>\n",
       "    <tr style=\"text-align: right;\">\n",
       "      <th></th>\n",
       "      <th>customerID</th>\n",
       "      <th>BeginDate</th>\n",
       "      <th>EndDate</th>\n",
       "      <th>Type</th>\n",
       "      <th>PaperlessBilling</th>\n",
       "      <th>PaymentMethod</th>\n",
       "      <th>MonthlyCharges</th>\n",
       "      <th>TotalCharges</th>\n",
       "    </tr>\n",
       "  </thead>\n",
       "  <tbody>\n",
       "    <tr>\n",
       "      <th>0</th>\n",
       "      <td>7590-VHVEG</td>\n",
       "      <td>2020-01-01</td>\n",
       "      <td>No</td>\n",
       "      <td>Month-to-month</td>\n",
       "      <td>Yes</td>\n",
       "      <td>Electronic check</td>\n",
       "      <td>29.85</td>\n",
       "      <td>29.85</td>\n",
       "    </tr>\n",
       "    <tr>\n",
       "      <th>1</th>\n",
       "      <td>5575-GNVDE</td>\n",
       "      <td>2017-04-01</td>\n",
       "      <td>No</td>\n",
       "      <td>One year</td>\n",
       "      <td>No</td>\n",
       "      <td>Mailed check</td>\n",
       "      <td>56.95</td>\n",
       "      <td>1889.5</td>\n",
       "    </tr>\n",
       "    <tr>\n",
       "      <th>2</th>\n",
       "      <td>3668-QPYBK</td>\n",
       "      <td>2019-10-01</td>\n",
       "      <td>2019-12-01 00:00:00</td>\n",
       "      <td>Month-to-month</td>\n",
       "      <td>Yes</td>\n",
       "      <td>Mailed check</td>\n",
       "      <td>53.85</td>\n",
       "      <td>108.15</td>\n",
       "    </tr>\n",
       "    <tr>\n",
       "      <th>3</th>\n",
       "      <td>7795-CFOCW</td>\n",
       "      <td>2016-05-01</td>\n",
       "      <td>No</td>\n",
       "      <td>One year</td>\n",
       "      <td>No</td>\n",
       "      <td>Bank transfer (automatic)</td>\n",
       "      <td>42.30</td>\n",
       "      <td>1840.75</td>\n",
       "    </tr>\n",
       "    <tr>\n",
       "      <th>4</th>\n",
       "      <td>9237-HQITU</td>\n",
       "      <td>2019-09-01</td>\n",
       "      <td>2019-11-01 00:00:00</td>\n",
       "      <td>Month-to-month</td>\n",
       "      <td>Yes</td>\n",
       "      <td>Electronic check</td>\n",
       "      <td>70.70</td>\n",
       "      <td>151.65</td>\n",
       "    </tr>\n",
       "    <tr>\n",
       "      <th>...</th>\n",
       "      <td>...</td>\n",
       "      <td>...</td>\n",
       "      <td>...</td>\n",
       "      <td>...</td>\n",
       "      <td>...</td>\n",
       "      <td>...</td>\n",
       "      <td>...</td>\n",
       "      <td>...</td>\n",
       "    </tr>\n",
       "    <tr>\n",
       "      <th>7038</th>\n",
       "      <td>6840-RESVB</td>\n",
       "      <td>2018-02-01</td>\n",
       "      <td>No</td>\n",
       "      <td>One year</td>\n",
       "      <td>Yes</td>\n",
       "      <td>Mailed check</td>\n",
       "      <td>84.80</td>\n",
       "      <td>1990.5</td>\n",
       "    </tr>\n",
       "    <tr>\n",
       "      <th>7039</th>\n",
       "      <td>2234-XADUH</td>\n",
       "      <td>2014-02-01</td>\n",
       "      <td>No</td>\n",
       "      <td>One year</td>\n",
       "      <td>Yes</td>\n",
       "      <td>Credit card (automatic)</td>\n",
       "      <td>103.20</td>\n",
       "      <td>7362.9</td>\n",
       "    </tr>\n",
       "    <tr>\n",
       "      <th>7040</th>\n",
       "      <td>4801-JZAZL</td>\n",
       "      <td>2019-03-01</td>\n",
       "      <td>No</td>\n",
       "      <td>Month-to-month</td>\n",
       "      <td>Yes</td>\n",
       "      <td>Electronic check</td>\n",
       "      <td>29.60</td>\n",
       "      <td>346.45</td>\n",
       "    </tr>\n",
       "    <tr>\n",
       "      <th>7041</th>\n",
       "      <td>8361-LTMKD</td>\n",
       "      <td>2019-07-01</td>\n",
       "      <td>2019-11-01 00:00:00</td>\n",
       "      <td>Month-to-month</td>\n",
       "      <td>Yes</td>\n",
       "      <td>Mailed check</td>\n",
       "      <td>74.40</td>\n",
       "      <td>306.6</td>\n",
       "    </tr>\n",
       "    <tr>\n",
       "      <th>7042</th>\n",
       "      <td>3186-AJIEK</td>\n",
       "      <td>2014-08-01</td>\n",
       "      <td>No</td>\n",
       "      <td>Two year</td>\n",
       "      <td>Yes</td>\n",
       "      <td>Bank transfer (automatic)</td>\n",
       "      <td>105.65</td>\n",
       "      <td>6844.5</td>\n",
       "    </tr>\n",
       "  </tbody>\n",
       "</table>\n",
       "<p>7043 rows × 8 columns</p>\n",
       "</div>"
      ],
      "text/plain": [
       "      customerID   BeginDate              EndDate            Type  \\\n",
       "0     7590-VHVEG  2020-01-01                   No  Month-to-month   \n",
       "1     5575-GNVDE  2017-04-01                   No        One year   \n",
       "2     3668-QPYBK  2019-10-01  2019-12-01 00:00:00  Month-to-month   \n",
       "3     7795-CFOCW  2016-05-01                   No        One year   \n",
       "4     9237-HQITU  2019-09-01  2019-11-01 00:00:00  Month-to-month   \n",
       "...          ...         ...                  ...             ...   \n",
       "7038  6840-RESVB  2018-02-01                   No        One year   \n",
       "7039  2234-XADUH  2014-02-01                   No        One year   \n",
       "7040  4801-JZAZL  2019-03-01                   No  Month-to-month   \n",
       "7041  8361-LTMKD  2019-07-01  2019-11-01 00:00:00  Month-to-month   \n",
       "7042  3186-AJIEK  2014-08-01                   No        Two year   \n",
       "\n",
       "     PaperlessBilling              PaymentMethod  MonthlyCharges TotalCharges  \n",
       "0                 Yes           Electronic check           29.85        29.85  \n",
       "1                  No               Mailed check           56.95       1889.5  \n",
       "2                 Yes               Mailed check           53.85       108.15  \n",
       "3                  No  Bank transfer (automatic)           42.30      1840.75  \n",
       "4                 Yes           Electronic check           70.70       151.65  \n",
       "...               ...                        ...             ...          ...  \n",
       "7038              Yes               Mailed check           84.80       1990.5  \n",
       "7039              Yes    Credit card (automatic)          103.20       7362.9  \n",
       "7040              Yes           Electronic check           29.60       346.45  \n",
       "7041              Yes               Mailed check           74.40        306.6  \n",
       "7042              Yes  Bank transfer (automatic)          105.65       6844.5  \n",
       "\n",
       "[7043 rows x 8 columns]"
      ]
     },
     "metadata": {},
     "output_type": "display_data"
    },
    {
     "name": "stdout",
     "output_type": "stream",
     "text": [
      "DATAFRAME INFO:\n",
      "<class 'pandas.core.frame.DataFrame'>\n",
      "RangeIndex: 7043 entries, 0 to 7042\n",
      "Data columns (total 8 columns):\n",
      " #   Column            Non-Null Count  Dtype  \n",
      "---  ------            --------------  -----  \n",
      " 0   customerID        7043 non-null   object \n",
      " 1   BeginDate         7043 non-null   object \n",
      " 2   EndDate           7043 non-null   object \n",
      " 3   Type              7043 non-null   object \n",
      " 4   PaperlessBilling  7043 non-null   object \n",
      " 5   PaymentMethod     7043 non-null   object \n",
      " 6   MonthlyCharges    7043 non-null   float64\n",
      " 7   TotalCharges      7043 non-null   object \n",
      "dtypes: float64(1), object(7)\n",
      "memory usage: 440.3+ KB\n",
      "\n",
      "PERCENTAGE OF NULL VALUES:\n",
      "customerID          0.0\n",
      "BeginDate           0.0\n",
      "EndDate             0.0\n",
      "Type                0.0\n",
      "PaperlessBilling    0.0\n",
      "PaymentMethod       0.0\n",
      "MonthlyCharges      0.0\n",
      "TotalCharges        0.0\n",
      "dtype: float64\n",
      "\n",
      "NUMBER OF DUPLICATED ROWS: 0\n"
     ]
    }
   ],
   "source": [
    "analyze(contract_data)"
   ]
  },
  {
   "cell_type": "markdown",
   "metadata": {},
   "source": [
    "The Contract Data appears to be in good shape, with no missing values or duplicates. However, certain feature columns could be optimized by updating their data types. For example, the BeginDate and EndDate columns, which are currently of the object data type, should be converted to datetime format for better date manipulation. Similarly, the TotalCharges column would be more effective as a float to allow for accurate numerical computations.\n",
    "\n",
    "Let's convert the BeginDate column into the datetime data type."
   ]
  },
  {
   "cell_type": "code",
   "execution_count": 5,
   "metadata": {},
   "outputs": [
    {
     "name": "stdout",
     "output_type": "stream",
     "text": [
      "datetime64[ns]\n"
     ]
    }
   ],
   "source": [
    "contract_data['BeginDate'] = pd.to_datetime(contract_data['BeginDate'], format='%Y-%m-%d')\n",
    "\n",
    "print(contract_data['BeginDate'].dtype)"
   ]
  },
  {
   "cell_type": "markdown",
   "metadata": {},
   "source": [
    "We will now convert the EndDate column. Since we know that the contract information is valid as of February 1, 2020, all entries labeled as 'No' in this column will be updated to reflect this date."
   ]
  },
  {
   "cell_type": "code",
   "execution_count": 6,
   "metadata": {},
   "outputs": [
    {
     "name": "stdout",
     "output_type": "stream",
     "text": [
      "datetime64[ns]\n"
     ]
    }
   ],
   "source": [
    "contract_data['EndDate'] = contract_data['EndDate'].replace('No', '2020-02-01 00:00:00')\n",
    "contract_data['EndDate'] = pd.to_datetime(contract_data['EndDate'], format='%Y-%m-%d')\n",
    "\n",
    "print(contract_data['EndDate'].dtype)"
   ]
  },
  {
   "cell_type": "markdown",
   "metadata": {},
   "source": [
    "And we will convert the TotalCharges column into the float data type."
   ]
  },
  {
   "cell_type": "code",
   "execution_count": 7,
   "metadata": {},
   "outputs": [
    {
     "name": "stdout",
     "output_type": "stream",
     "text": [
      "float64\n"
     ]
    }
   ],
   "source": [
    "contract_data['TotalCharges'] = pd.to_numeric(contract_data['TotalCharges'], errors='coerce')\n",
    "contract_data['TotalCharges'] = contract_data['TotalCharges'].fillna(0)\n",
    "\n",
    "print(contract_data['TotalCharges'].dtype)"
   ]
  },
  {
   "cell_type": "markdown",
   "metadata": {},
   "source": [
    "To ensure the integrity of the Contract Data, we will analyze the number of unique values within each column. This examination will help us confirm that all values are appropriate and consistent."
   ]
  },
  {
   "cell_type": "code",
   "execution_count": 8,
   "metadata": {},
   "outputs": [
    {
     "name": "stdout",
     "output_type": "stream",
     "text": [
      "customerID          7043\n",
      "BeginDate             77\n",
      "EndDate                5\n",
      "Type                   3\n",
      "PaperlessBilling       2\n",
      "PaymentMethod          4\n",
      "MonthlyCharges      1585\n",
      "TotalCharges        6531\n",
      "dtype: int64\n"
     ]
    }
   ],
   "source": [
    "print(contract_data.nunique())"
   ]
  },
  {
   "cell_type": "markdown",
   "metadata": {},
   "source": [
    "We observe that there are 7,043 unique customerIDs, which aligns perfectly with the total of 7,043 entries in the Contract Data. I am particularly interested in examining the values within the EndDate, Type, PaperlessBilling, and MonthlyCharges columns. Since these columns contain a limited number of unique values, they will be straightforward to explore"
   ]
  },
  {
   "cell_type": "code",
   "execution_count": 9,
   "metadata": {},
   "outputs": [
    {
     "name": "stdout",
     "output_type": "stream",
     "text": [
      "EndDate:\n",
      "2020-02-01    5174\n",
      "2019-11-01     485\n",
      "2019-12-01     466\n",
      "2020-01-01     460\n",
      "2019-10-01     458\n",
      "Name: EndDate, dtype: int64\n",
      "\n",
      "Type:\n",
      "Month-to-month    3875\n",
      "Two year          1695\n",
      "One year          1473\n",
      "Name: Type, dtype: int64\n",
      "\n",
      "PaperlessBilling:\n",
      "Yes    4171\n",
      "No     2872\n",
      "Name: PaperlessBilling, dtype: int64\n",
      "\n",
      "PaymentMethod:\n",
      "Electronic check             2365\n",
      "Mailed check                 1612\n",
      "Bank transfer (automatic)    1544\n",
      "Credit card (automatic)      1522\n",
      "Name: PaymentMethod, dtype: int64\n"
     ]
    }
   ],
   "source": [
    "print(\"EndDate:\")\n",
    "print(contract_data['EndDate'].value_counts())\n",
    "print()\n",
    "print(\"Type:\")\n",
    "print(contract_data['Type'].value_counts())\n",
    "print()\n",
    "print(\"PaperlessBilling:\")\n",
    "print(contract_data['PaperlessBilling'].value_counts())\n",
    "print()\n",
    "print(\"PaymentMethod:\")\n",
    "print(contract_data['PaymentMethod'].value_counts())\n"
   ]
  },
  {
   "cell_type": "code",
   "execution_count": 10,
   "metadata": {},
   "outputs": [
    {
     "name": "stdout",
     "output_type": "stream",
     "text": [
      "Electronic check    2365\n",
      "Mailed check        1612\n",
      "Bank transfer       1544\n",
      "Credit card         1522\n",
      "Name: PaymentMethod, dtype: int64\n"
     ]
    }
   ],
   "source": [
    "# Rename certain values in the PaymentMethod column for simplicity\n",
    "contract_data['PaymentMethod'] = contract_data['PaymentMethod'].replace('Bank transfer (automatic)', 'Bank transfer')\n",
    "contract_data['PaymentMethod'] = contract_data['PaymentMethod'].replace('Credit card (automatic)', 'Credit card')\n",
    "\n",
    "print(contract_data['PaymentMethod'].value_counts())"
   ]
  },
  {
   "cell_type": "markdown",
   "metadata": {},
   "source": [
    "The values in the aforementioned columns appear logical and appropriate, confirming that the data is robust and reliable for analysis in these specific areas.\n",
    "\n",
    "Now, let’s examine the BeginDate column to ensure that the values are appropriate. We will plot the distribution of dates to facilitate this analysis."
   ]
  },
  {
   "cell_type": "code",
   "execution_count": 11,
   "metadata": {},
   "outputs": [
    {
     "data": {
      "image/png": "[encoded data removed]",
      "text/plain": [
       "<Figure size 2000x600 with 1 Axes>"
      ]
     },
     "metadata": {},
     "output_type": "display_data"
    }
   ],
   "source": [
    "# Set the figure size\n",
    "plt.figure(figsize=(20, 6))\n",
    "\n",
    "# Plotting BeginDate\n",
    "contract_data['BeginDate'].value_counts().sort_index().plot(kind='bar')\n",
    "plt.title('Begin Date Distribution')\n",
    "plt.xlabel('Date')\n",
    "plt.ylabel('Frequency')\n",
    "plt.xticks(rotation=90)\n",
    "\n",
    "# Show the plot\n",
    "plt.show()"
   ]
  },
  {
   "cell_type": "markdown",
   "metadata": {},
   "source": [
    "As illustrated in the graph above, the range of date distributions appears to be appropriate, with all dates falling between October 1, 2013, and February 1, 2020."
   ]
  },
  {
   "cell_type": "code",
   "execution_count": 12,
   "metadata": {},
   "outputs": [
    {
     "name": "stdout",
     "output_type": "stream",
     "text": [
      "<class 'pandas.core.frame.DataFrame'>\n",
      "RangeIndex: 7043 entries, 0 to 7042\n",
      "Data columns (total 8 columns):\n",
      " #   Column            Non-Null Count  Dtype         \n",
      "---  ------            --------------  -----         \n",
      " 0   customerID        7043 non-null   object        \n",
      " 1   BeginDate         7043 non-null   datetime64[ns]\n",
      " 2   EndDate           7043 non-null   datetime64[ns]\n",
      " 3   Type              7043 non-null   object        \n",
      " 4   PaperlessBilling  7043 non-null   object        \n",
      " 5   PaymentMethod     7043 non-null   object        \n",
      " 6   MonthlyCharges    7043 non-null   float64       \n",
      " 7   TotalCharges      7043 non-null   float64       \n",
      "dtypes: datetime64[ns](2), float64(2), object(4)\n",
      "memory usage: 440.3+ KB\n",
      "None\n"
     ]
    }
   ],
   "source": [
    "print(contract_data.info())"
   ]
  },
  {
   "cell_type": "markdown",
   "metadata": {},
   "source": [
    "The Contract Data has been successfully preprocessed."
   ]
  },
  {
   "cell_type": "markdown",
   "metadata": {},
   "source": [
    "### Internet Data"
   ]
  },
  {
   "cell_type": "code",
   "execution_count": 13,
   "metadata": {},
   "outputs": [
    {
     "data": {
      "text/html": [
       "<div>\n",
       "<style scoped>\n",
       "    .dataframe tbody tr th:only-of-type {\n",
       "        vertical-align: middle;\n",
       "    }\n",
       "\n",
       "    .dataframe tbody tr th {\n",
       "        vertical-align: top;\n",
       "    }\n",
       "\n",
       "    .dataframe thead th {\n",
       "        text-align: right;\n",
       "    }\n",
       "</style>\n",
       "<table border=\"1\" class=\"dataframe\">\n",
       "  <thead>\n",
       "    <tr style=\"text-align: right;\">\n",
       "      <th></th>\n",
       "      <th>customerID</th>\n",
       "      <th>InternetService</th>\n",
       "      <th>OnlineSecurity</th>\n",
       "      <th>OnlineBackup</th>\n",
       "      <th>DeviceProtection</th>\n",
       "      <th>TechSupport</th>\n",
       "      <th>StreamingTV</th>\n",
       "      <th>StreamingMovies</th>\n",
       "    </tr>\n",
       "  </thead>\n",
       "  <tbody>\n",
       "    <tr>\n",
       "      <th>0</th>\n",
       "      <td>7590-VHVEG</td>\n",
       "      <td>DSL</td>\n",
       "      <td>No</td>\n",
       "      <td>Yes</td>\n",
       "      <td>No</td>\n",
       "      <td>No</td>\n",
       "      <td>No</td>\n",
       "      <td>No</td>\n",
       "    </tr>\n",
       "    <tr>\n",
       "      <th>1</th>\n",
       "      <td>5575-GNVDE</td>\n",
       "      <td>DSL</td>\n",
       "      <td>Yes</td>\n",
       "      <td>No</td>\n",
       "      <td>Yes</td>\n",
       "      <td>No</td>\n",
       "      <td>No</td>\n",
       "      <td>No</td>\n",
       "    </tr>\n",
       "    <tr>\n",
       "      <th>2</th>\n",
       "      <td>3668-QPYBK</td>\n",
       "      <td>DSL</td>\n",
       "      <td>Yes</td>\n",
       "      <td>Yes</td>\n",
       "      <td>No</td>\n",
       "      <td>No</td>\n",
       "      <td>No</td>\n",
       "      <td>No</td>\n",
       "    </tr>\n",
       "    <tr>\n",
       "      <th>3</th>\n",
       "      <td>7795-CFOCW</td>\n",
       "      <td>DSL</td>\n",
       "      <td>Yes</td>\n",
       "      <td>No</td>\n",
       "      <td>Yes</td>\n",
       "      <td>Yes</td>\n",
       "      <td>No</td>\n",
       "      <td>No</td>\n",
       "    </tr>\n",
       "    <tr>\n",
       "      <th>4</th>\n",
       "      <td>9237-HQITU</td>\n",
       "      <td>Fiber optic</td>\n",
       "      <td>No</td>\n",
       "      <td>No</td>\n",
       "      <td>No</td>\n",
       "      <td>No</td>\n",
       "      <td>No</td>\n",
       "      <td>No</td>\n",
       "    </tr>\n",
       "    <tr>\n",
       "      <th>...</th>\n",
       "      <td>...</td>\n",
       "      <td>...</td>\n",
       "      <td>...</td>\n",
       "      <td>...</td>\n",
       "      <td>...</td>\n",
       "      <td>...</td>\n",
       "      <td>...</td>\n",
       "      <td>...</td>\n",
       "    </tr>\n",
       "    <tr>\n",
       "      <th>5512</th>\n",
       "      <td>6840-RESVB</td>\n",
       "      <td>DSL</td>\n",
       "      <td>Yes</td>\n",
       "      <td>No</td>\n",
       "      <td>Yes</td>\n",
       "      <td>Yes</td>\n",
       "      <td>Yes</td>\n",
       "      <td>Yes</td>\n",
       "    </tr>\n",
       "    <tr>\n",
       "      <th>5513</th>\n",
       "      <td>2234-XADUH</td>\n",
       "      <td>Fiber optic</td>\n",
       "      <td>No</td>\n",
       "      <td>Yes</td>\n",
       "      <td>Yes</td>\n",
       "      <td>No</td>\n",
       "      <td>Yes</td>\n",
       "      <td>Yes</td>\n",
       "    </tr>\n",
       "    <tr>\n",
       "      <th>5514</th>\n",
       "      <td>4801-JZAZL</td>\n",
       "      <td>DSL</td>\n",
       "      <td>Yes</td>\n",
       "      <td>No</td>\n",
       "      <td>No</td>\n",
       "      <td>No</td>\n",
       "      <td>No</td>\n",
       "      <td>No</td>\n",
       "    </tr>\n",
       "    <tr>\n",
       "      <th>5515</th>\n",
       "      <td>8361-LTMKD</td>\n",
       "      <td>Fiber optic</td>\n",
       "      <td>No</td>\n",
       "      <td>No</td>\n",
       "      <td>No</td>\n",
       "      <td>No</td>\n",
       "      <td>No</td>\n",
       "      <td>No</td>\n",
       "    </tr>\n",
       "    <tr>\n",
       "      <th>5516</th>\n",
       "      <td>3186-AJIEK</td>\n",
       "      <td>Fiber optic</td>\n",
       "      <td>Yes</td>\n",
       "      <td>No</td>\n",
       "      <td>Yes</td>\n",
       "      <td>Yes</td>\n",
       "      <td>Yes</td>\n",
       "      <td>Yes</td>\n",
       "    </tr>\n",
       "  </tbody>\n",
       "</table>\n",
       "<p>5517 rows × 8 columns</p>\n",
       "</div>"
      ],
      "text/plain": [
       "      customerID InternetService OnlineSecurity OnlineBackup DeviceProtection  \\\n",
       "0     7590-VHVEG             DSL             No          Yes               No   \n",
       "1     5575-GNVDE             DSL            Yes           No              Yes   \n",
       "2     3668-QPYBK             DSL            Yes          Yes               No   \n",
       "3     7795-CFOCW             DSL            Yes           No              Yes   \n",
       "4     9237-HQITU     Fiber optic             No           No               No   \n",
       "...          ...             ...            ...          ...              ...   \n",
       "5512  6840-RESVB             DSL            Yes           No              Yes   \n",
       "5513  2234-XADUH     Fiber optic             No          Yes              Yes   \n",
       "5514  4801-JZAZL             DSL            Yes           No               No   \n",
       "5515  8361-LTMKD     Fiber optic             No           No               No   \n",
       "5516  3186-AJIEK     Fiber optic            Yes           No              Yes   \n",
       "\n",
       "     TechSupport StreamingTV StreamingMovies  \n",
       "0             No          No              No  \n",
       "1             No          No              No  \n",
       "2             No          No              No  \n",
       "3            Yes          No              No  \n",
       "4             No          No              No  \n",
       "...          ...         ...             ...  \n",
       "5512         Yes         Yes             Yes  \n",
       "5513          No         Yes             Yes  \n",
       "5514          No          No              No  \n",
       "5515          No          No              No  \n",
       "5516         Yes         Yes             Yes  \n",
       "\n",
       "[5517 rows x 8 columns]"
      ]
     },
     "metadata": {},
     "output_type": "display_data"
    },
    {
     "name": "stdout",
     "output_type": "stream",
     "text": [
      "DATAFRAME INFO:\n",
      "<class 'pandas.core.frame.DataFrame'>\n",
      "RangeIndex: 5517 entries, 0 to 5516\n",
      "Data columns (total 8 columns):\n",
      " #   Column            Non-Null Count  Dtype \n",
      "---  ------            --------------  ----- \n",
      " 0   customerID        5517 non-null   object\n",
      " 1   InternetService   5517 non-null   object\n",
      " 2   OnlineSecurity    5517 non-null   object\n",
      " 3   OnlineBackup      5517 non-null   object\n",
      " 4   DeviceProtection  5517 non-null   object\n",
      " 5   TechSupport       5517 non-null   object\n",
      " 6   StreamingTV       5517 non-null   object\n",
      " 7   StreamingMovies   5517 non-null   object\n",
      "dtypes: object(8)\n",
      "memory usage: 344.9+ KB\n",
      "\n",
      "PERCENTAGE OF NULL VALUES:\n",
      "customerID          0.0\n",
      "InternetService     0.0\n",
      "OnlineSecurity      0.0\n",
      "OnlineBackup        0.0\n",
      "DeviceProtection    0.0\n",
      "TechSupport         0.0\n",
      "StreamingTV         0.0\n",
      "StreamingMovies     0.0\n",
      "dtype: float64\n",
      "\n",
      "NUMBER OF DUPLICATED ROWS: 0\n"
     ]
    }
   ],
   "source": [
    "analyze(internet_data)"
   ]
  },
  {
   "cell_type": "markdown",
   "metadata": {},
   "source": [
    "The Internet Data appears to be in good condition, with all columns having the appropriate data types and no null values or duplicate rows present.\n",
    "\n",
    "Aside from the customerID column, we can reasonably assume that the remaining columns contain only 'Yes' or 'No' values. To validate this assumption, let’s examine the number of unique values within the DataFrame."
   ]
  },
  {
   "cell_type": "code",
   "execution_count": 14,
   "metadata": {},
   "outputs": [
    {
     "name": "stdout",
     "output_type": "stream",
     "text": [
      "customerID          5517\n",
      "InternetService        2\n",
      "OnlineSecurity         2\n",
      "OnlineBackup           2\n",
      "DeviceProtection       2\n",
      "TechSupport            2\n",
      "StreamingTV            2\n",
      "StreamingMovies        2\n",
      "dtype: int64\n"
     ]
    }
   ],
   "source": [
    "print(internet_data.nunique())"
   ]
  },
  {
   "cell_type": "markdown",
   "metadata": {},
   "source": [
    "The customerID column contains 5,517 unique values, which aligns perfectly with the 5,517 entries in this specific DataFrame. Additionally, the remaining columns each contain exactly two distinct values.\n",
    "\n",
    "The Internet Data has been successfully preprocessed."
   ]
  },
  {
   "cell_type": "markdown",
   "metadata": {},
   "source": [
    "### Personal Data"
   ]
  },
  {
   "cell_type": "code",
   "execution_count": 15,
   "metadata": {},
   "outputs": [
    {
     "data": {
      "text/html": [
       "<div>\n",
       "<style scoped>\n",
       "    .dataframe tbody tr th:only-of-type {\n",
       "        vertical-align: middle;\n",
       "    }\n",
       "\n",
       "    .dataframe tbody tr th {\n",
       "        vertical-align: top;\n",
       "    }\n",
       "\n",
       "    .dataframe thead th {\n",
       "        text-align: right;\n",
       "    }\n",
       "</style>\n",
       "<table border=\"1\" class=\"dataframe\">\n",
       "  <thead>\n",
       "    <tr style=\"text-align: right;\">\n",
       "      <th></th>\n",
       "      <th>customerID</th>\n",
       "      <th>gender</th>\n",
       "      <th>SeniorCitizen</th>\n",
       "      <th>Partner</th>\n",
       "      <th>Dependents</th>\n",
       "    </tr>\n",
       "  </thead>\n",
       "  <tbody>\n",
       "    <tr>\n",
       "      <th>0</th>\n",
       "      <td>7590-VHVEG</td>\n",
       "      <td>Female</td>\n",
       "      <td>0</td>\n",
       "      <td>Yes</td>\n",
       "      <td>No</td>\n",
       "    </tr>\n",
       "    <tr>\n",
       "      <th>1</th>\n",
       "      <td>5575-GNVDE</td>\n",
       "      <td>Male</td>\n",
       "      <td>0</td>\n",
       "      <td>No</td>\n",
       "      <td>No</td>\n",
       "    </tr>\n",
       "    <tr>\n",
       "      <th>2</th>\n",
       "      <td>3668-QPYBK</td>\n",
       "      <td>Male</td>\n",
       "      <td>0</td>\n",
       "      <td>No</td>\n",
       "      <td>No</td>\n",
       "    </tr>\n",
       "    <tr>\n",
       "      <th>3</th>\n",
       "      <td>7795-CFOCW</td>\n",
       "      <td>Male</td>\n",
       "      <td>0</td>\n",
       "      <td>No</td>\n",
       "      <td>No</td>\n",
       "    </tr>\n",
       "    <tr>\n",
       "      <th>4</th>\n",
       "      <td>9237-HQITU</td>\n",
       "      <td>Female</td>\n",
       "      <td>0</td>\n",
       "      <td>No</td>\n",
       "      <td>No</td>\n",
       "    </tr>\n",
       "    <tr>\n",
       "      <th>...</th>\n",
       "      <td>...</td>\n",
       "      <td>...</td>\n",
       "      <td>...</td>\n",
       "      <td>...</td>\n",
       "      <td>...</td>\n",
       "    </tr>\n",
       "    <tr>\n",
       "      <th>7038</th>\n",
       "      <td>6840-RESVB</td>\n",
       "      <td>Male</td>\n",
       "      <td>0</td>\n",
       "      <td>Yes</td>\n",
       "      <td>Yes</td>\n",
       "    </tr>\n",
       "    <tr>\n",
       "      <th>7039</th>\n",
       "      <td>2234-XADUH</td>\n",
       "      <td>Female</td>\n",
       "      <td>0</td>\n",
       "      <td>Yes</td>\n",
       "      <td>Yes</td>\n",
       "    </tr>\n",
       "    <tr>\n",
       "      <th>7040</th>\n",
       "      <td>4801-JZAZL</td>\n",
       "      <td>Female</td>\n",
       "      <td>0</td>\n",
       "      <td>Yes</td>\n",
       "      <td>Yes</td>\n",
       "    </tr>\n",
       "    <tr>\n",
       "      <th>7041</th>\n",
       "      <td>8361-LTMKD</td>\n",
       "      <td>Male</td>\n",
       "      <td>1</td>\n",
       "      <td>Yes</td>\n",
       "      <td>No</td>\n",
       "    </tr>\n",
       "    <tr>\n",
       "      <th>7042</th>\n",
       "      <td>3186-AJIEK</td>\n",
       "      <td>Male</td>\n",
       "      <td>0</td>\n",
       "      <td>No</td>\n",
       "      <td>No</td>\n",
       "    </tr>\n",
       "  </tbody>\n",
       "</table>\n",
       "<p>7043 rows × 5 columns</p>\n",
       "</div>"
      ],
      "text/plain": [
       "      customerID  gender  SeniorCitizen Partner Dependents\n",
       "0     7590-VHVEG  Female              0     Yes         No\n",
       "1     5575-GNVDE    Male              0      No         No\n",
       "2     3668-QPYBK    Male              0      No         No\n",
       "3     7795-CFOCW    Male              0      No         No\n",
       "4     9237-HQITU  Female              0      No         No\n",
       "...          ...     ...            ...     ...        ...\n",
       "7038  6840-RESVB    Male              0     Yes        Yes\n",
       "7039  2234-XADUH  Female              0     Yes        Yes\n",
       "7040  4801-JZAZL  Female              0     Yes        Yes\n",
       "7041  8361-LTMKD    Male              1     Yes         No\n",
       "7042  3186-AJIEK    Male              0      No         No\n",
       "\n",
       "[7043 rows x 5 columns]"
      ]
     },
     "metadata": {},
     "output_type": "display_data"
    },
    {
     "name": "stdout",
     "output_type": "stream",
     "text": [
      "DATAFRAME INFO:\n",
      "<class 'pandas.core.frame.DataFrame'>\n",
      "RangeIndex: 7043 entries, 0 to 7042\n",
      "Data columns (total 5 columns):\n",
      " #   Column         Non-Null Count  Dtype \n",
      "---  ------         --------------  ----- \n",
      " 0   customerID     7043 non-null   object\n",
      " 1   gender         7043 non-null   object\n",
      " 2   SeniorCitizen  7043 non-null   int64 \n",
      " 3   Partner        7043 non-null   object\n",
      " 4   Dependents     7043 non-null   object\n",
      "dtypes: int64(1), object(4)\n",
      "memory usage: 275.2+ KB\n",
      "\n",
      "PERCENTAGE OF NULL VALUES:\n",
      "customerID       0.0\n",
      "gender           0.0\n",
      "SeniorCitizen    0.0\n",
      "Partner          0.0\n",
      "Dependents       0.0\n",
      "dtype: float64\n",
      "\n",
      "NUMBER OF DUPLICATED ROWS: 0\n"
     ]
    }
   ],
   "source": [
    "analyze(personal_data)"
   ]
  },
  {
   "cell_type": "markdown",
   "metadata": {},
   "source": [
    "The Personal Data is in good condition, with no null values or duplicate rows. However, I would like to modify the values in the SeniorCitizen feature, which currently uses 1s and 0s to indicate \"Yes\" or \"No,\" respectively. To ensure consistency with the rest of the dataset, I propose changing these values to align with the format used in other columns.\n",
    "\n",
    "Before making this adjustment, let's analyze the distribution of 1s and 0s in the column. We can reasonably assume that the majority of customers are not senior citizens, so we will examine the distribution of these values and assign 0 to the category with the highest representation."
   ]
  },
  {
   "cell_type": "code",
   "execution_count": 16,
   "metadata": {},
   "outputs": [
    {
     "data": {
      "image/png": "[encoded data removed]",
      "text/plain": [
       "<Figure size 1000x600 with 1 Axes>"
      ]
     },
     "metadata": {},
     "output_type": "display_data"
    }
   ],
   "source": [
    "# Count the occurrences of each class in the SeniorCitizen column\n",
    "sc_value_counts = personal_data['SeniorCitizen'].value_counts()\n",
    "\n",
    "# Create a pie chart\n",
    "plt.figure(figsize=(10, 6))\n",
    "plt.pie(sc_value_counts, labels=sc_value_counts.index, autopct='%1.1f%%')\n",
    "plt.title('Distribution of Senior Citizens (0s vs 1s)')\n",
    "plt.show()"
   ]
  },
  {
   "cell_type": "markdown",
   "metadata": {},
   "source": [
    "The pie chart illustrates the distribution of 0s and 1s in the SeniorCitizen column, revealing that 83.8% of the entries correspond to 0, while 16.2% represent 1. We can assume that the majority of the population consists of non-senior citizens. Therefore, we can associate the 0s with non-senior citizens for further analysis."
   ]
  },
  {
   "cell_type": "code",
   "execution_count": 17,
   "metadata": {},
   "outputs": [],
   "source": [
    "personal_data['SeniorCitizen'] = personal_data['SeniorCitizen'].map({1: 'Yes', 0: 'No'})"
   ]
  },
  {
   "cell_type": "markdown",
   "metadata": {},
   "source": [
    "Now, let’s examine the number of unique values within this dataset. Aside from the customerID column, we can anticipate that each feature column will contain only two unique values."
   ]
  },
  {
   "cell_type": "code",
   "execution_count": 18,
   "metadata": {},
   "outputs": [
    {
     "name": "stdout",
     "output_type": "stream",
     "text": [
      "customerID       7043\n",
      "gender              2\n",
      "SeniorCitizen       2\n",
      "Partner             2\n",
      "Dependents          2\n",
      "dtype: int64\n"
     ]
    }
   ],
   "source": [
    "print(personal_data.nunique())"
   ]
  },
  {
   "cell_type": "markdown",
   "metadata": {},
   "source": [
    "Our assumptions are correct. The feature columns only contain \"Yes\" or \"No\" values."
   ]
  },
  {
   "cell_type": "code",
   "execution_count": 19,
   "metadata": {},
   "outputs": [
    {
     "name": "stdout",
     "output_type": "stream",
     "text": [
      "<class 'pandas.core.frame.DataFrame'>\n",
      "RangeIndex: 7043 entries, 0 to 7042\n",
      "Data columns (total 5 columns):\n",
      " #   Column         Non-Null Count  Dtype \n",
      "---  ------         --------------  ----- \n",
      " 0   customerID     7043 non-null   object\n",
      " 1   Gender         7043 non-null   object\n",
      " 2   SeniorCitizen  7043 non-null   object\n",
      " 3   Partner        7043 non-null   object\n",
      " 4   Dependents     7043 non-null   object\n",
      "dtypes: object(5)\n",
      "memory usage: 275.2+ KB\n",
      "None\n"
     ]
    }
   ],
   "source": [
    "# Rename 'gender' column to \"Gender\" to follow consistent naming convention\n",
    "personal_data = personal_data.rename(columns={'gender': 'Gender'})\n",
    "\n",
    "print(personal_data.info())"
   ]
  },
  {
   "cell_type": "markdown",
   "metadata": {},
   "source": [
    "The Personal Data has been successfully preprocessed."
   ]
  },
  {
   "cell_type": "markdown",
   "metadata": {},
   "source": [
    "### Phone Data"
   ]
  },
  {
   "cell_type": "code",
   "execution_count": 20,
   "metadata": {},
   "outputs": [
    {
     "data": {
      "text/html": [
       "<div>\n",
       "<style scoped>\n",
       "    .dataframe tbody tr th:only-of-type {\n",
       "        vertical-align: middle;\n",
       "    }\n",
       "\n",
       "    .dataframe tbody tr th {\n",
       "        vertical-align: top;\n",
       "    }\n",
       "\n",
       "    .dataframe thead th {\n",
       "        text-align: right;\n",
       "    }\n",
       "</style>\n",
       "<table border=\"1\" class=\"dataframe\">\n",
       "  <thead>\n",
       "    <tr style=\"text-align: right;\">\n",
       "      <th></th>\n",
       "      <th>customerID</th>\n",
       "      <th>MultipleLines</th>\n",
       "    </tr>\n",
       "  </thead>\n",
       "  <tbody>\n",
       "    <tr>\n",
       "      <th>0</th>\n",
       "      <td>5575-GNVDE</td>\n",
       "      <td>No</td>\n",
       "    </tr>\n",
       "    <tr>\n",
       "      <th>1</th>\n",
       "      <td>3668-QPYBK</td>\n",
       "      <td>No</td>\n",
       "    </tr>\n",
       "    <tr>\n",
       "      <th>2</th>\n",
       "      <td>9237-HQITU</td>\n",
       "      <td>No</td>\n",
       "    </tr>\n",
       "    <tr>\n",
       "      <th>3</th>\n",
       "      <td>9305-CDSKC</td>\n",
       "      <td>Yes</td>\n",
       "    </tr>\n",
       "    <tr>\n",
       "      <th>4</th>\n",
       "      <td>1452-KIOVK</td>\n",
       "      <td>Yes</td>\n",
       "    </tr>\n",
       "    <tr>\n",
       "      <th>...</th>\n",
       "      <td>...</td>\n",
       "      <td>...</td>\n",
       "    </tr>\n",
       "    <tr>\n",
       "      <th>6356</th>\n",
       "      <td>2569-WGERO</td>\n",
       "      <td>No</td>\n",
       "    </tr>\n",
       "    <tr>\n",
       "      <th>6357</th>\n",
       "      <td>6840-RESVB</td>\n",
       "      <td>Yes</td>\n",
       "    </tr>\n",
       "    <tr>\n",
       "      <th>6358</th>\n",
       "      <td>2234-XADUH</td>\n",
       "      <td>Yes</td>\n",
       "    </tr>\n",
       "    <tr>\n",
       "      <th>6359</th>\n",
       "      <td>8361-LTMKD</td>\n",
       "      <td>Yes</td>\n",
       "    </tr>\n",
       "    <tr>\n",
       "      <th>6360</th>\n",
       "      <td>3186-AJIEK</td>\n",
       "      <td>No</td>\n",
       "    </tr>\n",
       "  </tbody>\n",
       "</table>\n",
       "<p>6361 rows × 2 columns</p>\n",
       "</div>"
      ],
      "text/plain": [
       "      customerID MultipleLines\n",
       "0     5575-GNVDE            No\n",
       "1     3668-QPYBK            No\n",
       "2     9237-HQITU            No\n",
       "3     9305-CDSKC           Yes\n",
       "4     1452-KIOVK           Yes\n",
       "...          ...           ...\n",
       "6356  2569-WGERO            No\n",
       "6357  6840-RESVB           Yes\n",
       "6358  2234-XADUH           Yes\n",
       "6359  8361-LTMKD           Yes\n",
       "6360  3186-AJIEK            No\n",
       "\n",
       "[6361 rows x 2 columns]"
      ]
     },
     "metadata": {},
     "output_type": "display_data"
    },
    {
     "name": "stdout",
     "output_type": "stream",
     "text": [
      "DATAFRAME INFO:\n",
      "<class 'pandas.core.frame.DataFrame'>\n",
      "RangeIndex: 6361 entries, 0 to 6360\n",
      "Data columns (total 2 columns):\n",
      " #   Column         Non-Null Count  Dtype \n",
      "---  ------         --------------  ----- \n",
      " 0   customerID     6361 non-null   object\n",
      " 1   MultipleLines  6361 non-null   object\n",
      "dtypes: object(2)\n",
      "memory usage: 99.5+ KB\n",
      "\n",
      "PERCENTAGE OF NULL VALUES:\n",
      "customerID       0.0\n",
      "MultipleLines    0.0\n",
      "dtype: float64\n",
      "\n",
      "NUMBER OF DUPLICATED ROWS: 0\n"
     ]
    }
   ],
   "source": [
    "analyze(phone_data)"
   ]
  },
  {
   "cell_type": "markdown",
   "metadata": {},
   "source": [
    "The Phone Data is in good condition, with no null values or duplicate rows detected.\n",
    "\n",
    "To further validate the quality of the data, let’s examine the number of unique values in each column."
   ]
  },
  {
   "cell_type": "code",
   "execution_count": 21,
   "metadata": {},
   "outputs": [
    {
     "name": "stdout",
     "output_type": "stream",
     "text": [
      "customerID       6361\n",
      "MultipleLines       2\n",
      "dtype: int64\n"
     ]
    }
   ],
   "source": [
    "print(phone_data.nunique())"
   ]
  },
  {
   "cell_type": "markdown",
   "metadata": {},
   "source": [
    "The Phone Data has been successfully preprocessed."
   ]
  },
  {
   "cell_type": "markdown",
   "metadata": {},
   "source": [
    "### Merged Data"
   ]
  },
  {
   "cell_type": "markdown",
   "metadata": {},
   "source": [
    "With all the dataframes individually preprocessed, we can now proceed to merge them into a Master DataFrame, providing a more comprehensive view of the data."
   ]
  },
  {
   "cell_type": "code",
   "execution_count": 22,
   "metadata": {},
   "outputs": [
    {
     "data": {
      "text/html": [
       "<div>\n",
       "<style scoped>\n",
       "    .dataframe tbody tr th:only-of-type {\n",
       "        vertical-align: middle;\n",
       "    }\n",
       "\n",
       "    .dataframe tbody tr th {\n",
       "        vertical-align: top;\n",
       "    }\n",
       "\n",
       "    .dataframe thead th {\n",
       "        text-align: right;\n",
       "    }\n",
       "</style>\n",
       "<table border=\"1\" class=\"dataframe\">\n",
       "  <thead>\n",
       "    <tr style=\"text-align: right;\">\n",
       "      <th></th>\n",
       "      <th>customerID</th>\n",
       "      <th>BeginDate</th>\n",
       "      <th>EndDate</th>\n",
       "      <th>Type</th>\n",
       "      <th>PaperlessBilling</th>\n",
       "      <th>PaymentMethod</th>\n",
       "      <th>MonthlyCharges</th>\n",
       "      <th>TotalCharges</th>\n",
       "      <th>InternetService</th>\n",
       "      <th>OnlineSecurity</th>\n",
       "      <th>OnlineBackup</th>\n",
       "      <th>DeviceProtection</th>\n",
       "      <th>TechSupport</th>\n",
       "      <th>StreamingTV</th>\n",
       "      <th>StreamingMovies</th>\n",
       "      <th>Gender</th>\n",
       "      <th>SeniorCitizen</th>\n",
       "      <th>Partner</th>\n",
       "      <th>Dependents</th>\n",
       "      <th>MultipleLines</th>\n",
       "    </tr>\n",
       "  </thead>\n",
       "  <tbody>\n",
       "    <tr>\n",
       "      <th>0</th>\n",
       "      <td>7590-VHVEG</td>\n",
       "      <td>2020-01-01</td>\n",
       "      <td>2020-02-01</td>\n",
       "      <td>Month-to-month</td>\n",
       "      <td>Yes</td>\n",
       "      <td>Electronic check</td>\n",
       "      <td>29.85</td>\n",
       "      <td>29.85</td>\n",
       "      <td>DSL</td>\n",
       "      <td>No</td>\n",
       "      <td>Yes</td>\n",
       "      <td>No</td>\n",
       "      <td>No</td>\n",
       "      <td>No</td>\n",
       "      <td>No</td>\n",
       "      <td>Female</td>\n",
       "      <td>No</td>\n",
       "      <td>Yes</td>\n",
       "      <td>No</td>\n",
       "      <td>NaN</td>\n",
       "    </tr>\n",
       "    <tr>\n",
       "      <th>1</th>\n",
       "      <td>5575-GNVDE</td>\n",
       "      <td>2017-04-01</td>\n",
       "      <td>2020-02-01</td>\n",
       "      <td>One year</td>\n",
       "      <td>No</td>\n",
       "      <td>Mailed check</td>\n",
       "      <td>56.95</td>\n",
       "      <td>1889.50</td>\n",
       "      <td>DSL</td>\n",
       "      <td>Yes</td>\n",
       "      <td>No</td>\n",
       "      <td>Yes</td>\n",
       "      <td>No</td>\n",
       "      <td>No</td>\n",
       "      <td>No</td>\n",
       "      <td>Male</td>\n",
       "      <td>No</td>\n",
       "      <td>No</td>\n",
       "      <td>No</td>\n",
       "      <td>No</td>\n",
       "    </tr>\n",
       "    <tr>\n",
       "      <th>2</th>\n",
       "      <td>3668-QPYBK</td>\n",
       "      <td>2019-10-01</td>\n",
       "      <td>2019-12-01</td>\n",
       "      <td>Month-to-month</td>\n",
       "      <td>Yes</td>\n",
       "      <td>Mailed check</td>\n",
       "      <td>53.85</td>\n",
       "      <td>108.15</td>\n",
       "      <td>DSL</td>\n",
       "      <td>Yes</td>\n",
       "      <td>Yes</td>\n",
       "      <td>No</td>\n",
       "      <td>No</td>\n",
       "      <td>No</td>\n",
       "      <td>No</td>\n",
       "      <td>Male</td>\n",
       "      <td>No</td>\n",
       "      <td>No</td>\n",
       "      <td>No</td>\n",
       "      <td>No</td>\n",
       "    </tr>\n",
       "    <tr>\n",
       "      <th>3</th>\n",
       "      <td>7795-CFOCW</td>\n",
       "      <td>2016-05-01</td>\n",
       "      <td>2020-02-01</td>\n",
       "      <td>One year</td>\n",
       "      <td>No</td>\n",
       "      <td>Bank transfer</td>\n",
       "      <td>42.30</td>\n",
       "      <td>1840.75</td>\n",
       "      <td>DSL</td>\n",
       "      <td>Yes</td>\n",
       "      <td>No</td>\n",
       "      <td>Yes</td>\n",
       "      <td>Yes</td>\n",
       "      <td>No</td>\n",
       "      <td>No</td>\n",
       "      <td>Male</td>\n",
       "      <td>No</td>\n",
       "      <td>No</td>\n",
       "      <td>No</td>\n",
       "      <td>NaN</td>\n",
       "    </tr>\n",
       "    <tr>\n",
       "      <th>4</th>\n",
       "      <td>9237-HQITU</td>\n",
       "      <td>2019-09-01</td>\n",
       "      <td>2019-11-01</td>\n",
       "      <td>Month-to-month</td>\n",
       "      <td>Yes</td>\n",
       "      <td>Electronic check</td>\n",
       "      <td>70.70</td>\n",
       "      <td>151.65</td>\n",
       "      <td>Fiber optic</td>\n",
       "      <td>No</td>\n",
       "      <td>No</td>\n",
       "      <td>No</td>\n",
       "      <td>No</td>\n",
       "      <td>No</td>\n",
       "      <td>No</td>\n",
       "      <td>Female</td>\n",
       "      <td>No</td>\n",
       "      <td>No</td>\n",
       "      <td>No</td>\n",
       "      <td>No</td>\n",
       "    </tr>\n",
       "    <tr>\n",
       "      <th>...</th>\n",
       "      <td>...</td>\n",
       "      <td>...</td>\n",
       "      <td>...</td>\n",
       "      <td>...</td>\n",
       "      <td>...</td>\n",
       "      <td>...</td>\n",
       "      <td>...</td>\n",
       "      <td>...</td>\n",
       "      <td>...</td>\n",
       "      <td>...</td>\n",
       "      <td>...</td>\n",
       "      <td>...</td>\n",
       "      <td>...</td>\n",
       "      <td>...</td>\n",
       "      <td>...</td>\n",
       "      <td>...</td>\n",
       "      <td>...</td>\n",
       "      <td>...</td>\n",
       "      <td>...</td>\n",
       "      <td>...</td>\n",
       "    </tr>\n",
       "    <tr>\n",
       "      <th>7038</th>\n",
       "      <td>6840-RESVB</td>\n",
       "      <td>2018-02-01</td>\n",
       "      <td>2020-02-01</td>\n",
       "      <td>One year</td>\n",
       "      <td>Yes</td>\n",
       "      <td>Mailed check</td>\n",
       "      <td>84.80</td>\n",
       "      <td>1990.50</td>\n",
       "      <td>DSL</td>\n",
       "      <td>Yes</td>\n",
       "      <td>No</td>\n",
       "      <td>Yes</td>\n",
       "      <td>Yes</td>\n",
       "      <td>Yes</td>\n",
       "      <td>Yes</td>\n",
       "      <td>Male</td>\n",
       "      <td>No</td>\n",
       "      <td>Yes</td>\n",
       "      <td>Yes</td>\n",
       "      <td>Yes</td>\n",
       "    </tr>\n",
       "    <tr>\n",
       "      <th>7039</th>\n",
       "      <td>2234-XADUH</td>\n",
       "      <td>2014-02-01</td>\n",
       "      <td>2020-02-01</td>\n",
       "      <td>One year</td>\n",
       "      <td>Yes</td>\n",
       "      <td>Credit card</td>\n",
       "      <td>103.20</td>\n",
       "      <td>7362.90</td>\n",
       "      <td>Fiber optic</td>\n",
       "      <td>No</td>\n",
       "      <td>Yes</td>\n",
       "      <td>Yes</td>\n",
       "      <td>No</td>\n",
       "      <td>Yes</td>\n",
       "      <td>Yes</td>\n",
       "      <td>Female</td>\n",
       "      <td>No</td>\n",
       "      <td>Yes</td>\n",
       "      <td>Yes</td>\n",
       "      <td>Yes</td>\n",
       "    </tr>\n",
       "    <tr>\n",
       "      <th>7040</th>\n",
       "      <td>4801-JZAZL</td>\n",
       "      <td>2019-03-01</td>\n",
       "      <td>2020-02-01</td>\n",
       "      <td>Month-to-month</td>\n",
       "      <td>Yes</td>\n",
       "      <td>Electronic check</td>\n",
       "      <td>29.60</td>\n",
       "      <td>346.45</td>\n",
       "      <td>DSL</td>\n",
       "      <td>Yes</td>\n",
       "      <td>No</td>\n",
       "      <td>No</td>\n",
       "      <td>No</td>\n",
       "      <td>No</td>\n",
       "      <td>No</td>\n",
       "      <td>Female</td>\n",
       "      <td>No</td>\n",
       "      <td>Yes</td>\n",
       "      <td>Yes</td>\n",
       "      <td>NaN</td>\n",
       "    </tr>\n",
       "    <tr>\n",
       "      <th>7041</th>\n",
       "      <td>8361-LTMKD</td>\n",
       "      <td>2019-07-01</td>\n",
       "      <td>2019-11-01</td>\n",
       "      <td>Month-to-month</td>\n",
       "      <td>Yes</td>\n",
       "      <td>Mailed check</td>\n",
       "      <td>74.40</td>\n",
       "      <td>306.60</td>\n",
       "      <td>Fiber optic</td>\n",
       "      <td>No</td>\n",
       "      <td>No</td>\n",
       "      <td>No</td>\n",
       "      <td>No</td>\n",
       "      <td>No</td>\n",
       "      <td>No</td>\n",
       "      <td>Male</td>\n",
       "      <td>Yes</td>\n",
       "      <td>Yes</td>\n",
       "      <td>No</td>\n",
       "      <td>Yes</td>\n",
       "    </tr>\n",
       "    <tr>\n",
       "      <th>7042</th>\n",
       "      <td>3186-AJIEK</td>\n",
       "      <td>2014-08-01</td>\n",
       "      <td>2020-02-01</td>\n",
       "      <td>Two year</td>\n",
       "      <td>Yes</td>\n",
       "      <td>Bank transfer</td>\n",
       "      <td>105.65</td>\n",
       "      <td>6844.50</td>\n",
       "      <td>Fiber optic</td>\n",
       "      <td>Yes</td>\n",
       "      <td>No</td>\n",
       "      <td>Yes</td>\n",
       "      <td>Yes</td>\n",
       "      <td>Yes</td>\n",
       "      <td>Yes</td>\n",
       "      <td>Male</td>\n",
       "      <td>No</td>\n",
       "      <td>No</td>\n",
       "      <td>No</td>\n",
       "      <td>No</td>\n",
       "    </tr>\n",
       "  </tbody>\n",
       "</table>\n",
       "<p>7043 rows × 20 columns</p>\n",
       "</div>"
      ],
      "text/plain": [
       "      customerID  BeginDate    EndDate            Type PaperlessBilling  \\\n",
       "0     7590-VHVEG 2020-01-01 2020-02-01  Month-to-month              Yes   \n",
       "1     5575-GNVDE 2017-04-01 2020-02-01        One year               No   \n",
       "2     3668-QPYBK 2019-10-01 2019-12-01  Month-to-month              Yes   \n",
       "3     7795-CFOCW 2016-05-01 2020-02-01        One year               No   \n",
       "4     9237-HQITU 2019-09-01 2019-11-01  Month-to-month              Yes   \n",
       "...          ...        ...        ...             ...              ...   \n",
       "7038  6840-RESVB 2018-02-01 2020-02-01        One year              Yes   \n",
       "7039  2234-XADUH 2014-02-01 2020-02-01        One year              Yes   \n",
       "7040  4801-JZAZL 2019-03-01 2020-02-01  Month-to-month              Yes   \n",
       "7041  8361-LTMKD 2019-07-01 2019-11-01  Month-to-month              Yes   \n",
       "7042  3186-AJIEK 2014-08-01 2020-02-01        Two year              Yes   \n",
       "\n",
       "         PaymentMethod  MonthlyCharges  TotalCharges InternetService  \\\n",
       "0     Electronic check           29.85         29.85             DSL   \n",
       "1         Mailed check           56.95       1889.50             DSL   \n",
       "2         Mailed check           53.85        108.15             DSL   \n",
       "3        Bank transfer           42.30       1840.75             DSL   \n",
       "4     Electronic check           70.70        151.65     Fiber optic   \n",
       "...                ...             ...           ...             ...   \n",
       "7038      Mailed check           84.80       1990.50             DSL   \n",
       "7039       Credit card          103.20       7362.90     Fiber optic   \n",
       "7040  Electronic check           29.60        346.45             DSL   \n",
       "7041      Mailed check           74.40        306.60     Fiber optic   \n",
       "7042     Bank transfer          105.65       6844.50     Fiber optic   \n",
       "\n",
       "     OnlineSecurity OnlineBackup DeviceProtection TechSupport StreamingTV  \\\n",
       "0                No          Yes               No          No          No   \n",
       "1               Yes           No              Yes          No          No   \n",
       "2               Yes          Yes               No          No          No   \n",
       "3               Yes           No              Yes         Yes          No   \n",
       "4                No           No               No          No          No   \n",
       "...             ...          ...              ...         ...         ...   \n",
       "7038            Yes           No              Yes         Yes         Yes   \n",
       "7039             No          Yes              Yes          No         Yes   \n",
       "7040            Yes           No               No          No          No   \n",
       "7041             No           No               No          No          No   \n",
       "7042            Yes           No              Yes         Yes         Yes   \n",
       "\n",
       "     StreamingMovies  Gender SeniorCitizen Partner Dependents MultipleLines  \n",
       "0                 No  Female            No     Yes         No           NaN  \n",
       "1                 No    Male            No      No         No            No  \n",
       "2                 No    Male            No      No         No            No  \n",
       "3                 No    Male            No      No         No           NaN  \n",
       "4                 No  Female            No      No         No            No  \n",
       "...              ...     ...           ...     ...        ...           ...  \n",
       "7038             Yes    Male            No     Yes        Yes           Yes  \n",
       "7039             Yes  Female            No     Yes        Yes           Yes  \n",
       "7040              No  Female            No     Yes        Yes           NaN  \n",
       "7041              No    Male           Yes     Yes         No           Yes  \n",
       "7042             Yes    Male            No      No         No            No  \n",
       "\n",
       "[7043 rows x 20 columns]"
      ]
     },
     "metadata": {},
     "output_type": "display_data"
    },
    {
     "name": "stdout",
     "output_type": "stream",
     "text": [
      "DATAFRAME INFO:\n",
      "<class 'pandas.core.frame.DataFrame'>\n",
      "Int64Index: 7043 entries, 0 to 7042\n",
      "Data columns (total 20 columns):\n",
      " #   Column            Non-Null Count  Dtype         \n",
      "---  ------            --------------  -----         \n",
      " 0   customerID        7043 non-null   object        \n",
      " 1   BeginDate         7043 non-null   datetime64[ns]\n",
      " 2   EndDate           7043 non-null   datetime64[ns]\n",
      " 3   Type              7043 non-null   object        \n",
      " 4   PaperlessBilling  7043 non-null   object        \n",
      " 5   PaymentMethod     7043 non-null   object        \n",
      " 6   MonthlyCharges    7043 non-null   float64       \n",
      " 7   TotalCharges      7043 non-null   float64       \n",
      " 8   InternetService   5517 non-null   object        \n",
      " 9   OnlineSecurity    5517 non-null   object        \n",
      " 10  OnlineBackup      5517 non-null   object        \n",
      " 11  DeviceProtection  5517 non-null   object        \n",
      " 12  TechSupport       5517 non-null   object        \n",
      " 13  StreamingTV       5517 non-null   object        \n",
      " 14  StreamingMovies   5517 non-null   object        \n",
      " 15  Gender            7043 non-null   object        \n",
      " 16  SeniorCitizen     7043 non-null   object        \n",
      " 17  Partner           7043 non-null   object        \n",
      " 18  Dependents        7043 non-null   object        \n",
      " 19  MultipleLines     6361 non-null   object        \n",
      "dtypes: datetime64[ns](2), float64(2), object(16)\n",
      "memory usage: 1.1+ MB\n",
      "\n",
      "PERCENTAGE OF NULL VALUES:\n",
      "customerID           0.000000\n",
      "BeginDate            0.000000\n",
      "EndDate              0.000000\n",
      "Type                 0.000000\n",
      "PaperlessBilling     0.000000\n",
      "PaymentMethod        0.000000\n",
      "MonthlyCharges       0.000000\n",
      "TotalCharges         0.000000\n",
      "InternetService     21.666903\n",
      "OnlineSecurity      21.666903\n",
      "OnlineBackup        21.666903\n",
      "DeviceProtection    21.666903\n",
      "TechSupport         21.666903\n",
      "StreamingTV         21.666903\n",
      "StreamingMovies     21.666903\n",
      "Gender               0.000000\n",
      "SeniorCitizen        0.000000\n",
      "Partner              0.000000\n",
      "Dependents           0.000000\n",
      "MultipleLines        9.683374\n",
      "dtype: float64\n",
      "\n",
      "NUMBER OF DUPLICATED ROWS: 0\n"
     ]
    }
   ],
   "source": [
    "# List of DataFrames to merge\n",
    "dfs = [contract_data, internet_data, personal_data, phone_data]\n",
    "\n",
    "# Merge all DataFrames on 'customer_id'\n",
    "df = reduce(lambda left, right: pd.merge(left, right, on='customerID', how='outer'), dfs)\n",
    "\n",
    "analyze(df)"
   ]
  },
  {
   "cell_type": "markdown",
   "metadata": {},
   "source": [
    "After merging the data, we identified some missing values across several columns. Approximately 21.67% of the data is missing from the Internet-related columns, which we will fill with 'No'. \n",
    "\n",
    "Additionally, we will fill the 9.68% of missing data in the MultipleLines column with 'No' as well."
   ]
  },
  {
   "cell_type": "code",
   "execution_count": 23,
   "metadata": {},
   "outputs": [],
   "source": [
    "df = df.replace(np.nan, 'No')"
   ]
  },
  {
   "cell_type": "markdown",
   "metadata": {},
   "source": [
    "We can further enhance the Master DataFrame by creating a target column called Churned, which will indicate whether or not a client has churned. This will be based on observations where the EndDate is '2020-02-01.'"
   ]
  },
  {
   "cell_type": "code",
   "execution_count": 24,
   "metadata": {},
   "outputs": [],
   "source": [
    "churned = (df['EndDate'] != '2020-02-01').astype(int)\n",
    "df.insert(1, 'Churned', churned)\n",
    "\n",
    "# Replace numerical values in the Churned column with corresponding labels for better readability\n",
    "df['Churned'] = df['Churned'].replace(0, 'No')\n",
    "df['Churned'] = df['Churned'].replace(1, 'Yes')"
   ]
  },
  {
   "cell_type": "markdown",
   "metadata": {},
   "source": [
    "We will also introduce a feature called Duration(Days), which will indicate how many days a client has remained on the plan."
   ]
  },
  {
   "cell_type": "code",
   "execution_count": 25,
   "metadata": {},
   "outputs": [
    {
     "data": {
      "text/html": [
       "<div>\n",
       "<style scoped>\n",
       "    .dataframe tbody tr th:only-of-type {\n",
       "        vertical-align: middle;\n",
       "    }\n",
       "\n",
       "    .dataframe tbody tr th {\n",
       "        vertical-align: top;\n",
       "    }\n",
       "\n",
       "    .dataframe thead th {\n",
       "        text-align: right;\n",
       "    }\n",
       "</style>\n",
       "<table border=\"1\" class=\"dataframe\">\n",
       "  <thead>\n",
       "    <tr style=\"text-align: right;\">\n",
       "      <th></th>\n",
       "      <th>customerID</th>\n",
       "      <th>Churned</th>\n",
       "      <th>BeginDate</th>\n",
       "      <th>EndDate</th>\n",
       "      <th>Duration(Days)</th>\n",
       "      <th>Type</th>\n",
       "      <th>PaperlessBilling</th>\n",
       "      <th>PaymentMethod</th>\n",
       "      <th>MonthlyCharges</th>\n",
       "      <th>TotalCharges</th>\n",
       "      <th>...</th>\n",
       "      <th>OnlineBackup</th>\n",
       "      <th>DeviceProtection</th>\n",
       "      <th>TechSupport</th>\n",
       "      <th>StreamingTV</th>\n",
       "      <th>StreamingMovies</th>\n",
       "      <th>Gender</th>\n",
       "      <th>SeniorCitizen</th>\n",
       "      <th>Partner</th>\n",
       "      <th>Dependents</th>\n",
       "      <th>MultipleLines</th>\n",
       "    </tr>\n",
       "  </thead>\n",
       "  <tbody>\n",
       "    <tr>\n",
       "      <th>0</th>\n",
       "      <td>7590-VHVEG</td>\n",
       "      <td>No</td>\n",
       "      <td>2020-01-01</td>\n",
       "      <td>2020-02-01</td>\n",
       "      <td>31</td>\n",
       "      <td>Month-to-month</td>\n",
       "      <td>Yes</td>\n",
       "      <td>Electronic check</td>\n",
       "      <td>29.85</td>\n",
       "      <td>29.85</td>\n",
       "      <td>...</td>\n",
       "      <td>Yes</td>\n",
       "      <td>No</td>\n",
       "      <td>No</td>\n",
       "      <td>No</td>\n",
       "      <td>No</td>\n",
       "      <td>Female</td>\n",
       "      <td>No</td>\n",
       "      <td>Yes</td>\n",
       "      <td>No</td>\n",
       "      <td>No</td>\n",
       "    </tr>\n",
       "    <tr>\n",
       "      <th>1</th>\n",
       "      <td>5575-GNVDE</td>\n",
       "      <td>No</td>\n",
       "      <td>2017-04-01</td>\n",
       "      <td>2020-02-01</td>\n",
       "      <td>1036</td>\n",
       "      <td>One year</td>\n",
       "      <td>No</td>\n",
       "      <td>Mailed check</td>\n",
       "      <td>56.95</td>\n",
       "      <td>1889.50</td>\n",
       "      <td>...</td>\n",
       "      <td>No</td>\n",
       "      <td>Yes</td>\n",
       "      <td>No</td>\n",
       "      <td>No</td>\n",
       "      <td>No</td>\n",
       "      <td>Male</td>\n",
       "      <td>No</td>\n",
       "      <td>No</td>\n",
       "      <td>No</td>\n",
       "      <td>No</td>\n",
       "    </tr>\n",
       "    <tr>\n",
       "      <th>2</th>\n",
       "      <td>3668-QPYBK</td>\n",
       "      <td>Yes</td>\n",
       "      <td>2019-10-01</td>\n",
       "      <td>2019-12-01</td>\n",
       "      <td>61</td>\n",
       "      <td>Month-to-month</td>\n",
       "      <td>Yes</td>\n",
       "      <td>Mailed check</td>\n",
       "      <td>53.85</td>\n",
       "      <td>108.15</td>\n",
       "      <td>...</td>\n",
       "      <td>Yes</td>\n",
       "      <td>No</td>\n",
       "      <td>No</td>\n",
       "      <td>No</td>\n",
       "      <td>No</td>\n",
       "      <td>Male</td>\n",
       "      <td>No</td>\n",
       "      <td>No</td>\n",
       "      <td>No</td>\n",
       "      <td>No</td>\n",
       "    </tr>\n",
       "    <tr>\n",
       "      <th>3</th>\n",
       "      <td>7795-CFOCW</td>\n",
       "      <td>No</td>\n",
       "      <td>2016-05-01</td>\n",
       "      <td>2020-02-01</td>\n",
       "      <td>1371</td>\n",
       "      <td>One year</td>\n",
       "      <td>No</td>\n",
       "      <td>Bank transfer</td>\n",
       "      <td>42.30</td>\n",
       "      <td>1840.75</td>\n",
       "      <td>...</td>\n",
       "      <td>No</td>\n",
       "      <td>Yes</td>\n",
       "      <td>Yes</td>\n",
       "      <td>No</td>\n",
       "      <td>No</td>\n",
       "      <td>Male</td>\n",
       "      <td>No</td>\n",
       "      <td>No</td>\n",
       "      <td>No</td>\n",
       "      <td>No</td>\n",
       "    </tr>\n",
       "    <tr>\n",
       "      <th>4</th>\n",
       "      <td>9237-HQITU</td>\n",
       "      <td>Yes</td>\n",
       "      <td>2019-09-01</td>\n",
       "      <td>2019-11-01</td>\n",
       "      <td>61</td>\n",
       "      <td>Month-to-month</td>\n",
       "      <td>Yes</td>\n",
       "      <td>Electronic check</td>\n",
       "      <td>70.70</td>\n",
       "      <td>151.65</td>\n",
       "      <td>...</td>\n",
       "      <td>No</td>\n",
       "      <td>No</td>\n",
       "      <td>No</td>\n",
       "      <td>No</td>\n",
       "      <td>No</td>\n",
       "      <td>Female</td>\n",
       "      <td>No</td>\n",
       "      <td>No</td>\n",
       "      <td>No</td>\n",
       "      <td>No</td>\n",
       "    </tr>\n",
       "    <tr>\n",
       "      <th>...</th>\n",
       "      <td>...</td>\n",
       "      <td>...</td>\n",
       "      <td>...</td>\n",
       "      <td>...</td>\n",
       "      <td>...</td>\n",
       "      <td>...</td>\n",
       "      <td>...</td>\n",
       "      <td>...</td>\n",
       "      <td>...</td>\n",
       "      <td>...</td>\n",
       "      <td>...</td>\n",
       "      <td>...</td>\n",
       "      <td>...</td>\n",
       "      <td>...</td>\n",
       "      <td>...</td>\n",
       "      <td>...</td>\n",
       "      <td>...</td>\n",
       "      <td>...</td>\n",
       "      <td>...</td>\n",
       "      <td>...</td>\n",
       "      <td>...</td>\n",
       "    </tr>\n",
       "    <tr>\n",
       "      <th>7038</th>\n",
       "      <td>6840-RESVB</td>\n",
       "      <td>No</td>\n",
       "      <td>2018-02-01</td>\n",
       "      <td>2020-02-01</td>\n",
       "      <td>730</td>\n",
       "      <td>One year</td>\n",
       "      <td>Yes</td>\n",
       "      <td>Mailed check</td>\n",
       "      <td>84.80</td>\n",
       "      <td>1990.50</td>\n",
       "      <td>...</td>\n",
       "      <td>No</td>\n",
       "      <td>Yes</td>\n",
       "      <td>Yes</td>\n",
       "      <td>Yes</td>\n",
       "      <td>Yes</td>\n",
       "      <td>Male</td>\n",
       "      <td>No</td>\n",
       "      <td>Yes</td>\n",
       "      <td>Yes</td>\n",
       "      <td>Yes</td>\n",
       "    </tr>\n",
       "    <tr>\n",
       "      <th>7039</th>\n",
       "      <td>2234-XADUH</td>\n",
       "      <td>No</td>\n",
       "      <td>2014-02-01</td>\n",
       "      <td>2020-02-01</td>\n",
       "      <td>2191</td>\n",
       "      <td>One year</td>\n",
       "      <td>Yes</td>\n",
       "      <td>Credit card</td>\n",
       "      <td>103.20</td>\n",
       "      <td>7362.90</td>\n",
       "      <td>...</td>\n",
       "      <td>Yes</td>\n",
       "      <td>Yes</td>\n",
       "      <td>No</td>\n",
       "      <td>Yes</td>\n",
       "      <td>Yes</td>\n",
       "      <td>Female</td>\n",
       "      <td>No</td>\n",
       "      <td>Yes</td>\n",
       "      <td>Yes</td>\n",
       "      <td>Yes</td>\n",
       "    </tr>\n",
       "    <tr>\n",
       "      <th>7040</th>\n",
       "      <td>4801-JZAZL</td>\n",
       "      <td>No</td>\n",
       "      <td>2019-03-01</td>\n",
       "      <td>2020-02-01</td>\n",
       "      <td>337</td>\n",
       "      <td>Month-to-month</td>\n",
       "      <td>Yes</td>\n",
       "      <td>Electronic check</td>\n",
       "      <td>29.60</td>\n",
       "      <td>346.45</td>\n",
       "      <td>...</td>\n",
       "      <td>No</td>\n",
       "      <td>No</td>\n",
       "      <td>No</td>\n",
       "      <td>No</td>\n",
       "      <td>No</td>\n",
       "      <td>Female</td>\n",
       "      <td>No</td>\n",
       "      <td>Yes</td>\n",
       "      <td>Yes</td>\n",
       "      <td>No</td>\n",
       "    </tr>\n",
       "    <tr>\n",
       "      <th>7041</th>\n",
       "      <td>8361-LTMKD</td>\n",
       "      <td>Yes</td>\n",
       "      <td>2019-07-01</td>\n",
       "      <td>2019-11-01</td>\n",
       "      <td>123</td>\n",
       "      <td>Month-to-month</td>\n",
       "      <td>Yes</td>\n",
       "      <td>Mailed check</td>\n",
       "      <td>74.40</td>\n",
       "      <td>306.60</td>\n",
       "      <td>...</td>\n",
       "      <td>No</td>\n",
       "      <td>No</td>\n",
       "      <td>No</td>\n",
       "      <td>No</td>\n",
       "      <td>No</td>\n",
       "      <td>Male</td>\n",
       "      <td>Yes</td>\n",
       "      <td>Yes</td>\n",
       "      <td>No</td>\n",
       "      <td>Yes</td>\n",
       "    </tr>\n",
       "    <tr>\n",
       "      <th>7042</th>\n",
       "      <td>3186-AJIEK</td>\n",
       "      <td>No</td>\n",
       "      <td>2014-08-01</td>\n",
       "      <td>2020-02-01</td>\n",
       "      <td>2010</td>\n",
       "      <td>Two year</td>\n",
       "      <td>Yes</td>\n",
       "      <td>Bank transfer</td>\n",
       "      <td>105.65</td>\n",
       "      <td>6844.50</td>\n",
       "      <td>...</td>\n",
       "      <td>No</td>\n",
       "      <td>Yes</td>\n",
       "      <td>Yes</td>\n",
       "      <td>Yes</td>\n",
       "      <td>Yes</td>\n",
       "      <td>Male</td>\n",
       "      <td>No</td>\n",
       "      <td>No</td>\n",
       "      <td>No</td>\n",
       "      <td>No</td>\n",
       "    </tr>\n",
       "  </tbody>\n",
       "</table>\n",
       "<p>7043 rows × 22 columns</p>\n",
       "</div>"
      ],
      "text/plain": [
       "      customerID Churned  BeginDate    EndDate  Duration(Days)  \\\n",
       "0     7590-VHVEG      No 2020-01-01 2020-02-01              31   \n",
       "1     5575-GNVDE      No 2017-04-01 2020-02-01            1036   \n",
       "2     3668-QPYBK     Yes 2019-10-01 2019-12-01              61   \n",
       "3     7795-CFOCW      No 2016-05-01 2020-02-01            1371   \n",
       "4     9237-HQITU     Yes 2019-09-01 2019-11-01              61   \n",
       "...          ...     ...        ...        ...             ...   \n",
       "7038  6840-RESVB      No 2018-02-01 2020-02-01             730   \n",
       "7039  2234-XADUH      No 2014-02-01 2020-02-01            2191   \n",
       "7040  4801-JZAZL      No 2019-03-01 2020-02-01             337   \n",
       "7041  8361-LTMKD     Yes 2019-07-01 2019-11-01             123   \n",
       "7042  3186-AJIEK      No 2014-08-01 2020-02-01            2010   \n",
       "\n",
       "                Type PaperlessBilling     PaymentMethod  MonthlyCharges  \\\n",
       "0     Month-to-month              Yes  Electronic check           29.85   \n",
       "1           One year               No      Mailed check           56.95   \n",
       "2     Month-to-month              Yes      Mailed check           53.85   \n",
       "3           One year               No     Bank transfer           42.30   \n",
       "4     Month-to-month              Yes  Electronic check           70.70   \n",
       "...              ...              ...               ...             ...   \n",
       "7038        One year              Yes      Mailed check           84.80   \n",
       "7039        One year              Yes       Credit card          103.20   \n",
       "7040  Month-to-month              Yes  Electronic check           29.60   \n",
       "7041  Month-to-month              Yes      Mailed check           74.40   \n",
       "7042        Two year              Yes     Bank transfer          105.65   \n",
       "\n",
       "      TotalCharges  ... OnlineBackup DeviceProtection TechSupport StreamingTV  \\\n",
       "0            29.85  ...          Yes               No          No          No   \n",
       "1          1889.50  ...           No              Yes          No          No   \n",
       "2           108.15  ...          Yes               No          No          No   \n",
       "3          1840.75  ...           No              Yes         Yes          No   \n",
       "4           151.65  ...           No               No          No          No   \n",
       "...            ...  ...          ...              ...         ...         ...   \n",
       "7038       1990.50  ...           No              Yes         Yes         Yes   \n",
       "7039       7362.90  ...          Yes              Yes          No         Yes   \n",
       "7040        346.45  ...           No               No          No          No   \n",
       "7041        306.60  ...           No               No          No          No   \n",
       "7042       6844.50  ...           No              Yes         Yes         Yes   \n",
       "\n",
       "     StreamingMovies  Gender SeniorCitizen Partner Dependents MultipleLines  \n",
       "0                 No  Female            No     Yes         No            No  \n",
       "1                 No    Male            No      No         No            No  \n",
       "2                 No    Male            No      No         No            No  \n",
       "3                 No    Male            No      No         No            No  \n",
       "4                 No  Female            No      No         No            No  \n",
       "...              ...     ...           ...     ...        ...           ...  \n",
       "7038             Yes    Male            No     Yes        Yes           Yes  \n",
       "7039             Yes  Female            No     Yes        Yes           Yes  \n",
       "7040              No  Female            No     Yes        Yes            No  \n",
       "7041              No    Male           Yes     Yes         No           Yes  \n",
       "7042             Yes    Male            No      No         No            No  \n",
       "\n",
       "[7043 rows x 22 columns]"
      ]
     },
     "metadata": {},
     "output_type": "display_data"
    },
    {
     "name": "stdout",
     "output_type": "stream",
     "text": [
      "DATAFRAME INFO:\n",
      "<class 'pandas.core.frame.DataFrame'>\n",
      "Int64Index: 7043 entries, 0 to 7042\n",
      "Data columns (total 22 columns):\n",
      " #   Column            Non-Null Count  Dtype         \n",
      "---  ------            --------------  -----         \n",
      " 0   customerID        7043 non-null   object        \n",
      " 1   Churned           7043 non-null   object        \n",
      " 2   BeginDate         7043 non-null   datetime64[ns]\n",
      " 3   EndDate           7043 non-null   datetime64[ns]\n",
      " 4   Duration(Days)    7043 non-null   int64         \n",
      " 5   Type              7043 non-null   object        \n",
      " 6   PaperlessBilling  7043 non-null   object        \n",
      " 7   PaymentMethod     7043 non-null   object        \n",
      " 8   MonthlyCharges    7043 non-null   float64       \n",
      " 9   TotalCharges      7043 non-null   float64       \n",
      " 10  InternetService   7043 non-null   object        \n",
      " 11  OnlineSecurity    7043 non-null   object        \n",
      " 12  OnlineBackup      7043 non-null   object        \n",
      " 13  DeviceProtection  7043 non-null   object        \n",
      " 14  TechSupport       7043 non-null   object        \n",
      " 15  StreamingTV       7043 non-null   object        \n",
      " 16  StreamingMovies   7043 non-null   object        \n",
      " 17  Gender            7043 non-null   object        \n",
      " 18  SeniorCitizen     7043 non-null   object        \n",
      " 19  Partner           7043 non-null   object        \n",
      " 20  Dependents        7043 non-null   object        \n",
      " 21  MultipleLines     7043 non-null   object        \n",
      "dtypes: datetime64[ns](2), float64(2), int64(1), object(17)\n",
      "memory usage: 1.2+ MB\n",
      "\n",
      "PERCENTAGE OF NULL VALUES:\n",
      "customerID          0.0\n",
      "Churned             0.0\n",
      "BeginDate           0.0\n",
      "EndDate             0.0\n",
      "Duration(Days)      0.0\n",
      "Type                0.0\n",
      "PaperlessBilling    0.0\n",
      "PaymentMethod       0.0\n",
      "MonthlyCharges      0.0\n",
      "TotalCharges        0.0\n",
      "InternetService     0.0\n",
      "OnlineSecurity      0.0\n",
      "OnlineBackup        0.0\n",
      "DeviceProtection    0.0\n",
      "TechSupport         0.0\n",
      "StreamingTV         0.0\n",
      "StreamingMovies     0.0\n",
      "Gender              0.0\n",
      "SeniorCitizen       0.0\n",
      "Partner             0.0\n",
      "Dependents          0.0\n",
      "MultipleLines       0.0\n",
      "dtype: float64\n",
      "\n",
      "NUMBER OF DUPLICATED ROWS: 0\n"
     ]
    }
   ],
   "source": [
    "duration = (df['EndDate'] - df['BeginDate']).dt.days\n",
    "df.insert(4, 'Duration(Days)', duration)\n",
    "\n",
    "analyze(df)"
   ]
  },
  {
   "cell_type": "markdown",
   "metadata": {},
   "source": [
    "The Master DataFrame has been succesffuly preprocessed."
   ]
  },
  {
   "cell_type": "markdown",
   "metadata": {},
   "source": [
    "## EDA"
   ]
  },
  {
   "cell_type": "markdown",
   "metadata": {},
   "source": [
    "We will now perform exploratory data analysis to gain deeper insights into the dataset. \n",
    "\n",
    "To start, let’s analyze the distribution of churned versus retained clients to evaluate the presence of class imbalance within the Churned feature column."
   ]
  },
  {
   "cell_type": "code",
   "execution_count": 26,
   "metadata": {},
   "outputs": [
    {
     "data": {
      "image/png": "[encoded data removed]",
      "text/plain": [
       "<Figure size 1000x600 with 1 Axes>"
      ]
     },
     "metadata": {},
     "output_type": "display_data"
    }
   ],
   "source": [
    "# Count the occurrences of each class in the Churned column\n",
    "churned_value_counts = df['Churned'].value_counts()\n",
    "\n",
    "# Create a pie chart\n",
    "plt.figure(figsize=(10, 6))\n",
    "plt.pie(churned_value_counts, labels=churned_value_counts.index, autopct='%1.1f%%')\n",
    "plt.title('Distribution of Churned Clients')\n",
    "plt.show()"
   ]
  },
  {
   "cell_type": "markdown",
   "metadata": {},
   "source": [
    "The Churned variable exhibits a significant imbalance, with a larger proportion of customers not churning compared to those who do. Specifically, approximately 26.5% of clients in the dataset have churned, while 73.5% have remained with the service. This disparity is an important consideration as we proceed with our analysis and model building, as it may impact the performance of our models."
   ]
  },
  {
   "cell_type": "markdown",
   "metadata": {},
   "source": [
    "### Categorical Features Analysis"
   ]
  },
  {
   "cell_type": "code",
   "execution_count": 27,
   "metadata": {},
   "outputs": [
    {
     "data": {
      "image/png": "[encoded data removed]",
      "text/plain": [
       "<Figure size 2000x2000 with 15 Axes>"
      ]
     },
     "metadata": {},
     "output_type": "display_data"
    }
   ],
   "source": [
    "# Select categorical columns of object data type, excluding 'customerID' and 'Churned'\n",
    "object_columns = df.select_dtypes(include='object').columns\n",
    "object_columns = object_columns.drop(['customerID', 'Churned'], errors='ignore')\n",
    "\n",
    "# Number of object columns\n",
    "num_plots = len(object_columns)\n",
    "\n",
    "# Create subplots (e.g., 5 rows and 3 columns for 15 plots)\n",
    "rows = 5\n",
    "cols = 3\n",
    "fig, axes = plt.subplots(rows, cols, figsize=(20, 20))\n",
    "axes = axes.flatten()  # Flatten the axes array for easy indexing\n",
    "\n",
    "# Loop through each object column and create a countplot\n",
    "for i, col in enumerate(object_columns):\n",
    "    sns.countplot(data=df, x=col, ax=axes[i], hue='Churned')\n",
    "    axes[i].set_title(f'Distribution of {col}')\n",
    "    axes[i].tick_params(axis='x')\n",
    "\n",
    "# Adjust the layout\n",
    "plt.tight_layout()\n",
    "plt.show()"
   ]
  },
  {
   "cell_type": "markdown",
   "metadata": {},
   "source": [
    "From the array of bar plots above we can identify three key features—Contract Type, Payment Method, and Internet Service—where churn rates are notably higher for specific groups compared to others within each category. These features emerge as the most significant predictors of whether a customer is likely to discontinue their service.\n",
    "\n",
    "**Type of Contract:** Customers on month-to-month plans have a significantly higher churn rate due to the flexibility and short-term commitment, while those on one- or two-year contracts show greater loyalty, likely because of the longer-term investment.\n",
    "\n",
    "**Payment Method:** Customers using electronic checks churn more frequently, possibly due to payment-related issues like processing delays or errors, making this a key area to address for improving customer retention.\n",
    "\n",
    "**Internet Service:** Fiber optic users exhibit higher churn rates, potentially driven by service disruptions or unmet speed expectations, highlighting the need for consistent performance and strong technical support to reduce churn."
   ]
  },
  {
   "cell_type": "markdown",
   "metadata": {},
   "source": [
    "### Numerical Features Analysis"
   ]
  },
  {
   "cell_type": "code",
   "execution_count": 28,
   "metadata": {},
   "outputs": [
    {
     "data": {
      "image/png": "[encoded data removed]",
      "text/plain": [
       "<Figure size 2000x600 with 2 Axes>"
      ]
     },
     "metadata": {},
     "output_type": "display_data"
    }
   ],
   "source": [
    "# List of numerical columns to plot\n",
    "numerical_cols = ['MonthlyCharges', 'TotalCharges']\n",
    "\n",
    "# Create subplots\n",
    "fig, axes = plt.subplots(nrows=1, ncols=2, figsize=(20,6))\n",
    "\n",
    "# Create box plots\n",
    "for ax, col in zip(axes.flatten(), numerical_cols):\n",
    "    sns.boxplot(data=df, y=col, x='Churned', ax=ax)\n",
    "\n",
    "# Adjust the layout\n",
    "plt.tight_layout()\n",
    "plt.show()"
   ]
  },
  {
   "cell_type": "markdown",
   "metadata": {},
   "source": [
    "The box plots above, illustrating the distribution of churned clients across the numerical features MonthlyCharges and TotalCharges, provide valuable insights into customer behavior and churn patterns.\n",
    "\n",
    "**Monthly Charges:** Customers who churn tend to have higher monthly charges compared to those who remain, indicating that cost may be a significant factor in their decision to leave.\n",
    "\n",
    "**Total Charges:** Customers who churn generally have lower total charges compared to those who stay, likely because they discontinue the service before accumulating substantial charges over time."
   ]
  },
  {
   "cell_type": "markdown",
   "metadata": {},
   "source": [
    "### Client Longevity Analysis"
   ]
  },
  {
   "cell_type": "code",
   "execution_count": 29,
   "metadata": {},
   "outputs": [
    {
     "data": {
      "image/png": "[encoded data removed]",
      "text/plain": [
       "<Figure size 2000x600 with 1 Axes>"
      ]
     },
     "metadata": {},
     "output_type": "display_data"
    }
   ],
   "source": [
    "# Set the size of the plot\n",
    "plt.figure(figsize=(20, 6))\n",
    "\n",
    "# Create a distribution plot for longevity of customers who did not churn\n",
    "sns.histplot(df[df['Churned'] == 'No']['Duration(Days)'], kde=True, label='Retained')\n",
    "\n",
    "# Create a distribution plot for longevity of customers who churned\n",
    "sns.histplot(df[df['Churned'] == 'Yes']['Duration(Days)'], kde=True, label='Churned')\n",
    "\n",
    "# Set title and labels\n",
    "plt.title('Distribution of Customer Longevity')\n",
    "plt.xlabel('Duration (Days)')\n",
    "plt.ylabel('Frequency')\n",
    "\n",
    "# Show legend\n",
    "plt.legend()\n",
    "\n",
    "# Display the plot\n",
    "plt.show()"
   ]
  },
  {
   "cell_type": "markdown",
   "metadata": {},
   "source": [
    "As we can see from the visual above, churned customers tend to have shorter tenures, often leaving the service shortly after joining. In contrast, retained customers show a more uniform distribution of longevity, with peaks at certain intervals, indicating they stay with the service for longer periods. This suggests that longevity could be a valuable predictor of churn, as the distribution patterns differ notably between churned and retained customers."
   ]
  },
  {
   "cell_type": "markdown",
   "metadata": {},
   "source": [
    "## Model Training Prep"
   ]
  },
  {
   "cell_type": "markdown",
   "metadata": {},
   "source": [
    "We will now prepare the data for model training, starting by mapping the \"Yes\" and \"No\" values in the Churned target column to numerical values, where \"Yes\" will be mapped to 1 and \"No\" to 0.\n",
    "\n",
    "We so do this because most machine learning algorithms require numerical input to process the data. Algorithms can't work directly with categorical values like \"Yes\" and \"No,\" so we map them to 1 and 0 to make the data suitable for analysis. This transformation allows the model to interpret and learn from the data to make accurate predictions."
   ]
  },
  {
   "cell_type": "code",
   "execution_count": 30,
   "metadata": {},
   "outputs": [
    {
     "name": "stdout",
     "output_type": "stream",
     "text": [
      "0    5174\n",
      "1    1869\n",
      "Name: Churned, dtype: int64\n"
     ]
    }
   ],
   "source": [
    "# Replace categorical values in the Churned column with numerical representations for easier processing\n",
    "df['Churned'] = df['Churned'].replace('No', 0)\n",
    "df['Churned'] = df['Churned'].replace('Yes', 1)\n",
    "\n",
    "print(df['Churned'].value_counts())"
   ]
  },
  {
   "cell_type": "markdown",
   "metadata": {},
   "source": [
    "As mentioned during the exploratory data analysis, there is a significant class imbalance between churned (1) and non-churned (0) clients in the target column. To address this imbalance, we will handle it carefully when training our models, ensuring proper hyperparameter tuning without distorting the evaluation metrics."
   ]
  },
  {
   "cell_type": "markdown",
   "metadata": {},
   "source": [
    "### Data Splitting"
   ]
  },
  {
   "cell_type": "markdown",
   "metadata": {},
   "source": [
    "We will now split the data into training (60%), validation (20%), and test (20%) sets. This 3:1:1 ratio accounts for the fact that the test data is derived from the same source. If the test data were separate, we would only need to split the source data into training and validation sets, with the validation set comprising 25% of the source data to maintain a similar split ratio."
   ]
  },
  {
   "cell_type": "code",
   "execution_count": 31,
   "metadata": {},
   "outputs": [
    {
     "name": "stdout",
     "output_type": "stream",
     "text": [
      "Training Features Size: (4225, 18)\n",
      "\n",
      "Validation Features Size: (1409, 18)\n",
      "\n",
      "Test Features Size: (1409, 18)\n"
     ]
    }
   ],
   "source": [
    "# Extract the feature variables\n",
    "features = df.drop(['customerID', 'Churned', 'BeginDate', 'EndDate'], axis=1)\n",
    "\n",
    "# Extract the target variable 'Churned'\n",
    "target = df['Churned']\n",
    "\n",
    "# Split data: 60% for training, 20% for validation, and 20% for testing\n",
    "features_train, features_temp, target_train, target_temp = train_test_split(features, target, test_size=0.4, random_state=12345)\n",
    "\n",
    "# Further split the remaining 40% into validation (20%) and test (20%) sets\n",
    "features_valid, features_test, target_valid, target_test = train_test_split(features_temp, target_temp, test_size=0.5, random_state=12345)\n",
    "\n",
    "# Print the size of each dataset\n",
    "print('Training Features Size:', features_train.shape)\n",
    "print()\n",
    "print('Validation Features Size:', features_valid.shape)\n",
    "print()\n",
    "print('Test Features Size:', features_test.shape)"
   ]
  },
  {
   "cell_type": "markdown",
   "metadata": {},
   "source": [
    "With the data split correctly, we will now encode our categorical features using two methods. For the Random Forest and XGBoost models, we will use label encoding, which effectively converts categories into ordinal values suitable for these algorithms. For the Logistic Regression model, we will apply one-hot encoding, as it converts categorical variables into binary features and is well-suited for linear models. The CatBoost and LightGBM models handle categorical variables internally, so no additional encoding is required for these models. This approach ensures that each model is trained with the most appropriate encoding method for its specific requirements.\n",
    "\n",
    "We will explicitly define our categorical features to streamline the encoding process."
   ]
  },
  {
   "cell_type": "code",
   "execution_count": 32,
   "metadata": {},
   "outputs": [],
   "source": [
    "categorical_features = ['Type', 'PaperlessBilling', 'PaymentMethod',\n",
    "                        'InternetService', 'OnlineSecurity', 'OnlineBackup',\n",
    "                        'DeviceProtection', 'TechSupport', 'StreamingTV',\n",
    "                        'StreamingMovies', 'Gender', 'SeniorCitizen',\n",
    "                        'Partner', 'Dependents', 'MultipleLines']"
   ]
  },
  {
   "cell_type": "markdown",
   "metadata": {},
   "source": [
    "### Label Encoding"
   ]
  },
  {
   "cell_type": "code",
   "execution_count": 33,
   "metadata": {},
   "outputs": [
    {
     "name": "stdout",
     "output_type": "stream",
     "text": [
      "Training Features Size (Label Encoded): (4225, 18)\n",
      "\n",
      "Validation Features Size (Label Encoded): (1409, 18)\n",
      "\n",
      "Test Features Size (Label Encoded): (1409, 18)\n"
     ]
    }
   ],
   "source": [
    "# Initialize OrdinalEncoder\n",
    "ordinal_encoder = OrdinalEncoder(handle_unknown='use_encoded_value', unknown_value=-1)\n",
    "\n",
    "# Fit and transform on training features\n",
    "features_train_encoded = features_train.copy()\n",
    "features_train_encoded[categorical_features] = ordinal_encoder.fit_transform(features_train[categorical_features])\n",
    "\n",
    "# Fit and transform validation features\n",
    "features_valid_encoded = features_valid.copy()\n",
    "features_valid_encoded[categorical_features] = ordinal_encoder.transform(features_valid[categorical_features])\n",
    "\n",
    "# Fit and transform test features\n",
    "features_test_encoded = features_test.copy()\n",
    "features_test_encoded[categorical_features] = ordinal_encoder.transform(features_test[categorical_features])\n",
    "\n",
    "# Print the size of each dataset after label encoding\n",
    "print('Training Features Size (Label Encoded):', features_train_encoded.shape)\n",
    "print()\n",
    "print('Validation Features Size (Label Encoded):', features_valid_encoded.shape)\n",
    "print()\n",
    "print('Test Features Size (Label Encoded):', features_test_encoded.shape)"
   ]
  },
  {
   "cell_type": "markdown",
   "metadata": {},
   "source": [
    "The training data has been successfully label encoded."
   ]
  },
  {
   "cell_type": "markdown",
   "metadata": {},
   "source": [
    "### One-Hot Encoding"
   ]
  },
  {
   "cell_type": "code",
   "execution_count": 34,
   "metadata": {},
   "outputs": [
    {
     "name": "stdout",
     "output_type": "stream",
     "text": [
      "Training Features Size (One-Hot Encoded): (4225, 19)\n",
      "\n",
      "Validation Features Size (One-Hot Encoded): (1409, 19)\n",
      "\n",
      "Test Features Size (One-Hot Encoded): (1409, 19)\n"
     ]
    }
   ],
   "source": [
    "# Initialize the OneHotEncoder\n",
    "ohe = OneHotEncoder(drop='first', sparse=False, handle_unknown='ignore')\n",
    "\n",
    "# Fit the encoder on the training data and transform training features\n",
    "features_train_ohe = ohe.fit_transform(features_train[categorical_features])\n",
    "\n",
    "# Transform validation and test features using the same encoder\n",
    "features_valid_ohe = ohe.transform(features_valid[categorical_features])\n",
    "features_test_ohe = ohe.transform(features_test[categorical_features])\n",
    "\n",
    "# Convert the result to a DataFrame\n",
    "features_train_ohe = pd.DataFrame(features_train_ohe, columns=ohe.get_feature_names_out(categorical_features))\n",
    "features_valid_ohe = pd.DataFrame(features_valid_ohe, columns=ohe.get_feature_names_out(categorical_features))\n",
    "features_test_ohe = pd.DataFrame(features_test_ohe, columns=ohe.get_feature_names_out(categorical_features))\n",
    "\n",
    "# Print the size of each dataset after one-hot encoding\n",
    "print('Training Features Size (One-Hot Encoded):', features_train_ohe.shape)\n",
    "print()\n",
    "print('Validation Features Size (One-Hot Encoded):', features_valid_ohe.shape)\n",
    "print()\n",
    "print('Test Features Size (One-Hot Encoded):', features_test_ohe.shape)"
   ]
  },
  {
   "cell_type": "markdown",
   "metadata": {},
   "source": [
    "The training data has been successfully one-hot encoded."
   ]
  },
  {
   "cell_type": "markdown",
   "metadata": {},
   "source": [
    "## Model Training"
   ]
  },
  {
   "cell_type": "markdown",
   "metadata": {},
   "source": [
    "For model training, our focus will be on evaluating the AUC-ROC, Accuracy, and F1 scores across various machine learning models with  hyperparameter tuning. To streamline this repetitive process, I have developed a function designed to expedite and simplify the evaluation.\n",
    "\n",
    "The function below assesses a machine learning model by calculating key performance metrics. It  computes the AUC-ROC, Accuracy, and F1 scores on the validation set, as well as plots the ROC curve. By printing and returning these metrics, the function aids in analyzing the efficiency and effectiveness of the model."
   ]
  },
  {
   "cell_type": "code",
   "execution_count": 35,
   "metadata": {},
   "outputs": [],
   "source": [
    "# Model evaluation function\n",
    "def model_eval(model, features_train, features_valid, target_train, target_valid):\n",
    "    \n",
    "    # Train the model on the training data\n",
    "    model.fit(features_train, target_train)\n",
    "\n",
    "    # Generate predictions on the validation set\n",
    "    predictions = model.predict(features_valid)\n",
    "    probabilities_test = model.predict_proba(features_valid)\n",
    "    probabilities_one_valid = probabilities_test[:, 1]\n",
    "\n",
    "    # Calculate the AUC-ROC, Accuracy and F1 scores of the predictions\n",
    "    aucroc = roc_auc_score(target_valid, probabilities_one_valid)\n",
    "    accuracy = accuracy_score(target_valid, predictions)\n",
    "    f1 = f1_score(target_valid, predictions)\n",
    "\n",
    "    # Print out the AUC-ROC, Accuracy and F1 scores\n",
    "    print(\"AUC-ROC:\", aucroc)\n",
    "    print(\"Accuracy:\", accuracy)\n",
    "    print(\"F1:\", f1)\n",
    "\n",
    "    # Compute ROC curve\n",
    "    fpr, tpr, thresholds = roc_curve(target_valid, probabilities_one_valid)\n",
    "\n",
    "    # Plot ROC curve\n",
    "    plt.figure()\n",
    "    plt.plot(fpr, tpr, label='ROC curve')\n",
    "    plt.plot([0, 1], [0, 1], linestyle='--')  # ROC curve for random model\n",
    "    plt.xlim([0.0, 1.0])\n",
    "    plt.ylim([0.0, 1.0])\n",
    "    plt.xlabel('False Positive Rate')\n",
    "    plt.ylabel('True Positive Rate')\n",
    "    plt.title('ROC curve')\n",
    "    plt.show()\n",
    "\n",
    "    # Return AUC-ROC, Accuracy and F1 scores\n",
    "    return aucroc, accuracy, f1"
   ]
  },
  {
   "cell_type": "markdown",
   "metadata": {},
   "source": [
    "### Logistic Regression"
   ]
  },
  {
   "cell_type": "markdown",
   "metadata": {},
   "source": [
    "We will start with a Logistic Regression model. Logistic regression serves as a valuable benchmark for assessing other methods. For example, if gradient boosting underperforms compared to logistic regression, it indicates that there may be an issue with the implementation or configuration of the gradient boosting model.\n",
    "\n",
    "Note: Train with one-hot encoded data"
   ]
  },
  {
   "cell_type": "code",
   "execution_count": 36,
   "metadata": {},
   "outputs": [
    {
     "name": "stdout",
     "output_type": "stream",
     "text": [
      "LOGISTIC REGRESSION STATS:\n",
      "--------------------------\n",
      "AUC-ROC: 0.8327360226757139\n",
      "Accuracy: 0.7792760823278921\n",
      "F1: 0.5550786838340486\n"
     ]
    },
    {
     "data": {
      "image/png": "[encoded data removed]",
      "text/plain": [
       "<Figure size 640x480 with 1 Axes>"
      ]
     },
     "metadata": {},
     "output_type": "display_data"
    }
   ],
   "source": [
    "# Initialize the Logistic Regression model\n",
    "lr_model = LogisticRegression(solver='liblinear', random_state=12345)\n",
    "\n",
    "print(\"LOGISTIC REGRESSION STATS:\")\n",
    "print(\"--------------------------\")\n",
    "\n",
    "# Evaluate the Logistic Regression model\n",
    "lr_aucroc, lr_accuracy, lr_f1, = model_eval(lr_model, features_train_ohe, features_valid_ohe, target_train, target_valid)"
   ]
  },
  {
   "cell_type": "markdown",
   "metadata": {},
   "source": [
    "### Random Forest\n",
    "\n",
    "Note: Train with label encoded data"
   ]
  },
  {
   "cell_type": "code",
   "execution_count": 37,
   "metadata": {},
   "outputs": [
    {
     "name": "stdout",
     "output_type": "stream",
     "text": [
      "BEST RANDOM FOREST HYPERPARAMETERS: {'n_estimators': 200, 'min_samples_split': 2, 'min_samples_leaf': 4, 'max_features': 'sqrt', 'max_depth': 10}\n",
      "\n",
      "RANDOM FOREST STATS:\n",
      "--------------------\n",
      "AUC-ROC: 0.8626087776627904\n",
      "Accuracy: 0.8190205819730305\n",
      "F1: 0.6130500758725341\n"
     ]
    },
    {
     "data": {
      "image/png": "[encoded data removed]",
      "text/plain": [
       "<Figure size 640x480 with 1 Axes>"
      ]
     },
     "metadata": {},
     "output_type": "display_data"
    }
   ],
   "source": [
    "# Initialize the Random Forest model\n",
    "rf_model = RandomForestClassifier(random_state=12345)\n",
    "\n",
    "# Set up RandomizedSearchCV for tuning the Random Forest model\n",
    "rf_random_search = RandomizedSearchCV(\n",
    "    rf_model, \n",
    "    param_distributions={'n_estimators': [10, 50, 100, 200], \n",
    "                         'max_features': ['sqrt', 'log2'],\n",
    "                         'max_depth': [None, 10, 20, 30, 40],\n",
    "                         'min_samples_split': [2, 5, 10], \n",
    "                         'min_samples_leaf': [1, 2, 4]}, \n",
    "    n_iter=10,     \n",
    "    cv=5,                        \n",
    "    scoring='roc_auc',\n",
    "    n_jobs=-1,                      \n",
    "    random_state=12345\n",
    ")\n",
    "\n",
    "# Fit the RandomizedSearchCV object to the training data\n",
    "rf_random_search.fit(features_train_encoded, target_train)\n",
    "\n",
    "print(\"BEST RANDOM FOREST HYPERPARAMETERS:\", rf_random_search.best_params_)\n",
    "print()\n",
    "\n",
    "# Get the best Random Forest model from the search\n",
    "tuned_rf_model = rf_random_search.best_estimator_\n",
    "\n",
    "print(\"RANDOM FOREST STATS:\")\n",
    "print(\"--------------------\")\n",
    "\n",
    "# Evaluate the tuned Random Forest model\n",
    "rf_aucroc, rf_accuracy, rf_f1 = model_eval(tuned_rf_model, features_train_encoded, features_valid_encoded, target_train, target_valid)"
   ]
  },
  {
   "cell_type": "markdown",
   "metadata": {},
   "source": [
    "### LightGBM\n",
    "\n",
    "LightGBM can handle categorical features natively. By converting them to the category dtype, we are signaling to LightGBM that these features are categorical. This allows the algorithm to use its internal optimizations for processing such data, which can lead to more efficient training and potentially better performance."
   ]
  },
  {
   "cell_type": "code",
   "execution_count": 38,
   "metadata": {},
   "outputs": [
    {
     "name": "stdout",
     "output_type": "stream",
     "text": [
      "BEST LIGHTGBM HYPERPARAMETERS: {'subsample': 1.0, 'reg_lambda': 0.1, 'reg_alpha': 0.5, 'num_leaves': 50, 'n_estimators': 100, 'max_depth': 10, 'learning_rate': 0.2, 'colsample_bytree': 0.6}\n",
      "\n",
      "LIGHTGBM STATS:\n",
      "---------------\n",
      "AUC-ROC: 0.8974813542213635\n",
      "Accuracy: 0.850958126330731\n",
      "F1: 0.7000000000000001\n"
     ]
    },
    {
     "data": {
      "image/png": "[encoded data removed]",
      "text/plain": [
       "<Figure size 640x480 with 1 Axes>"
      ]
     },
     "metadata": {},
     "output_type": "display_data"
    }
   ],
   "source": [
    "# Create copies of the training, validation, and test feature datasets\n",
    "features_train_cat = features_train.copy()\n",
    "features_valid_cat = features_valid.copy()\n",
    "features_test_cat = features_test.copy()\n",
    "\n",
    "# Convert categorical features to 'category' dtype for all datasets\n",
    "for feature in categorical_features:\n",
    "    features_train_cat[feature] = features_train[feature].astype('category')\n",
    "    features_valid_cat[feature] = features_valid[feature].astype('category')\n",
    "    features_test_cat[feature] = features_test[feature].astype('category')\n",
    "\n",
    "# Initialize the LightGBM model\n",
    "lgbm_model = LGBMClassifier(random_state=12345, verbose=-1)\n",
    "\n",
    "# Set up RandomizedSearchCV for tuning the LightGBM model\n",
    "lgbm_random_search = RandomizedSearchCV(\n",
    "    lgbm_model, \n",
    "    param_distributions={'num_leaves': [31, 50, 70],\n",
    "                         'max_depth': [-1, 10, 20, 30],\n",
    "                         'learning_rate': [0.01, 0.05, 0.1, 0.2],\n",
    "                         'n_estimators': [50, 100, 200, 300],\n",
    "                         'subsample': [0.6, 0.8, 1.0],\n",
    "                         'colsample_bytree': [0.6, 0.8, 1.0],\n",
    "                         'reg_alpha': [0, 0.1, 0.5, 1],\n",
    "                         'reg_lambda': [0, 0.1, 0.5, 1]}, \n",
    "    n_iter=10,     \n",
    "    cv=5,                        \n",
    "    scoring='roc_auc',\n",
    "    n_jobs=-1,                      \n",
    "    random_state=12345\n",
    ")\n",
    "\n",
    "# Fit the RandomizedSearchCV object to the training data\n",
    "lgbm_random_search.fit(features_train_cat, target_train)\n",
    "\n",
    "print(\"BEST LIGHTGBM HYPERPARAMETERS:\", lgbm_random_search.best_params_)\n",
    "print()\n",
    "\n",
    "# Get the best LightGBM model from the search\n",
    "tuned_lgbm_model = lgbm_random_search.best_estimator_\n",
    "\n",
    "print(\"LIGHTGBM STATS:\")\n",
    "print(\"---------------\")\n",
    "\n",
    "# Evaluate the tuned LightGBM model\n",
    "lgbm_aucroc, lgbm_accuracy, lgbm_f1 = model_eval(tuned_lgbm_model, features_train_cat, features_valid_cat, target_train, target_valid)"
   ]
  },
  {
   "cell_type": "markdown",
   "metadata": {},
   "source": [
    "### CatBoost\n",
    "\n",
    "CatBoost is specifically optimized for handling categorical features with high efficiency. By explicitly specifying these features in the parameters, we enable CatBoost to apply its advanced algorithms designed for categorical data. This eliminates the need for manual encoding and ensures that the model processes categorical features effectively, leading to improved performance and accuracy."
   ]
  },
  {
   "cell_type": "code",
   "execution_count": 39,
   "metadata": {},
   "outputs": [
    {
     "name": "stderr",
     "output_type": "stream",
     "text": [
      "/opt/anaconda3/lib/python3.11/site-packages/joblib/externals/loky/process_executor.py:700: UserWarning: A worker stopped while some jobs were given to the executor. This can be caused by a too short worker timeout or by a memory leak.\n",
      "  warnings.warn(\n"
     ]
    },
    {
     "name": "stdout",
     "output_type": "stream",
     "text": [
      "BEST CATBOOST HYPERPARAMETERS: {'random_strength': 1, 'learning_rate': 0.01, 'l2_leaf_reg': 1, 'iterations': 300, 'depth': 6, 'border_count': 100, 'bagging_temperature': 0}\n",
      "\n",
      "CATBOOST STATS:\n",
      "---------------\n",
      "AUC-ROC: 0.8713250100684657\n",
      "Accuracy: 0.8161816891412349\n",
      "F1: 0.606980273141123\n"
     ]
    },
    {
     "data": {
      "image/png": "[encoded data removed]",
      "text/plain": [
       "<Figure size 640x480 with 1 Axes>"
      ]
     },
     "metadata": {},
     "output_type": "display_data"
    }
   ],
   "source": [
    "# Initialize the CatBoost model\n",
    "cb_model = CatBoostClassifier(random_state=12345, cat_features=categorical_features, verbose=False)\n",
    "\n",
    "# Set up RandomizedSearchCV for tuning the CatBoost model\n",
    "cb_random_search = RandomizedSearchCV(\n",
    "    cb_model, \n",
    "    param_distributions={'depth': [6, 8, 10, 12],\n",
    "                         'learning_rate': [0.01, 0.05, 0.1, 0.2],\n",
    "                         'iterations': [100, 200, 300, 500],\n",
    "                         'l2_leaf_reg': [1, 3, 5, 10],\n",
    "                         'border_count': [32, 50, 100],\n",
    "                         'bagging_temperature': [0, 0.5, 1],\n",
    "                         'random_strength': [0, 1, 2, 3]}, \n",
    "    n_iter=10,                 \n",
    "    cv=5,                        \n",
    "    scoring='neg_root_mean_squared_error',  \n",
    "    n_jobs=-1,                   \n",
    "    random_state=12345\n",
    ")\n",
    "\n",
    "# Fit the RandomizedSearchCV object to the training data\n",
    "cb_random_search.fit(features_train, target_train)\n",
    "\n",
    "print(\"BEST CATBOOST HYPERPARAMETERS:\", cb_random_search.best_params_)\n",
    "print()\n",
    "\n",
    "# Get the best CatBoost model from the search\n",
    "tuned_cb_model = cb_random_search.best_estimator_\n",
    "\n",
    "print(\"CATBOOST STATS:\")\n",
    "print(\"---------------\")\n",
    "\n",
    "# Evaluate the tuned CatBoost model\n",
    "cb_aucroc, cb_accuracy, cb_f1 = model_eval(tuned_cb_model, features_train, features_valid, target_train, target_valid)"
   ]
  },
  {
   "cell_type": "markdown",
   "metadata": {},
   "source": [
    "### XGBoost\n",
    "\n",
    "Note: Train with label encoded data"
   ]
  },
  {
   "cell_type": "code",
   "execution_count": 40,
   "metadata": {},
   "outputs": [
    {
     "name": "stdout",
     "output_type": "stream",
     "text": [
      "BEST XGBOOST HYPERPARAMETERS: {'subsample': 0.6, 'reg_lambda': 0.5, 'reg_alpha': 0.5, 'n_estimators': 200, 'max_depth': 3, 'learning_rate': 0.2, 'gamma': 0.5, 'colsample_bytree': 0.8}\n",
      "\n",
      "XGBOOST STATS:\n",
      "--------------\n",
      "AUC-ROC: 0.8830159005286581\n",
      "Accuracy: 0.829666430092264\n",
      "F1: 0.6571428571428573\n"
     ]
    },
    {
     "data": {
      "image/png": "[encoded data removed]",
      "text/plain": [
       "<Figure size 640x480 with 1 Axes>"
      ]
     },
     "metadata": {},
     "output_type": "display_data"
    }
   ],
   "source": [
    "# Initialize the XGBoost model\n",
    "xgb_model = XGBClassifier(random_state=12345)\n",
    "\n",
    "# Set up RandomizedSearchCV for tuning the XGBoost model\n",
    "xgb_random_search = RandomizedSearchCV(\n",
    "    xgb_model, \n",
    "    param_distributions={'n_estimators': [50, 100, 200, 300],\n",
    "                         'max_depth': [3, 5, 7, 10],\n",
    "                         'learning_rate': [0.01, 0.05, 0.1, 0.2],\n",
    "                         'subsample': [0.6, 0.8, 1.0],\n",
    "                         'colsample_bytree': [0.6, 0.8, 1.0],\n",
    "                         'gamma': [0, 0.1, 0.5, 1],\n",
    "                         'reg_alpha': [0, 0.1, 0.5, 1],\n",
    "                         'reg_lambda': [0, 0.1, 0.5, 1]}, \n",
    "    n_iter=10,                      \n",
    "    cv=5,                      \n",
    "    scoring='roc_auc', \n",
    "    n_jobs=-1,                     \n",
    "    random_state=12345\n",
    ")\n",
    "\n",
    "# Fit the RandomizedSearchCV object to the training data\n",
    "xgb_random_search.fit(features_train_encoded, target_train)\n",
    "\n",
    "print(\"BEST XGBOOST HYPERPARAMETERS:\", xgb_random_search.best_params_)\n",
    "print()\n",
    "\n",
    "# Get the best XGBoost model from the search\n",
    "tuned_xgb_model = xgb_random_search.best_estimator_\n",
    "\n",
    "print(\"XGBOOST STATS:\")\n",
    "print(\"--------------\")\n",
    "\n",
    "# Evaluate the tuned XGBoost model\n",
    "xgb_aucroc, xgb_accuracy, xgb_f1 = model_eval(tuned_xgb_model, features_train_encoded, features_valid_encoded, target_train, target_valid)"
   ]
  },
  {
   "cell_type": "markdown",
   "metadata": {},
   "source": [
    "## Model Analysis & Test"
   ]
  },
  {
   "cell_type": "markdown",
   "metadata": {},
   "source": [
    "Having trained and validated all our models using the validation set, we will now analyze their performance to identify which model will be most beneficial for Interconnect. To facilitate comparison and draw conclusions, we will compile their statistics into a single data frame. This will make it easier to evaluate and compare the models' effectiveness."
   ]
  },
  {
   "cell_type": "code",
   "execution_count": 41,
   "metadata": {},
   "outputs": [
    {
     "data": {
      "text/html": [
       "<div>\n",
       "<style scoped>\n",
       "    .dataframe tbody tr th:only-of-type {\n",
       "        vertical-align: middle;\n",
       "    }\n",
       "\n",
       "    .dataframe tbody tr th {\n",
       "        vertical-align: top;\n",
       "    }\n",
       "\n",
       "    .dataframe thead th {\n",
       "        text-align: right;\n",
       "    }\n",
       "</style>\n",
       "<table border=\"1\" class=\"dataframe\">\n",
       "  <thead>\n",
       "    <tr style=\"text-align: right;\">\n",
       "      <th></th>\n",
       "      <th>Model</th>\n",
       "      <th>AUC-ROC</th>\n",
       "      <th>Accuracy</th>\n",
       "      <th>F1</th>\n",
       "    </tr>\n",
       "  </thead>\n",
       "  <tbody>\n",
       "    <tr>\n",
       "      <th>2</th>\n",
       "      <td>LightGBM</td>\n",
       "      <td>0.897481</td>\n",
       "      <td>0.850958</td>\n",
       "      <td>0.700000</td>\n",
       "    </tr>\n",
       "    <tr>\n",
       "      <th>4</th>\n",
       "      <td>XGBoost</td>\n",
       "      <td>0.883016</td>\n",
       "      <td>0.829666</td>\n",
       "      <td>0.657143</td>\n",
       "    </tr>\n",
       "    <tr>\n",
       "      <th>3</th>\n",
       "      <td>CatBoost</td>\n",
       "      <td>0.871325</td>\n",
       "      <td>0.816182</td>\n",
       "      <td>0.606980</td>\n",
       "    </tr>\n",
       "    <tr>\n",
       "      <th>1</th>\n",
       "      <td>Random Forest</td>\n",
       "      <td>0.862609</td>\n",
       "      <td>0.819021</td>\n",
       "      <td>0.613050</td>\n",
       "    </tr>\n",
       "    <tr>\n",
       "      <th>0</th>\n",
       "      <td>Logistic Regression</td>\n",
       "      <td>0.832736</td>\n",
       "      <td>0.779276</td>\n",
       "      <td>0.555079</td>\n",
       "    </tr>\n",
       "  </tbody>\n",
       "</table>\n",
       "</div>"
      ],
      "text/plain": [
       "                 Model   AUC-ROC  Accuracy        F1\n",
       "2             LightGBM  0.897481  0.850958  0.700000\n",
       "4              XGBoost  0.883016  0.829666  0.657143\n",
       "3             CatBoost  0.871325  0.816182  0.606980\n",
       "1        Random Forest  0.862609  0.819021  0.613050\n",
       "0  Logistic Regression  0.832736  0.779276  0.555079"
      ]
     },
     "metadata": {},
     "output_type": "display_data"
    }
   ],
   "source": [
    "model_analysis = pd.DataFrame({'Model': ['Logistic Regression',\n",
    "                                         'Random Forest',\n",
    "                                         'LightGBM',\n",
    "                                         'CatBoost',\n",
    "                                         'XGBoost'],\n",
    "\n",
    "                                'AUC-ROC': [lr_aucroc,\n",
    "                                            rf_aucroc, \n",
    "                                            lgbm_aucroc, \n",
    "                                            cb_aucroc,\n",
    "                                            xgb_aucroc],\n",
    "                                \n",
    "                                'Accuracy': [lr_accuracy,\n",
    "                                             rf_accuracy, \n",
    "                                             lgbm_accuracy, \n",
    "                                             cb_accuracy,\n",
    "                                             xgb_accuracy],\n",
    "                                \n",
    "                                'F1': [lr_f1,\n",
    "                                       rf_f1, \n",
    "                                       lgbm_f1, \n",
    "                                       cb_f1,\n",
    "                                       xgb_f1]})\n",
    "\n",
    "display(model_analysis.sort_values(by='AUC-ROC', ascending=False))"
   ]
  },
  {
   "cell_type": "markdown",
   "metadata": {},
   "source": [
    "**Logistic Regression** shows a moderate level of effectiveness with an AUC-ROC score of 0.832736, indicating that it can discriminate reasonably well between churned and retained clients. The accuracy score of 0.779276 reflects that about 78% of predictions made by the model are correct. However, the F1 score of 0.555079 suggests that while the model is accurate, it struggles with class imbalance, likely leading to lower precision or recall when identifying churned clients. This could indicate that the model might miss many instances of churn, making it less reliable for practical applications.\n",
    "\n",
    "**Random Forest** exhibits similar performance to Logistic Regression, with an AUC-ROC of 0.862609 and an accuracy of 0.819021, which is higher than that of Logistic Regression. This suggests that Random Forest may be better at generalizing to unseen data, improving overall prediction accuracy. However, its F1 score of 0.613050 is still on the lower side, indicating potential difficulties in correctly identifying the minority class (churned clients). This model also benefits from ensemble methods that help mitigate overfitting, but further tuning may be necessary to enhance its ability to manage class imbalance.\n",
    "\n",
    "**LightGBM** stands out as the top performer among all models, achieving an AUC-ROC score of 0.897481, an accuracy of 0.850958, and an F1 score of 0.7. This indicates that LightGBM not only effectively distinguishes between churned and retained clients but also maintains a good balance between precision and recall. The model's efficiency in handling large datasets and its ability to learn complex patterns make it particularly suited for this task. Its superior performance suggests that it may be the most reliable option for predicting customer churn in practical applications.\n",
    "\n",
    "**CatBoost** offers a solid performance with an AUC-ROC of 0.871325 and an accuracy of 0.816182. While these scores are competitive, the model has the lowest F1 score at 0.606980, indicating challenges in accurately identifying churned clients. This lower F1 score suggests that CatBoost may struggle with either precision or recall, potentially leading to a higher rate of false negatives. Despite its overall good accuracy, this could limit its effectiveness in real-world scenarios where accurately predicting churn is crucial.\n",
    "\n",
    "**XGBoost** demonstrates a strong performance with an AUC-ROC score of 0.883016, indicating strong discriminatory power between churned and retained clients. Its accuracy of 0.829666 suggests that the model is capable of making correct predictions about 83% of the time. The F1 score of 0.657143, while lower than that of LightGBM, still reflects a decent balance between precision and recall. However, this score indicates that XGBoost may miss some churn cases or incorrectly predict churn in retained clients, though it still performs better than several other models when dealing with class imbalance.\n",
    "\n",
    "In summary, LightGBM emerges as the best-performing model across all metrics, demonstrating strong capabilities in both distinguishing between churned and retained clients and managing class imbalance effectively. We will use this model to perform our final test."
   ]
  },
  {
   "cell_type": "code",
   "execution_count": 42,
   "metadata": {},
   "outputs": [
    {
     "name": "stdout",
     "output_type": "stream",
     "text": [
      "FINAL LGBM STATS:\n",
      "-----------------\n",
      "AUC-ROC: 0.8932758978722541\n",
      "Accuracy: 0.8481192334989354\n",
      "F1: 0.6862170087976539\n"
     ]
    },
    {
     "data": {
      "image/png": "[encoded data removed]",
      "text/plain": [
       "<Figure size 640x480 with 1 Axes>"
      ]
     },
     "metadata": {},
     "output_type": "display_data"
    }
   ],
   "source": [
    "# Generate predictions on the test set\n",
    "final_predictions = tuned_lgbm_model.predict(features_test_cat)\n",
    "final_probabilities_test = tuned_lgbm_model.predict_proba(features_test_cat)\n",
    "final_probabilities_one_valid = final_probabilities_test[:, 1]\n",
    "\n",
    "# Calculate the AUC-ROC, Accuracy and F1 scores of the predictions\n",
    "final_lgbm_aucroc = roc_auc_score(target_test, final_probabilities_one_valid)\n",
    "final_lgbm_accuracy = accuracy_score(target_test, final_predictions)\n",
    "final_lgbm_f1 = f1_score(target_test, final_predictions)\n",
    "\n",
    "# Print out the AUC-ROC, Accuracy and F1 scores\n",
    "print(\"FINAL LGBM STATS:\")\n",
    "print(\"-----------------\")\n",
    "print(\"AUC-ROC:\", final_lgbm_aucroc)\n",
    "print(\"Accuracy:\", final_lgbm_accuracy)\n",
    "print(\"F1:\", final_lgbm_f1)\n",
    "\n",
    "# Compute ROC curve\n",
    "final_fpr, final_tpr, final_thresholds = roc_curve(target_test, final_probabilities_one_valid)\n",
    "\n",
    "# Plot ROC curve\n",
    "plt.figure()\n",
    "plt.plot(final_fpr, final_tpr, label='ROC curve')\n",
    "plt.plot([0, 1], [0, 1], linestyle='--')  # ROC curve for random model\n",
    "plt.xlim([0.0, 1.0])\n",
    "plt.ylim([0.0, 1.0])\n",
    "plt.xlabel('False Positive Rate')\n",
    "plt.ylabel('True Positive Rate')\n",
    "plt.title('ROC curve')\n",
    "plt.show()"
   ]
  },
  {
   "cell_type": "markdown",
   "metadata": {},
   "source": [
    "## Solution Report\n",
    "\n",
    "In this project, we developed a robust machine learning framework to predict client churn for Interconnect, a leading telecom operator. The primary goal was to identify at-risk customers to implement effective retention strategies.\n",
    "\n",
    "### Steps Performed\n",
    "The following steps of the planned workflow were executed:\n",
    "\n",
    "**A) Initialization:** We successfully imported necessary libraries, including Pandas, NumPy, Matplotlib, Seaborn for data manipulation and visualization, and Scikit-learn for model building.\n",
    "\n",
    "**B) Load Data:** All four CSV files (contract.csv, personal.csv, internet.csv, phone.csv) were loaded into separate DataFrames. We ensured that the data types were appropriate for analysis.\n",
    "\n",
    "**C) Data Preprocessing:**\n",
    "- We checked for missing values and filled or dropped them as necessary.\n",
    "- Duplicate rows were identified and removed.\n",
    "- Inappropriate data types were converted to the correct format, ensuring consistency across the dataset.\n",
    "\n",
    "**D) Exploratory Data Analysis:**\n",
    "- Various visualizations (bar plots, histograms, box plots) were employed to identify trends and relationships between customer attributes and churn rates.\n",
    "- Correlations between features and the target variable were explored to better understand the factors influencing churn.\n",
    "\n",
    "**E) Model Training Preparation:**\n",
    "- The dataset was split into training, validation, and test sets.\n",
    "- Categorical variables were encoded using one-hot encoding to prepare the data for model training.\n",
    "- Did not handle class imbalance through upsampling/downsampling to maintain the integrity of the original task and ensure that the validation and test sets remained representative.\n",
    "\n",
    "**F) Model Training:**\n",
    "- We selected a variety of classification algorithms, including Logistic Regression, Random Forest, XGBoost, CatBoost, and LightGBM.\n",
    "- Cross-validation was used to evaluate model performance based on the AUC-ROC score, employing hyperparameter tuning with RandomizedSearchCV.\n",
    "\n",
    "**G) Model Analysis & Test:**\n",
    "- The performance of each model was analyzed using AUC-ROC and accuracy metrics.\n",
    "- LightGBM emerged as the best-performing model, which was then retrained on the entire training set and evaluated on the test set.\n",
    "\n",
    "### Difficulties Encountered and Solutions\n",
    "One of the key challenges encountered was the significant class imbalance within the target variable (churn status). This imbalance could lead to models that predict the majority class more accurately while underperforming on the minority class (churned clients). To address this, we focused on selecting models that inherently manage class imbalance effectively, such as LightGBM. Additionally, thorough exploratory analysis helped us understand the features contributing to churn, allowing for more informed model selection and evaluation.\n",
    "\n",
    "### Key Steps to Solving the Task\n",
    "**1) In-depth Exploratory Analysis:** Understanding the factors influencing churn helped in feature selection and shaping retention strategies.\n",
    "\n",
    "**2) Model Selection and Evaluation:** Choosing LightGBM based on its performance metrics and suitability for the dataset significantly impacted our results.\n",
    "\n",
    "**3) Identifying Actionable Insights:** The analysis revealed critical patterns that can directly inform Interconnect’s retention strategies.\n",
    "\n",
    "### Final Model and Quality Score\n",
    "The final model chosen for predicting client churn was LightGBM. It achieved impressive performance metrics:\n",
    "\n",
    "- **AUC-ROC:** 0.8933\n",
    "- **Accuracy:** 84.81%\n",
    "- **F1 Score:** 0.6862\n",
    "\n",
    "These results underscore the model's capability to effectively distinguish between churned and retained clients, making it a valuable tool for identifying those at risk of leaving.\n",
    "\n",
    "### Conclusion\n",
    "The high accuracy and reasonable F1 score indicate strong overall performance, though there remains an opportunity to enhance sensitivity to minimize false negatives—those at-risk clients that may go undetected. This insight is pivotal for Interconnect as it directs retention strategies toward the most vulnerable customer segments.\n",
    "\n",
    "By strategically focusing on identified factors influencing client churn—such as contract type, payment method, internet service usage, and overall charges—Interconnect can tailor its offerings to meet the diverse needs of its clients. This targeted approach will not only help mitigate churn rates but also empower the company to maintain a competitive edge in the telecom industry, ensuring sustained customer loyalty and satisfaction.\n",
    "\n",
    "\n",
    "\n",
    "\n"
   ]
  }
 ],
 "metadata": {
  "ExecuteTimeLog": [
   {
    "duration": 828,
    "start_time": "2021-11-16T09:21:11.304Z"
   },
   {
    "duration": 893,
    "start_time": "2021-11-16T09:21:17.728Z"
   },
   {
    "duration": 1150,
    "start_time": "2021-11-16T09:21:29.568Z"
   },
   {
    "duration": 3,
    "start_time": "2021-11-16T09:24:14.495Z"
   },
   {
    "duration": 120,
    "start_time": "2021-11-16T09:24:46.630Z"
   },
   {
    "duration": 3,
    "start_time": "2021-11-16T09:28:27.882Z"
   },
   {
    "duration": 4,
    "start_time": "2021-11-16T09:29:54.281Z"
   },
   {
    "duration": 3,
    "start_time": "2021-11-16T09:30:45.936Z"
   },
   {
    "duration": 4,
    "start_time": "2021-11-16T09:31:06.300Z"
   },
   {
    "duration": 113,
    "start_time": "2021-11-16T09:31:37.208Z"
   },
   {
    "duration": 143,
    "start_time": "2021-11-16T09:31:48.656Z"
   },
   {
    "duration": 98,
    "start_time": "2021-11-16T09:31:55.678Z"
   },
   {
    "duration": 3,
    "start_time": "2021-11-16T09:32:08.535Z"
   },
   {
    "duration": 111,
    "start_time": "2021-11-16T09:32:10.120Z"
   },
   {
    "duration": 3,
    "start_time": "2021-11-16T09:32:15.732Z"
   },
   {
    "duration": 4,
    "start_time": "2021-11-16T09:32:29.423Z"
   },
   {
    "duration": 3,
    "start_time": "2021-11-16T10:03:03.074Z"
   },
   {
    "duration": 3,
    "start_time": "2021-11-16T10:10:01.288Z"
   },
   {
    "duration": 3,
    "start_time": "2021-11-16T10:10:46.923Z"
   },
   {
    "duration": 121,
    "start_time": "2021-11-16T10:37:46.494Z"
   },
   {
    "duration": 125,
    "start_time": "2021-11-16T10:38:20.632Z"
   },
   {
    "duration": 112,
    "start_time": "2021-11-16T10:46:53.001Z"
   },
   {
    "duration": 110,
    "start_time": "2021-11-16T10:48:25.775Z"
   },
   {
    "duration": 3,
    "start_time": "2021-11-16T10:50:18.720Z"
   },
   {
    "duration": 4,
    "start_time": "2021-11-16T10:50:37.649Z"
   },
   {
    "duration": 2,
    "start_time": "2021-11-16T10:50:51.884Z"
   },
   {
    "duration": 3,
    "start_time": "2021-11-16T10:51:56.237Z"
   },
   {
    "duration": 101,
    "start_time": "2021-11-16T10:53:13.791Z"
   },
   {
    "duration": 3,
    "start_time": "2021-11-16T10:55:59.186Z"
   },
   {
    "duration": 3,
    "start_time": "2021-11-16T10:56:10.751Z"
   },
   {
    "duration": 3,
    "start_time": "2021-11-16T10:56:49.038Z"
   },
   {
    "duration": 3,
    "start_time": "2021-11-16T10:56:49.174Z"
   },
   {
    "duration": 4,
    "start_time": "2021-11-16T10:56:49.414Z"
   },
   {
    "duration": 3,
    "start_time": "2021-11-16T10:56:49.680Z"
   },
   {
    "duration": 3,
    "start_time": "2021-11-16T10:56:50.370Z"
   },
   {
    "duration": 114,
    "start_time": "2021-11-16T10:59:34.518Z"
   },
   {
    "duration": 3,
    "start_time": "2021-11-16T11:01:41.201Z"
   },
   {
    "duration": 116,
    "start_time": "2021-11-16T11:01:48.754Z"
   },
   {
    "duration": 3,
    "start_time": "2021-11-16T11:02:16.685Z"
   },
   {
    "duration": 3,
    "start_time": "2021-11-16T11:02:19.479Z"
   },
   {
    "duration": 3,
    "start_time": "2021-11-16T11:02:47.067Z"
   },
   {
    "duration": 3,
    "start_time": "2021-11-16T11:02:49.353Z"
   },
   {
    "duration": 3,
    "start_time": "2021-11-16T11:03:07.835Z"
   },
   {
    "duration": 3,
    "start_time": "2021-11-16T11:03:07.953Z"
   },
   {
    "duration": 112,
    "start_time": "2021-11-16T11:07:52.072Z"
   },
   {
    "duration": 187,
    "start_time": "2021-11-16T11:09:23.468Z"
   },
   {
    "duration": 4,
    "start_time": "2021-11-16T11:10:01.455Z"
   },
   {
    "duration": 3,
    "start_time": "2021-11-16T11:10:05.069Z"
   },
   {
    "duration": 4,
    "start_time": "2021-11-16T11:10:13.376Z"
   },
   {
    "duration": 3,
    "start_time": "2021-11-16T11:10:14.434Z"
   },
   {
    "duration": 3,
    "start_time": "2021-11-16T11:10:22.853Z"
   },
   {
    "duration": 4,
    "start_time": "2021-11-16T11:27:29.279Z"
   },
   {
    "duration": 4,
    "start_time": "2021-11-16T11:29:08.919Z"
   },
   {
    "duration": 118,
    "start_time": "2021-11-16T11:29:46.703Z"
   },
   {
    "duration": 437,
    "start_time": "2021-11-16T11:36:02.181Z"
   },
   {
    "duration": 157,
    "start_time": "2021-11-16T11:36:14.388Z"
   },
   {
    "duration": 207,
    "start_time": "2021-11-16T11:47:15.898Z"
   },
   {
    "duration": 3,
    "start_time": "2021-11-16T11:53:52.092Z"
   },
   {
    "duration": 3,
    "start_time": "2021-11-16T11:53:52.236Z"
   },
   {
    "duration": 3,
    "start_time": "2021-11-16T11:59:12.005Z"
   },
   {
    "duration": 112,
    "start_time": "2021-11-16T12:00:33.446Z"
   },
   {
    "duration": 3,
    "start_time": "2021-11-16T12:02:14.453Z"
   },
   {
    "duration": 3,
    "start_time": "2021-11-16T12:02:39.512Z"
   },
   {
    "duration": 106,
    "start_time": "2021-11-16T12:03:03.460Z"
   },
   {
    "duration": 3,
    "start_time": "2021-11-17T20:37:21.139Z"
   },
   {
    "duration": 3,
    "start_time": "2021-11-17T20:37:22.229Z"
   },
   {
    "duration": 3,
    "start_time": "2021-11-17T20:38:38.806Z"
   },
   {
    "duration": 3,
    "start_time": "2021-11-17T20:38:41.958Z"
   },
   {
    "duration": 3,
    "start_time": "2021-11-17T20:43:46.551Z"
   },
   {
    "duration": 4,
    "start_time": "2021-11-17T20:58:21.835Z"
   },
   {
    "duration": 3,
    "start_time": "2021-11-17T20:59:21.872Z"
   },
   {
    "duration": 4,
    "start_time": "2021-11-17T20:59:45.352Z"
   },
   {
    "duration": 4,
    "start_time": "2021-11-17T20:59:49.646Z"
   },
   {
    "duration": 159,
    "start_time": "2021-11-17T21:02:26.949Z"
   },
   {
    "duration": 3,
    "start_time": "2021-11-17T21:03:53.461Z"
   },
   {
    "duration": 3,
    "start_time": "2021-11-17T21:03:53.694Z"
   },
   {
    "duration": 3,
    "start_time": "2021-11-17T21:05:28.145Z"
   },
   {
    "duration": 116,
    "start_time": "2021-11-17T21:05:57.787Z"
   },
   {
    "duration": 3,
    "start_time": "2021-11-17T21:06:37.993Z"
   },
   {
    "duration": 3,
    "start_time": "2021-11-17T21:06:38.261Z"
   },
   {
    "duration": 3,
    "start_time": "2021-11-17T21:11:54.358Z"
   },
   {
    "duration": 3,
    "start_time": "2021-11-17T21:12:43.846Z"
   },
   {
    "duration": 4,
    "start_time": "2021-11-17T21:13:08.773Z"
   },
   {
    "duration": 3,
    "start_time": "2021-11-17T21:14:44.441Z"
   },
   {
    "duration": 3,
    "start_time": "2021-11-17T21:15:42.059Z"
   },
   {
    "duration": 4,
    "start_time": "2021-11-17T21:15:51.995Z"
   },
   {
    "duration": 3,
    "start_time": "2021-11-17T21:15:53.923Z"
   },
   {
    "duration": 3,
    "start_time": "2021-11-17T21:15:55.282Z"
   },
   {
    "duration": 3,
    "start_time": "2021-11-17T21:16:28.492Z"
   },
   {
    "duration": 3,
    "start_time": "2021-11-17T21:16:32.603Z"
   },
   {
    "duration": 3,
    "start_time": "2021-11-17T21:17:06.941Z"
   },
   {
    "duration": 98,
    "start_time": "2021-11-17T21:18:05.733Z"
   },
   {
    "duration": 4,
    "start_time": "2021-11-17T21:21:35.255Z"
   },
   {
    "duration": 3,
    "start_time": "2021-11-17T21:21:37.804Z"
   },
   {
    "duration": 4,
    "start_time": "2021-11-17T21:23:06.071Z"
   },
   {
    "duration": 3,
    "start_time": "2021-11-17T21:23:24.799Z"
   },
   {
    "duration": 3,
    "start_time": "2021-11-17T21:23:32.591Z"
   },
   {
    "duration": 98,
    "start_time": "2021-11-17T21:28:31.559Z"
   },
   {
    "duration": 3,
    "start_time": "2021-11-17T21:28:45.448Z"
   },
   {
    "duration": 3,
    "start_time": "2021-11-17T21:29:17.303Z"
   },
   {
    "duration": 3,
    "start_time": "2021-11-17T21:29:29.617Z"
   },
   {
    "duration": 3,
    "start_time": "2021-11-17T21:29:32.681Z"
   },
   {
    "duration": 3,
    "start_time": "2021-11-17T21:36:11.474Z"
   },
   {
    "duration": 3,
    "start_time": "2021-11-17T21:36:14.791Z"
   },
   {
    "duration": 3,
    "start_time": "2021-11-17T21:36:53.943Z"
   },
   {
    "duration": 3,
    "start_time": "2021-11-17T21:36:56.165Z"
   },
   {
    "duration": 4,
    "start_time": "2021-11-17T21:37:16.590Z"
   },
   {
    "duration": 3,
    "start_time": "2021-11-17T21:37:22.702Z"
   },
   {
    "duration": 4,
    "start_time": "2021-11-17T21:38:03.479Z"
   },
   {
    "duration": 3,
    "start_time": "2021-11-17T21:38:08.601Z"
   },
   {
    "duration": 3,
    "start_time": "2021-11-17T21:38:12.928Z"
   },
   {
    "duration": 3,
    "start_time": "2021-11-17T21:38:48.896Z"
   },
   {
    "duration": 2,
    "start_time": "2021-11-17T21:38:49.171Z"
   },
   {
    "duration": 4,
    "start_time": "2021-11-17T21:39:57.889Z"
   },
   {
    "duration": 3,
    "start_time": "2021-11-17T21:39:58.057Z"
   },
   {
    "duration": 3,
    "start_time": "2021-11-17T21:41:20.108Z"
   },
   {
    "duration": 3,
    "start_time": "2021-11-17T21:41:20.629Z"
   },
   {
    "duration": 3,
    "start_time": "2021-11-17T21:42:49.136Z"
   },
   {
    "duration": 3,
    "start_time": "2021-11-17T21:43:15.137Z"
   },
   {
    "duration": 4,
    "start_time": "2021-11-17T21:43:16.766Z"
   },
   {
    "duration": 4,
    "start_time": "2021-11-17T21:43:31.711Z"
   },
   {
    "duration": 3,
    "start_time": "2021-11-17T21:43:36.312Z"
   },
   {
    "duration": 4,
    "start_time": "2021-11-17T21:45:08.825Z"
   },
   {
    "duration": 4,
    "start_time": "2021-11-17T21:45:10.119Z"
   },
   {
    "duration": 4,
    "start_time": "2021-11-17T21:45:13.748Z"
   },
   {
    "duration": 3,
    "start_time": "2021-11-17T21:45:22.219Z"
   },
   {
    "duration": 3,
    "start_time": "2021-11-17T21:45:33.412Z"
   },
   {
    "duration": 2,
    "start_time": "2021-11-17T21:46:01.885Z"
   },
   {
    "duration": 3,
    "start_time": "2021-11-17T21:46:03.628Z"
   },
   {
    "duration": 107,
    "start_time": "2021-11-17T21:47:32.512Z"
   },
   {
    "duration": 103,
    "start_time": "2021-11-17T21:50:36.243Z"
   },
   {
    "duration": 3,
    "start_time": "2021-11-18T06:28:31.440Z"
   },
   {
    "duration": 3,
    "start_time": "2021-11-18T06:29:00.168Z"
   },
   {
    "duration": 3,
    "start_time": "2021-11-18T06:31:27.008Z"
   },
   {
    "duration": 2,
    "start_time": "2021-11-18T06:35:34.288Z"
   },
   {
    "duration": 2,
    "start_time": "2021-11-18T06:38:04.527Z"
   },
   {
    "duration": 1581,
    "start_time": "2024-05-30T06:26:24.625Z"
   },
   {
    "duration": 81,
    "start_time": "2024-05-30T06:26:26.212Z"
   },
   {
    "duration": 72,
    "start_time": "2024-05-30T06:26:26.298Z"
   },
   {
    "duration": 8,
    "start_time": "2024-05-30T06:26:26.376Z"
   },
   {
    "duration": 1926,
    "start_time": "2024-05-30T06:26:26.388Z"
   },
   {
    "duration": 0,
    "start_time": "2024-05-30T06:26:28.322Z"
   },
   {
    "duration": 0,
    "start_time": "2024-05-30T06:26:28.323Z"
   },
   {
    "duration": 0,
    "start_time": "2024-05-30T06:26:28.328Z"
   },
   {
    "duration": 0,
    "start_time": "2024-05-30T06:26:28.331Z"
   },
   {
    "duration": 0,
    "start_time": "2024-05-30T06:26:28.334Z"
   },
   {
    "duration": 0,
    "start_time": "2024-05-30T06:26:28.337Z"
   },
   {
    "duration": 0,
    "start_time": "2024-05-30T06:26:28.339Z"
   },
   {
    "duration": 0,
    "start_time": "2024-05-30T06:26:28.343Z"
   },
   {
    "duration": 1,
    "start_time": "2024-05-30T06:26:28.345Z"
   },
   {
    "duration": 0,
    "start_time": "2024-05-30T06:26:28.348Z"
   },
   {
    "duration": 0,
    "start_time": "2024-05-30T06:26:28.351Z"
   },
   {
    "duration": 0,
    "start_time": "2024-05-30T06:26:28.357Z"
   },
   {
    "duration": 0,
    "start_time": "2024-05-30T06:26:28.360Z"
   },
   {
    "duration": 0,
    "start_time": "2024-05-30T06:26:28.363Z"
   },
   {
    "duration": 0,
    "start_time": "2024-05-30T06:26:28.367Z"
   },
   {
    "duration": 1,
    "start_time": "2024-05-30T06:26:28.369Z"
   },
   {
    "duration": 0,
    "start_time": "2024-05-30T06:26:28.373Z"
   },
   {
    "duration": 0,
    "start_time": "2024-05-30T06:26:28.376Z"
   },
   {
    "duration": 0,
    "start_time": "2024-05-30T06:26:28.379Z"
   },
   {
    "duration": 0,
    "start_time": "2024-05-30T06:48:21.429Z"
   },
   {
    "duration": 0,
    "start_time": "2024-05-30T06:48:21.432Z"
   },
   {
    "duration": 0,
    "start_time": "2024-05-30T06:48:21.434Z"
   },
   {
    "duration": 0,
    "start_time": "2024-05-30T06:48:21.436Z"
   },
   {
    "duration": 0,
    "start_time": "2024-05-30T06:48:21.438Z"
   },
   {
    "duration": 0,
    "start_time": "2024-05-30T06:48:21.440Z"
   },
   {
    "duration": 0,
    "start_time": "2024-05-30T06:48:21.443Z"
   },
   {
    "duration": 0,
    "start_time": "2024-05-30T06:48:21.445Z"
   },
   {
    "duration": 0,
    "start_time": "2024-05-30T06:48:21.446Z"
   },
   {
    "duration": 0,
    "start_time": "2024-05-30T06:48:21.450Z"
   },
   {
    "duration": 0,
    "start_time": "2024-05-30T06:48:21.452Z"
   },
   {
    "duration": 0,
    "start_time": "2024-05-30T06:48:21.454Z"
   },
   {
    "duration": 0,
    "start_time": "2024-05-30T06:48:21.456Z"
   },
   {
    "duration": 0,
    "start_time": "2024-05-30T06:48:21.457Z"
   },
   {
    "duration": 0,
    "start_time": "2024-05-30T06:48:21.458Z"
   },
   {
    "duration": 0,
    "start_time": "2024-05-30T06:48:21.459Z"
   },
   {
    "duration": 1280,
    "start_time": "2024-05-30T06:50:38.723Z"
   },
   {
    "duration": 48,
    "start_time": "2024-05-30T06:50:40.009Z"
   },
   {
    "duration": 74,
    "start_time": "2024-05-30T06:50:40.060Z"
   },
   {
    "duration": 5,
    "start_time": "2024-05-30T06:50:40.140Z"
   },
   {
    "duration": 1370,
    "start_time": "2024-05-30T06:50:40.149Z"
   },
   {
    "duration": 0,
    "start_time": "2024-05-30T06:50:41.523Z"
   },
   {
    "duration": 1,
    "start_time": "2024-05-30T06:50:41.525Z"
   },
   {
    "duration": 1,
    "start_time": "2024-05-30T06:50:41.527Z"
   },
   {
    "duration": 0,
    "start_time": "2024-05-30T06:50:41.530Z"
   },
   {
    "duration": 0,
    "start_time": "2024-05-30T06:50:41.533Z"
   },
   {
    "duration": 0,
    "start_time": "2024-05-30T06:50:41.535Z"
   },
   {
    "duration": 0,
    "start_time": "2024-05-30T06:50:41.537Z"
   },
   {
    "duration": 0,
    "start_time": "2024-05-30T06:50:41.540Z"
   },
   {
    "duration": 0,
    "start_time": "2024-05-30T06:50:41.543Z"
   },
   {
    "duration": 0,
    "start_time": "2024-05-30T06:50:41.544Z"
   },
   {
    "duration": 0,
    "start_time": "2024-05-30T06:50:41.546Z"
   },
   {
    "duration": 0,
    "start_time": "2024-05-30T06:50:41.547Z"
   },
   {
    "duration": 0,
    "start_time": "2024-05-30T06:50:41.549Z"
   },
   {
    "duration": 0,
    "start_time": "2024-05-30T06:50:41.551Z"
   },
   {
    "duration": 1,
    "start_time": "2024-05-30T06:50:41.552Z"
   },
   {
    "duration": 0,
    "start_time": "2024-05-30T06:50:41.556Z"
   },
   {
    "duration": 0,
    "start_time": "2024-05-30T06:50:41.558Z"
   },
   {
    "duration": 0,
    "start_time": "2024-05-30T06:50:41.561Z"
   },
   {
    "duration": 1,
    "start_time": "2024-05-30T06:50:41.563Z"
   },
   {
    "duration": 110,
    "start_time": "2024-05-30T06:54:37.701Z"
   },
   {
    "duration": 37,
    "start_time": "2024-05-30T06:55:20.677Z"
   },
   {
    "duration": 43,
    "start_time": "2024-05-30T06:55:21.655Z"
   },
   {
    "duration": 678,
    "start_time": "2024-05-30T06:57:25.662Z"
   },
   {
    "duration": 1582,
    "start_time": "2024-05-30T06:57:31.576Z"
   },
   {
    "duration": 0,
    "start_time": "2024-05-30T06:57:33.161Z"
   },
   {
    "duration": 145,
    "start_time": "2024-05-30T06:58:01.827Z"
   },
   {
    "duration": 44,
    "start_time": "2024-05-30T06:58:08.068Z"
   },
   {
    "duration": 540,
    "start_time": "2024-05-30T06:58:10.973Z"
   },
   {
    "duration": 467,
    "start_time": "2024-05-30T06:58:11.960Z"
   },
   {
    "duration": 1653,
    "start_time": "2024-05-30T06:59:13.597Z"
   },
   {
    "duration": 292,
    "start_time": "2024-05-30T06:59:36.215Z"
   },
   {
    "duration": 268,
    "start_time": "2024-05-30T06:59:36.838Z"
   },
   {
    "duration": 503,
    "start_time": "2024-05-30T06:59:37.956Z"
   },
   {
    "duration": 374,
    "start_time": "2024-05-30T06:59:38.462Z"
   },
   {
    "duration": 698,
    "start_time": "2024-05-30T06:59:38.840Z"
   },
   {
    "duration": 692,
    "start_time": "2024-05-30T07:00:53.530Z"
   },
   {
    "duration": 442,
    "start_time": "2024-05-30T07:00:54.227Z"
   },
   {
    "duration": 406,
    "start_time": "2024-05-30T07:00:54.673Z"
   },
   {
    "duration": 15,
    "start_time": "2024-05-30T07:00:55.083Z"
   },
   {
    "duration": 15,
    "start_time": "2024-05-30T07:00:55.122Z"
   },
   {
    "duration": 1227,
    "start_time": "2024-05-30T21:39:57.452Z"
   },
   {
    "duration": 73,
    "start_time": "2024-05-30T21:39:58.683Z"
   },
   {
    "duration": 60,
    "start_time": "2024-05-30T21:39:58.762Z"
   },
   {
    "duration": 6,
    "start_time": "2024-05-30T21:39:58.829Z"
   },
   {
    "duration": 1581,
    "start_time": "2024-05-30T21:39:58.838Z"
   },
   {
    "duration": 0,
    "start_time": "2024-05-30T21:40:00.429Z"
   },
   {
    "duration": 1,
    "start_time": "2024-05-30T21:40:00.434Z"
   },
   {
    "duration": 0,
    "start_time": "2024-05-30T21:40:00.441Z"
   },
   {
    "duration": 0,
    "start_time": "2024-05-30T21:40:00.443Z"
   },
   {
    "duration": 0,
    "start_time": "2024-05-30T21:40:00.446Z"
   },
   {
    "duration": 0,
    "start_time": "2024-05-30T21:40:00.455Z"
   },
   {
    "duration": 0,
    "start_time": "2024-05-30T21:40:00.460Z"
   },
   {
    "duration": 0,
    "start_time": "2024-05-30T21:40:00.465Z"
   },
   {
    "duration": 0,
    "start_time": "2024-05-30T21:40:00.467Z"
   },
   {
    "duration": 0,
    "start_time": "2024-05-30T21:40:00.469Z"
   },
   {
    "duration": 0,
    "start_time": "2024-05-30T21:40:00.472Z"
   },
   {
    "duration": 0,
    "start_time": "2024-05-30T21:40:00.474Z"
   },
   {
    "duration": 0,
    "start_time": "2024-05-30T21:40:00.476Z"
   },
   {
    "duration": 0,
    "start_time": "2024-05-30T21:40:00.478Z"
   },
   {
    "duration": 0,
    "start_time": "2024-05-30T21:40:00.481Z"
   },
   {
    "duration": 0,
    "start_time": "2024-05-30T21:40:00.482Z"
   },
   {
    "duration": 0,
    "start_time": "2024-05-30T21:40:00.511Z"
   },
   {
    "duration": 0,
    "start_time": "2024-05-30T21:40:00.513Z"
   },
   {
    "duration": 0,
    "start_time": "2024-05-30T21:40:00.515Z"
   },
   {
    "duration": 0,
    "start_time": "2024-05-30T21:40:00.517Z"
   }
  ],
  "kernelspec": {
   "display_name": "Python 3 (ipykernel)",
   "language": "python",
   "name": "python3"
  },
  "language_info": {
   "codemirror_mode": {
    "name": "ipython",
    "version": 3
   },
   "file_extension": ".py",
   "mimetype": "text/x-python",
   "name": "python",
   "nbconvert_exporter": "python",
   "pygments_lexer": "ipython3",
   "version": "3.11.7"
  },
  "toc": {
   "base_numbering": 1,
   "nav_menu": {},
   "number_sections": true,
   "sideBar": true,
   "skip_h1_title": false,
   "title_cell": "Table of Contents",
   "title_sidebar": "Contents",
   "toc_cell": false,
   "toc_position": {},
   "toc_section_display": true,
   "toc_window_display": false
  }
 },
 "nbformat": 4,
 "nbformat_minor": 4
}
