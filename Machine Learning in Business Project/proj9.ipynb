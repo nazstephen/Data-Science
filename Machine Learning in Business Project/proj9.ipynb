{
 "cells": [
  {
   "cell_type": "markdown",
   "metadata": {},
   "source": [
    "# Machine Learning in Business Project <a id='intro'></a>"
   ]
  },
  {
   "cell_type": "markdown",
   "metadata": {},
   "source": [
    "## Project Description\n",
    "\n",
    "You work for the OilyGiant mining company. Your task is to find the best place for a new well.\n",
    "\n",
    "Steps to choose the location:\n",
    "- Collect the oil well parameters in the selected region: oil quality and volume of reserves;\n",
    "- Build a model for predicting the volume of reserves in the new wells;\n",
    "- Pick the oil wells with the highest estimated values;\n",
    "- Pick the region with the highest total profit for the selected oil wells.\n",
    "\n",
    "You have data on oil samples from three regions. Parameters of each oil well in the region are already known. Build a model that will help to pick the region with the highest profit margin. Analyze potential profit and risks using the *Bootstrapping* technique.\n",
    "\n",
    "## Project Instructions\n",
    "\n",
    "1. **Download and prepare the data. Explain the procedure.**\n",
    "\n",
    "2. **Train and test the model for each region:**\n",
    "\n",
    "    2.1. Split the data into a training set and validation set at a ratio of 75:25.\n",
    "\n",
    "    2.2. Train the model and make predictions for the validation set.\n",
    "\n",
    "    2.3. Save the predictions and correct answers for the validation set.\n",
    "\n",
    "    2.4. Print the average volume of predicted reserves and model *RMSE*.\n",
    "\n",
    "    2.5. Analyze the results.\n",
    "\n",
    "3. **Prepare for profit calculation:**\n",
    "\n",
    "    3.1. Store all key values for calculations in separate variables.\n",
    "\n",
    "    3.2. Calculate the volume of reserves sufficient for developing a new well without losses. Compare the obtained value with the average volume of reserves in each region.\n",
    "\n",
    "    3.3. Provide the findings about the preparation for profit calculation step.\n",
    "\n",
    "4. **Write a function to calculate profit from a set of selected oil wells and model predictions:**\n",
    "\n",
    "    4.1. Pick the wells with the highest values of predictions. \n",
    "\n",
    "    4.2. Summarize the target volume of reserves in accordance with these predictions\n",
    "\n",
    "    4.3. Provide findings: suggest a region for oil wells' development and justify the choice. Calculate the profit for the obtained volume of reserves.\n",
    "\n",
    "5. **Calculate risks and profit for each region:**\n",
    "\n",
    "    5.1. Use the bootstrapping technique with 1000 samples to find the distribution of profit.\n",
    "\n",
    "    5.2. Find average profit, 95% confidence interval and risk of losses. Loss is negative profit, calculate it as a probability and then express as a percentage.\n",
    "\n",
    "    5.3. Provide findings: suggest a region for development of oil wells and justify the choice.\n",
    "\n",
    "## Data Description\n",
    "\n",
    "Geological exploration data for the three regions are stored in files:\n",
    "- `geo_data_0.csv`\n",
    "- `geo_data_1.csv`\n",
    "- `geo_data_2.csv`\n",
    "- **id** — unique oil well identifier\n",
    "- **f0**, **f1**, **f2** — three features of points\n",
    "- **product** — volume of reserves in the oil well (thousand barrels)\n",
    "\n",
    "## Conditions:\n",
    "\n",
    "- Only linear regression is suitable for model training.\n",
    "- When exploring the region, a study of 500 points is carried with picking the best 200 points for the profit calculation.\n",
    "- The budget for development of 200 oil wells is 100 USD million.\n",
    "- One barrel of raw materials brings 4.5 USD of revenue The revenue from one unit of product is 4,500 dollars (volume of reserves is in thousand barrels).\n",
    "- After the risk evaluation, keep only the regions with the risk of losses lower than 2.5%. From the ones that fit the criteria, the region with the highest average profit should be selected.\n",
    "- The data is synthetic: contract details and well characteristics are not disclosed."
   ]
  },
  {
   "cell_type": "markdown",
   "metadata": {},
   "source": [
    "## Initialize\n",
    "\n",
    "This set of Python library imports establishes a foundational toolkit for data analysis, machine learning, and statistical computations."
   ]
  },
  {
   "cell_type": "code",
   "execution_count": 1,
   "metadata": {},
   "outputs": [],
   "source": [
    "# Loading all the libraries\n",
    "import pandas as pd\n",
    "import numpy as np\n",
    "import matplotlib.pyplot as plt\n",
    "from sklearn.linear_model import LinearRegression\n",
    "from sklearn.model_selection import train_test_split\n",
    "from sklearn.metrics import mean_squared_error\n",
    "import scipy.stats as st"
   ]
  },
  {
   "cell_type": "markdown",
   "metadata": {},
   "source": [
    "## Download Data\n",
    "\n",
    "This function 'load_data' is designed to load CSV files from either a local directory or a server path, attempting to read each file sequentially. "
   ]
  },
  {
   "cell_type": "code",
   "execution_count": 2,
   "metadata": {},
   "outputs": [
    {
     "name": "stdout",
     "output_type": "stream",
     "text": [
      "'geo_data_0.csv' file successfully read from the local path.\n",
      "'geo_data_1.csv' file successfully read from the local path.\n",
      "'geo_data_2.csv' file successfully read from the local path.\n"
     ]
    }
   ],
   "source": [
    "# Load Data function\n",
    "def load_data(file_name, local_path, server_path):\n",
    "    try:\n",
    "        # Attempt to read the file from the local path\n",
    "        data = pd.read_csv(local_path + file_name)\n",
    "        print(f\"'{file_name}' file successfully read from the local path.\")\n",
    "    except FileNotFoundError:\n",
    "        try:\n",
    "            # If file not found locally, attempt to read from the server path\n",
    "            data = pd.read_csv(server_path + file_name)\n",
    "            print(f\"'{file_name}' file successfully read from the server path.\")\n",
    "        except FileNotFoundError:\n",
    "            # If file not found in both paths, print an error message\n",
    "            print(f\"'{file_name}' file not found. Please check the file paths.\")\n",
    "            data = None\n",
    "    return data\n",
    "\n",
    "# File names and paths\n",
    "file_names = ['geo_data_0.csv', 'geo_data_1.csv', 'geo_data_2.csv']\n",
    "local_path = '/Users/benjaminstephen/Documents/TripleTen/Sprint_9/Machine_Learning_in_Business_Project/datasets/'\n",
    "server_path = '/datasets/'\n",
    "\n",
    "# Load the data files\n",
    "geo_data_0 = load_data(file_names[0], local_path, server_path)\n",
    "geo_data_1 = load_data(file_names[1], local_path, server_path)\n",
    "geo_data_2 = load_data(file_names[2], local_path, server_path)    "
   ]
  },
  {
   "cell_type": "markdown",
   "metadata": {},
   "source": [
    "## Prepare Data"
   ]
  },
  {
   "cell_type": "markdown",
   "metadata": {},
   "source": [
    "This 'analyze' function is designed to perform basic exploratory data analysis (EDA) tasks on a given DataFrame"
   ]
  },
  {
   "cell_type": "code",
   "execution_count": 3,
   "metadata": {},
   "outputs": [],
   "source": [
    "# Analyze function\n",
    "def analyze(data):\n",
    "    # Display the DataFrame\n",
    "    display(data)\n",
    "\n",
    "    # Print DataFrame Info\n",
    "    print(\"DATAFRAME INFO:\")\n",
    "    data.info()\n",
    "    print()\n",
    "\n",
    "    # Calculate Percentage of Null Values\n",
    "    print(\"PERCENTAGE OF NULL VALUES:\")\n",
    "    print(data.isnull().sum()/len(data))\n",
    "    print()\n",
    "\n",
    "    # Calculate Number of Duplicated Rows\n",
    "    print(\"NUMBER OF DUPLICATED ROWS:\", data.duplicated().sum())\n",
    "    print()"
   ]
  },
  {
   "cell_type": "code",
   "execution_count": 4,
   "metadata": {},
   "outputs": [
    {
     "name": "stdout",
     "output_type": "stream",
     "text": [
      "REGION 0:\n"
     ]
    },
    {
     "data": {
      "text/html": [
       "<div>\n",
       "<style scoped>\n",
       "    .dataframe tbody tr th:only-of-type {\n",
       "        vertical-align: middle;\n",
       "    }\n",
       "\n",
       "    .dataframe tbody tr th {\n",
       "        vertical-align: top;\n",
       "    }\n",
       "\n",
       "    .dataframe thead th {\n",
       "        text-align: right;\n",
       "    }\n",
       "</style>\n",
       "<table border=\"1\" class=\"dataframe\">\n",
       "  <thead>\n",
       "    <tr style=\"text-align: right;\">\n",
       "      <th></th>\n",
       "      <th>id</th>\n",
       "      <th>f0</th>\n",
       "      <th>f1</th>\n",
       "      <th>f2</th>\n",
       "      <th>product</th>\n",
       "    </tr>\n",
       "  </thead>\n",
       "  <tbody>\n",
       "    <tr>\n",
       "      <th>0</th>\n",
       "      <td>txEyH</td>\n",
       "      <td>0.705745</td>\n",
       "      <td>-0.497823</td>\n",
       "      <td>1.221170</td>\n",
       "      <td>105.280062</td>\n",
       "    </tr>\n",
       "    <tr>\n",
       "      <th>1</th>\n",
       "      <td>2acmU</td>\n",
       "      <td>1.334711</td>\n",
       "      <td>-0.340164</td>\n",
       "      <td>4.365080</td>\n",
       "      <td>73.037750</td>\n",
       "    </tr>\n",
       "    <tr>\n",
       "      <th>2</th>\n",
       "      <td>409Wp</td>\n",
       "      <td>1.022732</td>\n",
       "      <td>0.151990</td>\n",
       "      <td>1.419926</td>\n",
       "      <td>85.265647</td>\n",
       "    </tr>\n",
       "    <tr>\n",
       "      <th>3</th>\n",
       "      <td>iJLyR</td>\n",
       "      <td>-0.032172</td>\n",
       "      <td>0.139033</td>\n",
       "      <td>2.978566</td>\n",
       "      <td>168.620776</td>\n",
       "    </tr>\n",
       "    <tr>\n",
       "      <th>4</th>\n",
       "      <td>Xdl7t</td>\n",
       "      <td>1.988431</td>\n",
       "      <td>0.155413</td>\n",
       "      <td>4.751769</td>\n",
       "      <td>154.036647</td>\n",
       "    </tr>\n",
       "    <tr>\n",
       "      <th>...</th>\n",
       "      <td>...</td>\n",
       "      <td>...</td>\n",
       "      <td>...</td>\n",
       "      <td>...</td>\n",
       "      <td>...</td>\n",
       "    </tr>\n",
       "    <tr>\n",
       "      <th>99995</th>\n",
       "      <td>DLsed</td>\n",
       "      <td>0.971957</td>\n",
       "      <td>0.370953</td>\n",
       "      <td>6.075346</td>\n",
       "      <td>110.744026</td>\n",
       "    </tr>\n",
       "    <tr>\n",
       "      <th>99996</th>\n",
       "      <td>QKivN</td>\n",
       "      <td>1.392429</td>\n",
       "      <td>-0.382606</td>\n",
       "      <td>1.273912</td>\n",
       "      <td>122.346843</td>\n",
       "    </tr>\n",
       "    <tr>\n",
       "      <th>99997</th>\n",
       "      <td>3rnvd</td>\n",
       "      <td>1.029585</td>\n",
       "      <td>0.018787</td>\n",
       "      <td>-1.348308</td>\n",
       "      <td>64.375443</td>\n",
       "    </tr>\n",
       "    <tr>\n",
       "      <th>99998</th>\n",
       "      <td>7kl59</td>\n",
       "      <td>0.998163</td>\n",
       "      <td>-0.528582</td>\n",
       "      <td>1.583869</td>\n",
       "      <td>74.040764</td>\n",
       "    </tr>\n",
       "    <tr>\n",
       "      <th>99999</th>\n",
       "      <td>1CWhH</td>\n",
       "      <td>1.764754</td>\n",
       "      <td>-0.266417</td>\n",
       "      <td>5.722849</td>\n",
       "      <td>149.633246</td>\n",
       "    </tr>\n",
       "  </tbody>\n",
       "</table>\n",
       "<p>100000 rows × 5 columns</p>\n",
       "</div>"
      ],
      "text/plain": [
       "          id        f0        f1        f2     product\n",
       "0      txEyH  0.705745 -0.497823  1.221170  105.280062\n",
       "1      2acmU  1.334711 -0.340164  4.365080   73.037750\n",
       "2      409Wp  1.022732  0.151990  1.419926   85.265647\n",
       "3      iJLyR -0.032172  0.139033  2.978566  168.620776\n",
       "4      Xdl7t  1.988431  0.155413  4.751769  154.036647\n",
       "...      ...       ...       ...       ...         ...\n",
       "99995  DLsed  0.971957  0.370953  6.075346  110.744026\n",
       "99996  QKivN  1.392429 -0.382606  1.273912  122.346843\n",
       "99997  3rnvd  1.029585  0.018787 -1.348308   64.375443\n",
       "99998  7kl59  0.998163 -0.528582  1.583869   74.040764\n",
       "99999  1CWhH  1.764754 -0.266417  5.722849  149.633246\n",
       "\n",
       "[100000 rows x 5 columns]"
      ]
     },
     "metadata": {},
     "output_type": "display_data"
    },
    {
     "name": "stdout",
     "output_type": "stream",
     "text": [
      "DATAFRAME INFO:\n",
      "<class 'pandas.core.frame.DataFrame'>\n",
      "RangeIndex: 100000 entries, 0 to 99999\n",
      "Data columns (total 5 columns):\n",
      " #   Column   Non-Null Count   Dtype  \n",
      "---  ------   --------------   -----  \n",
      " 0   id       100000 non-null  object \n",
      " 1   f0       100000 non-null  float64\n",
      " 2   f1       100000 non-null  float64\n",
      " 3   f2       100000 non-null  float64\n",
      " 4   product  100000 non-null  float64\n",
      "dtypes: float64(4), object(1)\n",
      "memory usage: 3.8+ MB\n",
      "\n",
      "PERCENTAGE OF NULL VALUES:\n",
      "id         0.0\n",
      "f0         0.0\n",
      "f1         0.0\n",
      "f2         0.0\n",
      "product    0.0\n",
      "dtype: float64\n",
      "\n",
      "NUMBER OF DUPLICATED ROWS: 0\n",
      "\n"
     ]
    }
   ],
   "source": [
    "# Analyze Region 0\n",
    "print(\"REGION 0:\")\n",
    "analyze(geo_data_0)"
   ]
  },
  {
   "cell_type": "code",
   "execution_count": 5,
   "metadata": {},
   "outputs": [
    {
     "name": "stdout",
     "output_type": "stream",
     "text": [
      "REGION 1:\n"
     ]
    },
    {
     "data": {
      "text/html": [
       "<div>\n",
       "<style scoped>\n",
       "    .dataframe tbody tr th:only-of-type {\n",
       "        vertical-align: middle;\n",
       "    }\n",
       "\n",
       "    .dataframe tbody tr th {\n",
       "        vertical-align: top;\n",
       "    }\n",
       "\n",
       "    .dataframe thead th {\n",
       "        text-align: right;\n",
       "    }\n",
       "</style>\n",
       "<table border=\"1\" class=\"dataframe\">\n",
       "  <thead>\n",
       "    <tr style=\"text-align: right;\">\n",
       "      <th></th>\n",
       "      <th>id</th>\n",
       "      <th>f0</th>\n",
       "      <th>f1</th>\n",
       "      <th>f2</th>\n",
       "      <th>product</th>\n",
       "    </tr>\n",
       "  </thead>\n",
       "  <tbody>\n",
       "    <tr>\n",
       "      <th>0</th>\n",
       "      <td>kBEdx</td>\n",
       "      <td>-15.001348</td>\n",
       "      <td>-8.276000</td>\n",
       "      <td>-0.005876</td>\n",
       "      <td>3.179103</td>\n",
       "    </tr>\n",
       "    <tr>\n",
       "      <th>1</th>\n",
       "      <td>62mP7</td>\n",
       "      <td>14.272088</td>\n",
       "      <td>-3.475083</td>\n",
       "      <td>0.999183</td>\n",
       "      <td>26.953261</td>\n",
       "    </tr>\n",
       "    <tr>\n",
       "      <th>2</th>\n",
       "      <td>vyE1P</td>\n",
       "      <td>6.263187</td>\n",
       "      <td>-5.948386</td>\n",
       "      <td>5.001160</td>\n",
       "      <td>134.766305</td>\n",
       "    </tr>\n",
       "    <tr>\n",
       "      <th>3</th>\n",
       "      <td>KcrkZ</td>\n",
       "      <td>-13.081196</td>\n",
       "      <td>-11.506057</td>\n",
       "      <td>4.999415</td>\n",
       "      <td>137.945408</td>\n",
       "    </tr>\n",
       "    <tr>\n",
       "      <th>4</th>\n",
       "      <td>AHL4O</td>\n",
       "      <td>12.702195</td>\n",
       "      <td>-8.147433</td>\n",
       "      <td>5.004363</td>\n",
       "      <td>134.766305</td>\n",
       "    </tr>\n",
       "    <tr>\n",
       "      <th>...</th>\n",
       "      <td>...</td>\n",
       "      <td>...</td>\n",
       "      <td>...</td>\n",
       "      <td>...</td>\n",
       "      <td>...</td>\n",
       "    </tr>\n",
       "    <tr>\n",
       "      <th>99995</th>\n",
       "      <td>QywKC</td>\n",
       "      <td>9.535637</td>\n",
       "      <td>-6.878139</td>\n",
       "      <td>1.998296</td>\n",
       "      <td>53.906522</td>\n",
       "    </tr>\n",
       "    <tr>\n",
       "      <th>99996</th>\n",
       "      <td>ptvty</td>\n",
       "      <td>-10.160631</td>\n",
       "      <td>-12.558096</td>\n",
       "      <td>5.005581</td>\n",
       "      <td>137.945408</td>\n",
       "    </tr>\n",
       "    <tr>\n",
       "      <th>99997</th>\n",
       "      <td>09gWa</td>\n",
       "      <td>-7.378891</td>\n",
       "      <td>-3.084104</td>\n",
       "      <td>4.998651</td>\n",
       "      <td>137.945408</td>\n",
       "    </tr>\n",
       "    <tr>\n",
       "      <th>99998</th>\n",
       "      <td>rqwUm</td>\n",
       "      <td>0.665714</td>\n",
       "      <td>-6.152593</td>\n",
       "      <td>1.000146</td>\n",
       "      <td>30.132364</td>\n",
       "    </tr>\n",
       "    <tr>\n",
       "      <th>99999</th>\n",
       "      <td>relB0</td>\n",
       "      <td>-3.426139</td>\n",
       "      <td>-7.794274</td>\n",
       "      <td>-0.003299</td>\n",
       "      <td>3.179103</td>\n",
       "    </tr>\n",
       "  </tbody>\n",
       "</table>\n",
       "<p>100000 rows × 5 columns</p>\n",
       "</div>"
      ],
      "text/plain": [
       "          id         f0         f1        f2     product\n",
       "0      kBEdx -15.001348  -8.276000 -0.005876    3.179103\n",
       "1      62mP7  14.272088  -3.475083  0.999183   26.953261\n",
       "2      vyE1P   6.263187  -5.948386  5.001160  134.766305\n",
       "3      KcrkZ -13.081196 -11.506057  4.999415  137.945408\n",
       "4      AHL4O  12.702195  -8.147433  5.004363  134.766305\n",
       "...      ...        ...        ...       ...         ...\n",
       "99995  QywKC   9.535637  -6.878139  1.998296   53.906522\n",
       "99996  ptvty -10.160631 -12.558096  5.005581  137.945408\n",
       "99997  09gWa  -7.378891  -3.084104  4.998651  137.945408\n",
       "99998  rqwUm   0.665714  -6.152593  1.000146   30.132364\n",
       "99999  relB0  -3.426139  -7.794274 -0.003299    3.179103\n",
       "\n",
       "[100000 rows x 5 columns]"
      ]
     },
     "metadata": {},
     "output_type": "display_data"
    },
    {
     "name": "stdout",
     "output_type": "stream",
     "text": [
      "DATAFRAME INFO:\n",
      "<class 'pandas.core.frame.DataFrame'>\n",
      "RangeIndex: 100000 entries, 0 to 99999\n",
      "Data columns (total 5 columns):\n",
      " #   Column   Non-Null Count   Dtype  \n",
      "---  ------   --------------   -----  \n",
      " 0   id       100000 non-null  object \n",
      " 1   f0       100000 non-null  float64\n",
      " 2   f1       100000 non-null  float64\n",
      " 3   f2       100000 non-null  float64\n",
      " 4   product  100000 non-null  float64\n",
      "dtypes: float64(4), object(1)\n",
      "memory usage: 3.8+ MB\n",
      "\n",
      "PERCENTAGE OF NULL VALUES:\n",
      "id         0.0\n",
      "f0         0.0\n",
      "f1         0.0\n",
      "f2         0.0\n",
      "product    0.0\n",
      "dtype: float64\n",
      "\n",
      "NUMBER OF DUPLICATED ROWS: 0\n",
      "\n"
     ]
    }
   ],
   "source": [
    "# Analyze Region 1\n",
    "print(\"REGION 1:\")\n",
    "analyze(geo_data_1)"
   ]
  },
  {
   "cell_type": "code",
   "execution_count": 6,
   "metadata": {},
   "outputs": [
    {
     "name": "stdout",
     "output_type": "stream",
     "text": [
      "REGION 2:\n"
     ]
    },
    {
     "data": {
      "text/html": [
       "<div>\n",
       "<style scoped>\n",
       "    .dataframe tbody tr th:only-of-type {\n",
       "        vertical-align: middle;\n",
       "    }\n",
       "\n",
       "    .dataframe tbody tr th {\n",
       "        vertical-align: top;\n",
       "    }\n",
       "\n",
       "    .dataframe thead th {\n",
       "        text-align: right;\n",
       "    }\n",
       "</style>\n",
       "<table border=\"1\" class=\"dataframe\">\n",
       "  <thead>\n",
       "    <tr style=\"text-align: right;\">\n",
       "      <th></th>\n",
       "      <th>id</th>\n",
       "      <th>f0</th>\n",
       "      <th>f1</th>\n",
       "      <th>f2</th>\n",
       "      <th>product</th>\n",
       "    </tr>\n",
       "  </thead>\n",
       "  <tbody>\n",
       "    <tr>\n",
       "      <th>0</th>\n",
       "      <td>fwXo0</td>\n",
       "      <td>-1.146987</td>\n",
       "      <td>0.963328</td>\n",
       "      <td>-0.828965</td>\n",
       "      <td>27.758673</td>\n",
       "    </tr>\n",
       "    <tr>\n",
       "      <th>1</th>\n",
       "      <td>WJtFt</td>\n",
       "      <td>0.262778</td>\n",
       "      <td>0.269839</td>\n",
       "      <td>-2.530187</td>\n",
       "      <td>56.069697</td>\n",
       "    </tr>\n",
       "    <tr>\n",
       "      <th>2</th>\n",
       "      <td>ovLUW</td>\n",
       "      <td>0.194587</td>\n",
       "      <td>0.289035</td>\n",
       "      <td>-5.586433</td>\n",
       "      <td>62.871910</td>\n",
       "    </tr>\n",
       "    <tr>\n",
       "      <th>3</th>\n",
       "      <td>q6cA6</td>\n",
       "      <td>2.236060</td>\n",
       "      <td>-0.553760</td>\n",
       "      <td>0.930038</td>\n",
       "      <td>114.572842</td>\n",
       "    </tr>\n",
       "    <tr>\n",
       "      <th>4</th>\n",
       "      <td>WPMUX</td>\n",
       "      <td>-0.515993</td>\n",
       "      <td>1.716266</td>\n",
       "      <td>5.899011</td>\n",
       "      <td>149.600746</td>\n",
       "    </tr>\n",
       "    <tr>\n",
       "      <th>...</th>\n",
       "      <td>...</td>\n",
       "      <td>...</td>\n",
       "      <td>...</td>\n",
       "      <td>...</td>\n",
       "      <td>...</td>\n",
       "    </tr>\n",
       "    <tr>\n",
       "      <th>99995</th>\n",
       "      <td>4GxBu</td>\n",
       "      <td>-1.777037</td>\n",
       "      <td>1.125220</td>\n",
       "      <td>6.263374</td>\n",
       "      <td>172.327046</td>\n",
       "    </tr>\n",
       "    <tr>\n",
       "      <th>99996</th>\n",
       "      <td>YKFjq</td>\n",
       "      <td>-1.261523</td>\n",
       "      <td>-0.894828</td>\n",
       "      <td>2.524545</td>\n",
       "      <td>138.748846</td>\n",
       "    </tr>\n",
       "    <tr>\n",
       "      <th>99997</th>\n",
       "      <td>tKPY3</td>\n",
       "      <td>-1.199934</td>\n",
       "      <td>-2.957637</td>\n",
       "      <td>5.219411</td>\n",
       "      <td>157.080080</td>\n",
       "    </tr>\n",
       "    <tr>\n",
       "      <th>99998</th>\n",
       "      <td>nmxp2</td>\n",
       "      <td>-2.419896</td>\n",
       "      <td>2.417221</td>\n",
       "      <td>-5.548444</td>\n",
       "      <td>51.795253</td>\n",
       "    </tr>\n",
       "    <tr>\n",
       "      <th>99999</th>\n",
       "      <td>V9kWn</td>\n",
       "      <td>-2.551421</td>\n",
       "      <td>-2.025625</td>\n",
       "      <td>6.090891</td>\n",
       "      <td>102.775767</td>\n",
       "    </tr>\n",
       "  </tbody>\n",
       "</table>\n",
       "<p>100000 rows × 5 columns</p>\n",
       "</div>"
      ],
      "text/plain": [
       "          id        f0        f1        f2     product\n",
       "0      fwXo0 -1.146987  0.963328 -0.828965   27.758673\n",
       "1      WJtFt  0.262778  0.269839 -2.530187   56.069697\n",
       "2      ovLUW  0.194587  0.289035 -5.586433   62.871910\n",
       "3      q6cA6  2.236060 -0.553760  0.930038  114.572842\n",
       "4      WPMUX -0.515993  1.716266  5.899011  149.600746\n",
       "...      ...       ...       ...       ...         ...\n",
       "99995  4GxBu -1.777037  1.125220  6.263374  172.327046\n",
       "99996  YKFjq -1.261523 -0.894828  2.524545  138.748846\n",
       "99997  tKPY3 -1.199934 -2.957637  5.219411  157.080080\n",
       "99998  nmxp2 -2.419896  2.417221 -5.548444   51.795253\n",
       "99999  V9kWn -2.551421 -2.025625  6.090891  102.775767\n",
       "\n",
       "[100000 rows x 5 columns]"
      ]
     },
     "metadata": {},
     "output_type": "display_data"
    },
    {
     "name": "stdout",
     "output_type": "stream",
     "text": [
      "DATAFRAME INFO:\n",
      "<class 'pandas.core.frame.DataFrame'>\n",
      "RangeIndex: 100000 entries, 0 to 99999\n",
      "Data columns (total 5 columns):\n",
      " #   Column   Non-Null Count   Dtype  \n",
      "---  ------   --------------   -----  \n",
      " 0   id       100000 non-null  object \n",
      " 1   f0       100000 non-null  float64\n",
      " 2   f1       100000 non-null  float64\n",
      " 3   f2       100000 non-null  float64\n",
      " 4   product  100000 non-null  float64\n",
      "dtypes: float64(4), object(1)\n",
      "memory usage: 3.8+ MB\n",
      "\n",
      "PERCENTAGE OF NULL VALUES:\n",
      "id         0.0\n",
      "f0         0.0\n",
      "f1         0.0\n",
      "f2         0.0\n",
      "product    0.0\n",
      "dtype: float64\n",
      "\n",
      "NUMBER OF DUPLICATED ROWS: 0\n",
      "\n"
     ]
    }
   ],
   "source": [
    "# Analyze Region 2\n",
    "print(\"REGION 2:\")\n",
    "analyze(geo_data_2)"
   ]
  },
  {
   "cell_type": "markdown",
   "metadata": {},
   "source": [
    "Each datasets consists of 100,000 entries, each representing a unique oil well within a region identified by the 'id' column. The datasets includes four numerical columns: 'f0', 'f1', and 'f2', which are features representing various geological parameters, and 'product', which indicates the volume of oil reserves in thousand barrels. A detailed inspection reveals that there are no missing values in any of the columns of each dataset, ensuring data completeness. Furthermore, there are no duplicate rows in each dataset, indicating that each entry is unique and provides distinct information about different oil wells in their respective regions."
   ]
  },
  {
   "cell_type": "markdown",
   "metadata": {},
   "source": [
    "## Split Data\n",
    "\n",
    "The 'split_data' function extracts geological features ('f0', 'f1', 'f2') and the target variable ('product') from each region's dataset ('geo_data_0', 'geo_data_1', 'geo_data_2'). It divides the data into training and validation sets using a 75:25 split ratio, ensuring the model is trained on a majority of the data while validating its performance on unseen samples. The 'print_sizes' function provides concise feedback on the sizes of these subsets, verifying the integrity of the data split process."
   ]
  },
  {
   "cell_type": "code",
   "execution_count": 7,
   "metadata": {},
   "outputs": [
    {
     "name": "stdout",
     "output_type": "stream",
     "text": [
      "REGION 0:\n",
      "---------\n",
      "Training Features Size: (75000, 3)\n",
      "Validation Features Size: (25000, 3)\n",
      "Training Target Size: (75000,)\n",
      "Validation Target Size: (25000,)\n",
      "\n",
      "REGION 1:\n",
      "---------\n",
      "Training Features Size: (75000, 3)\n",
      "Validation Features Size: (25000, 3)\n",
      "Training Target Size: (75000,)\n",
      "Validation Target Size: (25000,)\n",
      "\n",
      "REGION 2:\n",
      "---------\n",
      "Training Features Size: (75000, 3)\n",
      "Validation Features Size: (25000, 3)\n",
      "Training Target Size: (75000,)\n",
      "Validation Target Size: (25000,)\n"
     ]
    }
   ],
   "source": [
    "# Split Data function\n",
    "def split_data(data):\n",
    "    # Extract features by dropping 'id' and 'product' columns\n",
    "    features = data.drop(['id', 'product'], axis=1)\n",
    "    \n",
    "    # Extract target labels from the 'product' column\n",
    "    target = data['product']\n",
    "    \n",
    "    # Split data into training and validation sets (75% training, 25% validation)\n",
    "    features_train, features_valid, target_train, target_valid = train_test_split(\n",
    "        features, \n",
    "        target, \n",
    "        test_size=0.25,  # 25% of the data will be validation set\n",
    "        random_state=12345  # Set random seed for reproducibility\n",
    "    )\n",
    "    \n",
    "    return features_train, features_valid, target_train, target_valid\n",
    "\n",
    "# Print Sizes function\n",
    "def print_sizes(features_train, features_valid, target_train, target_valid):\n",
    "    print(\"---------\")\n",
    "    print(\"Training Features Size:\", features_train.shape)\n",
    "    print(\"Validation Features Size:\", features_valid.shape)\n",
    "    print(\"Training Target Size:\", target_train.shape)\n",
    "    print(\"Validation Target Size:\", target_valid.shape)\n",
    "\n",
    "# Split data for Region 0 and print subsets\n",
    "features_train_0, features_valid_0, target_train_0, target_valid_0 = split_data(geo_data_0)\n",
    "print(\"REGION 0:\")\n",
    "print_sizes(features_train_0, features_valid_0, target_train_0, target_valid_0)\n",
    "print()\n",
    "\n",
    "# Split data for Region 1 and print subsets\n",
    "features_train_1, features_valid_1, target_train_1, target_valid_1 = split_data(geo_data_1)\n",
    "print(\"REGION 1:\")\n",
    "print_sizes(features_train_1, features_valid_1, target_train_1, target_valid_1)\n",
    "print()\n",
    "\n",
    "# Split data for Region 2 and print subsets\n",
    "features_train_2, features_valid_2, target_train_2, target_valid_2 = split_data(geo_data_2)\n",
    "print(\"REGION 2:\")\n",
    "print_sizes(features_train_2, features_valid_2, target_train_2, target_valid_2)"
   ]
  },
  {
   "cell_type": "markdown",
   "metadata": {},
   "source": [
    "## Train and Evaluate Models\n",
    "\n",
    "The 'train_model' function initializes a linear regression model and fits it to the training data ('features_train' and 'target_train'). This enables the model to learn the relationship between geological features and oil reserve volumes. After training, predictions are generated for the validation set ('features_valid') to evaluate how well the model generalizes to new data.\n",
    "\n",
    "The evaluate_model function then quantifies the model's performance by computing the Root Mean Squared Error (RMSE) between the predicted and actual oil reserve volumes ('target_valid'). It also provides insights into the average actual and predicted volumes, offering a comparative view through a DataFrame ('act_vs_pred')."
   ]
  },
  {
   "cell_type": "code",
   "execution_count": 8,
   "metadata": {},
   "outputs": [],
   "source": [
    "# Train Model function\n",
    "def train_model(features_train, features_valid, target_train):\n",
    "    # Initialize a Linear Regression model\n",
    "    model = LinearRegression()\n",
    "    \n",
    "    # Train the model on the training set\n",
    "    model.fit(features_train, target_train)\n",
    "    \n",
    "    # Get predictions on the validation set\n",
    "    predictions = model.predict(features_valid)\n",
    "    \n",
    "    return predictions\n",
    "\n",
    "# Evaluate Model function\n",
    "def evaluate_model(target_valid, predictions):\n",
    "    # Display results of model\n",
    "    print(\"---------\")\n",
    "    rmse = mean_squared_error(target_valid, predictions) ** 0.5\n",
    "    print(\"RMSE:\", rmse)\n",
    "    print(\"Average ACTUAL Volume:\", target_valid.mean())\n",
    "    print(\"Average PREDICTED Volume:\", predictions.mean())\n",
    "\n",
    "    # Create a DataFrame to compare actual and predicted volumes\n",
    "    act_vs_pred = pd.DataFrame({'ACTUAL': target_valid, 'PREDICTIONS': predictions})\n",
    "\n",
    "    # Display the DataFrame for comparison\n",
    "    display(act_vs_pred)"
   ]
  },
  {
   "cell_type": "code",
   "execution_count": 9,
   "metadata": {},
   "outputs": [
    {
     "name": "stdout",
     "output_type": "stream",
     "text": [
      "REGION 0:\n",
      "---------\n",
      "RMSE: 37.5794217150813\n",
      "Average ACTUAL Volume: 92.07859674082927\n",
      "Average PREDICTED Volume: 92.59256778438038\n"
     ]
    },
    {
     "data": {
      "text/html": [
       "<div>\n",
       "<style scoped>\n",
       "    .dataframe tbody tr th:only-of-type {\n",
       "        vertical-align: middle;\n",
       "    }\n",
       "\n",
       "    .dataframe tbody tr th {\n",
       "        vertical-align: top;\n",
       "    }\n",
       "\n",
       "    .dataframe thead th {\n",
       "        text-align: right;\n",
       "    }\n",
       "</style>\n",
       "<table border=\"1\" class=\"dataframe\">\n",
       "  <thead>\n",
       "    <tr style=\"text-align: right;\">\n",
       "      <th></th>\n",
       "      <th>ACTUAL</th>\n",
       "      <th>PREDICTIONS</th>\n",
       "    </tr>\n",
       "  </thead>\n",
       "  <tbody>\n",
       "    <tr>\n",
       "      <th>71751</th>\n",
       "      <td>10.038645</td>\n",
       "      <td>95.894952</td>\n",
       "    </tr>\n",
       "    <tr>\n",
       "      <th>80493</th>\n",
       "      <td>114.551489</td>\n",
       "      <td>77.572583</td>\n",
       "    </tr>\n",
       "    <tr>\n",
       "      <th>2655</th>\n",
       "      <td>132.603635</td>\n",
       "      <td>77.892640</td>\n",
       "    </tr>\n",
       "    <tr>\n",
       "      <th>53233</th>\n",
       "      <td>169.072125</td>\n",
       "      <td>90.175134</td>\n",
       "    </tr>\n",
       "    <tr>\n",
       "      <th>91141</th>\n",
       "      <td>122.325180</td>\n",
       "      <td>70.510088</td>\n",
       "    </tr>\n",
       "    <tr>\n",
       "      <th>...</th>\n",
       "      <td>...</td>\n",
       "      <td>...</td>\n",
       "    </tr>\n",
       "    <tr>\n",
       "      <th>12581</th>\n",
       "      <td>170.116726</td>\n",
       "      <td>103.037104</td>\n",
       "    </tr>\n",
       "    <tr>\n",
       "      <th>18456</th>\n",
       "      <td>93.632175</td>\n",
       "      <td>85.403255</td>\n",
       "    </tr>\n",
       "    <tr>\n",
       "      <th>73035</th>\n",
       "      <td>127.352259</td>\n",
       "      <td>61.509833</td>\n",
       "    </tr>\n",
       "    <tr>\n",
       "      <th>63834</th>\n",
       "      <td>99.782700</td>\n",
       "      <td>118.180397</td>\n",
       "    </tr>\n",
       "    <tr>\n",
       "      <th>43558</th>\n",
       "      <td>177.821022</td>\n",
       "      <td>118.169392</td>\n",
       "    </tr>\n",
       "  </tbody>\n",
       "</table>\n",
       "<p>25000 rows × 2 columns</p>\n",
       "</div>"
      ],
      "text/plain": [
       "           ACTUAL  PREDICTIONS\n",
       "71751   10.038645    95.894952\n",
       "80493  114.551489    77.572583\n",
       "2655   132.603635    77.892640\n",
       "53233  169.072125    90.175134\n",
       "91141  122.325180    70.510088\n",
       "...           ...          ...\n",
       "12581  170.116726   103.037104\n",
       "18456   93.632175    85.403255\n",
       "73035  127.352259    61.509833\n",
       "63834   99.782700   118.180397\n",
       "43558  177.821022   118.169392\n",
       "\n",
       "[25000 rows x 2 columns]"
      ]
     },
     "metadata": {},
     "output_type": "display_data"
    }
   ],
   "source": [
    "# Train the model for Region 0\n",
    "predictions_0 = train_model(features_train_0, features_valid_0, target_train_0)\n",
    "\n",
    "# Evaluate the model for Region 0\n",
    "print(\"REGION 0:\")\n",
    "evaluate_model(target_valid_0, predictions_0)"
   ]
  },
  {
   "cell_type": "code",
   "execution_count": 10,
   "metadata": {},
   "outputs": [
    {
     "name": "stdout",
     "output_type": "stream",
     "text": [
      "REGION 1:\n",
      "---------\n",
      "RMSE: 0.8930992867756165\n",
      "Average ACTUAL Volume: 68.72313602435997\n",
      "Average PREDICTED Volume: 68.728546895446\n"
     ]
    },
    {
     "data": {
      "text/html": [
       "<div>\n",
       "<style scoped>\n",
       "    .dataframe tbody tr th:only-of-type {\n",
       "        vertical-align: middle;\n",
       "    }\n",
       "\n",
       "    .dataframe tbody tr th {\n",
       "        vertical-align: top;\n",
       "    }\n",
       "\n",
       "    .dataframe thead th {\n",
       "        text-align: right;\n",
       "    }\n",
       "</style>\n",
       "<table border=\"1\" class=\"dataframe\">\n",
       "  <thead>\n",
       "    <tr style=\"text-align: right;\">\n",
       "      <th></th>\n",
       "      <th>ACTUAL</th>\n",
       "      <th>PREDICTIONS</th>\n",
       "    </tr>\n",
       "  </thead>\n",
       "  <tbody>\n",
       "    <tr>\n",
       "      <th>71751</th>\n",
       "      <td>80.859783</td>\n",
       "      <td>82.663314</td>\n",
       "    </tr>\n",
       "    <tr>\n",
       "      <th>80493</th>\n",
       "      <td>53.906522</td>\n",
       "      <td>54.431786</td>\n",
       "    </tr>\n",
       "    <tr>\n",
       "      <th>2655</th>\n",
       "      <td>30.132364</td>\n",
       "      <td>29.748760</td>\n",
       "    </tr>\n",
       "    <tr>\n",
       "      <th>53233</th>\n",
       "      <td>53.906522</td>\n",
       "      <td>53.552133</td>\n",
       "    </tr>\n",
       "    <tr>\n",
       "      <th>91141</th>\n",
       "      <td>0.000000</td>\n",
       "      <td>1.243856</td>\n",
       "    </tr>\n",
       "    <tr>\n",
       "      <th>...</th>\n",
       "      <td>...</td>\n",
       "      <td>...</td>\n",
       "    </tr>\n",
       "    <tr>\n",
       "      <th>12581</th>\n",
       "      <td>137.945408</td>\n",
       "      <td>136.869211</td>\n",
       "    </tr>\n",
       "    <tr>\n",
       "      <th>18456</th>\n",
       "      <td>110.992147</td>\n",
       "      <td>110.693465</td>\n",
       "    </tr>\n",
       "    <tr>\n",
       "      <th>73035</th>\n",
       "      <td>137.945408</td>\n",
       "      <td>137.879341</td>\n",
       "    </tr>\n",
       "    <tr>\n",
       "      <th>63834</th>\n",
       "      <td>84.038886</td>\n",
       "      <td>83.761966</td>\n",
       "    </tr>\n",
       "    <tr>\n",
       "      <th>43558</th>\n",
       "      <td>53.906522</td>\n",
       "      <td>53.958466</td>\n",
       "    </tr>\n",
       "  </tbody>\n",
       "</table>\n",
       "<p>25000 rows × 2 columns</p>\n",
       "</div>"
      ],
      "text/plain": [
       "           ACTUAL  PREDICTIONS\n",
       "71751   80.859783    82.663314\n",
       "80493   53.906522    54.431786\n",
       "2655    30.132364    29.748760\n",
       "53233   53.906522    53.552133\n",
       "91141    0.000000     1.243856\n",
       "...           ...          ...\n",
       "12581  137.945408   136.869211\n",
       "18456  110.992147   110.693465\n",
       "73035  137.945408   137.879341\n",
       "63834   84.038886    83.761966\n",
       "43558   53.906522    53.958466\n",
       "\n",
       "[25000 rows x 2 columns]"
      ]
     },
     "metadata": {},
     "output_type": "display_data"
    }
   ],
   "source": [
    "# Train the model for Region 1\n",
    "predictions_1 = train_model(features_train_1, features_valid_1, target_train_1)\n",
    "\n",
    "# Evaluate the model for Region 1\n",
    "print(\"REGION 1:\")\n",
    "evaluate_model(target_valid_1, predictions_1)"
   ]
  },
  {
   "cell_type": "code",
   "execution_count": 11,
   "metadata": {},
   "outputs": [
    {
     "name": "stdout",
     "output_type": "stream",
     "text": [
      "REGION 2:\n",
      "---------\n",
      "RMSE: 40.02970873393434\n",
      "Average ACTUAL Volume: 94.88423280885438\n",
      "Average PREDICTED Volume: 94.96504596800492\n"
     ]
    },
    {
     "data": {
      "text/html": [
       "<div>\n",
       "<style scoped>\n",
       "    .dataframe tbody tr th:only-of-type {\n",
       "        vertical-align: middle;\n",
       "    }\n",
       "\n",
       "    .dataframe tbody tr th {\n",
       "        vertical-align: top;\n",
       "    }\n",
       "\n",
       "    .dataframe thead th {\n",
       "        text-align: right;\n",
       "    }\n",
       "</style>\n",
       "<table border=\"1\" class=\"dataframe\">\n",
       "  <thead>\n",
       "    <tr style=\"text-align: right;\">\n",
       "      <th></th>\n",
       "      <th>ACTUAL</th>\n",
       "      <th>PREDICTIONS</th>\n",
       "    </tr>\n",
       "  </thead>\n",
       "  <tbody>\n",
       "    <tr>\n",
       "      <th>71751</th>\n",
       "      <td>61.212375</td>\n",
       "      <td>93.599633</td>\n",
       "    </tr>\n",
       "    <tr>\n",
       "      <th>80493</th>\n",
       "      <td>41.850118</td>\n",
       "      <td>75.105159</td>\n",
       "    </tr>\n",
       "    <tr>\n",
       "      <th>2655</th>\n",
       "      <td>57.776581</td>\n",
       "      <td>90.066809</td>\n",
       "    </tr>\n",
       "    <tr>\n",
       "      <th>53233</th>\n",
       "      <td>100.053761</td>\n",
       "      <td>105.162375</td>\n",
       "    </tr>\n",
       "    <tr>\n",
       "      <th>91141</th>\n",
       "      <td>109.897122</td>\n",
       "      <td>115.303310</td>\n",
       "    </tr>\n",
       "    <tr>\n",
       "      <th>...</th>\n",
       "      <td>...</td>\n",
       "      <td>...</td>\n",
       "    </tr>\n",
       "    <tr>\n",
       "      <th>12581</th>\n",
       "      <td>28.492402</td>\n",
       "      <td>78.765887</td>\n",
       "    </tr>\n",
       "    <tr>\n",
       "      <th>18456</th>\n",
       "      <td>21.431303</td>\n",
       "      <td>95.603394</td>\n",
       "    </tr>\n",
       "    <tr>\n",
       "      <th>73035</th>\n",
       "      <td>125.487229</td>\n",
       "      <td>99.407281</td>\n",
       "    </tr>\n",
       "    <tr>\n",
       "      <th>63834</th>\n",
       "      <td>99.422903</td>\n",
       "      <td>77.779912</td>\n",
       "    </tr>\n",
       "    <tr>\n",
       "      <th>43558</th>\n",
       "      <td>127.445075</td>\n",
       "      <td>129.032417</td>\n",
       "    </tr>\n",
       "  </tbody>\n",
       "</table>\n",
       "<p>25000 rows × 2 columns</p>\n",
       "</div>"
      ],
      "text/plain": [
       "           ACTUAL  PREDICTIONS\n",
       "71751   61.212375    93.599633\n",
       "80493   41.850118    75.105159\n",
       "2655    57.776581    90.066809\n",
       "53233  100.053761   105.162375\n",
       "91141  109.897122   115.303310\n",
       "...           ...          ...\n",
       "12581   28.492402    78.765887\n",
       "18456   21.431303    95.603394\n",
       "73035  125.487229    99.407281\n",
       "63834   99.422903    77.779912\n",
       "43558  127.445075   129.032417\n",
       "\n",
       "[25000 rows x 2 columns]"
      ]
     },
     "metadata": {},
     "output_type": "display_data"
    }
   ],
   "source": [
    "# Train the model for Region 2\n",
    "predictions_2 = train_model(features_train_2, features_valid_2, target_train_2)\n",
    "\n",
    "# Evaluate the model for Region 2\n",
    "print(\"REGION 2:\")\n",
    "evaluate_model(target_valid_2, predictions_2)"
   ]
  },
  {
   "cell_type": "markdown",
   "metadata": {},
   "source": [
    "The evaluation results show varying levels of model performance across the three regions considered for oil well development. In Region 0, the model exhibits a RMSE of approximately 37.58, indicating a moderate level of error in predicting oil reserve volumes. The average actual and predicted volumes are close, with actual slightly lower at 92.08 compared to predicted at 92.59, suggesting reasonable accuracy. Region 1 demonstrates the best performance with a significantly lower RMSE of about 0.89, indicating highly accurate predictions. Both actual and predicted volumes align closely around 68.72 and 68.73 respectively, indicating precise estimation. Conversely, Region 2 displays a higher RMSE of about 40.03, indicating less accurate predictions compared to the other regions. The average actual and predicted volumes are similar at around 94.88 and 94.97 respectively, showing moderate accuracy but with notable variability in predictions. These results suggest that Region 1 shows the most promising potential for oil well development based on the model's performance metrics."
   ]
  },
  {
   "cell_type": "markdown",
   "metadata": {},
   "source": [
    "## Volume of Reserves to Break-Even"
   ]
  },
  {
   "cell_type": "markdown",
   "metadata": {},
   "source": [
    "The code here calculates the minimum volume of oil reserves required for each region to break even on drilling costs, based on a fixed budget and average revenue per unit of oil produced. By dividing the total budget ('BUDGET') by the number of target wells ('TARGET_WELLS'), it determines the cost per well ('WELL_COST'). The 'break_even_volume' represents the minimum volume of reserves each well must yield to cover this cost at the average revenue per unit ('UNIT_REVENUE'). The subsequent 'calculate_break_even' function computes and prints the average volume of reserves for each region, highlighting how their respective average volumes compare to the break-even point."
   ]
  },
  {
   "cell_type": "code",
   "execution_count": 12,
   "metadata": {},
   "outputs": [
    {
     "name": "stdout",
     "output_type": "stream",
     "text": [
      "Minimum Volume of Reserves to Break-Even:: 111.11111111111111\n",
      "\n",
      "REGION 0:\n",
      "---------\n",
      "Average Volume of Reserves: 92.50000000000001\n",
      "Difference from Breaking Even: 18.6111111111111\n",
      "\n",
      "REGION 1:\n",
      "---------\n",
      "Average Volume of Reserves: 68.82500000000002\n",
      "Difference from Breaking Even: 42.2861111111111\n",
      "\n",
      "REGION 2:\n",
      "---------\n",
      "Average Volume of Reserves: 95.00000000000004\n",
      "Difference from Breaking Even: 16.11111111111107\n"
     ]
    }
   ],
   "source": [
    "# Constants\n",
    "BUDGET = 100000000 # Total budget available for development\n",
    "UNIT_REVENUE = 4500 # Average revenue per unit of oil produced\n",
    "TARGET_WELLS = 200 # Number of wells to be drilled per region\n",
    "TOTAL_WELLS = 500 # Total number of available wells\n",
    "WELL_COST = BUDGET / TARGET_WELLS # Cost of one well\n",
    "\n",
    "# Minimum volume of reserves to cover the well cost\n",
    "break_even_volume = WELL_COST / UNIT_REVENUE\n",
    "print(\"Minimum Volume of Reserves to Break-Even::\", break_even_volume)\n",
    "print()\n",
    "\n",
    "# Calculate Break-Even function\n",
    "def calculate_break_even(data, break_even_volume):\n",
    "    print(\"---------\")\n",
    "    avg_volume = data['product'].mean()\n",
    "    print(\"Average Volume of Reserves:\", avg_volume)\n",
    "    print(\"Difference from Breaking Even:\", break_even_volume - avg_volume)\n",
    "\n",
    "print(\"REGION 0:\")\n",
    "calculate_break_even(geo_data_0, break_even_volume)\n",
    "print()\n",
    "\n",
    "print(\"REGION 1:\")\n",
    "calculate_break_even(geo_data_1, break_even_volume)\n",
    "print()\n",
    "\n",
    "print(\"REGION 2:\")\n",
    "calculate_break_even(geo_data_2, break_even_volume)"
   ]
  },
  {
   "cell_type": "markdown",
   "metadata": {},
   "source": [
    "Region 0 falls short of the minimum volume needed to break even on drilling costs by approximately 18.61 units of oil reserves per well. Region 1 also falls short but to a greater extent, with an average reserve volume that is 42.29 units below the break-even point. Region 2 is the closest to the break-even volume by approximately 16.11 units, indicating it has the potential to generate profit from oil well development under the given budget and revenue conditions."
   ]
  },
  {
   "cell_type": "markdown",
   "metadata": {},
   "source": [
    "## Calculate Profit\n",
    "\n",
    "The function 'calculate_profit' computes potential profits from drilling operations in each region based on model predictions of oil reserves. It begins by converting the target validation data and predictions into pandas Series to ensure consistent indexing. The predictions are sorted in descending order to prioritize wells with higher estimated reserves. The function then selects the top 200 wells based on these sorted predictions and computes the total units of reserves in these wells. It then calculates profits by subtracting total drilling costs from the revenue generated by the selected wells. Finally, it outputs the computed profits for Regions 0, 1, and 2 based on the model predictions and validation data provided."
   ]
  },
  {
   "cell_type": "code",
   "execution_count": 13,
   "metadata": {},
   "outputs": [
    {
     "name": "stdout",
     "output_type": "stream",
     "text": [
      "REGION 0 PROFIT: 33208260.43139851\n",
      "\n",
      "REGION 1 PROFIT: 24150866.966815114\n",
      "\n",
      "REGION 2 PROFIT: 27103499.635998324\n"
     ]
    }
   ],
   "source": [
    "# Calculate Profit function\n",
    "def calculate_profit(target_valid, predictions):\n",
    "    # Convert the target values to a pandas Series and reset the index for consistent indexing\n",
    "    target_series = pd.Series(target_valid).reset_index(drop=True)\n",
    "\n",
    "    # Convert the predictions to a pandas Series and sort them in descending order\n",
    "    predictions_sorted = pd.Series(predictions).sort_values(ascending=False)\n",
    "\n",
    "    # Select the top 200 wells based on the sorted predictions\n",
    "    top_200_wells = target_series[predictions_sorted.index][:TARGET_WELLS]\n",
    "\n",
    "    # Calculate the total units in the selected top wells\n",
    "    total_units = top_200_wells.sum()\n",
    "\n",
    "    # Calculate the profit based on total units and revenue per unit\n",
    "    profit = total_units * UNIT_REVENUE - BUDGET\n",
    "\n",
    "    return profit\n",
    "\n",
    "# Print profit of Region 0\n",
    "profit_0 = calculate_profit(target_valid_0, predictions_0)\n",
    "print(\"REGION 0 PROFIT:\", profit_0)\n",
    "print()\n",
    "\n",
    "# Print profit of Region 1\n",
    "profit_1 = calculate_profit(target_valid_1, predictions_1)\n",
    "print(\"REGION 1 PROFIT:\", profit_1)\n",
    "print()\n",
    "\n",
    "# Print profit of Region 2\n",
    "profit_2 = calculate_profit(target_valid_2, predictions_2)\n",
    "print(\"REGION 2 PROFIT:\", profit_2)"
   ]
  },
  {
   "cell_type": "markdown",
   "metadata": {},
   "source": [
    "The calculated profits indicate the potential financial outcomes of drilling operations in each region based on the model's predictions of oil reserves. Region 0 is projected to yield the highest profit of approximately $33.2 million, followed by Region 2 with about $27.1 million, and Region 1 with approximately $24.2 million. These figures reflect the economic viability of investing in oil extraction in each respective region, considering the estimated reserves and operational costs. The profitability order suggests that focusing resources on drilling in Region 0 could yield the highest return on investment."
   ]
  },
  {
   "cell_type": "markdown",
   "metadata": {},
   "source": [
    "## Profit Distribution\n",
    "\n",
    "This code defines two functions: 'bootstrap_profit' and 'analyse_profit_distribution'. The 'bootstrap_profit' function conducts a bootstrap analysis to simulate the distribution of profits from oil wells. It iteratively samples 500 wells with replacement from the target data, using predictions to calculate profits for each bootstrap sample. This process is repeated 1000 times to generate a distribution of potential profits. The 'analyse_profit_distribution' function then analyzes and displays the results of this distribution, printing the total number of simulated wells, the number of profitable wells (those generating positive profit), and the percentage of wells that are profitable."
   ]
  },
  {
   "cell_type": "code",
   "execution_count": 14,
   "metadata": {},
   "outputs": [],
   "source": [
    "# Bootstrap Profit function\n",
    "def bootstrap_profit(target, predictions):\n",
    "    # Convert target to pandas Series and reset index for consistent indexing\n",
    "    target = pd.Series(target).reset_index(drop=True)\n",
    "\n",
    "    # Initialize a random state for reproducibility\n",
    "    state = np.random.RandomState(12345)\n",
    "\n",
    "    # Initialize a list to store profit values from bootstrap samples\n",
    "    profit_distribution = []\n",
    "\n",
    "    # Perform 1000 bootstrap iterations\n",
    "    for i in range(1000):\n",
    "        # Randomly sample 500 wells with replacement from the target data\n",
    "        target_subsample = target.sample(n=TOTAL_WELLS, replace=True, random_state=state)\n",
    "\n",
    "        # Select the corresponding predictions for the sampled wells\n",
    "        predictions_subsample = predictions[target_subsample.index]\n",
    "\n",
    "        # Calculate profit for the bootstrap sample and append to the list\n",
    "        profit_distribution.append(calculate_profit(target_subsample, predictions_subsample))\n",
    "    \n",
    "    # Convert the profit list to a pandas Series\n",
    "    return pd.Series(profit_distribution)\n",
    "\n",
    "# Analyze Profit Distribution function\n",
    "def analyse_profit_distribution(profit_distribution):\n",
    "    print(\"---------\")\n",
    "    print(\"Total Number of Wells:\", len(profit_distribution))\n",
    "    print(\"Number of Profitable Wells:\", profit_distribution.gt(0).sum())\n",
    "    percentage_profitable_wells = profit_distribution.gt(0).sum() / len(profit_distribution) * 100\n",
    "    print(f\"Percentage of Profitable Wells: {percentage_profitable_wells:.1f}%\")\n",
    "\n",
    "    # Display the profit distribution\n",
    "    display(profit_distribution)"
   ]
  },
  {
   "cell_type": "code",
   "execution_count": 15,
   "metadata": {},
   "outputs": [
    {
     "name": "stdout",
     "output_type": "stream",
     "text": [
      "REGION 0:\n",
      "---------\n",
      "Total Number of Wells: 1000\n",
      "Number of Profitable Wells: 931\n",
      "Percentage of Profitable Wells: 93.1%\n"
     ]
    },
    {
     "data": {
      "text/plain": [
       "0      6.054641e+06\n",
       "1      5.363934e+06\n",
       "2      2.937858e+06\n",
       "3      1.789934e+06\n",
       "4      2.719929e+06\n",
       "           ...     \n",
       "995    5.253551e+06\n",
       "996    7.790094e+06\n",
       "997    6.494122e+06\n",
       "998    3.149995e+06\n",
       "999    2.197184e+06\n",
       "Length: 1000, dtype: float64"
      ]
     },
     "metadata": {},
     "output_type": "display_data"
    }
   ],
   "source": [
    "# Region 0 Profit Distribution\n",
    "profit_distribution_0 = bootstrap_profit(target_valid_0, predictions_0)\n",
    "print(\"REGION 0:\")\n",
    "analyse_profit_distribution(profit_distribution_0)"
   ]
  },
  {
   "cell_type": "code",
   "execution_count": 16,
   "metadata": {},
   "outputs": [
    {
     "name": "stdout",
     "output_type": "stream",
     "text": [
      "REGION 1:\n",
      "---------\n",
      "Total Number of Wells: 1000\n",
      "Number of Profitable Wells: 985\n",
      "Percentage of Profitable Wells: 98.5%\n"
     ]
    },
    {
     "data": {
      "text/plain": [
       "0      2.280162e+06\n",
       "1      3.343157e+06\n",
       "2      2.537047e+06\n",
       "3      6.139661e+06\n",
       "4      3.571430e+06\n",
       "           ...     \n",
       "995    6.831945e+06\n",
       "996    6.468698e+06\n",
       "997    2.386523e+06\n",
       "998    4.142425e+06\n",
       "999    1.245778e+06\n",
       "Length: 1000, dtype: float64"
      ]
     },
     "metadata": {},
     "output_type": "display_data"
    }
   ],
   "source": [
    "# Region 1 Profit Distribution\n",
    "profit_distribution_1 = bootstrap_profit(target_valid_1, predictions_1)\n",
    "print(\"REGION 1:\")\n",
    "analyse_profit_distribution(profit_distribution_1)"
   ]
  },
  {
   "cell_type": "code",
   "execution_count": 17,
   "metadata": {},
   "outputs": [
    {
     "name": "stdout",
     "output_type": "stream",
     "text": [
      "REGION 2:\n",
      "---------\n",
      "Total Number of Wells: 1000\n",
      "Number of Profitable Wells: 924\n",
      "Percentage of Profitable Wells: 92.4%\n"
     ]
    },
    {
     "data": {
      "text/plain": [
       "0     -7.189923e+05\n",
       "1      6.459964e+06\n",
       "2      6.261756e+06\n",
       "3      4.123517e+06\n",
       "4     -5.596049e+05\n",
       "           ...     \n",
       "995    5.668660e+06\n",
       "996   -5.850207e+05\n",
       "997    5.902561e+06\n",
       "998    4.977628e+06\n",
       "999    2.009241e+06\n",
       "Length: 1000, dtype: float64"
      ]
     },
     "metadata": {},
     "output_type": "display_data"
    }
   ],
   "source": [
    "# Region 2 Profit Distribution\n",
    "profit_distribution_2 = bootstrap_profit(target_valid_2, predictions_2)\n",
    "print(\"REGION 2:\")\n",
    "analyse_profit_distribution(profit_distribution_2)"
   ]
  },
  {
   "cell_type": "markdown",
   "metadata": {},
   "source": [
    "The analysis reveals that Region 1 demonstrates the highest percentage of profitable wells at 98.5%, followed closely by Region 0 at 93.1% and Region 2 at 92.4%. Despite varying profitability rates, all regions exhibit a wide range of potential profits, with some bootstrap samples indicating losses while others suggest substantial gains."
   ]
  },
  {
   "cell_type": "markdown",
   "metadata": {},
   "source": [
    "## Profit Analysis\n",
    "\n",
    "Finally, the 'analyze_profits' function computes and prints statistical metrics based on a given distribution of profits. It calculates the mean profit, standard deviation (with degrees of freedom adjusted), and a 95% confidence interval using the Student's t-distribution. Additionally, it determines the risk of loss by calculating the proportion of profits that are negative."
   ]
  },
  {
   "cell_type": "code",
   "execution_count": 18,
   "metadata": {},
   "outputs": [
    {
     "name": "stdout",
     "output_type": "stream",
     "text": [
      "REGION 0:\n",
      "---------\n",
      "Average Profit: 3961649.8480237117\n",
      "95% Confidence Interval: (3796203.1514797257, 4127096.5445676977)\n",
      "Risk of Loss: 6.9%\n",
      "\n",
      "REGION 1:\n",
      "---------\n",
      "Average Profit: 4560451.057866608\n",
      "95% Confidence Interval: (4431472.486639005, 4689429.62909421)\n",
      "Risk of Loss: 1.5%\n",
      "\n",
      "REGION 2:\n",
      "---------\n",
      "Average Profit: 4044038.665683568\n",
      "95% Confidence Interval: (3874457.9747128044, 4213619.356654332)\n",
      "Risk of Loss: 7.6%\n"
     ]
    }
   ],
   "source": [
    "# Analyze Profits function\n",
    "def analyze_profits(profit_distribution):\n",
    "    # Calculate the 95% confidence interval for the profit distribution using t-distribution\n",
    "    confidence_interval = st.t.interval(0.95, len(profit_distribution) - 1, profit_distribution.mean(), profit_distribution.sem())\n",
    "\n",
    "    # Calculate the risk of loss, defined as the proportion of negative profits\n",
    "    risk_of_loss = (profit_distribution < 0).mean()\n",
    "\n",
    "    # Print the results\n",
    "    print(\"---------\")\n",
    "    print('Average Profit:', profit_distribution.mean())\n",
    "    print(f\"95% Confidence Interval: {confidence_interval[0], confidence_interval[1]}\")\n",
    "    print(f\"Risk of Loss: {100 * risk_of_loss:.1f}%\")\n",
    "\n",
    "# Analyze Region 0\n",
    "print(\"REGION 0:\")\n",
    "analyze_profits(profit_distribution_0)\n",
    "print()\n",
    "\n",
    "# Analyze Region 1\n",
    "print(\"REGION 1:\")\n",
    "analyze_profits(profit_distribution_1)\n",
    "print()\n",
    "\n",
    "# Analyze Region 2\n",
    "print(\"REGION 2:\")\n",
    "analyze_profits(profit_distribution_2)"
   ]
  },
  {
   "cell_type": "markdown",
   "metadata": {},
   "source": [
    "## Conclusion\n",
    "\n",
    "The analysis of profitability across three regions from the oil drilling simulations reveals distinct financial outcomes and associated risks. Region 0 emerges with the highest average profit at approximately 33,208,260 USD, though it also carries a moderate risk of loss with 6.9% of the profit distribution falling below zero. Region 1, with an average profit of 24,150,867 USD, demonstrates a narrower 95% confidence interval and a lower risk of loss at 1.5%, making it a more stable investment option compared to Regions 0 and 2. Region 2, while profitable with an average profit of 27,103,500 USD, exhibits a higher risk of loss at 7.6%, indicating greater variability in returns. These findings highlight Region 1 as potentially the most reliable choice for investors seeking both profitability and lower financial risk, whereas Regions 0 and 2 may require additional risk management strategies despite their higher average profits."
   ]
  }
 ],
 "metadata": {
  "ExecuteTimeLog": [
   {
    "duration": 828,
    "start_time": "2021-11-16T09:21:11.304Z"
   },
   {
    "duration": 893,
    "start_time": "2021-11-16T09:21:17.728Z"
   },
   {
    "duration": 1150,
    "start_time": "2021-11-16T09:21:29.568Z"
   },
   {
    "duration": 3,
    "start_time": "2021-11-16T09:24:14.495Z"
   },
   {
    "duration": 120,
    "start_time": "2021-11-16T09:24:46.630Z"
   },
   {
    "duration": 3,
    "start_time": "2021-11-16T09:28:27.882Z"
   },
   {
    "duration": 4,
    "start_time": "2021-11-16T09:29:54.281Z"
   },
   {
    "duration": 3,
    "start_time": "2021-11-16T09:30:45.936Z"
   },
   {
    "duration": 4,
    "start_time": "2021-11-16T09:31:06.300Z"
   },
   {
    "duration": 113,
    "start_time": "2021-11-16T09:31:37.208Z"
   },
   {
    "duration": 143,
    "start_time": "2021-11-16T09:31:48.656Z"
   },
   {
    "duration": 98,
    "start_time": "2021-11-16T09:31:55.678Z"
   },
   {
    "duration": 3,
    "start_time": "2021-11-16T09:32:08.535Z"
   },
   {
    "duration": 111,
    "start_time": "2021-11-16T09:32:10.120Z"
   },
   {
    "duration": 3,
    "start_time": "2021-11-16T09:32:15.732Z"
   },
   {
    "duration": 4,
    "start_time": "2021-11-16T09:32:29.423Z"
   },
   {
    "duration": 3,
    "start_time": "2021-11-16T10:03:03.074Z"
   },
   {
    "duration": 3,
    "start_time": "2021-11-16T10:10:01.288Z"
   },
   {
    "duration": 3,
    "start_time": "2021-11-16T10:10:46.923Z"
   },
   {
    "duration": 121,
    "start_time": "2021-11-16T10:37:46.494Z"
   },
   {
    "duration": 125,
    "start_time": "2021-11-16T10:38:20.632Z"
   },
   {
    "duration": 112,
    "start_time": "2021-11-16T10:46:53.001Z"
   },
   {
    "duration": 110,
    "start_time": "2021-11-16T10:48:25.775Z"
   },
   {
    "duration": 3,
    "start_time": "2021-11-16T10:50:18.720Z"
   },
   {
    "duration": 4,
    "start_time": "2021-11-16T10:50:37.649Z"
   },
   {
    "duration": 2,
    "start_time": "2021-11-16T10:50:51.884Z"
   },
   {
    "duration": 3,
    "start_time": "2021-11-16T10:51:56.237Z"
   },
   {
    "duration": 101,
    "start_time": "2021-11-16T10:53:13.791Z"
   },
   {
    "duration": 3,
    "start_time": "2021-11-16T10:55:59.186Z"
   },
   {
    "duration": 3,
    "start_time": "2021-11-16T10:56:10.751Z"
   },
   {
    "duration": 3,
    "start_time": "2021-11-16T10:56:49.038Z"
   },
   {
    "duration": 3,
    "start_time": "2021-11-16T10:56:49.174Z"
   },
   {
    "duration": 4,
    "start_time": "2021-11-16T10:56:49.414Z"
   },
   {
    "duration": 3,
    "start_time": "2021-11-16T10:56:49.680Z"
   },
   {
    "duration": 3,
    "start_time": "2021-11-16T10:56:50.370Z"
   },
   {
    "duration": 114,
    "start_time": "2021-11-16T10:59:34.518Z"
   },
   {
    "duration": 3,
    "start_time": "2021-11-16T11:01:41.201Z"
   },
   {
    "duration": 116,
    "start_time": "2021-11-16T11:01:48.754Z"
   },
   {
    "duration": 3,
    "start_time": "2021-11-16T11:02:16.685Z"
   },
   {
    "duration": 3,
    "start_time": "2021-11-16T11:02:19.479Z"
   },
   {
    "duration": 3,
    "start_time": "2021-11-16T11:02:47.067Z"
   },
   {
    "duration": 3,
    "start_time": "2021-11-16T11:02:49.353Z"
   },
   {
    "duration": 3,
    "start_time": "2021-11-16T11:03:07.835Z"
   },
   {
    "duration": 3,
    "start_time": "2021-11-16T11:03:07.953Z"
   },
   {
    "duration": 112,
    "start_time": "2021-11-16T11:07:52.072Z"
   },
   {
    "duration": 187,
    "start_time": "2021-11-16T11:09:23.468Z"
   },
   {
    "duration": 4,
    "start_time": "2021-11-16T11:10:01.455Z"
   },
   {
    "duration": 3,
    "start_time": "2021-11-16T11:10:05.069Z"
   },
   {
    "duration": 4,
    "start_time": "2021-11-16T11:10:13.376Z"
   },
   {
    "duration": 3,
    "start_time": "2021-11-16T11:10:14.434Z"
   },
   {
    "duration": 3,
    "start_time": "2021-11-16T11:10:22.853Z"
   },
   {
    "duration": 4,
    "start_time": "2021-11-16T11:27:29.279Z"
   },
   {
    "duration": 4,
    "start_time": "2021-11-16T11:29:08.919Z"
   },
   {
    "duration": 118,
    "start_time": "2021-11-16T11:29:46.703Z"
   },
   {
    "duration": 437,
    "start_time": "2021-11-16T11:36:02.181Z"
   },
   {
    "duration": 157,
    "start_time": "2021-11-16T11:36:14.388Z"
   },
   {
    "duration": 207,
    "start_time": "2021-11-16T11:47:15.898Z"
   },
   {
    "duration": 3,
    "start_time": "2021-11-16T11:53:52.092Z"
   },
   {
    "duration": 3,
    "start_time": "2021-11-16T11:53:52.236Z"
   },
   {
    "duration": 3,
    "start_time": "2021-11-16T11:59:12.005Z"
   },
   {
    "duration": 112,
    "start_time": "2021-11-16T12:00:33.446Z"
   },
   {
    "duration": 3,
    "start_time": "2021-11-16T12:02:14.453Z"
   },
   {
    "duration": 3,
    "start_time": "2021-11-16T12:02:39.512Z"
   },
   {
    "duration": 106,
    "start_time": "2021-11-16T12:03:03.460Z"
   },
   {
    "duration": 3,
    "start_time": "2021-11-17T20:37:21.139Z"
   },
   {
    "duration": 3,
    "start_time": "2021-11-17T20:37:22.229Z"
   },
   {
    "duration": 3,
    "start_time": "2021-11-17T20:38:38.806Z"
   },
   {
    "duration": 3,
    "start_time": "2021-11-17T20:38:41.958Z"
   },
   {
    "duration": 3,
    "start_time": "2021-11-17T20:43:46.551Z"
   },
   {
    "duration": 4,
    "start_time": "2021-11-17T20:58:21.835Z"
   },
   {
    "duration": 3,
    "start_time": "2021-11-17T20:59:21.872Z"
   },
   {
    "duration": 4,
    "start_time": "2021-11-17T20:59:45.352Z"
   },
   {
    "duration": 4,
    "start_time": "2021-11-17T20:59:49.646Z"
   },
   {
    "duration": 159,
    "start_time": "2021-11-17T21:02:26.949Z"
   },
   {
    "duration": 3,
    "start_time": "2021-11-17T21:03:53.461Z"
   },
   {
    "duration": 3,
    "start_time": "2021-11-17T21:03:53.694Z"
   },
   {
    "duration": 3,
    "start_time": "2021-11-17T21:05:28.145Z"
   },
   {
    "duration": 116,
    "start_time": "2021-11-17T21:05:57.787Z"
   },
   {
    "duration": 3,
    "start_time": "2021-11-17T21:06:37.993Z"
   },
   {
    "duration": 3,
    "start_time": "2021-11-17T21:06:38.261Z"
   },
   {
    "duration": 3,
    "start_time": "2021-11-17T21:11:54.358Z"
   },
   {
    "duration": 3,
    "start_time": "2021-11-17T21:12:43.846Z"
   },
   {
    "duration": 4,
    "start_time": "2021-11-17T21:13:08.773Z"
   },
   {
    "duration": 3,
    "start_time": "2021-11-17T21:14:44.441Z"
   },
   {
    "duration": 3,
    "start_time": "2021-11-17T21:15:42.059Z"
   },
   {
    "duration": 4,
    "start_time": "2021-11-17T21:15:51.995Z"
   },
   {
    "duration": 3,
    "start_time": "2021-11-17T21:15:53.923Z"
   },
   {
    "duration": 3,
    "start_time": "2021-11-17T21:15:55.282Z"
   },
   {
    "duration": 3,
    "start_time": "2021-11-17T21:16:28.492Z"
   },
   {
    "duration": 3,
    "start_time": "2021-11-17T21:16:32.603Z"
   },
   {
    "duration": 3,
    "start_time": "2021-11-17T21:17:06.941Z"
   },
   {
    "duration": 98,
    "start_time": "2021-11-17T21:18:05.733Z"
   },
   {
    "duration": 4,
    "start_time": "2021-11-17T21:21:35.255Z"
   },
   {
    "duration": 3,
    "start_time": "2021-11-17T21:21:37.804Z"
   },
   {
    "duration": 4,
    "start_time": "2021-11-17T21:23:06.071Z"
   },
   {
    "duration": 3,
    "start_time": "2021-11-17T21:23:24.799Z"
   },
   {
    "duration": 3,
    "start_time": "2021-11-17T21:23:32.591Z"
   },
   {
    "duration": 98,
    "start_time": "2021-11-17T21:28:31.559Z"
   },
   {
    "duration": 3,
    "start_time": "2021-11-17T21:28:45.448Z"
   },
   {
    "duration": 3,
    "start_time": "2021-11-17T21:29:17.303Z"
   },
   {
    "duration": 3,
    "start_time": "2021-11-17T21:29:29.617Z"
   },
   {
    "duration": 3,
    "start_time": "2021-11-17T21:29:32.681Z"
   },
   {
    "duration": 3,
    "start_time": "2021-11-17T21:36:11.474Z"
   },
   {
    "duration": 3,
    "start_time": "2021-11-17T21:36:14.791Z"
   },
   {
    "duration": 3,
    "start_time": "2021-11-17T21:36:53.943Z"
   },
   {
    "duration": 3,
    "start_time": "2021-11-17T21:36:56.165Z"
   },
   {
    "duration": 4,
    "start_time": "2021-11-17T21:37:16.590Z"
   },
   {
    "duration": 3,
    "start_time": "2021-11-17T21:37:22.702Z"
   },
   {
    "duration": 4,
    "start_time": "2021-11-17T21:38:03.479Z"
   },
   {
    "duration": 3,
    "start_time": "2021-11-17T21:38:08.601Z"
   },
   {
    "duration": 3,
    "start_time": "2021-11-17T21:38:12.928Z"
   },
   {
    "duration": 3,
    "start_time": "2021-11-17T21:38:48.896Z"
   },
   {
    "duration": 2,
    "start_time": "2021-11-17T21:38:49.171Z"
   },
   {
    "duration": 4,
    "start_time": "2021-11-17T21:39:57.889Z"
   },
   {
    "duration": 3,
    "start_time": "2021-11-17T21:39:58.057Z"
   },
   {
    "duration": 3,
    "start_time": "2021-11-17T21:41:20.108Z"
   },
   {
    "duration": 3,
    "start_time": "2021-11-17T21:41:20.629Z"
   },
   {
    "duration": 3,
    "start_time": "2021-11-17T21:42:49.136Z"
   },
   {
    "duration": 3,
    "start_time": "2021-11-17T21:43:15.137Z"
   },
   {
    "duration": 4,
    "start_time": "2021-11-17T21:43:16.766Z"
   },
   {
    "duration": 4,
    "start_time": "2021-11-17T21:43:31.711Z"
   },
   {
    "duration": 3,
    "start_time": "2021-11-17T21:43:36.312Z"
   },
   {
    "duration": 4,
    "start_time": "2021-11-17T21:45:08.825Z"
   },
   {
    "duration": 4,
    "start_time": "2021-11-17T21:45:10.119Z"
   },
   {
    "duration": 4,
    "start_time": "2021-11-17T21:45:13.748Z"
   },
   {
    "duration": 3,
    "start_time": "2021-11-17T21:45:22.219Z"
   },
   {
    "duration": 3,
    "start_time": "2021-11-17T21:45:33.412Z"
   },
   {
    "duration": 2,
    "start_time": "2021-11-17T21:46:01.885Z"
   },
   {
    "duration": 3,
    "start_time": "2021-11-17T21:46:03.628Z"
   },
   {
    "duration": 107,
    "start_time": "2021-11-17T21:47:32.512Z"
   },
   {
    "duration": 103,
    "start_time": "2021-11-17T21:50:36.243Z"
   },
   {
    "duration": 3,
    "start_time": "2021-11-18T06:28:31.440Z"
   },
   {
    "duration": 3,
    "start_time": "2021-11-18T06:29:00.168Z"
   },
   {
    "duration": 3,
    "start_time": "2021-11-18T06:31:27.008Z"
   },
   {
    "duration": 2,
    "start_time": "2021-11-18T06:35:34.288Z"
   },
   {
    "duration": 2,
    "start_time": "2021-11-18T06:38:04.527Z"
   },
   {
    "duration": 1581,
    "start_time": "2024-05-30T06:26:24.625Z"
   },
   {
    "duration": 81,
    "start_time": "2024-05-30T06:26:26.212Z"
   },
   {
    "duration": 72,
    "start_time": "2024-05-30T06:26:26.298Z"
   },
   {
    "duration": 8,
    "start_time": "2024-05-30T06:26:26.376Z"
   },
   {
    "duration": 1926,
    "start_time": "2024-05-30T06:26:26.388Z"
   },
   {
    "duration": 0,
    "start_time": "2024-05-30T06:26:28.322Z"
   },
   {
    "duration": 0,
    "start_time": "2024-05-30T06:26:28.323Z"
   },
   {
    "duration": 0,
    "start_time": "2024-05-30T06:26:28.328Z"
   },
   {
    "duration": 0,
    "start_time": "2024-05-30T06:26:28.331Z"
   },
   {
    "duration": 0,
    "start_time": "2024-05-30T06:26:28.334Z"
   },
   {
    "duration": 0,
    "start_time": "2024-05-30T06:26:28.337Z"
   },
   {
    "duration": 0,
    "start_time": "2024-05-30T06:26:28.339Z"
   },
   {
    "duration": 0,
    "start_time": "2024-05-30T06:26:28.343Z"
   },
   {
    "duration": 1,
    "start_time": "2024-05-30T06:26:28.345Z"
   },
   {
    "duration": 0,
    "start_time": "2024-05-30T06:26:28.348Z"
   },
   {
    "duration": 0,
    "start_time": "2024-05-30T06:26:28.351Z"
   },
   {
    "duration": 0,
    "start_time": "2024-05-30T06:26:28.357Z"
   },
   {
    "duration": 0,
    "start_time": "2024-05-30T06:26:28.360Z"
   },
   {
    "duration": 0,
    "start_time": "2024-05-30T06:26:28.363Z"
   },
   {
    "duration": 0,
    "start_time": "2024-05-30T06:26:28.367Z"
   },
   {
    "duration": 1,
    "start_time": "2024-05-30T06:26:28.369Z"
   },
   {
    "duration": 0,
    "start_time": "2024-05-30T06:26:28.373Z"
   },
   {
    "duration": 0,
    "start_time": "2024-05-30T06:26:28.376Z"
   },
   {
    "duration": 0,
    "start_time": "2024-05-30T06:26:28.379Z"
   },
   {
    "duration": 0,
    "start_time": "2024-05-30T06:48:21.429Z"
   },
   {
    "duration": 0,
    "start_time": "2024-05-30T06:48:21.432Z"
   },
   {
    "duration": 0,
    "start_time": "2024-05-30T06:48:21.434Z"
   },
   {
    "duration": 0,
    "start_time": "2024-05-30T06:48:21.436Z"
   },
   {
    "duration": 0,
    "start_time": "2024-05-30T06:48:21.438Z"
   },
   {
    "duration": 0,
    "start_time": "2024-05-30T06:48:21.440Z"
   },
   {
    "duration": 0,
    "start_time": "2024-05-30T06:48:21.443Z"
   },
   {
    "duration": 0,
    "start_time": "2024-05-30T06:48:21.445Z"
   },
   {
    "duration": 0,
    "start_time": "2024-05-30T06:48:21.446Z"
   },
   {
    "duration": 0,
    "start_time": "2024-05-30T06:48:21.450Z"
   },
   {
    "duration": 0,
    "start_time": "2024-05-30T06:48:21.452Z"
   },
   {
    "duration": 0,
    "start_time": "2024-05-30T06:48:21.454Z"
   },
   {
    "duration": 0,
    "start_time": "2024-05-30T06:48:21.456Z"
   },
   {
    "duration": 0,
    "start_time": "2024-05-30T06:48:21.457Z"
   },
   {
    "duration": 0,
    "start_time": "2024-05-30T06:48:21.458Z"
   },
   {
    "duration": 0,
    "start_time": "2024-05-30T06:48:21.459Z"
   },
   {
    "duration": 1280,
    "start_time": "2024-05-30T06:50:38.723Z"
   },
   {
    "duration": 48,
    "start_time": "2024-05-30T06:50:40.009Z"
   },
   {
    "duration": 74,
    "start_time": "2024-05-30T06:50:40.060Z"
   },
   {
    "duration": 5,
    "start_time": "2024-05-30T06:50:40.140Z"
   },
   {
    "duration": 1370,
    "start_time": "2024-05-30T06:50:40.149Z"
   },
   {
    "duration": 0,
    "start_time": "2024-05-30T06:50:41.523Z"
   },
   {
    "duration": 1,
    "start_time": "2024-05-30T06:50:41.525Z"
   },
   {
    "duration": 1,
    "start_time": "2024-05-30T06:50:41.527Z"
   },
   {
    "duration": 0,
    "start_time": "2024-05-30T06:50:41.530Z"
   },
   {
    "duration": 0,
    "start_time": "2024-05-30T06:50:41.533Z"
   },
   {
    "duration": 0,
    "start_time": "2024-05-30T06:50:41.535Z"
   },
   {
    "duration": 0,
    "start_time": "2024-05-30T06:50:41.537Z"
   },
   {
    "duration": 0,
    "start_time": "2024-05-30T06:50:41.540Z"
   },
   {
    "duration": 0,
    "start_time": "2024-05-30T06:50:41.543Z"
   },
   {
    "duration": 0,
    "start_time": "2024-05-30T06:50:41.544Z"
   },
   {
    "duration": 0,
    "start_time": "2024-05-30T06:50:41.546Z"
   },
   {
    "duration": 0,
    "start_time": "2024-05-30T06:50:41.547Z"
   },
   {
    "duration": 0,
    "start_time": "2024-05-30T06:50:41.549Z"
   },
   {
    "duration": 0,
    "start_time": "2024-05-30T06:50:41.551Z"
   },
   {
    "duration": 1,
    "start_time": "2024-05-30T06:50:41.552Z"
   },
   {
    "duration": 0,
    "start_time": "2024-05-30T06:50:41.556Z"
   },
   {
    "duration": 0,
    "start_time": "2024-05-30T06:50:41.558Z"
   },
   {
    "duration": 0,
    "start_time": "2024-05-30T06:50:41.561Z"
   },
   {
    "duration": 1,
    "start_time": "2024-05-30T06:50:41.563Z"
   },
   {
    "duration": 110,
    "start_time": "2024-05-30T06:54:37.701Z"
   },
   {
    "duration": 37,
    "start_time": "2024-05-30T06:55:20.677Z"
   },
   {
    "duration": 43,
    "start_time": "2024-05-30T06:55:21.655Z"
   },
   {
    "duration": 678,
    "start_time": "2024-05-30T06:57:25.662Z"
   },
   {
    "duration": 1582,
    "start_time": "2024-05-30T06:57:31.576Z"
   },
   {
    "duration": 0,
    "start_time": "2024-05-30T06:57:33.161Z"
   },
   {
    "duration": 145,
    "start_time": "2024-05-30T06:58:01.827Z"
   },
   {
    "duration": 44,
    "start_time": "2024-05-30T06:58:08.068Z"
   },
   {
    "duration": 540,
    "start_time": "2024-05-30T06:58:10.973Z"
   },
   {
    "duration": 467,
    "start_time": "2024-05-30T06:58:11.960Z"
   },
   {
    "duration": 1653,
    "start_time": "2024-05-30T06:59:13.597Z"
   },
   {
    "duration": 292,
    "start_time": "2024-05-30T06:59:36.215Z"
   },
   {
    "duration": 268,
    "start_time": "2024-05-30T06:59:36.838Z"
   },
   {
    "duration": 503,
    "start_time": "2024-05-30T06:59:37.956Z"
   },
   {
    "duration": 374,
    "start_time": "2024-05-30T06:59:38.462Z"
   },
   {
    "duration": 698,
    "start_time": "2024-05-30T06:59:38.840Z"
   },
   {
    "duration": 692,
    "start_time": "2024-05-30T07:00:53.530Z"
   },
   {
    "duration": 442,
    "start_time": "2024-05-30T07:00:54.227Z"
   },
   {
    "duration": 406,
    "start_time": "2024-05-30T07:00:54.673Z"
   },
   {
    "duration": 15,
    "start_time": "2024-05-30T07:00:55.083Z"
   },
   {
    "duration": 15,
    "start_time": "2024-05-30T07:00:55.122Z"
   },
   {
    "duration": 1227,
    "start_time": "2024-05-30T21:39:57.452Z"
   },
   {
    "duration": 73,
    "start_time": "2024-05-30T21:39:58.683Z"
   },
   {
    "duration": 60,
    "start_time": "2024-05-30T21:39:58.762Z"
   },
   {
    "duration": 6,
    "start_time": "2024-05-30T21:39:58.829Z"
   },
   {
    "duration": 1581,
    "start_time": "2024-05-30T21:39:58.838Z"
   },
   {
    "duration": 0,
    "start_time": "2024-05-30T21:40:00.429Z"
   },
   {
    "duration": 1,
    "start_time": "2024-05-30T21:40:00.434Z"
   },
   {
    "duration": 0,
    "start_time": "2024-05-30T21:40:00.441Z"
   },
   {
    "duration": 0,
    "start_time": "2024-05-30T21:40:00.443Z"
   },
   {
    "duration": 0,
    "start_time": "2024-05-30T21:40:00.446Z"
   },
   {
    "duration": 0,
    "start_time": "2024-05-30T21:40:00.455Z"
   },
   {
    "duration": 0,
    "start_time": "2024-05-30T21:40:00.460Z"
   },
   {
    "duration": 0,
    "start_time": "2024-05-30T21:40:00.465Z"
   },
   {
    "duration": 0,
    "start_time": "2024-05-30T21:40:00.467Z"
   },
   {
    "duration": 0,
    "start_time": "2024-05-30T21:40:00.469Z"
   },
   {
    "duration": 0,
    "start_time": "2024-05-30T21:40:00.472Z"
   },
   {
    "duration": 0,
    "start_time": "2024-05-30T21:40:00.474Z"
   },
   {
    "duration": 0,
    "start_time": "2024-05-30T21:40:00.476Z"
   },
   {
    "duration": 0,
    "start_time": "2024-05-30T21:40:00.478Z"
   },
   {
    "duration": 0,
    "start_time": "2024-05-30T21:40:00.481Z"
   },
   {
    "duration": 0,
    "start_time": "2024-05-30T21:40:00.482Z"
   },
   {
    "duration": 0,
    "start_time": "2024-05-30T21:40:00.511Z"
   },
   {
    "duration": 0,
    "start_time": "2024-05-30T21:40:00.513Z"
   },
   {
    "duration": 0,
    "start_time": "2024-05-30T21:40:00.515Z"
   },
   {
    "duration": 0,
    "start_time": "2024-05-30T21:40:00.517Z"
   }
  ],
  "kernelspec": {
   "display_name": "Python 3 (ipykernel)",
   "language": "python",
   "name": "python3"
  },
  "language_info": {
   "codemirror_mode": {
    "name": "ipython",
    "version": 3
   },
   "file_extension": ".py",
   "mimetype": "text/x-python",
   "name": "python",
   "nbconvert_exporter": "python",
   "pygments_lexer": "ipython3",
   "version": "3.11.7"
  },
  "toc": {
   "base_numbering": 1,
   "nav_menu": {},
   "number_sections": true,
   "sideBar": true,
   "skip_h1_title": false,
   "title_cell": "Table of Contents",
   "title_sidebar": "Contents",
   "toc_cell": false,
   "toc_position": {},
   "toc_section_display": true,
   "toc_window_display": false
  }
 },
 "nbformat": 4,
 "nbformat_minor": 4
}
